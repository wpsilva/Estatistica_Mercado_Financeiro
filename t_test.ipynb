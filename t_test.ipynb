{
 "cells": [
  {
   "cell_type": "code",
   "execution_count": 1,
   "metadata": {},
   "outputs": [
    {
     "name": "stdout",
     "output_type": "stream",
     "text": [
      "Requirement already satisfied: yfinance in d:\\dev\\tcd\\estatistica_mercado_financeiro\\estats_mercado\\lib\\site-packages (0.2.27)Note: you may need to restart the kernel to use updated packages.\n",
      "\n",
      "Requirement already satisfied: pandas>=1.3.0 in d:\\dev\\tcd\\estatistica_mercado_financeiro\\estats_mercado\\lib\\site-packages (from yfinance) (1.5.3)\n",
      "Requirement already satisfied: numpy>=1.16.5 in d:\\dev\\tcd\\estatistica_mercado_financeiro\\estats_mercado\\lib\\site-packages (from yfinance) (1.23.5)\n",
      "Requirement already satisfied: requests>=2.31 in d:\\dev\\tcd\\estatistica_mercado_financeiro\\estats_mercado\\lib\\site-packages (from yfinance) (2.31.0)\n",
      "Requirement already satisfied: multitasking>=0.0.7 in d:\\dev\\tcd\\estatistica_mercado_financeiro\\estats_mercado\\lib\\site-packages (from yfinance) (0.0.11)\n",
      "Requirement already satisfied: lxml>=4.9.1 in d:\\dev\\tcd\\estatistica_mercado_financeiro\\estats_mercado\\lib\\site-packages (from yfinance) (4.9.3)\n",
      "Requirement already satisfied: appdirs>=1.4.4 in d:\\dev\\tcd\\estatistica_mercado_financeiro\\estats_mercado\\lib\\site-packages (from yfinance) (1.4.4)\n",
      "Requirement already satisfied: pytz>=2022.5 in d:\\dev\\tcd\\estatistica_mercado_financeiro\\estats_mercado\\lib\\site-packages (from yfinance) (2023.3)\n",
      "Requirement already satisfied: frozendict>=2.3.4 in d:\\dev\\tcd\\estatistica_mercado_financeiro\\estats_mercado\\lib\\site-packages (from yfinance) (2.3.8)\n",
      "Requirement already satisfied: beautifulsoup4>=4.11.1 in d:\\dev\\tcd\\estatistica_mercado_financeiro\\estats_mercado\\lib\\site-packages (from yfinance) (4.12.2)\n",
      "Requirement already satisfied: html5lib>=1.1 in d:\\dev\\tcd\\estatistica_mercado_financeiro\\estats_mercado\\lib\\site-packages (from yfinance) (1.1)\n",
      "Requirement already satisfied: soupsieve>1.2 in d:\\dev\\tcd\\estatistica_mercado_financeiro\\estats_mercado\\lib\\site-packages (from beautifulsoup4>=4.11.1->yfinance) (2.4.1)\n",
      "Requirement already satisfied: six>=1.9 in d:\\dev\\tcd\\estatistica_mercado_financeiro\\estats_mercado\\lib\\site-packages (from html5lib>=1.1->yfinance) (1.16.0)\n",
      "Requirement already satisfied: webencodings in d:\\dev\\tcd\\estatistica_mercado_financeiro\\estats_mercado\\lib\\site-packages (from html5lib>=1.1->yfinance) (0.5.1)\n",
      "Requirement already satisfied: python-dateutil>=2.8.1 in d:\\dev\\tcd\\estatistica_mercado_financeiro\\estats_mercado\\lib\\site-packages (from pandas>=1.3.0->yfinance) (2.8.2)\n",
      "Requirement already satisfied: charset-normalizer<4,>=2 in d:\\dev\\tcd\\estatistica_mercado_financeiro\\estats_mercado\\lib\\site-packages (from requests>=2.31->yfinance) (3.2.0)\n",
      "Requirement already satisfied: idna<4,>=2.5 in d:\\dev\\tcd\\estatistica_mercado_financeiro\\estats_mercado\\lib\\site-packages (from requests>=2.31->yfinance) (3.4)\n",
      "Requirement already satisfied: urllib3<3,>=1.21.1 in d:\\dev\\tcd\\estatistica_mercado_financeiro\\estats_mercado\\lib\\site-packages (from requests>=2.31->yfinance) (2.0.4)\n",
      "Requirement already satisfied: certifi>=2017.4.17 in d:\\dev\\tcd\\estatistica_mercado_financeiro\\estats_mercado\\lib\\site-packages (from requests>=2.31->yfinance) (2023.7.22)\n",
      "Requirement already satisfied: scipy in d:\\dev\\tcd\\estatistica_mercado_financeiro\\estats_mercado\\lib\\site-packages (1.11.1)\n",
      "Requirement already satisfied: numpy<1.28.0,>=1.21.6 in d:\\dev\\tcd\\estatistica_mercado_financeiro\\estats_mercado\\lib\\site-packages (from scipy) (1.23.5)\n",
      "Note: you may need to restart the kernel to use updated packages.\n",
      "Requirement already satisfied: plotly in d:\\dev\\tcd\\estatistica_mercado_financeiro\\estats_mercado\\lib\\site-packages (5.15.0)\n",
      "Requirement already satisfied: tenacity>=6.2.0 in d:\\dev\\tcd\\estatistica_mercado_financeiro\\estats_mercado\\lib\\site-packages (from plotly) (8.2.2)\n",
      "Requirement already satisfied: packaging in d:\\dev\\tcd\\estatistica_mercado_financeiro\\estats_mercado\\lib\\site-packages (from plotly) (23.1)\n",
      "Note: you may need to restart the kernel to use updated packages.\n",
      "Requirement already satisfied: seaborn in d:\\dev\\tcd\\estatistica_mercado_financeiro\\estats_mercado\\lib\\site-packages (0.12.2)\n",
      "Requirement already satisfied: numpy!=1.24.0,>=1.17 in d:\\dev\\tcd\\estatistica_mercado_financeiro\\estats_mercado\\lib\\site-packages (from seaborn) (1.23.5)\n",
      "Requirement already satisfied: pandas>=0.25 in d:\\dev\\tcd\\estatistica_mercado_financeiro\\estats_mercado\\lib\\site-packages (from seaborn) (1.5.3)\n",
      "Requirement already satisfied: matplotlib!=3.6.1,>=3.1 in d:\\dev\\tcd\\estatistica_mercado_financeiro\\estats_mercado\\lib\\site-packages (from seaborn) (3.7.2)\n",
      "Requirement already satisfied: contourpy>=1.0.1 in d:\\dev\\tcd\\estatistica_mercado_financeiro\\estats_mercado\\lib\\site-packages (from matplotlib!=3.6.1,>=3.1->seaborn) (1.1.0)\n",
      "Requirement already satisfied: cycler>=0.10 in d:\\dev\\tcd\\estatistica_mercado_financeiro\\estats_mercado\\lib\\site-packages (from matplotlib!=3.6.1,>=3.1->seaborn) (0.11.0)\n",
      "Requirement already satisfied: fonttools>=4.22.0 in d:\\dev\\tcd\\estatistica_mercado_financeiro\\estats_mercado\\lib\\site-packages (from matplotlib!=3.6.1,>=3.1->seaborn) (4.42.0)\n",
      "Requirement already satisfied: kiwisolver>=1.0.1 in d:\\dev\\tcd\\estatistica_mercado_financeiro\\estats_mercado\\lib\\site-packages (from matplotlib!=3.6.1,>=3.1->seaborn) (1.4.4)\n",
      "Requirement already satisfied: packaging>=20.0 in d:\\dev\\tcd\\estatistica_mercado_financeiro\\estats_mercado\\lib\\site-packages (from matplotlib!=3.6.1,>=3.1->seaborn) (23.1)\n",
      "Requirement already satisfied: pillow>=6.2.0 in d:\\dev\\tcd\\estatistica_mercado_financeiro\\estats_mercado\\lib\\site-packages (from matplotlib!=3.6.1,>=3.1->seaborn) (10.0.0)\n",
      "Requirement already satisfied: pyparsing<3.1,>=2.3.1 in d:\\dev\\tcd\\estatistica_mercado_financeiro\\estats_mercado\\lib\\site-packages (from matplotlib!=3.6.1,>=3.1->seaborn) (3.0.9)\n",
      "Requirement already satisfied: python-dateutil>=2.7 in d:\\dev\\tcd\\estatistica_mercado_financeiro\\estats_mercado\\lib\\site-packages (from matplotlib!=3.6.1,>=3.1->seaborn) (2.8.2)\n",
      "Requirement already satisfied: pytz>=2020.1 in d:\\dev\\tcd\\estatistica_mercado_financeiro\\estats_mercado\\lib\\site-packages (from pandas>=0.25->seaborn) (2023.3)\n",
      "Requirement already satisfied: six>=1.5 in d:\\dev\\tcd\\estatistica_mercado_financeiro\\estats_mercado\\lib\\site-packages (from python-dateutil>=2.7->matplotlib!=3.6.1,>=3.1->seaborn) (1.16.0)\n",
      "Note: you may need to restart the kernel to use updated packages.\n",
      "Requirement already satisfied: pandas in d:\\dev\\tcd\\estatistica_mercado_financeiro\\estats_mercado\\lib\\site-packages (1.5.3)\n",
      "Requirement already satisfied: python-dateutil>=2.8.1 in d:\\dev\\tcd\\estatistica_mercado_financeiro\\estats_mercado\\lib\\site-packages (from pandas) (2.8.2)\n",
      "Requirement already satisfied: pytz>=2020.1 in d:\\dev\\tcd\\estatistica_mercado_financeiro\\estats_mercado\\lib\\site-packages (from pandas) (2023.3)\n",
      "Requirement already satisfied: numpy>=1.21.0 in d:\\dev\\tcd\\estatistica_mercado_financeiro\\estats_mercado\\lib\\site-packages (from pandas) (1.23.5)\n",
      "Requirement already satisfied: six>=1.5 in d:\\dev\\tcd\\estatistica_mercado_financeiro\\estats_mercado\\lib\\site-packages (from python-dateutil>=2.8.1->pandas) (1.16.0)\n",
      "Note: you may need to restart the kernel to use updated packages.\n"
     ]
    }
   ],
   "source": [
    "%pip install yfinance\n",
    "%pip install scipy\n",
    "%pip install plotly\n",
    "%pip install seaborn\n",
    "%pip install pandas"
   ]
  },
  {
   "cell_type": "code",
   "execution_count": 2,
   "metadata": {},
   "outputs": [],
   "source": [
    "import pandas as pd\n",
    "from scipy import stats\n",
    "import yfinance as yf\n",
    "import plotly.graph_objects as go\n",
    "import matplotlib.pyplot as plt\n",
    "import seaborn as sns"
   ]
  },
  {
   "cell_type": "code",
   "execution_count": 3,
   "metadata": {},
   "outputs": [
    {
     "data": {
      "text/plain": [
       "['AZUL4',\n",
       " 'CCRO3',\n",
       " 'ECOR3',\n",
       " 'EMBR3',\n",
       " 'GOLL4',\n",
       " 'RAIL3',\n",
       " 'WEGE3',\n",
       " 'ALPA4',\n",
       " 'ARZZ3',\n",
       " 'CVCB3',\n",
       " 'CYRE3',\n",
       " 'EZTC3',\n",
       " 'LREN3',\n",
       " 'MGLU3',\n",
       " 'MRVE3',\n",
       " 'PETZ3',\n",
       " 'SOMA3',\n",
       " 'VIIA3',\n",
       " 'ABEV3',\n",
       " 'ASAI3',\n",
       " 'BEEF3',\n",
       " 'BRFS3',\n",
       " 'CRFB3',\n",
       " 'JBSS3',\n",
       " 'MRFG3',\n",
       " 'NTCO3',\n",
       " 'PCAR3',\n",
       " 'RAIZ4',\n",
       " 'SLCE3',\n",
       " 'SMTO3',\n",
       " 'ALSO3',\n",
       " 'B3SA3',\n",
       " 'BBAS3',\n",
       " 'BBDC3',\n",
       " 'BBDC4',\n",
       " 'BBSE3',\n",
       " 'BPAC11',\n",
       " 'BPAN4',\n",
       " 'CIEL3',\n",
       " 'IGTI11',\n",
       " 'ITSA4',\n",
       " 'ITUB4',\n",
       " 'MULT3',\n",
       " 'SANB11',\n",
       " 'BRAP4',\n",
       " 'BRKM5',\n",
       " 'CMIN3',\n",
       " 'CSNA3',\n",
       " 'DXCO3',\n",
       " 'GGBR4',\n",
       " 'GOAU4',\n",
       " 'KLBN11',\n",
       " 'SUZB3',\n",
       " 'USIM5',\n",
       " 'VALE3',\n",
       " 'CSAN3',\n",
       " 'PETR3',\n",
       " 'PETR4',\n",
       " 'PRIO3',\n",
       " 'RRRP3',\n",
       " 'UGPA3',\n",
       " 'VBBR3',\n",
       " 'FLRY3',\n",
       " 'HAPV3',\n",
       " 'HYPE3',\n",
       " 'QUAL3',\n",
       " 'RADL3',\n",
       " 'RDOR3',\n",
       " 'CMIG4',\n",
       " 'CPFE3',\n",
       " 'CPLE6',\n",
       " 'EGIE3',\n",
       " 'ELET3',\n",
       " 'ELET6',\n",
       " 'EMBR3',\n",
       " 'ENEV3',\n",
       " 'ENGI11',\n",
       " 'EQTL3',\n",
       " 'SBSP3',\n",
       " 'TAEE11']"
      ]
     },
     "execution_count": 3,
     "metadata": {},
     "output_type": "execute_result"
    }
   ],
   "source": [
    "ativos_setor_IBOV2 = [\"AZUL4\", \"CCRO3\", \"ECOR3\", \"EMBR3\",\"GOLL4\",\"RAIL3\",\"WEGE3\" ,\"ALPA4\" , \"ARZZ3\" , \"CVCB3\" , \"CYRE3\" ,\n",
    "                     \"EZTC3\" , \"LREN3\" , \"MGLU3\" , \"MRVE3\" ,\"PETZ3\" , \"SOMA3\" , \"VIIA3\" ,\"ABEV3\", \"ASAI3\", \"BEEF3\",\"BRFS3\", \"CRFB3\", \"JBSS3\",\n",
    "                     \"MRFG3\", \"NTCO3\", \"PCAR3\",\"RAIZ4\", \"SLCE3\", \"SMTO3\",\"ALSO3\", \"B3SA3\", \"BBAS3\",\n",
    "                     \"BBDC3\", \"BBDC4\", \"BBSE3\",\n",
    "                     \"BPAC11\", \"BPAN4\", \"CIEL3\",\n",
    "                     \"IGTI11\", \"ITSA4\", \"ITUB4\",\n",
    "                     \"MULT3\", \"SANB11\",\"BRAP4\", \"BRKM5\", \"CMIN3\", \"CSNA3\", \"DXCO3\",\n",
    "                     \"GGBR4\", \"GOAU4\", \"KLBN11\", \"SUZB3\", \"USIM5\",\n",
    "                     \"VALE3\", \"CSAN3\", \"PETR3\", \"PETR4\",\n",
    "                     \"PRIO3\", \"RRRP3\", \"UGPA3\",\n",
    "                     \"VBBR3\", \"FLRY3\" , \"HAPV3\" , \"HYPE3\" , \"QUAL3\" , \"RADL3\" , \"RDOR3\" ,\n",
    "                     \"CMIG4\" , \"CPFE3\" , \"CPLE6\" , \"EGIE3\" ,\n",
    "                     \"ELET3\" , \"ELET6\" , \"EMBR3\" , \"ENEV3\" ,\n",
    "                     \"ENGI11\" , \"EQTL3\" , \"SBSP3\" , \"TAEE11\" ]\n",
    "\n",
    "ativos_setor_IBOV2"
   ]
  },
  {
   "cell_type": "code",
   "execution_count": 4,
   "metadata": {},
   "outputs": [],
   "source": [
    "lista_ativos_yf = [ativos_setor_IBOV2 + '.SA' for ativos_setor_IBOV2 in ativos_setor_IBOV2]"
   ]
  },
  {
   "cell_type": "code",
   "execution_count": 5,
   "metadata": {},
   "outputs": [
    {
     "name": "stdout",
     "output_type": "stream",
     "text": [
      "[*********************100%***********************]  79 of 79 completed\n"
     ]
    }
   ],
   "source": [
    "df_dados = yf.download(lista_ativos_yf, start='2022-01-01', end='2022-12-31', actions=True)[['Close', 'Dividends']]"
   ]
  },
  {
   "cell_type": "code",
   "execution_count": 6,
   "metadata": {},
   "outputs": [
    {
     "data": {
      "text/html": [
       "<div>\n",
       "<style scoped>\n",
       "    .dataframe tbody tr th:only-of-type {\n",
       "        vertical-align: middle;\n",
       "    }\n",
       "\n",
       "    .dataframe tbody tr th {\n",
       "        vertical-align: top;\n",
       "    }\n",
       "\n",
       "    .dataframe thead tr th {\n",
       "        text-align: left;\n",
       "    }\n",
       "\n",
       "    .dataframe thead tr:last-of-type th {\n",
       "        text-align: right;\n",
       "    }\n",
       "</style>\n",
       "<table border=\"1\" class=\"dataframe\">\n",
       "  <thead>\n",
       "    <tr>\n",
       "      <th></th>\n",
       "      <th colspan=\"10\" halign=\"left\">Close</th>\n",
       "      <th>...</th>\n",
       "      <th colspan=\"10\" halign=\"left\">Dividends</th>\n",
       "    </tr>\n",
       "    <tr>\n",
       "      <th></th>\n",
       "      <th>ABEV3.SA</th>\n",
       "      <th>ALPA4.SA</th>\n",
       "      <th>ALSO3.SA</th>\n",
       "      <th>ARZZ3.SA</th>\n",
       "      <th>ASAI3.SA</th>\n",
       "      <th>AZUL4.SA</th>\n",
       "      <th>B3SA3.SA</th>\n",
       "      <th>BBAS3.SA</th>\n",
       "      <th>BBDC3.SA</th>\n",
       "      <th>BBDC4.SA</th>\n",
       "      <th>...</th>\n",
       "      <th>SMTO3.SA</th>\n",
       "      <th>SOMA3.SA</th>\n",
       "      <th>SUZB3.SA</th>\n",
       "      <th>TAEE11.SA</th>\n",
       "      <th>UGPA3.SA</th>\n",
       "      <th>USIM5.SA</th>\n",
       "      <th>VALE3.SA</th>\n",
       "      <th>VBBR3.SA</th>\n",
       "      <th>VIIA3.SA</th>\n",
       "      <th>WEGE3.SA</th>\n",
       "    </tr>\n",
       "    <tr>\n",
       "      <th>Date</th>\n",
       "      <th></th>\n",
       "      <th></th>\n",
       "      <th></th>\n",
       "      <th></th>\n",
       "      <th></th>\n",
       "      <th></th>\n",
       "      <th></th>\n",
       "      <th></th>\n",
       "      <th></th>\n",
       "      <th></th>\n",
       "      <th></th>\n",
       "      <th></th>\n",
       "      <th></th>\n",
       "      <th></th>\n",
       "      <th></th>\n",
       "      <th></th>\n",
       "      <th></th>\n",
       "      <th></th>\n",
       "      <th></th>\n",
       "      <th></th>\n",
       "      <th></th>\n",
       "    </tr>\n",
       "  </thead>\n",
       "  <tbody>\n",
       "    <tr>\n",
       "      <th>2022-01-03</th>\n",
       "      <td>15.33</td>\n",
       "      <td>34.299999</td>\n",
       "      <td>20.620001</td>\n",
       "      <td>72.230003</td>\n",
       "      <td>12.720000</td>\n",
       "      <td>24.420000</td>\n",
       "      <td>10.72</td>\n",
       "      <td>28.820000</td>\n",
       "      <td>15.045454</td>\n",
       "      <td>17.900000</td>\n",
       "      <td>...</td>\n",
       "      <td>0.0</td>\n",
       "      <td>0.0</td>\n",
       "      <td>0.0</td>\n",
       "      <td>0.0</td>\n",
       "      <td>0.0</td>\n",
       "      <td>0.0</td>\n",
       "      <td>0.0</td>\n",
       "      <td>0.0</td>\n",
       "      <td>0.0</td>\n",
       "      <td>0.0</td>\n",
       "    </tr>\n",
       "    <tr>\n",
       "      <th>2022-01-04</th>\n",
       "      <td>15.31</td>\n",
       "      <td>33.310001</td>\n",
       "      <td>20.280001</td>\n",
       "      <td>70.099998</td>\n",
       "      <td>12.720000</td>\n",
       "      <td>24.400000</td>\n",
       "      <td>10.95</td>\n",
       "      <td>28.850000</td>\n",
       "      <td>15.100000</td>\n",
       "      <td>18.000000</td>\n",
       "      <td>...</td>\n",
       "      <td>0.0</td>\n",
       "      <td>0.0</td>\n",
       "      <td>0.0</td>\n",
       "      <td>0.0</td>\n",
       "      <td>0.0</td>\n",
       "      <td>0.0</td>\n",
       "      <td>0.0</td>\n",
       "      <td>0.0</td>\n",
       "      <td>0.0</td>\n",
       "      <td>0.0</td>\n",
       "    </tr>\n",
       "    <tr>\n",
       "      <th>2022-01-05</th>\n",
       "      <td>15.01</td>\n",
       "      <td>32.029999</td>\n",
       "      <td>19.160000</td>\n",
       "      <td>66.730003</td>\n",
       "      <td>11.990000</td>\n",
       "      <td>22.360001</td>\n",
       "      <td>10.72</td>\n",
       "      <td>28.370001</td>\n",
       "      <td>15.000000</td>\n",
       "      <td>17.872726</td>\n",
       "      <td>...</td>\n",
       "      <td>0.0</td>\n",
       "      <td>0.0</td>\n",
       "      <td>0.0</td>\n",
       "      <td>0.0</td>\n",
       "      <td>0.0</td>\n",
       "      <td>0.0</td>\n",
       "      <td>0.0</td>\n",
       "      <td>0.0</td>\n",
       "      <td>0.0</td>\n",
       "      <td>0.0</td>\n",
       "    </tr>\n",
       "    <tr>\n",
       "      <th>2022-01-06</th>\n",
       "      <td>14.77</td>\n",
       "      <td>32.540001</td>\n",
       "      <td>18.870001</td>\n",
       "      <td>67.949997</td>\n",
       "      <td>11.590000</td>\n",
       "      <td>23.049999</td>\n",
       "      <td>10.98</td>\n",
       "      <td>28.600000</td>\n",
       "      <td>15.163636</td>\n",
       "      <td>18.127272</td>\n",
       "      <td>...</td>\n",
       "      <td>0.0</td>\n",
       "      <td>0.0</td>\n",
       "      <td>0.0</td>\n",
       "      <td>0.0</td>\n",
       "      <td>0.0</td>\n",
       "      <td>0.0</td>\n",
       "      <td>0.0</td>\n",
       "      <td>0.0</td>\n",
       "      <td>0.0</td>\n",
       "      <td>0.0</td>\n",
       "    </tr>\n",
       "    <tr>\n",
       "      <th>2022-01-07</th>\n",
       "      <td>14.53</td>\n",
       "      <td>32.349998</td>\n",
       "      <td>18.639999</td>\n",
       "      <td>67.410004</td>\n",
       "      <td>11.360000</td>\n",
       "      <td>23.900000</td>\n",
       "      <td>11.24</td>\n",
       "      <td>28.629999</td>\n",
       "      <td>15.227272</td>\n",
       "      <td>18.390909</td>\n",
       "      <td>...</td>\n",
       "      <td>0.0</td>\n",
       "      <td>0.0</td>\n",
       "      <td>0.0</td>\n",
       "      <td>0.0</td>\n",
       "      <td>0.0</td>\n",
       "      <td>0.0</td>\n",
       "      <td>0.0</td>\n",
       "      <td>0.0</td>\n",
       "      <td>0.0</td>\n",
       "      <td>0.0</td>\n",
       "    </tr>\n",
       "    <tr>\n",
       "      <th>...</th>\n",
       "      <td>...</td>\n",
       "      <td>...</td>\n",
       "      <td>...</td>\n",
       "      <td>...</td>\n",
       "      <td>...</td>\n",
       "      <td>...</td>\n",
       "      <td>...</td>\n",
       "      <td>...</td>\n",
       "      <td>...</td>\n",
       "      <td>...</td>\n",
       "      <td>...</td>\n",
       "      <td>...</td>\n",
       "      <td>...</td>\n",
       "      <td>...</td>\n",
       "      <td>...</td>\n",
       "      <td>...</td>\n",
       "      <td>...</td>\n",
       "      <td>...</td>\n",
       "      <td>...</td>\n",
       "      <td>...</td>\n",
       "      <td>...</td>\n",
       "    </tr>\n",
       "    <tr>\n",
       "      <th>2022-12-23</th>\n",
       "      <td>14.62</td>\n",
       "      <td>14.800000</td>\n",
       "      <td>17.480000</td>\n",
       "      <td>80.849998</td>\n",
       "      <td>20.020000</td>\n",
       "      <td>11.450000</td>\n",
       "      <td>13.35</td>\n",
       "      <td>35.279999</td>\n",
       "      <td>13.360000</td>\n",
       "      <td>15.140000</td>\n",
       "      <td>...</td>\n",
       "      <td>0.0</td>\n",
       "      <td>0.0</td>\n",
       "      <td>0.0</td>\n",
       "      <td>0.0</td>\n",
       "      <td>0.0</td>\n",
       "      <td>0.0</td>\n",
       "      <td>0.0</td>\n",
       "      <td>0.0</td>\n",
       "      <td>0.0</td>\n",
       "      <td>0.0</td>\n",
       "    </tr>\n",
       "    <tr>\n",
       "      <th>2022-12-26</th>\n",
       "      <td>14.52</td>\n",
       "      <td>14.680000</td>\n",
       "      <td>17.100000</td>\n",
       "      <td>78.559998</td>\n",
       "      <td>19.930000</td>\n",
       "      <td>11.360000</td>\n",
       "      <td>13.42</td>\n",
       "      <td>35.230000</td>\n",
       "      <td>13.050000</td>\n",
       "      <td>14.780000</td>\n",
       "      <td>...</td>\n",
       "      <td>0.0</td>\n",
       "      <td>0.0</td>\n",
       "      <td>0.0</td>\n",
       "      <td>0.0</td>\n",
       "      <td>0.0</td>\n",
       "      <td>0.0</td>\n",
       "      <td>0.0</td>\n",
       "      <td>0.0</td>\n",
       "      <td>0.0</td>\n",
       "      <td>0.0</td>\n",
       "    </tr>\n",
       "    <tr>\n",
       "      <th>2022-12-27</th>\n",
       "      <td>14.52</td>\n",
       "      <td>14.450000</td>\n",
       "      <td>16.500000</td>\n",
       "      <td>76.570000</td>\n",
       "      <td>19.299999</td>\n",
       "      <td>10.740000</td>\n",
       "      <td>12.95</td>\n",
       "      <td>34.060001</td>\n",
       "      <td>13.130000</td>\n",
       "      <td>14.710000</td>\n",
       "      <td>...</td>\n",
       "      <td>0.0</td>\n",
       "      <td>0.0</td>\n",
       "      <td>0.0</td>\n",
       "      <td>0.0</td>\n",
       "      <td>0.0</td>\n",
       "      <td>0.0</td>\n",
       "      <td>0.0</td>\n",
       "      <td>0.0</td>\n",
       "      <td>0.0</td>\n",
       "      <td>0.0</td>\n",
       "    </tr>\n",
       "    <tr>\n",
       "      <th>2022-12-28</th>\n",
       "      <td>14.55</td>\n",
       "      <td>15.120000</td>\n",
       "      <td>17.200001</td>\n",
       "      <td>78.680000</td>\n",
       "      <td>19.430000</td>\n",
       "      <td>11.160000</td>\n",
       "      <td>13.40</td>\n",
       "      <td>34.669998</td>\n",
       "      <td>13.530000</td>\n",
       "      <td>15.160000</td>\n",
       "      <td>...</td>\n",
       "      <td>0.0</td>\n",
       "      <td>0.0</td>\n",
       "      <td>0.0</td>\n",
       "      <td>0.0</td>\n",
       "      <td>0.0</td>\n",
       "      <td>0.0</td>\n",
       "      <td>0.0</td>\n",
       "      <td>0.0</td>\n",
       "      <td>0.0</td>\n",
       "      <td>0.0</td>\n",
       "    </tr>\n",
       "    <tr>\n",
       "      <th>2022-12-29</th>\n",
       "      <td>14.52</td>\n",
       "      <td>15.080000</td>\n",
       "      <td>17.010000</td>\n",
       "      <td>78.250000</td>\n",
       "      <td>19.469999</td>\n",
       "      <td>11.010000</td>\n",
       "      <td>13.21</td>\n",
       "      <td>34.730000</td>\n",
       "      <td>13.470000</td>\n",
       "      <td>15.150000</td>\n",
       "      <td>...</td>\n",
       "      <td>0.0</td>\n",
       "      <td>0.0</td>\n",
       "      <td>0.0</td>\n",
       "      <td>0.0</td>\n",
       "      <td>0.0</td>\n",
       "      <td>0.0</td>\n",
       "      <td>0.0</td>\n",
       "      <td>0.0</td>\n",
       "      <td>0.0</td>\n",
       "      <td>0.0</td>\n",
       "    </tr>\n",
       "  </tbody>\n",
       "</table>\n",
       "<p>250 rows × 158 columns</p>\n",
       "</div>"
      ],
      "text/plain": [
       "              Close                                                         \\\n",
       "           ABEV3.SA   ALPA4.SA   ALSO3.SA   ARZZ3.SA   ASAI3.SA   AZUL4.SA   \n",
       "Date                                                                         \n",
       "2022-01-03    15.33  34.299999  20.620001  72.230003  12.720000  24.420000   \n",
       "2022-01-04    15.31  33.310001  20.280001  70.099998  12.720000  24.400000   \n",
       "2022-01-05    15.01  32.029999  19.160000  66.730003  11.990000  22.360001   \n",
       "2022-01-06    14.77  32.540001  18.870001  67.949997  11.590000  23.049999   \n",
       "2022-01-07    14.53  32.349998  18.639999  67.410004  11.360000  23.900000   \n",
       "...             ...        ...        ...        ...        ...        ...   \n",
       "2022-12-23    14.62  14.800000  17.480000  80.849998  20.020000  11.450000   \n",
       "2022-12-26    14.52  14.680000  17.100000  78.559998  19.930000  11.360000   \n",
       "2022-12-27    14.52  14.450000  16.500000  76.570000  19.299999  10.740000   \n",
       "2022-12-28    14.55  15.120000  17.200001  78.680000  19.430000  11.160000   \n",
       "2022-12-29    14.52  15.080000  17.010000  78.250000  19.469999  11.010000   \n",
       "\n",
       "                                                      ... Dividends           \\\n",
       "           B3SA3.SA   BBAS3.SA   BBDC3.SA   BBDC4.SA  ...  SMTO3.SA SOMA3.SA   \n",
       "Date                                                  ...                      \n",
       "2022-01-03    10.72  28.820000  15.045454  17.900000  ...       0.0      0.0   \n",
       "2022-01-04    10.95  28.850000  15.100000  18.000000  ...       0.0      0.0   \n",
       "2022-01-05    10.72  28.370001  15.000000  17.872726  ...       0.0      0.0   \n",
       "2022-01-06    10.98  28.600000  15.163636  18.127272  ...       0.0      0.0   \n",
       "2022-01-07    11.24  28.629999  15.227272  18.390909  ...       0.0      0.0   \n",
       "...             ...        ...        ...        ...  ...       ...      ...   \n",
       "2022-12-23    13.35  35.279999  13.360000  15.140000  ...       0.0      0.0   \n",
       "2022-12-26    13.42  35.230000  13.050000  14.780000  ...       0.0      0.0   \n",
       "2022-12-27    12.95  34.060001  13.130000  14.710000  ...       0.0      0.0   \n",
       "2022-12-28    13.40  34.669998  13.530000  15.160000  ...       0.0      0.0   \n",
       "2022-12-29    13.21  34.730000  13.470000  15.150000  ...       0.0      0.0   \n",
       "\n",
       "                                                                            \\\n",
       "           SUZB3.SA TAEE11.SA UGPA3.SA USIM5.SA VALE3.SA VBBR3.SA VIIA3.SA   \n",
       "Date                                                                         \n",
       "2022-01-03      0.0       0.0      0.0      0.0      0.0      0.0      0.0   \n",
       "2022-01-04      0.0       0.0      0.0      0.0      0.0      0.0      0.0   \n",
       "2022-01-05      0.0       0.0      0.0      0.0      0.0      0.0      0.0   \n",
       "2022-01-06      0.0       0.0      0.0      0.0      0.0      0.0      0.0   \n",
       "2022-01-07      0.0       0.0      0.0      0.0      0.0      0.0      0.0   \n",
       "...             ...       ...      ...      ...      ...      ...      ...   \n",
       "2022-12-23      0.0       0.0      0.0      0.0      0.0      0.0      0.0   \n",
       "2022-12-26      0.0       0.0      0.0      0.0      0.0      0.0      0.0   \n",
       "2022-12-27      0.0       0.0      0.0      0.0      0.0      0.0      0.0   \n",
       "2022-12-28      0.0       0.0      0.0      0.0      0.0      0.0      0.0   \n",
       "2022-12-29      0.0       0.0      0.0      0.0      0.0      0.0      0.0   \n",
       "\n",
       "                     \n",
       "           WEGE3.SA  \n",
       "Date                 \n",
       "2022-01-03      0.0  \n",
       "2022-01-04      0.0  \n",
       "2022-01-05      0.0  \n",
       "2022-01-06      0.0  \n",
       "2022-01-07      0.0  \n",
       "...             ...  \n",
       "2022-12-23      0.0  \n",
       "2022-12-26      0.0  \n",
       "2022-12-27      0.0  \n",
       "2022-12-28      0.0  \n",
       "2022-12-29      0.0  \n",
       "\n",
       "[250 rows x 158 columns]"
      ]
     },
     "execution_count": 6,
     "metadata": {},
     "output_type": "execute_result"
    }
   ],
   "source": [
    "df_dados"
   ]
  },
  {
   "cell_type": "code",
   "execution_count": 7,
   "metadata": {},
   "outputs": [
    {
     "data": {
      "text/plain": [
       "ABEV3.SA    0.762300\n",
       "ALPA4.SA    0.163028\n",
       "ALSO3.SA    0.383932\n",
       "ARZZ3.SA    1.835629\n",
       "ASAI3.SA    0.162098\n",
       "              ...   \n",
       "USIM5.SA    0.629128\n",
       "VALE3.SA    7.583326\n",
       "VBBR3.SA    0.856178\n",
       "VIIA3.SA    0.000000\n",
       "WEGE3.SA    0.515680\n",
       "Length: 79, dtype: float64"
      ]
     },
     "execution_count": 7,
     "metadata": {},
     "output_type": "execute_result"
    }
   ],
   "source": [
    "soma_dividendos = df_dados['Dividends'].sum()\n",
    "soma_dividendos"
   ]
  },
  {
   "cell_type": "code",
   "execution_count": 8,
   "metadata": {},
   "outputs": [
    {
     "data": {
      "text/plain": [
       "ABEV3.SA    14.520000\n",
       "ALPA4.SA    15.080000\n",
       "ALSO3.SA    17.010000\n",
       "ARZZ3.SA    78.250000\n",
       "ASAI3.SA    19.469999\n",
       "              ...    \n",
       "USIM5.SA     7.160000\n",
       "VALE3.SA    88.879997\n",
       "VBBR3.SA    15.550000\n",
       "VIIA3.SA     2.400000\n",
       "WEGE3.SA    38.509998\n",
       "Name: 2022-12-29 00:00:00, Length: 79, dtype: float64"
      ]
     },
     "execution_count": 8,
     "metadata": {},
     "output_type": "execute_result"
    }
   ],
   "source": [
    "close_ativo = df_dados['Close'].iloc[-1]\n",
    "close_ativo"
   ]
  },
  {
   "cell_type": "code",
   "execution_count": 9,
   "metadata": {},
   "outputs": [
    {
     "data": {
      "text/html": [
       "<div>\n",
       "<style scoped>\n",
       "    .dataframe tbody tr th:only-of-type {\n",
       "        vertical-align: middle;\n",
       "    }\n",
       "\n",
       "    .dataframe tbody tr th {\n",
       "        vertical-align: top;\n",
       "    }\n",
       "\n",
       "    .dataframe thead th {\n",
       "        text-align: right;\n",
       "    }\n",
       "</style>\n",
       "<table border=\"1\" class=\"dataframe\">\n",
       "  <thead>\n",
       "    <tr style=\"text-align: right;\">\n",
       "      <th></th>\n",
       "      <th>DY%</th>\n",
       "    </tr>\n",
       "  </thead>\n",
       "  <tbody>\n",
       "    <tr>\n",
       "      <th>ABEV3.SA</th>\n",
       "      <td>5.250000</td>\n",
       "    </tr>\n",
       "    <tr>\n",
       "      <th>ALPA4.SA</th>\n",
       "      <td>1.081088</td>\n",
       "    </tr>\n",
       "    <tr>\n",
       "      <th>ALSO3.SA</th>\n",
       "      <td>2.257096</td>\n",
       "    </tr>\n",
       "    <tr>\n",
       "      <th>ARZZ3.SA</th>\n",
       "      <td>2.345852</td>\n",
       "    </tr>\n",
       "    <tr>\n",
       "      <th>ASAI3.SA</th>\n",
       "      <td>0.832553</td>\n",
       "    </tr>\n",
       "    <tr>\n",
       "      <th>...</th>\n",
       "      <td>...</td>\n",
       "    </tr>\n",
       "    <tr>\n",
       "      <th>USIM5.SA</th>\n",
       "      <td>8.786704</td>\n",
       "    </tr>\n",
       "    <tr>\n",
       "      <th>VALE3.SA</th>\n",
       "      <td>8.532095</td>\n",
       "    </tr>\n",
       "    <tr>\n",
       "      <th>VBBR3.SA</th>\n",
       "      <td>5.505968</td>\n",
       "    </tr>\n",
       "    <tr>\n",
       "      <th>VIIA3.SA</th>\n",
       "      <td>0.000000</td>\n",
       "    </tr>\n",
       "    <tr>\n",
       "      <th>WEGE3.SA</th>\n",
       "      <td>1.339081</td>\n",
       "    </tr>\n",
       "  </tbody>\n",
       "</table>\n",
       "<p>79 rows × 1 columns</p>\n",
       "</div>"
      ],
      "text/plain": [
       "               DY%\n",
       "ABEV3.SA  5.250000\n",
       "ALPA4.SA  1.081088\n",
       "ALSO3.SA  2.257096\n",
       "ARZZ3.SA  2.345852\n",
       "ASAI3.SA  0.832553\n",
       "...            ...\n",
       "USIM5.SA  8.786704\n",
       "VALE3.SA  8.532095\n",
       "VBBR3.SA  5.505968\n",
       "VIIA3.SA  0.000000\n",
       "WEGE3.SA  1.339081\n",
       "\n",
       "[79 rows x 1 columns]"
      ]
     },
     "execution_count": 9,
     "metadata": {},
     "output_type": "execute_result"
    }
   ],
   "source": [
    "dy_2022 = pd.DataFrame(soma_dividendos/close_ativo*100, columns=['DY%'])\n",
    "dy_2022.sort_index()\n",
    "dy_2022"
   ]
  },
  {
   "cell_type": "code",
   "execution_count": 10,
   "metadata": {},
   "outputs": [
    {
     "data": {
      "text/html": [
       "<div>\n",
       "<style scoped>\n",
       "    .dataframe tbody tr th:only-of-type {\n",
       "        vertical-align: middle;\n",
       "    }\n",
       "\n",
       "    .dataframe tbody tr th {\n",
       "        vertical-align: top;\n",
       "    }\n",
       "\n",
       "    .dataframe thead th {\n",
       "        text-align: right;\n",
       "    }\n",
       "</style>\n",
       "<table border=\"1\" class=\"dataframe\">\n",
       "  <thead>\n",
       "    <tr style=\"text-align: right;\">\n",
       "      <th></th>\n",
       "      <th>DY%</th>\n",
       "      <th>Segment</th>\n",
       "    </tr>\n",
       "  </thead>\n",
       "  <tbody>\n",
       "    <tr>\n",
       "      <th>ABEV3.SA</th>\n",
       "      <td>5.250000</td>\n",
       "      <td>Consumer Defensive</td>\n",
       "    </tr>\n",
       "    <tr>\n",
       "      <th>ALPA4.SA</th>\n",
       "      <td>1.081088</td>\n",
       "      <td>Consumer Cyclical</td>\n",
       "    </tr>\n",
       "    <tr>\n",
       "      <th>ALSO3.SA</th>\n",
       "      <td>2.257096</td>\n",
       "      <td>Real Estate</td>\n",
       "    </tr>\n",
       "    <tr>\n",
       "      <th>ARZZ3.SA</th>\n",
       "      <td>2.345852</td>\n",
       "      <td>Consumer Cyclical</td>\n",
       "    </tr>\n",
       "    <tr>\n",
       "      <th>ASAI3.SA</th>\n",
       "      <td>0.832553</td>\n",
       "      <td>Consumer Defensive</td>\n",
       "    </tr>\n",
       "    <tr>\n",
       "      <th>...</th>\n",
       "      <td>...</td>\n",
       "      <td>...</td>\n",
       "    </tr>\n",
       "    <tr>\n",
       "      <th>USIM5.SA</th>\n",
       "      <td>8.786704</td>\n",
       "      <td>Basic Materials</td>\n",
       "    </tr>\n",
       "    <tr>\n",
       "      <th>VALE3.SA</th>\n",
       "      <td>8.532095</td>\n",
       "      <td>Basic Materials</td>\n",
       "    </tr>\n",
       "    <tr>\n",
       "      <th>VBBR3.SA</th>\n",
       "      <td>5.505968</td>\n",
       "      <td>Consumer Cyclical</td>\n",
       "    </tr>\n",
       "    <tr>\n",
       "      <th>VIIA3.SA</th>\n",
       "      <td>0.000000</td>\n",
       "      <td>Consumer Cyclical</td>\n",
       "    </tr>\n",
       "    <tr>\n",
       "      <th>WEGE3.SA</th>\n",
       "      <td>1.339081</td>\n",
       "      <td>Industrials</td>\n",
       "    </tr>\n",
       "  </tbody>\n",
       "</table>\n",
       "<p>79 rows × 2 columns</p>\n",
       "</div>"
      ],
      "text/plain": [
       "               DY%             Segment\n",
       "ABEV3.SA  5.250000  Consumer Defensive\n",
       "ALPA4.SA  1.081088   Consumer Cyclical\n",
       "ALSO3.SA  2.257096         Real Estate\n",
       "ARZZ3.SA  2.345852   Consumer Cyclical\n",
       "ASAI3.SA  0.832553  Consumer Defensive\n",
       "...            ...                 ...\n",
       "USIM5.SA  8.786704     Basic Materials\n",
       "VALE3.SA  8.532095     Basic Materials\n",
       "VBBR3.SA  5.505968   Consumer Cyclical\n",
       "VIIA3.SA  0.000000   Consumer Cyclical\n",
       "WEGE3.SA  1.339081         Industrials\n",
       "\n",
       "[79 rows x 2 columns]"
      ]
     },
     "execution_count": 10,
     "metadata": {},
     "output_type": "execute_result"
    }
   ],
   "source": [
    "def get_segment(ticker):\n",
    "    info = yf.Ticker(ticker).info\n",
    "    return info.get('sector', 'N/A')\n",
    "\n",
    "segments = [get_segment(ticker) for ticker in dy_2022.index]\n",
    "dy_2022['Segment'] = segments\n",
    "dy_2022"
   ]
  },
  {
   "cell_type": "code",
   "execution_count": 11,
   "metadata": {},
   "outputs": [
    {
     "data": {
      "text/html": [
       "<div>\n",
       "<style scoped>\n",
       "    .dataframe tbody tr th:only-of-type {\n",
       "        vertical-align: middle;\n",
       "    }\n",
       "\n",
       "    .dataframe tbody tr th {\n",
       "        vertical-align: top;\n",
       "    }\n",
       "\n",
       "    .dataframe thead th {\n",
       "        text-align: right;\n",
       "    }\n",
       "</style>\n",
       "<table border=\"1\" class=\"dataframe\">\n",
       "  <thead>\n",
       "    <tr style=\"text-align: right;\">\n",
       "      <th></th>\n",
       "      <th>DY%</th>\n",
       "      <th>Segment</th>\n",
       "    </tr>\n",
       "  </thead>\n",
       "  <tbody>\n",
       "    <tr>\n",
       "      <th>CMIG4.SA</th>\n",
       "      <td>17.580017</td>\n",
       "      <td>Utilities</td>\n",
       "    </tr>\n",
       "    <tr>\n",
       "      <th>CPFE3.SA</th>\n",
       "      <td>9.765906</td>\n",
       "      <td>Utilities</td>\n",
       "    </tr>\n",
       "    <tr>\n",
       "      <th>CPLE6.SA</th>\n",
       "      <td>12.551846</td>\n",
       "      <td>Utilities</td>\n",
       "    </tr>\n",
       "    <tr>\n",
       "      <th>EGIE3.SA</th>\n",
       "      <td>7.891864</td>\n",
       "      <td>Utilities</td>\n",
       "    </tr>\n",
       "    <tr>\n",
       "      <th>ELET3.SA</th>\n",
       "      <td>1.836432</td>\n",
       "      <td>Utilities</td>\n",
       "    </tr>\n",
       "    <tr>\n",
       "      <th>ELET6.SA</th>\n",
       "      <td>3.733761</td>\n",
       "      <td>Utilities</td>\n",
       "    </tr>\n",
       "    <tr>\n",
       "      <th>ENEV3.SA</th>\n",
       "      <td>0.000000</td>\n",
       "      <td>Utilities</td>\n",
       "    </tr>\n",
       "    <tr>\n",
       "      <th>ENGI11.SA</th>\n",
       "      <td>7.605251</td>\n",
       "      <td>Utilities</td>\n",
       "    </tr>\n",
       "    <tr>\n",
       "      <th>EQTL3.SA</th>\n",
       "      <td>2.365818</td>\n",
       "      <td>Utilities</td>\n",
       "    </tr>\n",
       "    <tr>\n",
       "      <th>RAIZ4.SA</th>\n",
       "      <td>4.556471</td>\n",
       "      <td>Utilities</td>\n",
       "    </tr>\n",
       "    <tr>\n",
       "      <th>SBSP3.SA</th>\n",
       "      <td>1.649230</td>\n",
       "      <td>Utilities</td>\n",
       "    </tr>\n",
       "    <tr>\n",
       "      <th>TAEE11.SA</th>\n",
       "      <td>10.110810</td>\n",
       "      <td>Utilities</td>\n",
       "    </tr>\n",
       "    <tr>\n",
       "      <th>B3SA3.SA</th>\n",
       "      <td>3.551143</td>\n",
       "      <td>Financial Services</td>\n",
       "    </tr>\n",
       "    <tr>\n",
       "      <th>BBAS3.SA</th>\n",
       "      <td>7.011431</td>\n",
       "      <td>Financial Services</td>\n",
       "    </tr>\n",
       "    <tr>\n",
       "      <th>BBDC3.SA</th>\n",
       "      <td>2.944981</td>\n",
       "      <td>Financial Services</td>\n",
       "    </tr>\n",
       "    <tr>\n",
       "      <th>BBDC4.SA</th>\n",
       "      <td>2.880251</td>\n",
       "      <td>Financial Services</td>\n",
       "    </tr>\n",
       "    <tr>\n",
       "      <th>BBSE3.SA</th>\n",
       "      <td>5.832373</td>\n",
       "      <td>Financial Services</td>\n",
       "    </tr>\n",
       "    <tr>\n",
       "      <th>BPAC11.SA</th>\n",
       "      <td>2.743916</td>\n",
       "      <td>Financial Services</td>\n",
       "    </tr>\n",
       "    <tr>\n",
       "      <th>BPAN4.SA</th>\n",
       "      <td>8.730955</td>\n",
       "      <td>Financial Services</td>\n",
       "    </tr>\n",
       "    <tr>\n",
       "      <th>BRAP4.SA</th>\n",
       "      <td>11.007948</td>\n",
       "      <td>Financial Services</td>\n",
       "    </tr>\n",
       "    <tr>\n",
       "      <th>HAPV3.SA</th>\n",
       "      <td>0.000000</td>\n",
       "      <td>Financial Services</td>\n",
       "    </tr>\n",
       "    <tr>\n",
       "      <th>ITUB4.SA</th>\n",
       "      <td>4.143160</td>\n",
       "      <td>Financial Services</td>\n",
       "    </tr>\n",
       "    <tr>\n",
       "      <th>SANB11.SA</th>\n",
       "      <td>7.949298</td>\n",
       "      <td>Financial Services</td>\n",
       "    </tr>\n",
       "  </tbody>\n",
       "</table>\n",
       "</div>"
      ],
      "text/plain": [
       "                 DY%             Segment\n",
       "CMIG4.SA   17.580017           Utilities\n",
       "CPFE3.SA    9.765906           Utilities\n",
       "CPLE6.SA   12.551846           Utilities\n",
       "EGIE3.SA    7.891864           Utilities\n",
       "ELET3.SA    1.836432           Utilities\n",
       "ELET6.SA    3.733761           Utilities\n",
       "ENEV3.SA    0.000000           Utilities\n",
       "ENGI11.SA   7.605251           Utilities\n",
       "EQTL3.SA    2.365818           Utilities\n",
       "RAIZ4.SA    4.556471           Utilities\n",
       "SBSP3.SA    1.649230           Utilities\n",
       "TAEE11.SA  10.110810           Utilities\n",
       "B3SA3.SA    3.551143  Financial Services\n",
       "BBAS3.SA    7.011431  Financial Services\n",
       "BBDC3.SA    2.944981  Financial Services\n",
       "BBDC4.SA    2.880251  Financial Services\n",
       "BBSE3.SA    5.832373  Financial Services\n",
       "BPAC11.SA   2.743916  Financial Services\n",
       "BPAN4.SA    8.730955  Financial Services\n",
       "BRAP4.SA   11.007948  Financial Services\n",
       "HAPV3.SA    0.000000  Financial Services\n",
       "ITUB4.SA    4.143160  Financial Services\n",
       "SANB11.SA   7.949298  Financial Services"
      ]
     },
     "execution_count": 11,
     "metadata": {},
     "output_type": "execute_result"
    }
   ],
   "source": [
    "dy_2022['Segment'].value_counts()\n",
    "df_utilities = dy_2022[dy_2022['Segment']=='Utilities']\n",
    "df_financial_services = dy_2022[dy_2022['Segment']=='Financial Services']\n",
    "dados_test_T = pd.concat([df_utilities, df_financial_services])\n",
    "dados_test_T"
   ]
  },
  {
   "cell_type": "code",
   "execution_count": 12,
   "metadata": {},
   "outputs": [
    {
     "name": "stderr",
     "output_type": "stream",
     "text": [
      "d:\\dev\\TCD\\Estatistica_Mercado_Financeiro\\estats_mercado\\lib\\site-packages\\scipy\\stats\\_stats_py.py:1806: UserWarning: kurtosistest only valid for n>=20 ... continuing anyway, n=12\n",
      "  warnings.warn(\"kurtosistest only valid for n>=20 ... continuing \"\n"
     ]
    },
    {
     "data": {
      "text/plain": [
       "NormaltestResult(statistic=1.4051234102949473, pvalue=0.4953148266512166)"
      ]
     },
     "execution_count": 12,
     "metadata": {},
     "output_type": "execute_result"
    }
   ],
   "source": [
    "teste_norm01 = stats.normaltest(df_utilities['DY%'])\n",
    "teste_norm01"
   ]
  },
  {
   "cell_type": "code",
   "execution_count": 13,
   "metadata": {},
   "outputs": [
    {
     "name": "stderr",
     "output_type": "stream",
     "text": [
      "d:\\dev\\TCD\\Estatistica_Mercado_Financeiro\\estats_mercado\\lib\\site-packages\\scipy\\stats\\_stats_py.py:1806: UserWarning: kurtosistest only valid for n>=20 ... continuing anyway, n=11\n",
      "  warnings.warn(\"kurtosistest only valid for n>=20 ... continuing \"\n"
     ]
    },
    {
     "data": {
      "text/plain": [
       "NormaltestResult(statistic=0.33571132269169385, pvalue=0.8454758607257656)"
      ]
     },
     "execution_count": 13,
     "metadata": {},
     "output_type": "execute_result"
    }
   ],
   "source": [
    "teste_norm02 = stats.normaltest(df_financial_services['DY%'])\n",
    "teste_norm02"
   ]
  },
  {
   "cell_type": "code",
   "execution_count": 14,
   "metadata": {},
   "outputs": [
    {
     "data": {
      "image/png": "[encoded data removed]",
      "text/plain": [
       "<Figure size 640x480 with 1 Axes>"
      ]
     },
     "metadata": {},
     "output_type": "display_data"
    }
   ],
   "source": [
    "stats.probplot(df_utilities['DY%'], dist=\"norm\", plot=plt)\n",
    "plt.show()"
   ]
  },
  {
   "cell_type": "code",
   "execution_count": 15,
   "metadata": {},
   "outputs": [
    {
     "data": {
      "image/png": "[encoded data removed]",
      "text/plain": [
       "<Figure size 640x480 with 1 Axes>"
      ]
     },
     "metadata": {},
     "output_type": "display_data"
    }
   ],
   "source": [
    "normal_fig01 = sns.histplot(df_utilities['DY%'], kde=True)"
   ]
  },
  {
   "cell_type": "code",
   "execution_count": 16,
   "metadata": {},
   "outputs": [
    {
     "data": {
      "image/png": "[encoded data removed]",
      "text/plain": [
       "<Figure size 640x480 with 1 Axes>"
      ]
     },
     "metadata": {},
     "output_type": "display_data"
    }
   ],
   "source": [
    "stats.probplot(df_financial_services['DY%'], dist=\"norm\", plot=plt)\n",
    "plt.show()"
   ]
  },
  {
   "cell_type": "code",
   "execution_count": 17,
   "metadata": {},
   "outputs": [
    {
     "data": {
      "image/png": "[encoded data removed]",
      "text/plain": [
       "<Figure size 640x480 with 1 Axes>"
      ]
     },
     "metadata": {},
     "output_type": "display_data"
    }
   ],
   "source": [
    "normal_fig02 = sns.histplot(df_financial_services['DY%'], kde=True)"
   ]
  },
  {
   "cell_type": "code",
   "execution_count": 18,
   "metadata": {},
   "outputs": [
    {
     "data": {
      "text/plain": [
       "LeveneResult(statistic=2.696156399663045, pvalue=0.11548229583550632)"
      ]
     },
     "execution_count": 18,
     "metadata": {},
     "output_type": "execute_result"
    }
   ],
   "source": [
    "stats.levene(df_utilities['DY%'], df_financial_services['DY%'])"
   ]
  },
  {
   "cell_type": "code",
   "execution_count": 19,
   "metadata": {},
   "outputs": [
    {
     "data": {
      "text/html": [
       "<div>\n",
       "<style scoped>\n",
       "    .dataframe tbody tr th:only-of-type {\n",
       "        vertical-align: middle;\n",
       "    }\n",
       "\n",
       "    .dataframe tbody tr th {\n",
       "        vertical-align: top;\n",
       "    }\n",
       "\n",
       "    .dataframe thead th {\n",
       "        text-align: right;\n",
       "    }\n",
       "</style>\n",
       "<table border=\"1\" class=\"dataframe\">\n",
       "  <thead>\n",
       "    <tr style=\"text-align: right;\">\n",
       "      <th></th>\n",
       "      <th>mean</th>\n",
       "      <th>std</th>\n",
       "    </tr>\n",
       "    <tr>\n",
       "      <th>Segment</th>\n",
       "      <th></th>\n",
       "      <th></th>\n",
       "    </tr>\n",
       "  </thead>\n",
       "  <tbody>\n",
       "    <tr>\n",
       "      <th>Financial Services</th>\n",
       "      <td>5.163223</td>\n",
       "      <td>3.237270</td>\n",
       "    </tr>\n",
       "    <tr>\n",
       "      <th>Utilities</th>\n",
       "      <td>6.637284</td>\n",
       "      <td>5.240386</td>\n",
       "    </tr>\n",
       "  </tbody>\n",
       "</table>\n",
       "</div>"
      ],
      "text/plain": [
       "                        mean       std\n",
       "Segment                               \n",
       "Financial Services  5.163223  3.237270\n",
       "Utilities           6.637284  5.240386"
      ]
     },
     "execution_count": 19,
     "metadata": {},
     "output_type": "execute_result"
    }
   ],
   "source": [
    "tab_dinamica = pd.pivot_table(dados_test_T, values=['DY%'], index=['Segment'], aggfunc=['mean','std']).droplevel(1, axis=1)\n",
    "tab_dinamica"
   ]
  },
  {
   "cell_type": "code",
   "execution_count": 20,
   "metadata": {},
   "outputs": [
    {
     "data": {
      "application/vnd.plotly.v1+json": {
       "config": {
        "plotlyServerURL": "https://plot.ly"
       },
       "data": [
        {
         "error_y": {
          "array": [
           3.237270094218713,
           5.240386012738914
          ],
          "type": "data"
         },
         "marker": {
          "color": "orange"
         },
         "name": "Média e Desvio",
         "orientation": "v",
         "type": "bar",
         "x": [
          "Financial Services",
          "Utilities"
         ],
         "y": [
          5.1632232783450025,
          6.6372838280583855
         ]
        }
       ],
       "layout": {
        "font": {
         "color": "black",
         "family": "Arial",
         "size": 13
        },
        "height": 400,
        "margin": {
         "b": 75,
         "l": 75,
         "r": 20,
         "t": 75
        },
        "paper_bgcolor": "#f7f8fa",
        "template": {
         "data": {
          "scatter": [
           {
            "type": "scatter"
           }
          ]
         }
        },
        "title": {
         "text": "<b>Dividend Yield (média ± erro padrão da média) <br> em 2022 entre dois setores do IBOV"
        },
        "width": 600,
        "xaxis": {
         "title": {
          "text": "<b>Setor IBOV"
         }
        },
        "yaxis": {
         "title": {
          "text": "<b>Dividend Yield (%)"
         }
        }
       }
      }
     },
     "metadata": {},
     "output_type": "display_data"
    }
   ],
   "source": [
    "fig = go.Figure()\n",
    "\n",
    "fig.add_trace(go.Bar(name='Média e Desvio', x=tab_dinamica.index, y=tab_dinamica['mean'],\n",
    "                     error_y=dict(type='data', array=tab_dinamica['std']),\n",
    "                     marker_color='orange', orientation='v'))\n",
    "\n",
    "fig.update_layout(title_text='<b>Dividend Yield (média \\xB1 erro padrão da média) <br> em 2022 entre dois setores do IBOV', xaxis_title= '<b>Setor IBOV',\n",
    "                  yaxis_title= '<b>Dividend Yield (%)', template=\"none\", margin=dict(l=75, r=20, t=75, b=75),\n",
    "                  paper_bgcolor=\"#f7f8fa\", font=dict(family=\"Arial\", size=13, color=\"black\"), width=600, height=400)"
   ]
  },
  {
   "cell_type": "code",
   "execution_count": 21,
   "metadata": {},
   "outputs": [
    {
     "name": "stdout",
     "output_type": "stream",
     "text": [
      "T-statistic value:  0.8187721487683901\n",
      "P-Value:  0.423320704298328\n"
     ]
    }
   ],
   "source": [
    "t_stat, p_value = stats.ttest_ind(df_utilities['DY%'], df_financial_services['DY%'], equal_var=False)\n",
    "print(\"T-statistic value: \", t_stat)\n",
    "print(\"P-Value: \", p_value)"
   ]
  }
 ],
 "metadata": {
  "kernelspec": {
   "display_name": "estats_mercado",
   "language": "python",
   "name": "python3"
  },
  "language_info": {
   "codemirror_mode": {
    "name": "ipython",
    "version": 3
   },
   "file_extension": ".py",
   "mimetype": "text/x-python",
   "name": "python",
   "nbconvert_exporter": "python",
   "pygments_lexer": "ipython3",
   "version": "3.10.8"
  },
  "orig_nbformat": 4
 },
 "nbformat": 4,
 "nbformat_minor": 2
}
