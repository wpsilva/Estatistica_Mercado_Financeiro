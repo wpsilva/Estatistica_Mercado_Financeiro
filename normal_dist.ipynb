{
 "cells": [
  {
   "cell_type": "markdown",
   "metadata": {},
   "source": [
    "Bibliotecas"
   ]
  },
  {
   "cell_type": "code",
   "execution_count": 59,
   "metadata": {},
   "outputs": [
    {
     "name": "stdout",
     "output_type": "stream",
     "text": [
      "Requirement already satisfied: pip in d:\\dev\\tcd\\estatistica_mercado_financeiro\\estats_mercado\\lib\\site-packages (23.2.1)\n",
      "Requirement already satisfied: yfinance in d:\\dev\\tcd\\estatistica_mercado_financeiro\\estats_mercado\\lib\\site-packages (0.2.27)\n",
      "Requirement already satisfied: pandas>=1.3.0 in d:\\dev\\tcd\\estatistica_mercado_financeiro\\estats_mercado\\lib\\site-packages (from yfinance) (2.0.3)\n",
      "Requirement already satisfied: numpy>=1.16.5 in d:\\dev\\tcd\\estatistica_mercado_financeiro\\estats_mercado\\lib\\site-packages (from yfinance) (1.23.5)\n",
      "Requirement already satisfied: requests>=2.31 in d:\\dev\\tcd\\estatistica_mercado_financeiro\\estats_mercado\\lib\\site-packages (from yfinance) (2.31.0)\n",
      "Requirement already satisfied: multitasking>=0.0.7 in d:\\dev\\tcd\\estatistica_mercado_financeiro\\estats_mercado\\lib\\site-packages (from yfinance) (0.0.11)\n",
      "Requirement already satisfied: lxml>=4.9.1 in d:\\dev\\tcd\\estatistica_mercado_financeiro\\estats_mercado\\lib\\site-packages (from yfinance) (4.9.3)\n",
      "Requirement already satisfied: appdirs>=1.4.4 in d:\\dev\\tcd\\estatistica_mercado_financeiro\\estats_mercado\\lib\\site-packages (from yfinance) (1.4.4)\n",
      "Requirement already satisfied: pytz>=2022.5 in d:\\dev\\tcd\\estatistica_mercado_financeiro\\estats_mercado\\lib\\site-packages (from yfinance) (2023.3)\n",
      "Requirement already satisfied: frozendict>=2.3.4 in d:\\dev\\tcd\\estatistica_mercado_financeiro\\estats_mercado\\lib\\site-packages (from yfinance) (2.3.8)\n",
      "Requirement already satisfied: beautifulsoup4>=4.11.1 in d:\\dev\\tcd\\estatistica_mercado_financeiro\\estats_mercado\\lib\\site-packages (from yfinance) (4.12.2)\n",
      "Requirement already satisfied: html5lib>=1.1 in d:\\dev\\tcd\\estatistica_mercado_financeiro\\estats_mercado\\lib\\site-packages (from yfinance) (1.1)\n",
      "Requirement already satisfied: soupsieve>1.2 in d:\\dev\\tcd\\estatistica_mercado_financeiro\\estats_mercado\\lib\\site-packages (from beautifulsoup4>=4.11.1->yfinance) (2.4.1)\n",
      "Requirement already satisfied: six>=1.9 in d:\\dev\\tcd\\estatistica_mercado_financeiro\\estats_mercado\\lib\\site-packages (from html5lib>=1.1->yfinance) (1.16.0)\n",
      "Requirement already satisfied: webencodings in d:\\dev\\tcd\\estatistica_mercado_financeiro\\estats_mercado\\lib\\site-packages (from html5lib>=1.1->yfinance) (0.5.1)\n",
      "Requirement already satisfied: python-dateutil>=2.8.2 in d:\\dev\\tcd\\estatistica_mercado_financeiro\\estats_mercado\\lib\\site-packages (from pandas>=1.3.0->yfinance) (2.8.2)\n",
      "Requirement already satisfied: tzdata>=2022.1 in d:\\dev\\tcd\\estatistica_mercado_financeiro\\estats_mercado\\lib\\site-packages (from pandas>=1.3.0->yfinance) (2023.3)\n",
      "Requirement already satisfied: charset-normalizer<4,>=2 in d:\\dev\\tcd\\estatistica_mercado_financeiro\\estats_mercado\\lib\\site-packages (from requests>=2.31->yfinance) (3.2.0)\n",
      "Requirement already satisfied: idna<4,>=2.5 in d:\\dev\\tcd\\estatistica_mercado_financeiro\\estats_mercado\\lib\\site-packages (from requests>=2.31->yfinance) (3.4)\n",
      "Requirement already satisfied: urllib3<3,>=1.21.1 in d:\\dev\\tcd\\estatistica_mercado_financeiro\\estats_mercado\\lib\\site-packages (from requests>=2.31->yfinance) (2.0.4)\n",
      "Requirement already satisfied: certifi>=2017.4.17 in d:\\dev\\tcd\\estatistica_mercado_financeiro\\estats_mercado\\lib\\site-packages (from requests>=2.31->yfinance) (2023.7.22)\n",
      "Note: you may need to restart the kernel to use updated packages.\n",
      "Requirement already satisfied: vectorbt in d:\\dev\\tcd\\estatistica_mercado_financeiro\\estats_mercado\\lib\\site-packages (0.25.5)\n",
      "Requirement already satisfied: numpy>=1.16.5 in d:\\dev\\tcd\\estatistica_mercado_financeiro\\estats_mercado\\lib\\site-packages (from vectorbt) (1.23.5)\n",
      "Requirement already satisfied: pandas in d:\\dev\\tcd\\estatistica_mercado_financeiro\\estats_mercado\\lib\\site-packages (from vectorbt) (2.0.3)\n",
      "Requirement already satisfied: scipy in d:\\dev\\tcd\\estatistica_mercado_financeiro\\estats_mercado\\lib\\site-packages (from vectorbt) (1.11.1)\n",
      "Requirement already satisfied: matplotlib in d:\\dev\\tcd\\estatistica_mercado_financeiro\\estats_mercado\\lib\\site-packages (from vectorbt) (3.7.2)\n",
      "Requirement already satisfied: plotly>=4.12.0 in d:\\dev\\tcd\\estatistica_mercado_financeiro\\estats_mercado\\lib\\site-packages (from vectorbt) (5.15.0)\n",
      "Requirement already satisfied: ipywidgets>=7.0.0 in d:\\dev\\tcd\\estatistica_mercado_financeiro\\estats_mercado\\lib\\site-packages (from vectorbt) (8.1.0)\n",
      "Requirement already satisfied: dill in d:\\dev\\tcd\\estatistica_mercado_financeiro\\estats_mercado\\lib\\site-packages (from vectorbt) (0.3.7)\n",
      "Requirement already satisfied: tqdm in d:\\dev\\tcd\\estatistica_mercado_financeiro\\estats_mercado\\lib\\site-packages (from vectorbt) (4.65.0)\n",
      "Requirement already satisfied: dateparser in d:\\dev\\tcd\\estatistica_mercado_financeiro\\estats_mercado\\lib\\site-packages (from vectorbt) (1.1.8)\n",
      "Requirement already satisfied: imageio in d:\\dev\\tcd\\estatistica_mercado_financeiro\\estats_mercado\\lib\\site-packages (from vectorbt) (2.31.1)\n",
      "Requirement already satisfied: scikit-learn in d:\\dev\\tcd\\estatistica_mercado_financeiro\\estats_mercado\\lib\\site-packages (from vectorbt) (1.3.0)\n",
      "Requirement already satisfied: schedule in d:\\dev\\tcd\\estatistica_mercado_financeiro\\estats_mercado\\lib\\site-packages (from vectorbt) (1.2.0)\n",
      "Requirement already satisfied: requests in d:\\dev\\tcd\\estatistica_mercado_financeiro\\estats_mercado\\lib\\site-packages (from vectorbt) (2.31.0)\n",
      "Requirement already satisfied: pytz in d:\\dev\\tcd\\estatistica_mercado_financeiro\\estats_mercado\\lib\\site-packages (from vectorbt) (2023.3)\n",
      "Requirement already satisfied: mypy-extensions in d:\\dev\\tcd\\estatistica_mercado_financeiro\\estats_mercado\\lib\\site-packages (from vectorbt) (1.0.0)\n",
      "Requirement already satisfied: numba<0.57.0,>=0.56.0 in d:\\dev\\tcd\\estatistica_mercado_financeiro\\estats_mercado\\lib\\site-packages (from vectorbt) (0.56.4)\n",
      "Requirement already satisfied: comm>=0.1.3 in d:\\dev\\tcd\\estatistica_mercado_financeiro\\estats_mercado\\lib\\site-packages (from ipywidgets>=7.0.0->vectorbt) (0.1.4)\n",
      "Requirement already satisfied: ipython>=6.1.0 in d:\\dev\\tcd\\estatistica_mercado_financeiro\\estats_mercado\\lib\\site-packages (from ipywidgets>=7.0.0->vectorbt) (8.14.0)\n",
      "Requirement already satisfied: traitlets>=4.3.1 in d:\\dev\\tcd\\estatistica_mercado_financeiro\\estats_mercado\\lib\\site-packages (from ipywidgets>=7.0.0->vectorbt) (5.9.0)\n",
      "Requirement already satisfied: widgetsnbextension~=4.0.7 in d:\\dev\\tcd\\estatistica_mercado_financeiro\\estats_mercado\\lib\\site-packages (from ipywidgets>=7.0.0->vectorbt) (4.0.8)\n",
      "Requirement already satisfied: jupyterlab-widgets~=3.0.7 in d:\\dev\\tcd\\estatistica_mercado_financeiro\\estats_mercado\\lib\\site-packages (from ipywidgets>=7.0.0->vectorbt) (3.0.8)\n",
      "Requirement already satisfied: llvmlite<0.40,>=0.39.0dev0 in d:\\dev\\tcd\\estatistica_mercado_financeiro\\estats_mercado\\lib\\site-packages (from numba<0.57.0,>=0.56.0->vectorbt) (0.39.1)\n",
      "Requirement already satisfied: setuptools in d:\\dev\\tcd\\estatistica_mercado_financeiro\\estats_mercado\\lib\\site-packages (from numba<0.57.0,>=0.56.0->vectorbt) (63.2.0)\n",
      "Requirement already satisfied: tenacity>=6.2.0 in d:\\dev\\tcd\\estatistica_mercado_financeiro\\estats_mercado\\lib\\site-packages (from plotly>=4.12.0->vectorbt) (8.2.2)\n",
      "Requirement already satisfied: packaging in d:\\dev\\tcd\\estatistica_mercado_financeiro\\estats_mercado\\lib\\site-packages (from plotly>=4.12.0->vectorbt) (23.1)\n",
      "Requirement already satisfied: python-dateutil in d:\\dev\\tcd\\estatistica_mercado_financeiro\\estats_mercado\\lib\\site-packages (from dateparser->vectorbt) (2.8.2)\n",
      "Requirement already satisfied: regex!=2019.02.19,!=2021.8.27 in d:\\dev\\tcd\\estatistica_mercado_financeiro\\estats_mercado\\lib\\site-packages (from dateparser->vectorbt) (2023.6.3)\n",
      "Requirement already satisfied: tzlocal in d:\\dev\\tcd\\estatistica_mercado_financeiro\\estats_mercado\\lib\\site-packages (from dateparser->vectorbt) (5.0.1)\n",
      "Requirement already satisfied: pillow>=8.3.2 in d:\\dev\\tcd\\estatistica_mercado_financeiro\\estats_mercado\\lib\\site-packages (from imageio->vectorbt) (10.0.0)\n",
      "Requirement already satisfied: contourpy>=1.0.1 in d:\\dev\\tcd\\estatistica_mercado_financeiro\\estats_mercado\\lib\\site-packages (from matplotlib->vectorbt) (1.1.0)\n",
      "Requirement already satisfied: cycler>=0.10 in d:\\dev\\tcd\\estatistica_mercado_financeiro\\estats_mercado\\lib\\site-packages (from matplotlib->vectorbt) (0.11.0)\n",
      "Requirement already satisfied: fonttools>=4.22.0 in d:\\dev\\tcd\\estatistica_mercado_financeiro\\estats_mercado\\lib\\site-packages (from matplotlib->vectorbt) (4.42.0)\n",
      "Requirement already satisfied: kiwisolver>=1.0.1 in d:\\dev\\tcd\\estatistica_mercado_financeiro\\estats_mercado\\lib\\site-packages (from matplotlib->vectorbt) (1.4.4)\n",
      "Requirement already satisfied: pyparsing<3.1,>=2.3.1 in d:\\dev\\tcd\\estatistica_mercado_financeiro\\estats_mercado\\lib\\site-packages (from matplotlib->vectorbt) (3.0.9)\n",
      "Requirement already satisfied: tzdata>=2022.1 in d:\\dev\\tcd\\estatistica_mercado_financeiro\\estats_mercado\\lib\\site-packages (from pandas->vectorbt) (2023.3)\n",
      "Requirement already satisfied: charset-normalizer<4,>=2 in d:\\dev\\tcd\\estatistica_mercado_financeiro\\estats_mercado\\lib\\site-packages (from requests->vectorbt) (3.2.0)\n",
      "Requirement already satisfied: idna<4,>=2.5 in d:\\dev\\tcd\\estatistica_mercado_financeiro\\estats_mercado\\lib\\site-packages (from requests->vectorbt) (3.4)\n",
      "Requirement already satisfied: urllib3<3,>=1.21.1 in d:\\dev\\tcd\\estatistica_mercado_financeiro\\estats_mercado\\lib\\site-packages (from requests->vectorbt) (2.0.4)\n",
      "Requirement already satisfied: certifi>=2017.4.17 in d:\\dev\\tcd\\estatistica_mercado_financeiro\\estats_mercado\\lib\\site-packages (from requests->vectorbt) (2023.7.22)\n",
      "Requirement already satisfied: joblib>=1.1.1 in d:\\dev\\tcd\\estatistica_mercado_financeiro\\estats_mercado\\lib\\site-packages (from scikit-learn->vectorbt) (1.3.1)\n",
      "Requirement already satisfied: threadpoolctl>=2.0.0 in d:\\dev\\tcd\\estatistica_mercado_financeiro\\estats_mercado\\lib\\site-packages (from scikit-learn->vectorbt) (3.2.0)\n",
      "Requirement already satisfied: colorama in d:\\dev\\tcd\\estatistica_mercado_financeiro\\estats_mercado\\lib\\site-packages (from tqdm->vectorbt) (0.4.6)\n",
      "Requirement already satisfied: backcall in d:\\dev\\tcd\\estatistica_mercado_financeiro\\estats_mercado\\lib\\site-packages (from ipython>=6.1.0->ipywidgets>=7.0.0->vectorbt) (0.2.0)\n",
      "Requirement already satisfied: decorator in d:\\dev\\tcd\\estatistica_mercado_financeiro\\estats_mercado\\lib\\site-packages (from ipython>=6.1.0->ipywidgets>=7.0.0->vectorbt) (5.1.1)\n",
      "Requirement already satisfied: jedi>=0.16 in d:\\dev\\tcd\\estatistica_mercado_financeiro\\estats_mercado\\lib\\site-packages (from ipython>=6.1.0->ipywidgets>=7.0.0->vectorbt) (0.19.0)\n",
      "Requirement already satisfied: matplotlib-inline in d:\\dev\\tcd\\estatistica_mercado_financeiro\\estats_mercado\\lib\\site-packages (from ipython>=6.1.0->ipywidgets>=7.0.0->vectorbt) (0.1.6)\n",
      "Requirement already satisfied: pickleshare in d:\\dev\\tcd\\estatistica_mercado_financeiro\\estats_mercado\\lib\\site-packages (from ipython>=6.1.0->ipywidgets>=7.0.0->vectorbt) (0.7.5)\n",
      "Requirement already satisfied: prompt-toolkit!=3.0.37,<3.1.0,>=3.0.30 in d:\\dev\\tcd\\estatistica_mercado_financeiro\\estats_mercado\\lib\\site-packages (from ipython>=6.1.0->ipywidgets>=7.0.0->vectorbt) (3.0.39)\n",
      "Requirement already satisfied: pygments>=2.4.0 in d:\\dev\\tcd\\estatistica_mercado_financeiro\\estats_mercado\\lib\\site-packages (from ipython>=6.1.0->ipywidgets>=7.0.0->vectorbt) (2.15.1)\n",
      "Requirement already satisfied: stack-data in d:\\dev\\tcd\\estatistica_mercado_financeiro\\estats_mercado\\lib\\site-packages (from ipython>=6.1.0->ipywidgets>=7.0.0->vectorbt) (0.6.2)\n",
      "Requirement already satisfied: six>=1.5 in d:\\dev\\tcd\\estatistica_mercado_financeiro\\estats_mercado\\lib\\site-packages (from python-dateutil->dateparser->vectorbt) (1.16.0)\n",
      "Requirement already satisfied: parso<0.9.0,>=0.8.3 in d:\\dev\\tcd\\estatistica_mercado_financeiro\\estats_mercado\\lib\\site-packages (from jedi>=0.16->ipython>=6.1.0->ipywidgets>=7.0.0->vectorbt) (0.8.3)\n",
      "Requirement already satisfied: wcwidth in d:\\dev\\tcd\\estatistica_mercado_financeiro\\estats_mercado\\lib\\site-packages (from prompt-toolkit!=3.0.37,<3.1.0,>=3.0.30->ipython>=6.1.0->ipywidgets>=7.0.0->vectorbt) (0.2.6)\n",
      "Requirement already satisfied: executing>=1.2.0 in d:\\dev\\tcd\\estatistica_mercado_financeiro\\estats_mercado\\lib\\site-packages (from stack-data->ipython>=6.1.0->ipywidgets>=7.0.0->vectorbt) (1.2.0)\n",
      "Requirement already satisfied: asttokens>=2.1.0 in d:\\dev\\tcd\\estatistica_mercado_financeiro\\estats_mercado\\lib\\site-packages (from stack-data->ipython>=6.1.0->ipywidgets>=7.0.0->vectorbt) (2.2.1)\n",
      "Requirement already satisfied: pure-eval in d:\\dev\\tcd\\estatistica_mercado_financeiro\\estats_mercado\\lib\\site-packages (from stack-data->ipython>=6.1.0->ipywidgets>=7.0.0->vectorbt) (0.2.2)\n",
      "Note: you may need to restart the kernel to use updated packages.\n",
      "Requirement already satisfied: sweetviz in d:\\dev\\tcd\\estatistica_mercado_financeiro\\estats_mercado\\lib\\site-packages (2.1.4)\n",
      "Requirement already satisfied: pandas!=1.0.0,!=1.0.1,!=1.0.2,>=0.25.3 in d:\\dev\\tcd\\estatistica_mercado_financeiro\\estats_mercado\\lib\\site-packages (from sweetviz) (2.0.3)\n",
      "Requirement already satisfied: numpy>=1.16.0 in d:\\dev\\tcd\\estatistica_mercado_financeiro\\estats_mercado\\lib\\site-packages (from sweetviz) (1.23.5)\n",
      "Requirement already satisfied: matplotlib>=3.1.3 in d:\\dev\\tcd\\estatistica_mercado_financeiro\\estats_mercado\\lib\\site-packages (from sweetviz) (3.7.2)\n",
      "Requirement already satisfied: tqdm>=4.43.0 in d:\\dev\\tcd\\estatistica_mercado_financeiro\\estats_mercado\\lib\\site-packages (from sweetviz) (4.65.0)\n",
      "Requirement already satisfied: scipy>=1.3.2 in d:\\dev\\tcd\\estatistica_mercado_financeiro\\estats_mercado\\lib\\site-packages (from sweetviz) (1.11.1)\n",
      "Requirement already satisfied: jinja2>=2.11.1 in d:\\dev\\tcd\\estatistica_mercado_financeiro\\estats_mercado\\lib\\site-packages (from sweetviz) (3.1.2)\n",
      "Requirement already satisfied: importlib-resources>=1.2.0 in d:\\dev\\tcd\\estatistica_mercado_financeiro\\estats_mercado\\lib\\site-packages (from sweetviz) (6.0.0)\n",
      "Requirement already satisfied: MarkupSafe>=2.0 in d:\\dev\\tcd\\estatistica_mercado_financeiro\\estats_mercado\\lib\\site-packages (from jinja2>=2.11.1->sweetviz) (2.1.3)\n",
      "Requirement already satisfied: contourpy>=1.0.1 in d:\\dev\\tcd\\estatistica_mercado_financeiro\\estats_mercado\\lib\\site-packages (from matplotlib>=3.1.3->sweetviz) (1.1.0)\n",
      "Requirement already satisfied: cycler>=0.10 in d:\\dev\\tcd\\estatistica_mercado_financeiro\\estats_mercado\\lib\\site-packages (from matplotlib>=3.1.3->sweetviz) (0.11.0)\n",
      "Requirement already satisfied: fonttools>=4.22.0 in d:\\dev\\tcd\\estatistica_mercado_financeiro\\estats_mercado\\lib\\site-packages (from matplotlib>=3.1.3->sweetviz) (4.42.0)\n",
      "Requirement already satisfied: kiwisolver>=1.0.1 in d:\\dev\\tcd\\estatistica_mercado_financeiro\\estats_mercado\\lib\\site-packages (from matplotlib>=3.1.3->sweetviz) (1.4.4)\n",
      "Requirement already satisfied: packaging>=20.0 in d:\\dev\\tcd\\estatistica_mercado_financeiro\\estats_mercado\\lib\\site-packages (from matplotlib>=3.1.3->sweetviz) (23.1)\n",
      "Requirement already satisfied: pillow>=6.2.0 in d:\\dev\\tcd\\estatistica_mercado_financeiro\\estats_mercado\\lib\\site-packages (from matplotlib>=3.1.3->sweetviz) (10.0.0)\n",
      "Requirement already satisfied: pyparsing<3.1,>=2.3.1 in d:\\dev\\tcd\\estatistica_mercado_financeiro\\estats_mercado\\lib\\site-packages (from matplotlib>=3.1.3->sweetviz) (3.0.9)\n",
      "Requirement already satisfied: python-dateutil>=2.7 in d:\\dev\\tcd\\estatistica_mercado_financeiro\\estats_mercado\\lib\\site-packages (from matplotlib>=3.1.3->sweetviz) (2.8.2)\n",
      "Requirement already satisfied: pytz>=2020.1 in d:\\dev\\tcd\\estatistica_mercado_financeiro\\estats_mercado\\lib\\site-packages (from pandas!=1.0.0,!=1.0.1,!=1.0.2,>=0.25.3->sweetviz) (2023.3)\n",
      "Requirement already satisfied: tzdata>=2022.1 in d:\\dev\\tcd\\estatistica_mercado_financeiro\\estats_mercado\\lib\\site-packages (from pandas!=1.0.0,!=1.0.1,!=1.0.2,>=0.25.3->sweetviz) (2023.3)\n",
      "Requirement already satisfied: colorama in d:\\dev\\tcd\\estatistica_mercado_financeiro\\estats_mercado\\lib\\site-packages (from tqdm>=4.43.0->sweetviz) (0.4.6)\n",
      "Requirement already satisfied: six>=1.5 in d:\\dev\\tcd\\estatistica_mercado_financeiro\\estats_mercado\\lib\\site-packages (from python-dateutil>=2.7->matplotlib>=3.1.3->sweetviz) (1.16.0)\n",
      "Note: you may need to restart the kernel to use updated packages.\n",
      "Requirement already satisfied: numpy in d:\\dev\\tcd\\estatistica_mercado_financeiro\\estats_mercado\\lib\\site-packages (1.23.5)\n",
      "Note: you may need to restart the kernel to use updated packages.\n",
      "Requirement already satisfied: pandas in d:\\dev\\tcd\\estatistica_mercado_financeiro\\estats_mercado\\lib\\site-packages (2.0.3)\n",
      "Requirement already satisfied: python-dateutil>=2.8.2 in d:\\dev\\tcd\\estatistica_mercado_financeiro\\estats_mercado\\lib\\site-packages (from pandas) (2.8.2)\n",
      "Requirement already satisfied: pytz>=2020.1 in d:\\dev\\tcd\\estatistica_mercado_financeiro\\estats_mercado\\lib\\site-packages (from pandas) (2023.3)\n",
      "Requirement already satisfied: tzdata>=2022.1 in d:\\dev\\tcd\\estatistica_mercado_financeiro\\estats_mercado\\lib\\site-packages (from pandas) (2023.3)\n",
      "Requirement already satisfied: numpy>=1.21.0 in d:\\dev\\tcd\\estatistica_mercado_financeiro\\estats_mercado\\lib\\site-packages (from pandas) (1.23.5)\n",
      "Requirement already satisfied: six>=1.5 in d:\\dev\\tcd\\estatistica_mercado_financeiro\\estats_mercado\\lib\\site-packages (from python-dateutil>=2.8.2->pandas) (1.16.0)\n",
      "Note: you may need to restart the kernel to use updated packages.\n",
      "Requirement already satisfied: scipy in d:\\dev\\tcd\\estatistica_mercado_financeiro\\estats_mercado\\lib\\site-packages (1.11.1)\n",
      "Requirement already satisfied: numpy<1.28.0,>=1.21.6 in d:\\dev\\tcd\\estatistica_mercado_financeiro\\estats_mercado\\lib\\site-packages (from scipy) (1.23.5)\n",
      "Note: you may need to restart the kernel to use updated packages.\n",
      "Requirement already satisfied: sklearn in d:\\dev\\tcd\\estatistica_mercado_financeiro\\estats_mercado\\lib\\site-packages (0.0.post7)\n",
      "Note: you may need to restart the kernel to use updated packages.\n",
      "Requirement already satisfied: statsmodels in d:\\dev\\tcd\\estatistica_mercado_financeiro\\estats_mercado\\lib\\site-packages (0.14.0)Note: you may need to restart the kernel to use updated packages.\n",
      "\n",
      "Requirement already satisfied: numpy>=1.18 in d:\\dev\\tcd\\estatistica_mercado_financeiro\\estats_mercado\\lib\\site-packages (from statsmodels) (1.23.5)\n",
      "Requirement already satisfied: scipy!=1.9.2,>=1.4 in d:\\dev\\tcd\\estatistica_mercado_financeiro\\estats_mercado\\lib\\site-packages (from statsmodels) (1.11.1)\n",
      "Requirement already satisfied: pandas>=1.0 in d:\\dev\\tcd\\estatistica_mercado_financeiro\\estats_mercado\\lib\\site-packages (from statsmodels) (2.0.3)\n",
      "Requirement already satisfied: patsy>=0.5.2 in d:\\dev\\tcd\\estatistica_mercado_financeiro\\estats_mercado\\lib\\site-packages (from statsmodels) (0.5.3)\n",
      "Requirement already satisfied: packaging>=21.3 in d:\\dev\\tcd\\estatistica_mercado_financeiro\\estats_mercado\\lib\\site-packages (from statsmodels) (23.1)\n",
      "Requirement already satisfied: python-dateutil>=2.8.2 in d:\\dev\\tcd\\estatistica_mercado_financeiro\\estats_mercado\\lib\\site-packages (from pandas>=1.0->statsmodels) (2.8.2)\n",
      "Requirement already satisfied: pytz>=2020.1 in d:\\dev\\tcd\\estatistica_mercado_financeiro\\estats_mercado\\lib\\site-packages (from pandas>=1.0->statsmodels) (2023.3)\n",
      "Requirement already satisfied: tzdata>=2022.1 in d:\\dev\\tcd\\estatistica_mercado_financeiro\\estats_mercado\\lib\\site-packages (from pandas>=1.0->statsmodels) (2023.3)\n",
      "Requirement already satisfied: six in d:\\dev\\tcd\\estatistica_mercado_financeiro\\estats_mercado\\lib\\site-packages (from patsy>=0.5.2->statsmodels) (1.16.0)\n",
      "Requirement already satisfied: yfinance in d:\\dev\\tcd\\estatistica_mercado_financeiro\\estats_mercado\\lib\\site-packages (0.2.27)\n",
      "Requirement already satisfied: pandas>=1.3.0 in d:\\dev\\tcd\\estatistica_mercado_financeiro\\estats_mercado\\lib\\site-packages (from yfinance) (2.0.3)\n",
      "Requirement already satisfied: numpy>=1.16.5 in d:\\dev\\tcd\\estatistica_mercado_financeiro\\estats_mercado\\lib\\site-packages (from yfinance) (1.23.5)\n",
      "Requirement already satisfied: requests>=2.31 in d:\\dev\\tcd\\estatistica_mercado_financeiro\\estats_mercado\\lib\\site-packages (from yfinance) (2.31.0)\n",
      "Requirement already satisfied: multitasking>=0.0.7 in d:\\dev\\tcd\\estatistica_mercado_financeiro\\estats_mercado\\lib\\site-packages (from yfinance) (0.0.11)\n",
      "Requirement already satisfied: lxml>=4.9.1 in d:\\dev\\tcd\\estatistica_mercado_financeiro\\estats_mercado\\lib\\site-packages (from yfinance) (4.9.3)\n",
      "Requirement already satisfied: appdirs>=1.4.4 in d:\\dev\\tcd\\estatistica_mercado_financeiro\\estats_mercado\\lib\\site-packages (from yfinance) (1.4.4)\n",
      "Requirement already satisfied: pytz>=2022.5 in d:\\dev\\tcd\\estatistica_mercado_financeiro\\estats_mercado\\lib\\site-packages (from yfinance) (2023.3)\n",
      "Requirement already satisfied: frozendict>=2.3.4 in d:\\dev\\tcd\\estatistica_mercado_financeiro\\estats_mercado\\lib\\site-packages (from yfinance) (2.3.8)\n",
      "Requirement already satisfied: beautifulsoup4>=4.11.1 in d:\\dev\\tcd\\estatistica_mercado_financeiro\\estats_mercado\\lib\\site-packages (from yfinance) (4.12.2)\n",
      "Requirement already satisfied: html5lib>=1.1 in d:\\dev\\tcd\\estatistica_mercado_financeiro\\estats_mercado\\lib\\site-packages (from yfinance) (1.1)\n",
      "Requirement already satisfied: soupsieve>1.2 in d:\\dev\\tcd\\estatistica_mercado_financeiro\\estats_mercado\\lib\\site-packages (from beautifulsoup4>=4.11.1->yfinance) (2.4.1)\n",
      "Requirement already satisfied: six>=1.9 in d:\\dev\\tcd\\estatistica_mercado_financeiro\\estats_mercado\\lib\\site-packages (from html5lib>=1.1->yfinance) (1.16.0)\n",
      "Requirement already satisfied: webencodings in d:\\dev\\tcd\\estatistica_mercado_financeiro\\estats_mercado\\lib\\site-packages (from html5lib>=1.1->yfinance) (0.5.1)\n",
      "Requirement already satisfied: python-dateutil>=2.8.2 in d:\\dev\\tcd\\estatistica_mercado_financeiro\\estats_mercado\\lib\\site-packages (from pandas>=1.3.0->yfinance) (2.8.2)\n",
      "Requirement already satisfied: tzdata>=2022.1 in d:\\dev\\tcd\\estatistica_mercado_financeiro\\estats_mercado\\lib\\site-packages (from pandas>=1.3.0->yfinance) (2023.3)\n",
      "Requirement already satisfied: charset-normalizer<4,>=2 in d:\\dev\\tcd\\estatistica_mercado_financeiro\\estats_mercado\\lib\\site-packages (from requests>=2.31->yfinance) (3.2.0)\n",
      "Requirement already satisfied: idna<4,>=2.5 in d:\\dev\\tcd\\estatistica_mercado_financeiro\\estats_mercado\\lib\\site-packages (from requests>=2.31->yfinance) (3.4)\n",
      "Requirement already satisfied: urllib3<3,>=1.21.1 in d:\\dev\\tcd\\estatistica_mercado_financeiro\\estats_mercado\\lib\\site-packages (from requests>=2.31->yfinance) (2.0.4)\n",
      "Requirement already satisfied: certifi>=2017.4.17 in d:\\dev\\tcd\\estatistica_mercado_financeiro\\estats_mercado\\lib\\site-packages (from requests>=2.31->yfinance) (2023.7.22)\n",
      "Note: you may need to restart the kernel to use updated packages.\n",
      "Requirement already satisfied: seaborn in d:\\dev\\tcd\\estatistica_mercado_financeiro\\estats_mercado\\lib\\site-packages (0.12.2)\n",
      "Requirement already satisfied: numpy!=1.24.0,>=1.17 in d:\\dev\\tcd\\estatistica_mercado_financeiro\\estats_mercado\\lib\\site-packages (from seaborn) (1.23.5)\n",
      "Requirement already satisfied: pandas>=0.25 in d:\\dev\\tcd\\estatistica_mercado_financeiro\\estats_mercado\\lib\\site-packages (from seaborn) (2.0.3)\n",
      "Requirement already satisfied: matplotlib!=3.6.1,>=3.1 in d:\\dev\\tcd\\estatistica_mercado_financeiro\\estats_mercado\\lib\\site-packages (from seaborn) (3.7.2)\n",
      "Requirement already satisfied: contourpy>=1.0.1 in d:\\dev\\tcd\\estatistica_mercado_financeiro\\estats_mercado\\lib\\site-packages (from matplotlib!=3.6.1,>=3.1->seaborn) (1.1.0)\n",
      "Requirement already satisfied: cycler>=0.10 in d:\\dev\\tcd\\estatistica_mercado_financeiro\\estats_mercado\\lib\\site-packages (from matplotlib!=3.6.1,>=3.1->seaborn) (0.11.0)\n",
      "Requirement already satisfied: fonttools>=4.22.0 in d:\\dev\\tcd\\estatistica_mercado_financeiro\\estats_mercado\\lib\\site-packages (from matplotlib!=3.6.1,>=3.1->seaborn) (4.42.0)\n",
      "Requirement already satisfied: kiwisolver>=1.0.1 in d:\\dev\\tcd\\estatistica_mercado_financeiro\\estats_mercado\\lib\\site-packages (from matplotlib!=3.6.1,>=3.1->seaborn) (1.4.4)\n",
      "Requirement already satisfied: packaging>=20.0 in d:\\dev\\tcd\\estatistica_mercado_financeiro\\estats_mercado\\lib\\site-packages (from matplotlib!=3.6.1,>=3.1->seaborn) (23.1)\n",
      "Requirement already satisfied: pillow>=6.2.0 in d:\\dev\\tcd\\estatistica_mercado_financeiro\\estats_mercado\\lib\\site-packages (from matplotlib!=3.6.1,>=3.1->seaborn) (10.0.0)\n",
      "Requirement already satisfied: pyparsing<3.1,>=2.3.1 in d:\\dev\\tcd\\estatistica_mercado_financeiro\\estats_mercado\\lib\\site-packages (from matplotlib!=3.6.1,>=3.1->seaborn) (3.0.9)\n",
      "Requirement already satisfied: python-dateutil>=2.7 in d:\\dev\\tcd\\estatistica_mercado_financeiro\\estats_mercado\\lib\\site-packages (from matplotlib!=3.6.1,>=3.1->seaborn) (2.8.2)\n",
      "Requirement already satisfied: pytz>=2020.1 in d:\\dev\\tcd\\estatistica_mercado_financeiro\\estats_mercado\\lib\\site-packages (from pandas>=0.25->seaborn) (2023.3)\n",
      "Requirement already satisfied: tzdata>=2022.1 in d:\\dev\\tcd\\estatistica_mercado_financeiro\\estats_mercado\\lib\\site-packages (from pandas>=0.25->seaborn) (2023.3)\n",
      "Requirement already satisfied: six>=1.5 in d:\\dev\\tcd\\estatistica_mercado_financeiro\\estats_mercado\\lib\\site-packages (from python-dateutil>=2.7->matplotlib!=3.6.1,>=3.1->seaborn) (1.16.0)\n",
      "Note: you may need to restart the kernel to use updated packages.\n",
      "Requirement already satisfied: plotly in d:\\dev\\tcd\\estatistica_mercado_financeiro\\estats_mercado\\lib\\site-packages (5.15.0)\n",
      "Requirement already satisfied: tenacity>=6.2.0 in d:\\dev\\tcd\\estatistica_mercado_financeiro\\estats_mercado\\lib\\site-packages (from plotly) (8.2.2)\n",
      "Requirement already satisfied: packaging in d:\\dev\\tcd\\estatistica_mercado_financeiro\\estats_mercado\\lib\\site-packages (from plotly) (23.1)\n",
      "Note: you may need to restart the kernel to use updated packages.\n",
      "Requirement already satisfied: nbformat in d:\\dev\\tcd\\estatistica_mercado_financeiro\\estats_mercado\\lib\\site-packages (5.9.2)\n",
      "Requirement already satisfied: fastjsonschema in d:\\dev\\tcd\\estatistica_mercado_financeiro\\estats_mercado\\lib\\site-packages (from nbformat) (2.18.0)\n",
      "Requirement already satisfied: jsonschema>=2.6 in d:\\dev\\tcd\\estatistica_mercado_financeiro\\estats_mercado\\lib\\site-packages (from nbformat) (4.18.6)\n",
      "Requirement already satisfied: jupyter-core in d:\\dev\\tcd\\estatistica_mercado_financeiro\\estats_mercado\\lib\\site-packages (from nbformat) (5.3.1)\n",
      "Requirement already satisfied: traitlets>=5.1 in d:\\dev\\tcd\\estatistica_mercado_financeiro\\estats_mercado\\lib\\site-packages (from nbformat) (5.9.0)\n",
      "Requirement already satisfied: attrs>=22.2.0 in d:\\dev\\tcd\\estatistica_mercado_financeiro\\estats_mercado\\lib\\site-packages (from jsonschema>=2.6->nbformat) (23.1.0)\n",
      "Requirement already satisfied: jsonschema-specifications>=2023.03.6 in d:\\dev\\tcd\\estatistica_mercado_financeiro\\estats_mercado\\lib\\site-packages (from jsonschema>=2.6->nbformat) (2023.7.1)\n",
      "Requirement already satisfied: referencing>=0.28.4 in d:\\dev\\tcd\\estatistica_mercado_financeiro\\estats_mercado\\lib\\site-packages (from jsonschema>=2.6->nbformat) (0.30.2)\n",
      "Requirement already satisfied: rpds-py>=0.7.1 in d:\\dev\\tcd\\estatistica_mercado_financeiro\\estats_mercado\\lib\\site-packages (from jsonschema>=2.6->nbformat) (0.9.2)\n",
      "Requirement already satisfied: platformdirs>=2.5 in d:\\dev\\tcd\\estatistica_mercado_financeiro\\estats_mercado\\lib\\site-packages (from jupyter-core->nbformat) (3.10.0)\n",
      "Requirement already satisfied: pywin32>=300 in d:\\dev\\tcd\\estatistica_mercado_financeiro\\estats_mercado\\lib\\site-packages (from jupyter-core->nbformat) (306)\n",
      "Note: you may need to restart the kernel to use updated packages.\n"
     ]
    }
   ],
   "source": [
    "!python310.exe -m pip install --upgrade pip\n",
    "%pip install yfinance\n",
    "%pip install vectorbt\n",
    "%pip install sweetviz\n",
    "%pip install numpy\n",
    "%pip install pandas\n",
    "%pip install scipy\n",
    "%pip install sklearn\n",
    "%pip install statsmodels\n",
    "%pip install yfinance\n",
    "%pip install seaborn\n",
    "%pip install plotly\n",
    "%pip install nbformat"
   ]
  },
  {
   "cell_type": "code",
   "execution_count": 63,
   "metadata": {},
   "outputs": [],
   "source": [
    "import numpy as np\n",
    "import pandas as pd\n",
    "\n",
    "from scipy import stats\n",
    "import pylab\n",
    "from sklearn import linear_model\n",
    "from sklearn.linear_model import LinearRegression\n",
    "import statsmodels.api as sm\n",
    "from statsmodels.stats.multicomp import pairwise_tukeyhsd\n",
    "\n",
    "import yfinance as yf\n",
    "import vectorbt as vbt\n",
    "\n",
    "import seaborn as sns\n",
    "import plotly.graph_objects as go\n",
    "import plotly.express as px\n",
    "from plotly.subplots import make_subplots\n",
    "import sweetviz as sv\n",
    "import matplotlib.pyplot as plt"
   ]
  },
  {
   "cell_type": "code",
   "execution_count": 13,
   "metadata": {},
   "outputs": [
    {
     "data": {
      "application/vnd.plotly.v1+json": {
       "config": {
        "plotlyServerURL": "https://plot.ly"
       },
       "data": [
        {
         "hovertemplate": "x=%{x}<br>y=%{y}<extra></extra>",
         "legendgroup": "",
         "marker": {
          "color": "#1F77B4",
          "symbol": "circle"
         },
         "mode": "markers",
         "name": "",
         "orientation": "v",
         "showlegend": false,
         "type": "scatter",
         "x": [
          18,
          48,
          10,
          16,
          38,
          34,
          25,
          44,
          35,
          26,
          2,
          46,
          37,
          13,
          10,
          9,
          11,
          2,
          32,
          19,
          21,
          19,
          11,
          22,
          11,
          1,
          18,
          24,
          28,
          11
         ],
         "xaxis": "x",
         "y": [
          40,
          12,
          22,
          34,
          39,
          35,
          5,
          24,
          21,
          49,
          24,
          49,
          45,
          7,
          7,
          6,
          15,
          22,
          38,
          19,
          48,
          10,
          24,
          45,
          22,
          36,
          30,
          19,
          5,
          0
         ],
         "yaxis": "y"
        }
       ],
       "layout": {
        "height": 400,
        "legend": {
         "tracegroupgap": 0
        },
        "margin": {
         "b": 20,
         "l": 20,
         "r": 20,
         "t": 20
        },
        "paper_bgcolor": "#f7f8fa",
        "template": {
         "data": {
          "bar": [
           {
            "error_x": {
             "color": "rgb(36,36,36)"
            },
            "error_y": {
             "color": "rgb(36,36,36)"
            },
            "marker": {
             "line": {
              "color": "white",
              "width": 0.5
             },
             "pattern": {
              "fillmode": "overlay",
              "size": 10,
              "solidity": 0.2
             }
            },
            "type": "bar"
           }
          ],
          "barpolar": [
           {
            "marker": {
             "line": {
              "color": "white",
              "width": 0.5
             },
             "pattern": {
              "fillmode": "overlay",
              "size": 10,
              "solidity": 0.2
             }
            },
            "type": "barpolar"
           }
          ],
          "carpet": [
           {
            "aaxis": {
             "endlinecolor": "rgb(36,36,36)",
             "gridcolor": "white",
             "linecolor": "white",
             "minorgridcolor": "white",
             "startlinecolor": "rgb(36,36,36)"
            },
            "baxis": {
             "endlinecolor": "rgb(36,36,36)",
             "gridcolor": "white",
             "linecolor": "white",
             "minorgridcolor": "white",
             "startlinecolor": "rgb(36,36,36)"
            },
            "type": "carpet"
           }
          ],
          "choropleth": [
           {
            "colorbar": {
             "outlinewidth": 1,
             "tickcolor": "rgb(36,36,36)",
             "ticks": "outside"
            },
            "type": "choropleth"
           }
          ],
          "contour": [
           {
            "colorbar": {
             "outlinewidth": 1,
             "tickcolor": "rgb(36,36,36)",
             "ticks": "outside"
            },
            "colorscale": [
             [
              0,
              "#440154"
             ],
             [
              0.1111111111111111,
              "#482878"
             ],
             [
              0.2222222222222222,
              "#3e4989"
             ],
             [
              0.3333333333333333,
              "#31688e"
             ],
             [
              0.4444444444444444,
              "#26828e"
             ],
             [
              0.5555555555555556,
              "#1f9e89"
             ],
             [
              0.6666666666666666,
              "#35b779"
             ],
             [
              0.7777777777777778,
              "#6ece58"
             ],
             [
              0.8888888888888888,
              "#b5de2b"
             ],
             [
              1,
              "#fde725"
             ]
            ],
            "type": "contour"
           }
          ],
          "contourcarpet": [
           {
            "colorbar": {
             "outlinewidth": 1,
             "tickcolor": "rgb(36,36,36)",
             "ticks": "outside"
            },
            "type": "contourcarpet"
           }
          ],
          "heatmap": [
           {
            "colorbar": {
             "outlinewidth": 1,
             "tickcolor": "rgb(36,36,36)",
             "ticks": "outside"
            },
            "colorscale": [
             [
              0,
              "#440154"
             ],
             [
              0.1111111111111111,
              "#482878"
             ],
             [
              0.2222222222222222,
              "#3e4989"
             ],
             [
              0.3333333333333333,
              "#31688e"
             ],
             [
              0.4444444444444444,
              "#26828e"
             ],
             [
              0.5555555555555556,
              "#1f9e89"
             ],
             [
              0.6666666666666666,
              "#35b779"
             ],
             [
              0.7777777777777778,
              "#6ece58"
             ],
             [
              0.8888888888888888,
              "#b5de2b"
             ],
             [
              1,
              "#fde725"
             ]
            ],
            "type": "heatmap"
           }
          ],
          "heatmapgl": [
           {
            "colorbar": {
             "outlinewidth": 1,
             "tickcolor": "rgb(36,36,36)",
             "ticks": "outside"
            },
            "colorscale": [
             [
              0,
              "#440154"
             ],
             [
              0.1111111111111111,
              "#482878"
             ],
             [
              0.2222222222222222,
              "#3e4989"
             ],
             [
              0.3333333333333333,
              "#31688e"
             ],
             [
              0.4444444444444444,
              "#26828e"
             ],
             [
              0.5555555555555556,
              "#1f9e89"
             ],
             [
              0.6666666666666666,
              "#35b779"
             ],
             [
              0.7777777777777778,
              "#6ece58"
             ],
             [
              0.8888888888888888,
              "#b5de2b"
             ],
             [
              1,
              "#fde725"
             ]
            ],
            "type": "heatmapgl"
           }
          ],
          "histogram": [
           {
            "marker": {
             "line": {
              "color": "white",
              "width": 0.6
             }
            },
            "type": "histogram"
           }
          ],
          "histogram2d": [
           {
            "colorbar": {
             "outlinewidth": 1,
             "tickcolor": "rgb(36,36,36)",
             "ticks": "outside"
            },
            "colorscale": [
             [
              0,
              "#440154"
             ],
             [
              0.1111111111111111,
              "#482878"
             ],
             [
              0.2222222222222222,
              "#3e4989"
             ],
             [
              0.3333333333333333,
              "#31688e"
             ],
             [
              0.4444444444444444,
              "#26828e"
             ],
             [
              0.5555555555555556,
              "#1f9e89"
             ],
             [
              0.6666666666666666,
              "#35b779"
             ],
             [
              0.7777777777777778,
              "#6ece58"
             ],
             [
              0.8888888888888888,
              "#b5de2b"
             ],
             [
              1,
              "#fde725"
             ]
            ],
            "type": "histogram2d"
           }
          ],
          "histogram2dcontour": [
           {
            "colorbar": {
             "outlinewidth": 1,
             "tickcolor": "rgb(36,36,36)",
             "ticks": "outside"
            },
            "colorscale": [
             [
              0,
              "#440154"
             ],
             [
              0.1111111111111111,
              "#482878"
             ],
             [
              0.2222222222222222,
              "#3e4989"
             ],
             [
              0.3333333333333333,
              "#31688e"
             ],
             [
              0.4444444444444444,
              "#26828e"
             ],
             [
              0.5555555555555556,
              "#1f9e89"
             ],
             [
              0.6666666666666666,
              "#35b779"
             ],
             [
              0.7777777777777778,
              "#6ece58"
             ],
             [
              0.8888888888888888,
              "#b5de2b"
             ],
             [
              1,
              "#fde725"
             ]
            ],
            "type": "histogram2dcontour"
           }
          ],
          "mesh3d": [
           {
            "colorbar": {
             "outlinewidth": 1,
             "tickcolor": "rgb(36,36,36)",
             "ticks": "outside"
            },
            "type": "mesh3d"
           }
          ],
          "parcoords": [
           {
            "line": {
             "colorbar": {
              "outlinewidth": 1,
              "tickcolor": "rgb(36,36,36)",
              "ticks": "outside"
             }
            },
            "type": "parcoords"
           }
          ],
          "pie": [
           {
            "automargin": true,
            "type": "pie"
           }
          ],
          "scatter": [
           {
            "fillpattern": {
             "fillmode": "overlay",
             "size": 10,
             "solidity": 0.2
            },
            "type": "scatter"
           }
          ],
          "scatter3d": [
           {
            "line": {
             "colorbar": {
              "outlinewidth": 1,
              "tickcolor": "rgb(36,36,36)",
              "ticks": "outside"
             }
            },
            "marker": {
             "colorbar": {
              "outlinewidth": 1,
              "tickcolor": "rgb(36,36,36)",
              "ticks": "outside"
             }
            },
            "type": "scatter3d"
           }
          ],
          "scattercarpet": [
           {
            "marker": {
             "colorbar": {
              "outlinewidth": 1,
              "tickcolor": "rgb(36,36,36)",
              "ticks": "outside"
             }
            },
            "type": "scattercarpet"
           }
          ],
          "scattergeo": [
           {
            "marker": {
             "colorbar": {
              "outlinewidth": 1,
              "tickcolor": "rgb(36,36,36)",
              "ticks": "outside"
             }
            },
            "type": "scattergeo"
           }
          ],
          "scattergl": [
           {
            "marker": {
             "colorbar": {
              "outlinewidth": 1,
              "tickcolor": "rgb(36,36,36)",
              "ticks": "outside"
             }
            },
            "type": "scattergl"
           }
          ],
          "scattermapbox": [
           {
            "marker": {
             "colorbar": {
              "outlinewidth": 1,
              "tickcolor": "rgb(36,36,36)",
              "ticks": "outside"
             }
            },
            "type": "scattermapbox"
           }
          ],
          "scatterpolar": [
           {
            "marker": {
             "colorbar": {
              "outlinewidth": 1,
              "tickcolor": "rgb(36,36,36)",
              "ticks": "outside"
             }
            },
            "type": "scatterpolar"
           }
          ],
          "scatterpolargl": [
           {
            "marker": {
             "colorbar": {
              "outlinewidth": 1,
              "tickcolor": "rgb(36,36,36)",
              "ticks": "outside"
             }
            },
            "type": "scatterpolargl"
           }
          ],
          "scatterternary": [
           {
            "marker": {
             "colorbar": {
              "outlinewidth": 1,
              "tickcolor": "rgb(36,36,36)",
              "ticks": "outside"
             }
            },
            "type": "scatterternary"
           }
          ],
          "surface": [
           {
            "colorbar": {
             "outlinewidth": 1,
             "tickcolor": "rgb(36,36,36)",
             "ticks": "outside"
            },
            "colorscale": [
             [
              0,
              "#440154"
             ],
             [
              0.1111111111111111,
              "#482878"
             ],
             [
              0.2222222222222222,
              "#3e4989"
             ],
             [
              0.3333333333333333,
              "#31688e"
             ],
             [
              0.4444444444444444,
              "#26828e"
             ],
             [
              0.5555555555555556,
              "#1f9e89"
             ],
             [
              0.6666666666666666,
              "#35b779"
             ],
             [
              0.7777777777777778,
              "#6ece58"
             ],
             [
              0.8888888888888888,
              "#b5de2b"
             ],
             [
              1,
              "#fde725"
             ]
            ],
            "type": "surface"
           }
          ],
          "table": [
           {
            "cells": {
             "fill": {
              "color": "rgb(237,237,237)"
             },
             "line": {
              "color": "white"
             }
            },
            "header": {
             "fill": {
              "color": "rgb(217,217,217)"
             },
             "line": {
              "color": "white"
             }
            },
            "type": "table"
           }
          ]
         },
         "layout": {
          "annotationdefaults": {
           "arrowhead": 0,
           "arrowwidth": 1
          },
          "autotypenumbers": "strict",
          "coloraxis": {
           "colorbar": {
            "outlinewidth": 1,
            "tickcolor": "rgb(36,36,36)",
            "ticks": "outside"
           }
          },
          "colorscale": {
           "diverging": [
            [
             0,
             "rgb(103,0,31)"
            ],
            [
             0.1,
             "rgb(178,24,43)"
            ],
            [
             0.2,
             "rgb(214,96,77)"
            ],
            [
             0.3,
             "rgb(244,165,130)"
            ],
            [
             0.4,
             "rgb(253,219,199)"
            ],
            [
             0.5,
             "rgb(247,247,247)"
            ],
            [
             0.6,
             "rgb(209,229,240)"
            ],
            [
             0.7,
             "rgb(146,197,222)"
            ],
            [
             0.8,
             "rgb(67,147,195)"
            ],
            [
             0.9,
             "rgb(33,102,172)"
            ],
            [
             1,
             "rgb(5,48,97)"
            ]
           ],
           "sequential": [
            [
             0,
             "#440154"
            ],
            [
             0.1111111111111111,
             "#482878"
            ],
            [
             0.2222222222222222,
             "#3e4989"
            ],
            [
             0.3333333333333333,
             "#31688e"
            ],
            [
             0.4444444444444444,
             "#26828e"
            ],
            [
             0.5555555555555556,
             "#1f9e89"
            ],
            [
             0.6666666666666666,
             "#35b779"
            ],
            [
             0.7777777777777778,
             "#6ece58"
            ],
            [
             0.8888888888888888,
             "#b5de2b"
            ],
            [
             1,
             "#fde725"
            ]
           ],
           "sequentialminus": [
            [
             0,
             "#440154"
            ],
            [
             0.1111111111111111,
             "#482878"
            ],
            [
             0.2222222222222222,
             "#3e4989"
            ],
            [
             0.3333333333333333,
             "#31688e"
            ],
            [
             0.4444444444444444,
             "#26828e"
            ],
            [
             0.5555555555555556,
             "#1f9e89"
            ],
            [
             0.6666666666666666,
             "#35b779"
            ],
            [
             0.7777777777777778,
             "#6ece58"
            ],
            [
             0.8888888888888888,
             "#b5de2b"
            ],
            [
             1,
             "#fde725"
            ]
           ]
          },
          "colorway": [
           "#1F77B4",
           "#FF7F0E",
           "#2CA02C",
           "#D62728",
           "#9467BD",
           "#8C564B",
           "#E377C2",
           "#7F7F7F",
           "#BCBD22",
           "#17BECF"
          ],
          "font": {
           "color": "rgb(36,36,36)"
          },
          "geo": {
           "bgcolor": "white",
           "lakecolor": "white",
           "landcolor": "white",
           "showlakes": true,
           "showland": true,
           "subunitcolor": "white"
          },
          "hoverlabel": {
           "align": "left"
          },
          "hovermode": "closest",
          "mapbox": {
           "style": "light"
          },
          "paper_bgcolor": "white",
          "plot_bgcolor": "white",
          "polar": {
           "angularaxis": {
            "gridcolor": "rgb(232,232,232)",
            "linecolor": "rgb(36,36,36)",
            "showgrid": false,
            "showline": true,
            "ticks": "outside"
           },
           "bgcolor": "white",
           "radialaxis": {
            "gridcolor": "rgb(232,232,232)",
            "linecolor": "rgb(36,36,36)",
            "showgrid": false,
            "showline": true,
            "ticks": "outside"
           }
          },
          "scene": {
           "xaxis": {
            "backgroundcolor": "white",
            "gridcolor": "rgb(232,232,232)",
            "gridwidth": 2,
            "linecolor": "rgb(36,36,36)",
            "showbackground": true,
            "showgrid": false,
            "showline": true,
            "ticks": "outside",
            "zeroline": false,
            "zerolinecolor": "rgb(36,36,36)"
           },
           "yaxis": {
            "backgroundcolor": "white",
            "gridcolor": "rgb(232,232,232)",
            "gridwidth": 2,
            "linecolor": "rgb(36,36,36)",
            "showbackground": true,
            "showgrid": false,
            "showline": true,
            "ticks": "outside",
            "zeroline": false,
            "zerolinecolor": "rgb(36,36,36)"
           },
           "zaxis": {
            "backgroundcolor": "white",
            "gridcolor": "rgb(232,232,232)",
            "gridwidth": 2,
            "linecolor": "rgb(36,36,36)",
            "showbackground": true,
            "showgrid": false,
            "showline": true,
            "ticks": "outside",
            "zeroline": false,
            "zerolinecolor": "rgb(36,36,36)"
           }
          },
          "shapedefaults": {
           "fillcolor": "black",
           "line": {
            "width": 0
           },
           "opacity": 0.3
          },
          "ternary": {
           "aaxis": {
            "gridcolor": "rgb(232,232,232)",
            "linecolor": "rgb(36,36,36)",
            "showgrid": false,
            "showline": true,
            "ticks": "outside"
           },
           "baxis": {
            "gridcolor": "rgb(232,232,232)",
            "linecolor": "rgb(36,36,36)",
            "showgrid": false,
            "showline": true,
            "ticks": "outside"
           },
           "bgcolor": "white",
           "caxis": {
            "gridcolor": "rgb(232,232,232)",
            "linecolor": "rgb(36,36,36)",
            "showgrid": false,
            "showline": true,
            "ticks": "outside"
           }
          },
          "title": {
           "x": 0.05
          },
          "xaxis": {
           "automargin": true,
           "gridcolor": "rgb(232,232,232)",
           "linecolor": "rgb(36,36,36)",
           "showgrid": false,
           "showline": true,
           "ticks": "outside",
           "title": {
            "standoff": 15
           },
           "zeroline": false,
           "zerolinecolor": "rgb(36,36,36)"
          },
          "yaxis": {
           "automargin": true,
           "gridcolor": "rgb(232,232,232)",
           "linecolor": "rgb(36,36,36)",
           "showgrid": false,
           "showline": true,
           "ticks": "outside",
           "title": {
            "standoff": 15
           },
           "zeroline": false,
           "zerolinecolor": "rgb(36,36,36)"
          }
         }
        },
        "width": 400,
        "xaxis": {
         "anchor": "y",
         "domain": [
          0,
          1
         ],
         "title": {
          "text": "x"
         }
        },
        "yaxis": {
         "anchor": "x",
         "domain": [
          0,
          1
         ],
         "title": {
          "text": "y"
         }
        }
       }
      }
     },
     "metadata": {},
     "output_type": "display_data"
    }
   ],
   "source": [
    "np.random.seed(13)\n",
    "a = np.random.randint(50, size = 30)\n",
    "b = np.random.randint(50, size = 30)\n",
    "ab = zip(a,b)\n",
    "fig = px.scatter(ab, x=a, y=b, template='simple_white', width=400, height=400)\n",
    "fig.update_layout(paper_bgcolor=\"#f7f8fa\", margin=dict(l=20, r=20, t=20, b=20))"
   ]
  },
  {
   "cell_type": "code",
   "execution_count": 32,
   "metadata": {},
   "outputs": [
    {
     "data": {
      "image/png": "[encoded data removed]",
      "text/plain": [
       "<Figure size 640x480 with 1 Axes>"
      ]
     },
     "metadata": {},
     "output_type": "display_data"
    }
   ],
   "source": [
    "normal_dist = np.random.normal(0, 1, 1000)\n",
    "normal_fig01 = sns.histplot(normal_dist, kde=True)"
   ]
  },
  {
   "cell_type": "markdown",
   "metadata": {},
   "source": [
    "Medidas de Posição"
   ]
  },
  {
   "cell_type": "code",
   "execution_count": 33,
   "metadata": {},
   "outputs": [
    {
     "name": "stdout",
     "output_type": "stream",
     "text": [
      "0.055407265094163397\n",
      "0.04529663322728387\n",
      "ModeResult(mode=-2.826669095366381, count=1)\n"
     ]
    }
   ],
   "source": [
    "print(np.mean(normal_dist))\n",
    "print(np.median(normal_dist))\n",
    "print(stats.mode(normal_dist))"
   ]
  },
  {
   "cell_type": "code",
   "execution_count": 34,
   "metadata": {},
   "outputs": [
    {
     "name": "stdout",
     "output_type": "stream",
     "text": [
      "0.06\n",
      "0.05\n"
     ]
    }
   ],
   "source": [
    "print(round(np.mean(normal_dist), 2))\n",
    "print(round(np.median(normal_dist), 2))"
   ]
  },
  {
   "cell_type": "code",
   "execution_count": 35,
   "metadata": {},
   "outputs": [
    {
     "data": {
      "application/vnd.plotly.v1+json": {
       "config": {
        "plotlyServerURL": "https://plot.ly"
       },
       "data": [
        {
         "alignmentgroup": "True",
         "bingroup": "x",
         "hovertemplate": "variable=0<br>value=%{x}<br>count=%{y}<extra></extra>",
         "legendgroup": "0",
         "marker": {
          "color": "lightseagreen",
          "pattern": {
           "shape": ""
          }
         },
         "name": "0",
         "offsetgroup": "0",
         "orientation": "v",
         "showlegend": true,
         "type": "histogram",
         "x": [
          -2.5083219708082978,
          -0.08723680822656855,
          0.004458517858068498,
          0.36133295378424507,
          0.669259573331442,
          0.4968483932002313,
          0.7600238687718127,
          -1.8125229742918283,
          0.10620447551657912,
          -1.0880239917931074,
          -1.2928991061278927,
          -0.7964150998074064,
          1.5921055149470402,
          2.236219633343022,
          0.4688587766676599,
          0.04810165057831923,
          -0.90779482310915,
          -0.2897943243118286,
          -2.826669095366381,
          0.22059418211056236,
          0.8147218149165925,
          -0.5446431293608076,
          0.6298983081335015,
          -0.8438182423607002,
          0.13959623735793353,
          -0.6457289478283474,
          -0.7198384886856589,
          1.5999622767843809,
          -0.06640828807975001,
          -0.28393179502510185,
          -2.1185198394357543,
          0.3667224956486401,
          -1.4032172578792776,
          1.0735498243941983,
          0.25159988329723526,
          0.40800300955318647,
          0.29730929868396677,
          -0.17140449194608912,
          -0.23055723148890783,
          0.7769529679371907,
          -0.33156704225896977,
          0.4836859224276183,
          -1.8101357017138242,
          -0.15531951801918728,
          0.39419140116488705,
          0.6591794390954763,
          -0.7969052874961834,
          0.7121623220245105,
          -1.589373220029206,
          -0.5376541189033059,
          -0.24376978961581858,
          1.8708871897975707,
          0.4248172975281785,
          -1.749924657451072,
          -1.2895827296010922,
          0.6954326666613008,
          -0.3576565142210143,
          1.847290688372644,
          -1.8265648766735751,
          -0.5055577226170875,
          -0.7219556476048931,
          -0.11712049549473778,
          0.04524001043027668,
          0.07608990187193115,
          0.046477059090523375,
          0.10601043112947212,
          0.9202768093395371,
          1.375057847122623,
          0.7682632295414831,
          0.3839111290277516,
          -0.7530725789323932,
          1.0990032180159557,
          1.7566922493058674,
          0.518623112097707,
          0.6095499161454874,
          -0.22327332115823736,
          -1.725563328366829,
          0.454950973667642,
          -0.5528504515450662,
          1.6754157920765778,
          -0.9741873898247635,
          -1.1836753556829336,
          1.5980011289926954,
          0.5427432372916826,
          -0.9571439950648697,
          0.6024008531890068,
          -1.7315235289736641,
          -2.3005100050948104,
          0.49883228256618595,
          -0.03615857039895399,
          1.5707731260157902,
          1.9916576615458108,
          1.0377197445746615,
          -1.0457346813598467,
          -0.18517627847602386,
          -1.0176100070950052,
          0.12518631221487883,
          0.3235239247357048,
          1.5270670720586603,
          0.44218656343166496,
          0.060470009074223736,
          0.1244525872093823,
          0.8048913424295489,
          0.7851901958772737,
          1.569916718513505,
          -0.6268163291233905,
          -1.14367103589265,
          -0.6073693122543882,
          1.9923035976397743,
          -0.23446653118989155,
          -0.4118313234084522,
          0.163852780049838,
          0.6381776621579456,
          -0.1953699131713382,
          -0.7150140518857444,
          0.9513147499201672,
          0.9878732384167005,
          -0.876121452481363,
          -1.3216425331489108,
          -1.0935775732092086,
          -0.3439510609300928,
          0.5656369328417621,
          -0.06775224658974664,
          -0.885830976324992,
          0.8671755441086122,
          2.0910644135717207,
          0.6611194513551022,
          0.2668133697817401,
          0.6728581841346318,
          -2.413818633878509,
          0.9659384049489016,
          -0.03943589001826487,
          -2.4314325460626653,
          -0.7253848043205838,
          -1.6129884641032708,
          -0.02000968735581574,
          0.7697227658260865,
          -0.9160394653551461,
          -0.6761001363110632,
          0.25542967504989106,
          0.7479942969204754,
          0.48639558894280255,
          -0.3066980935695002,
          1.3321446457891455,
          0.1958799900910959,
          1.0952597880155248,
          0.812303545506523,
          1.2458958426320117,
          -0.5163323247376254,
          -0.6998583982791746,
          1.423693551369913,
          0.9137726210723403,
          0.5154544857895563,
          1.4914390931551724,
          0.8917718668396354,
          -1.1872949719172408,
          -0.44378731126859233,
          0.2838804214863956,
          -0.6190548235487906,
          -1.1235691894211781,
          -0.30199001501124456,
          -1.0426975895079136,
          2.365873353171707,
          -0.2476101224376056,
          0.7236777285493609,
          0.8290151409404182,
          1.1960367844320408,
          -1.83198478264679,
          -1.075515417877022,
          -2.262847646982964,
          1.7782964086414053,
          -0.18284983354745685,
          1.3090259800717265,
          3.361481097951016,
          -0.7467255773157673,
          0.6456792165988989,
          1.57648658119911,
          0.7855821721393177,
          0.1306293162753836,
          -0.03259824703541312,
          -1.4625528399083143,
          -0.37481833757116584,
          1.9942402759342441,
          0.35844041216636,
          -1.2769371205557445,
          0.02084528500787963,
          -1.8852854526974747,
          -1.3840435860199194,
          -0.31355343676719527,
          0.31207050643348877,
          1.3930984499563763,
          1.324572363406594,
          -0.07623352779483498,
          0.18723088893566295,
          1.116508431256752,
          -1.1036018003928785,
          1.264508236762102,
          -0.9633641814604317,
          0.6808022148214353,
          1.8347617906866303,
          -0.9155306370814005,
          0.0012813062269642346,
          0.43090201158528574,
          1.478933508724006,
          -0.4447747743321612,
          0.5084621443962528,
          -2.1472814302974896,
          0.909342360545892,
          -0.6087818166028209,
          -1.1379493033971069,
          0.0029627718475001,
          0.1760516629482144,
          0.9566704633057842,
          2.152954031170008,
          0.12428565831958217,
          -0.7806656467141689,
          -0.008749764495046589,
          -0.7286147246722785,
          0.033628170109842564,
          0.21483675393332227,
          0.3965286960166257,
          0.9490798162077617,
          0.19999814793664517,
          0.0012335278181196871,
          -0.5655054508324843,
          0.986753519994347,
          2.0775444219742853,
          -0.8062574653757555,
          -1.2814849817405407,
          0.9799307618006926,
          1.2905875252883974,
          -1.7540429634285064,
          -1.011307437184969,
          -0.4946891584828837,
          0.6042437266815661,
          0.38921089657403823,
          0.09905174623555811,
          -0.38196694365352163,
          1.0438288520207333,
          -1.6432986861447298,
          0.9196367894766996,
          1.4651049999783832,
          1.1689175571035382,
          1.509325596095303,
          -1.7884470575906224,
          0.16525597708688455,
          -1.386882671236717,
          -0.6641352074104924,
          1.5046604745136358,
          -1.3301995042211554,
          0.9841503452410746,
          -0.3450255764179303,
          0.01078407664856889,
          0.6182564097266485,
          0.23513060373714653,
          -1.473260307545054,
          -0.08413037888750584,
          1.1303018403861145,
          -0.7376734326047512,
          -0.8404557231216125,
          1.2337870978709322,
          -0.9706422715681057,
          0.04925433097458891,
          0.4341068825100833,
          0.41621453688614146,
          0.1372871990587359,
          1.1273549798114637,
          0.05577173395925371,
          -0.5082485550217969,
          0.4946442761727127,
          0.3976990826090646,
          0.30215372221370396,
          1.393577414627188,
          -0.11236270461224121,
          1.0591017872994464,
          0.7758336137998342,
          -0.4650053465236893,
          -0.030434229614217354,
          0.035006445292195605,
          -0.35746925660952983,
          0.18428214842450513,
          0.24655882478521662,
          0.833325030159745,
          -0.18772399860763336,
          -2.248455737645253,
          1.247621310725337,
          -0.23943480539516449,
          0.36651717243708354,
          0.19046467400144598,
          -1.1477078491696524,
          -1.4489479790282762,
          1.161360229038425,
          -0.020535720776754,
          0.21630299563993766,
          0.8169811903270662,
          1.759845413864588,
          1.9887344733821264,
          0.4196564138871701,
          1.1691530319860512,
          1.8186151723604853,
          0.2556273483471641,
          2.9986814590823103,
          -0.42265107280535275,
          -1.327041085628776,
          -0.14991508248550373,
          0.5969125634662401,
          -0.4495494265516882,
          0.08815722600829427,
          0.006890322341941597,
          -1.4402206665653896,
          0.22526661563156503,
          -1.2532973417879691,
          0.36225123704852646,
          1.379206665663153,
          -0.12304136167598805,
          -1.0982102990202722,
          -0.8353119855217765,
          1.0147087375642003,
          -0.09784790457146154,
          1.5263117442422707,
          -0.16190262940305183,
          -1.5466516938347719,
          -1.0490682105890803,
          0.5058731227696319,
          -1.322898815402295,
          0.8654538585395242,
          1.5550263653033327,
          -0.7980202348766996,
          1.332348308328008,
          0.24498649831456665,
          -0.5384763921914203,
          1.1316659695607456,
          -1.1667043862233457,
          1.1143624960079093,
          0.22762868806362854,
          0.45925850926840217,
          0.9758945526203185,
          0.4971660224974575,
          -1.29102139391181,
          -0.3228985362332539,
          -0.05259397547970374,
          1.5694297353679776,
          1.1893251670640106,
          0.5516158996452459,
          -0.5566988028634815,
          0.3018181192452542,
          1.1474686453338716,
          -0.9226758521675361,
          -1.08968529877296,
          1.534967485983526,
          0.2754243415015045,
          0.07099714881281319,
          -0.4275040588037671,
          -1.4882048275182445,
          -0.04857463749829096,
          1.6133722328322766,
          -0.4168066545386572,
          0.3122376933761119,
          -0.4576931343227598,
          -0.6733314146362582,
          -0.10745955457843737,
          -1.017544997586425,
          -0.5413776188313076,
          -0.6886590515270946,
          -0.02024009892863111,
          -0.7040189060640234,
          0.4783667972969521,
          0.36450355686351965,
          1.2583252220202374,
          -0.5179366668702312,
          -0.3762037174153387,
          -0.7585064737024408,
          0.6606558874442935,
          -0.6299739615921321,
          0.5394091062475742,
          -2.2938727503484744,
          -1.6636445018136858,
          0.8001637432162729,
          -1.4073891598009103,
          1.0437504459976648,
          0.5034397447971668,
          -1.6014271437492102,
          -0.8637864631988411,
          -0.4408902963548876,
          0.38323405941169136,
          -1.8461659783443802,
          0.7297575480026572,
          0.8662735759967044,
          1.6109521950143069,
          0.35734267264164127,
          1.430482930957488,
          -0.2823664384622403,
          -0.15544028102564492,
          -1.4724387398292116,
          0.33166503348672155,
          -0.4970934998432743,
          0.8468061311475883,
          0.13563883595314075,
          -0.14722307475788787,
          1.2144237292523135,
          1.2597136342004895,
          -0.19333506997906022,
          -0.6008908881676722,
          1.5003976309893226,
          -0.39704298112028935,
          -0.9939432899483552,
          1.2942660944963438,
          0.10039397305648215,
          0.8268603693401353,
          -1.4337079227180523,
          1.2954268672514602,
          -0.002623953976680764,
          0.46563522946262026,
          -1.5550477260900404,
          -0.371299059046918,
          1.2120060684441618,
          1.1805630442709418,
          -1.4317716113276437,
          0.03667765979662086,
          0.66724156495659,
          -0.5202017352757915,
          -0.06640056954505993,
          0.5225110778243648,
          -1.2492931641864014,
          -0.6712585954281789,
          0.42299556343546535,
          0.09421120479364507,
          1.323015006100533,
          -0.9225722285244407,
          1.0039478694466593,
          1.05646658977834,
          0.40598361243323766,
          0.9803046424110208,
          -0.5597540299485934,
          1.123330872190761,
          0.9075203668032634,
          -0.24748668849005528,
          -0.5210071860573494,
          0.7241301758534057,
          -2.2143109529471245,
          0.5750126256093795,
          -0.7765442094702545,
          -0.12967798330272925,
          1.665885787239877,
          0.6269641469834023,
          -1.0549751650169452,
          -1.2581706483871709,
          1.4291895814890863,
          0.06274659057774926,
          -0.7535884443626569,
          2.3191337716642,
          0.5031780777207419,
          0.7315944335165298,
          0.8945796471577829,
          1.179537851841287,
          -0.32150675195023537,
          1.4833523203736252,
          -1.2415497039429775,
          -0.25406311467657805,
          -0.2574379151224494,
          -0.8551315633354122,
          1.2785296572856144,
          0.19715322900584278,
          -0.07746816501899484,
          1.426713597468667,
          -0.5551833225081931,
          -0.10840438941532461,
          -1.5561043266812242,
          0.9099476098166683,
          -0.5641013184208125,
          -0.6265086826227522,
          0.17174962368166918,
          -0.3669444577432316,
          -0.1745515978262917,
          1.7464159411458517,
          1.0412794274763115,
          0.5528698075152124,
          0.8190427533826364,
          -0.461383840160448,
          0.46441764161948373,
          -0.36830403683034874,
          0.5505794873113193,
          0.42867899705023865,
          -1.7158753199958283,
          0.13552988845130604,
          0.14622848168741526,
          2.9122466481381704,
          0.6714950816219307,
          0.2451799119602381,
          0.5392214202336136,
          -0.22125074168732514,
          0.8981023336019445,
          -0.9359494391019958,
          0.5551635496344636,
          0.2846215555005603,
          0.1711107666356664,
          -2.386648730679303,
          -0.06838190463759457,
          -0.10413490243495309,
          -0.5648334659193914,
          0.6086637437316633,
          0.7357805798036454,
          1.0356202215559764,
          -1.3178650993068446,
          -0.21218213340711858,
          0.4823450600339646,
          -0.38190545141136156,
          1.0099259982380921,
          1.838017413012513,
          -1.093645352687218,
          -1.5993729428651828,
          -0.4733511906046643,
          -0.42631640115322533,
          -0.791518500842965,
          -0.9668733088302595,
          -0.28383184258159877,
          -2.0700417734654732,
          1.0370996639572323,
          -0.8796871512688981,
          0.7685010546734795,
          -0.6037203386046514,
          -0.4678338088501545,
          1.2431728568461393,
          -0.4979764012795867,
          -0.03789397442910464,
          0.6815712529831155,
          0.6023129880409352,
          -0.354138152205781,
          -0.5279873045255804,
          -0.4260576249523416,
          1.0009625501884418,
          -0.46822596044451303,
          0.6691544150863497,
          0.11239969243615697,
          -1.326608793599708,
          -0.15184641742132188,
          -0.9926924931022798,
          1.0039242706649567,
          1.5237448597602568,
          1.6034078636043707,
          -0.08100979115011937,
          0.5093697447615254,
          -0.8688646111116556,
          -1.0303826449370448,
          1.055952390433588,
          -0.9254665384007318,
          -0.008501460240108191,
          -0.30601094676951485,
          -1.3733943673209565,
          -1.8520094085570724,
          1.5438847114692884,
          -0.8482360757917267,
          1.6319222104167557,
          1.4117432415595685,
          -1.012080072689775,
          -1.2351004821765903,
          -0.06813474585965157,
          -0.3865604936228467,
          0.39209283613398477,
          1.0057650414565822,
          -0.054019230872111954,
          -0.25419588636024787,
          -0.7493883205646688,
          -0.009262178589314801,
          0.1300237545996241,
          0.7773983056636025,
          -0.5883638662131989,
          0.6237543191867314,
          1.197167050880866,
          2.508743909094273,
          0.08917938529676421,
          1.8572586615966535,
          -0.6447040955581782,
          -1.077386318570728,
          0.6492191974422764,
          1.4371416657739655,
          -0.176814782234114,
          -1.6393271005840877,
          -1.0316850428080004,
          0.25116779802903827,
          -0.9870267863658678,
          -0.7758317126960823,
          -0.9609594046882346,
          -0.40629310555257964,
          -0.2132902878483019,
          -0.4892193176817823,
          0.06631691729324607,
          0.7755557593137584,
          -0.5063865768463894,
          2.751669846526976,
          0.5378344938809491,
          1.1100815753239928,
          0.3761524443086127,
          -0.3251996772041274,
          1.5988918129184815,
          -1.808662455463144,
          -0.5253702462751749,
          1.1227338755930927,
          -0.5805197814347304,
          -0.7939900817748918,
          -0.7277460767043665,
          -1.6544314285511215,
          -0.7924583162692166,
          -0.7753985504132604,
          0.2049613462946392,
          -1.2347899636753121,
          0.7421614406359054,
          -0.2239873321775192,
          -1.4106277338912339,
          2.0360100823052636,
          -0.12298856686553267,
          -0.1862206700486207,
          -0.24467146882287408,
          1.9072251561582767,
          0.04535325602429106,
          0.08991585477565757,
          1.3955936740688895,
          -0.3614749787537142,
          0.5464432480768185,
          0.6093584181129882,
          1.1614560052242944,
          0.05095458088386406,
          -2.7971127365093658,
          -0.39716567072003384,
          0.3328809129241905,
          -0.06991350693868238,
          1.2284805640228655,
          -0.9735326496939489,
          0.9172949136362564,
          0.39129284869762965,
          1.089905539554961,
          -0.020078744185927908,
          -0.9857617763671341,
          0.21112204631154172,
          -0.09770169376189086,
          -0.8612084928859307,
          1.5076618558221653,
          -0.7355378811099346,
          -0.445963877566944,
          0.43577548724565807,
          -2.4177444665723526,
          -0.805373772677126,
          1.3177878259062936,
          0.46250098266159567,
          1.1479167671058572,
          2.677036873137459,
          0.06398822122298363,
          -1.2096207824014336,
          1.291188432084631,
          -0.5491904686930076,
          0.16848923258317836,
          -0.0298497246395653,
          2.01099227185424,
          -1.0856330129688803,
          0.5817299562163668,
          -1.249572740742192,
          -1.4938626969918845,
          0.8725748207601286,
          -0.13496583289249076,
          1.1547909943426966,
          1.0102872109270902,
          -0.871685425569695,
          0.9459990196228147,
          -1.7494864881857497,
          -1.0191294145759073,
          -0.5165002286465907,
          -0.07019310283352093,
          -0.7359743472250928,
          -0.03158863151889185,
          -0.48481436674594086,
          2.0457743309083174,
          0.9187970876403164,
          0.3409335619423984,
          0.3909845219012051,
          0.5787547951125995,
          -0.34435863295290364,
          -0.4875162580225757,
          -0.5437338340764775,
          2.021930491025522,
          0.9093248365744394,
          0.12713519546004792,
          0.07495655352014485,
          -1.3831293457539882,
          -1.6187017017034695,
          1.8812091862913234,
          -0.5089195095576649,
          -2.2890467819494353,
          -2.0241149537878336,
          -0.22306155800085567,
          -0.27552543174576144,
          0.5271532549374401,
          -0.11698921431552693,
          0.9212115608881506,
          0.8146618315072333,
          -0.4523611172055129,
          0.8548535866882817,
          0.06350307023158765,
          -0.33723143988893844,
          0.42400811772792374,
          1.778750239807107,
          -0.5549144922878178,
          -0.3676400569396659,
          -0.00539678567860745,
          -0.19759821953519344,
          0.38084326855710243,
          -2.4573834576911437,
          -0.167649723195496,
          2.8373761422510864,
          -1.7349116464808458,
          0.6744776496005201,
          0.3511627955548508,
          -1.1943398232673108,
          1.470446913661251,
          0.6099137906700943,
          -0.8128057792824076,
          -0.25924723419776147,
          -0.6786161718861652,
          0.5012930213832066,
          -0.43506181930043275,
          -0.33381978083075187,
          -0.4284951426975846,
          1.4179818837299838,
          -0.6510074707636184,
          0.5401520007844691,
          -0.24931599223335715,
          -0.507848559686729,
          2.827411544904089,
          -1.9706405830745828,
          -0.14463536759838885,
          1.47427371886154,
          -0.2821103007685885,
          -0.2715789381743829,
          -0.32434996821112244,
          1.9581069964711937,
          0.1491568890980785,
          -0.057121031823846515,
          -0.5989275070778391,
          -1.8469209941746152,
          0.10953123380489097,
          0.9774366952032848,
          -1.0594565883991096,
          -0.6113637982972454,
          -0.014203783152220659,
          0.6779013713158292,
          0.6475477003595598,
          0.2892327305661072,
          1.4710177642758426,
          0.18832847098628197,
          1.1753476351683134,
          -0.449878802846128,
          -0.057794808022122494,
          1.0694628556669064,
          0.7354605303483467,
          -0.21021740954711945,
          0.7292632234736344,
          0.8940258788840783,
          2.258640605187278,
          1.1440438891549551,
          0.9231024655717067,
          0.19368642893602558,
          -1.559940988681309,
          0.6677848825222961,
          0.3460978810072374,
          -1.5454583392156314,
          -0.992988159016529,
          -0.4188568075412993,
          -0.402074273749454,
          0.7256735425379053,
          0.19894319856241421,
          1.4094268303849653,
          -0.7254419852371448,
          0.7305669654687551,
          0.28323298428236743,
          -0.04746679705166168,
          0.14590021705041714,
          1.58050990569632,
          -0.5570307628796073,
          -1.9717599692374586,
          0.9818655230990034,
          -0.3120525288599342,
          0.9774481077568578,
          -0.12966538651014478,
          -0.581935798910853,
          -0.6860526738145911,
          0.6821280140061594,
          -0.45265293448875116,
          -0.3170235310666758,
          1.6921149591928526,
          -1.6389203366198064,
          -0.23593680073386222,
          0.9567706477149557,
          0.004828269773495938,
          1.0419324283091578,
          -0.49197377195461384,
          0.11205075931254023,
          0.5940622994912812,
          -0.45476331097665107,
          -0.14772958399639258,
          0.11642203494131272,
          0.37119678008919055,
          -1.3746170218013536,
          0.033757621244152235,
          -0.6778193437946647,
          -0.05448206316910431,
          0.2640124814981551,
          0.6026277107194745,
          0.7701261724762949,
          -0.4989333125230821,
          1.4751551029486043,
          0.16296617557201953,
          -2.1889536912401946,
          0.43414472461878734,
          -1.6464106928185605,
          0.6087328572849462,
          1.061936376101947,
          0.14736136116008808,
          0.8335248847999933,
          -0.808223524359755,
          0.7034700636338799,
          0.21899894919808832,
          0.9199816716625064,
          -0.18816889620337415,
          -0.6055702774614495,
          -1.31914162182067,
          1.4695107391248279,
          -1.1894896982371075,
          0.701451264165324,
          -0.22250987113704895,
          1.3464519424229138,
          1.100413463538885,
          0.6402535879955792,
          0.8861854336866294,
          -0.7781450958047246,
          -0.1058066308809351,
          0.7972749481333333,
          -1.4144343401029293,
          -0.4110851459526419,
          -0.1907238798934053,
          -0.47519870363676436,
          -1.1686458228596257,
          -0.689350697049207,
          -0.4728005946325065,
          -0.14428327661897747,
          0.24030517989422978,
          -0.8723562761171255,
          -2.3287171930929658,
          -0.27742472105697874,
          2.6222962810015433,
          0.3690072781708218,
          -0.9017158229874064,
          2.1706886282011015,
          0.16586276425158383,
          1.7783171970166538,
          -0.5678954277142082,
          -0.8002768084386822,
          0.07072867116781296,
          0.06728560716857242,
          1.1397421104737624,
          -1.2214184365986114,
          -0.281433640515778,
          -0.5864822419158338,
          -0.5650909206821619,
          -0.8284155991768513,
          1.145240055856796,
          1.1191020846436788,
          0.0888262653891428,
          2.4185076292873844,
          -0.24703771703402286,
          -0.049523016407543086,
          0.6505595764233785,
          0.09835340068302999,
          0.507811041194426,
          0.09315025496864793,
          0.4563413545328584,
          1.8266975328098158,
          2.1830203384643427,
          -2.1705093169836975,
          -0.17073812443227465,
          0.9923493636344013,
          -0.8850634798467706,
          1.0763599044058394,
          -0.9276947353634242,
          1.2992294412635323,
          -0.506015745506444,
          -1.0937086538250684,
          -0.9587305257536646,
          -0.21052903434383702,
          0.759986543724139,
          0.47437892345464155,
          0.36126614762989173,
          -0.9737318767505145,
          -0.7685192604920694,
          0.7063689989333308,
          -0.3347382106617153,
          -0.5150683404809093,
          -1.1839508335806443,
          -1.005776503963305,
          -1.0357131595683136,
          0.3894648083543424,
          1.0921372800507807,
          -0.07342523054895994,
          0.5870176580481749,
          -1.242983208952141,
          0.49143688052525536,
          -0.02982464208009026,
          0.8012594680132006,
          1.517687699517071,
          0.3553248282395175,
          0.6272114704882554,
          -1.7411578210758465,
          -0.6568938990270972,
          -1.6931773354854724,
          -0.0964394774871899,
          -0.4139427297682131,
          1.3378866028038423,
          0.15645106326998073,
          -0.3873910924650483,
          -0.2829767717491929,
          -0.5746105322572909,
          -0.438984366161106,
          0.3913308253914386,
          1.1357107425807482,
          -0.0013516003798102825,
          -1.209228928626658,
          2.0958247413563886,
          -0.9014417331844848,
          -1.5418147420429849,
          1.4170507861099702,
          0.22180047801028951,
          0.05955630548714745,
          0.9214147261778228,
          0.1295920713306119,
          -0.6120047414231673,
          0.42549661215762635,
          0.02978944868113148,
          1.1074530941679654,
          0.44151064886503993,
          0.7688455819670055,
          -0.09923115712389048,
          -1.0580341999624605,
          1.5612512353192893,
          -2.593347587019769,
          0.5385155277287449,
          -0.14195463080799178,
          -0.38184922333645493,
          -1.7220901284052803,
          0.46799038302142787,
          -1.2025098826842822,
          -0.13760052450603544,
          -0.6319534339283387,
          -0.09299197717318165,
          -0.19330256132347623,
          1.2920255485387657,
          0.14607211508200355,
          1.763699786097042,
          -0.25515152291525256,
          1.6008511837364754,
          0.1601021460186235,
          0.5918597421129866,
          1.1986713161548004,
          0.34593289096666396,
          -0.13755490214357668,
          -0.3497305665820879,
          0.16605354957351443,
          -1.869862197245615,
          -0.6271150726121717,
          0.509341024228724,
          1.342974101557868,
          -0.38643515060591516,
          -1.1234987053623016,
          -0.177140385385127,
          0.5160241509645239,
          -0.25629716426411814,
          0.7349643388120826,
          -0.5935471314569353,
          -0.7092151563230795,
          0.36332566210137274,
          -0.5219718547653784,
          0.5595752232579148,
          0.37894161513225627,
          -1.6678333338791738,
          0.07513223207383307,
          0.18277343074428345,
          -0.6584967393820934,
          -1.0767982338474746,
          -0.3832554214124544,
          -1.0444839695755481,
          0.1672440447654971,
          0.6781753836262695,
          0.3684915250910455,
          0.002435526700526521,
          -0.7374601513545825,
          -0.8389013938877052,
          -2.27260637628184,
          -0.9118036689450782,
          0.9904551835225862,
          1.2416635446701463,
          2.7265340246001757,
          1.2428126978415024,
          0.025719082080831252
         ],
         "xaxis": "x",
         "yaxis": "y"
        }
       ],
       "layout": {
        "barmode": "relative",
        "height": 400,
        "legend": {
         "title": {
          "text": "variable"
         },
         "tracegroupgap": 0
        },
        "margin": {
         "b": 20,
         "l": 20,
         "r": 20,
         "t": 20
        },
        "paper_bgcolor": "#f7f8fa",
        "shapes": [
         {
          "line": {
           "color": "red",
           "width": 3
          },
          "type": "line",
          "x0": 0.055407265094163397,
          "x1": 0.055407265094163397,
          "xref": "x",
          "y0": 0,
          "y1": 1,
          "yref": "y domain"
         },
         {
          "line": {
           "color": "red",
           "dash": "dash",
           "width": 3
          },
          "type": "line",
          "x0": 0.04529663322728387,
          "x1": 0.04529663322728387,
          "xref": "x",
          "y0": 0,
          "y1": 1,
          "yref": "y domain"
         }
        ],
        "showlegend": false,
        "template": {
         "data": {
          "bar": [
           {
            "error_x": {
             "color": "rgb(36,36,36)"
            },
            "error_y": {
             "color": "rgb(36,36,36)"
            },
            "marker": {
             "line": {
              "color": "white",
              "width": 0.5
             },
             "pattern": {
              "fillmode": "overlay",
              "size": 10,
              "solidity": 0.2
             }
            },
            "type": "bar"
           }
          ],
          "barpolar": [
           {
            "marker": {
             "line": {
              "color": "white",
              "width": 0.5
             },
             "pattern": {
              "fillmode": "overlay",
              "size": 10,
              "solidity": 0.2
             }
            },
            "type": "barpolar"
           }
          ],
          "carpet": [
           {
            "aaxis": {
             "endlinecolor": "rgb(36,36,36)",
             "gridcolor": "white",
             "linecolor": "white",
             "minorgridcolor": "white",
             "startlinecolor": "rgb(36,36,36)"
            },
            "baxis": {
             "endlinecolor": "rgb(36,36,36)",
             "gridcolor": "white",
             "linecolor": "white",
             "minorgridcolor": "white",
             "startlinecolor": "rgb(36,36,36)"
            },
            "type": "carpet"
           }
          ],
          "choropleth": [
           {
            "colorbar": {
             "outlinewidth": 1,
             "tickcolor": "rgb(36,36,36)",
             "ticks": "outside"
            },
            "type": "choropleth"
           }
          ],
          "contour": [
           {
            "colorbar": {
             "outlinewidth": 1,
             "tickcolor": "rgb(36,36,36)",
             "ticks": "outside"
            },
            "colorscale": [
             [
              0,
              "#440154"
             ],
             [
              0.1111111111111111,
              "#482878"
             ],
             [
              0.2222222222222222,
              "#3e4989"
             ],
             [
              0.3333333333333333,
              "#31688e"
             ],
             [
              0.4444444444444444,
              "#26828e"
             ],
             [
              0.5555555555555556,
              "#1f9e89"
             ],
             [
              0.6666666666666666,
              "#35b779"
             ],
             [
              0.7777777777777778,
              "#6ece58"
             ],
             [
              0.8888888888888888,
              "#b5de2b"
             ],
             [
              1,
              "#fde725"
             ]
            ],
            "type": "contour"
           }
          ],
          "contourcarpet": [
           {
            "colorbar": {
             "outlinewidth": 1,
             "tickcolor": "rgb(36,36,36)",
             "ticks": "outside"
            },
            "type": "contourcarpet"
           }
          ],
          "heatmap": [
           {
            "colorbar": {
             "outlinewidth": 1,
             "tickcolor": "rgb(36,36,36)",
             "ticks": "outside"
            },
            "colorscale": [
             [
              0,
              "#440154"
             ],
             [
              0.1111111111111111,
              "#482878"
             ],
             [
              0.2222222222222222,
              "#3e4989"
             ],
             [
              0.3333333333333333,
              "#31688e"
             ],
             [
              0.4444444444444444,
              "#26828e"
             ],
             [
              0.5555555555555556,
              "#1f9e89"
             ],
             [
              0.6666666666666666,
              "#35b779"
             ],
             [
              0.7777777777777778,
              "#6ece58"
             ],
             [
              0.8888888888888888,
              "#b5de2b"
             ],
             [
              1,
              "#fde725"
             ]
            ],
            "type": "heatmap"
           }
          ],
          "heatmapgl": [
           {
            "colorbar": {
             "outlinewidth": 1,
             "tickcolor": "rgb(36,36,36)",
             "ticks": "outside"
            },
            "colorscale": [
             [
              0,
              "#440154"
             ],
             [
              0.1111111111111111,
              "#482878"
             ],
             [
              0.2222222222222222,
              "#3e4989"
             ],
             [
              0.3333333333333333,
              "#31688e"
             ],
             [
              0.4444444444444444,
              "#26828e"
             ],
             [
              0.5555555555555556,
              "#1f9e89"
             ],
             [
              0.6666666666666666,
              "#35b779"
             ],
             [
              0.7777777777777778,
              "#6ece58"
             ],
             [
              0.8888888888888888,
              "#b5de2b"
             ],
             [
              1,
              "#fde725"
             ]
            ],
            "type": "heatmapgl"
           }
          ],
          "histogram": [
           {
            "marker": {
             "line": {
              "color": "white",
              "width": 0.6
             }
            },
            "type": "histogram"
           }
          ],
          "histogram2d": [
           {
            "colorbar": {
             "outlinewidth": 1,
             "tickcolor": "rgb(36,36,36)",
             "ticks": "outside"
            },
            "colorscale": [
             [
              0,
              "#440154"
             ],
             [
              0.1111111111111111,
              "#482878"
             ],
             [
              0.2222222222222222,
              "#3e4989"
             ],
             [
              0.3333333333333333,
              "#31688e"
             ],
             [
              0.4444444444444444,
              "#26828e"
             ],
             [
              0.5555555555555556,
              "#1f9e89"
             ],
             [
              0.6666666666666666,
              "#35b779"
             ],
             [
              0.7777777777777778,
              "#6ece58"
             ],
             [
              0.8888888888888888,
              "#b5de2b"
             ],
             [
              1,
              "#fde725"
             ]
            ],
            "type": "histogram2d"
           }
          ],
          "histogram2dcontour": [
           {
            "colorbar": {
             "outlinewidth": 1,
             "tickcolor": "rgb(36,36,36)",
             "ticks": "outside"
            },
            "colorscale": [
             [
              0,
              "#440154"
             ],
             [
              0.1111111111111111,
              "#482878"
             ],
             [
              0.2222222222222222,
              "#3e4989"
             ],
             [
              0.3333333333333333,
              "#31688e"
             ],
             [
              0.4444444444444444,
              "#26828e"
             ],
             [
              0.5555555555555556,
              "#1f9e89"
             ],
             [
              0.6666666666666666,
              "#35b779"
             ],
             [
              0.7777777777777778,
              "#6ece58"
             ],
             [
              0.8888888888888888,
              "#b5de2b"
             ],
             [
              1,
              "#fde725"
             ]
            ],
            "type": "histogram2dcontour"
           }
          ],
          "mesh3d": [
           {
            "colorbar": {
             "outlinewidth": 1,
             "tickcolor": "rgb(36,36,36)",
             "ticks": "outside"
            },
            "type": "mesh3d"
           }
          ],
          "parcoords": [
           {
            "line": {
             "colorbar": {
              "outlinewidth": 1,
              "tickcolor": "rgb(36,36,36)",
              "ticks": "outside"
             }
            },
            "type": "parcoords"
           }
          ],
          "pie": [
           {
            "automargin": true,
            "type": "pie"
           }
          ],
          "scatter": [
           {
            "fillpattern": {
             "fillmode": "overlay",
             "size": 10,
             "solidity": 0.2
            },
            "type": "scatter"
           }
          ],
          "scatter3d": [
           {
            "line": {
             "colorbar": {
              "outlinewidth": 1,
              "tickcolor": "rgb(36,36,36)",
              "ticks": "outside"
             }
            },
            "marker": {
             "colorbar": {
              "outlinewidth": 1,
              "tickcolor": "rgb(36,36,36)",
              "ticks": "outside"
             }
            },
            "type": "scatter3d"
           }
          ],
          "scattercarpet": [
           {
            "marker": {
             "colorbar": {
              "outlinewidth": 1,
              "tickcolor": "rgb(36,36,36)",
              "ticks": "outside"
             }
            },
            "type": "scattercarpet"
           }
          ],
          "scattergeo": [
           {
            "marker": {
             "colorbar": {
              "outlinewidth": 1,
              "tickcolor": "rgb(36,36,36)",
              "ticks": "outside"
             }
            },
            "type": "scattergeo"
           }
          ],
          "scattergl": [
           {
            "marker": {
             "colorbar": {
              "outlinewidth": 1,
              "tickcolor": "rgb(36,36,36)",
              "ticks": "outside"
             }
            },
            "type": "scattergl"
           }
          ],
          "scattermapbox": [
           {
            "marker": {
             "colorbar": {
              "outlinewidth": 1,
              "tickcolor": "rgb(36,36,36)",
              "ticks": "outside"
             }
            },
            "type": "scattermapbox"
           }
          ],
          "scatterpolar": [
           {
            "marker": {
             "colorbar": {
              "outlinewidth": 1,
              "tickcolor": "rgb(36,36,36)",
              "ticks": "outside"
             }
            },
            "type": "scatterpolar"
           }
          ],
          "scatterpolargl": [
           {
            "marker": {
             "colorbar": {
              "outlinewidth": 1,
              "tickcolor": "rgb(36,36,36)",
              "ticks": "outside"
             }
            },
            "type": "scatterpolargl"
           }
          ],
          "scatterternary": [
           {
            "marker": {
             "colorbar": {
              "outlinewidth": 1,
              "tickcolor": "rgb(36,36,36)",
              "ticks": "outside"
             }
            },
            "type": "scatterternary"
           }
          ],
          "surface": [
           {
            "colorbar": {
             "outlinewidth": 1,
             "tickcolor": "rgb(36,36,36)",
             "ticks": "outside"
            },
            "colorscale": [
             [
              0,
              "#440154"
             ],
             [
              0.1111111111111111,
              "#482878"
             ],
             [
              0.2222222222222222,
              "#3e4989"
             ],
             [
              0.3333333333333333,
              "#31688e"
             ],
             [
              0.4444444444444444,
              "#26828e"
             ],
             [
              0.5555555555555556,
              "#1f9e89"
             ],
             [
              0.6666666666666666,
              "#35b779"
             ],
             [
              0.7777777777777778,
              "#6ece58"
             ],
             [
              0.8888888888888888,
              "#b5de2b"
             ],
             [
              1,
              "#fde725"
             ]
            ],
            "type": "surface"
           }
          ],
          "table": [
           {
            "cells": {
             "fill": {
              "color": "rgb(237,237,237)"
             },
             "line": {
              "color": "white"
             }
            },
            "header": {
             "fill": {
              "color": "rgb(217,217,217)"
             },
             "line": {
              "color": "white"
             }
            },
            "type": "table"
           }
          ]
         },
         "layout": {
          "annotationdefaults": {
           "arrowhead": 0,
           "arrowwidth": 1
          },
          "autotypenumbers": "strict",
          "coloraxis": {
           "colorbar": {
            "outlinewidth": 1,
            "tickcolor": "rgb(36,36,36)",
            "ticks": "outside"
           }
          },
          "colorscale": {
           "diverging": [
            [
             0,
             "rgb(103,0,31)"
            ],
            [
             0.1,
             "rgb(178,24,43)"
            ],
            [
             0.2,
             "rgb(214,96,77)"
            ],
            [
             0.3,
             "rgb(244,165,130)"
            ],
            [
             0.4,
             "rgb(253,219,199)"
            ],
            [
             0.5,
             "rgb(247,247,247)"
            ],
            [
             0.6,
             "rgb(209,229,240)"
            ],
            [
             0.7,
             "rgb(146,197,222)"
            ],
            [
             0.8,
             "rgb(67,147,195)"
            ],
            [
             0.9,
             "rgb(33,102,172)"
            ],
            [
             1,
             "rgb(5,48,97)"
            ]
           ],
           "sequential": [
            [
             0,
             "#440154"
            ],
            [
             0.1111111111111111,
             "#482878"
            ],
            [
             0.2222222222222222,
             "#3e4989"
            ],
            [
             0.3333333333333333,
             "#31688e"
            ],
            [
             0.4444444444444444,
             "#26828e"
            ],
            [
             0.5555555555555556,
             "#1f9e89"
            ],
            [
             0.6666666666666666,
             "#35b779"
            ],
            [
             0.7777777777777778,
             "#6ece58"
            ],
            [
             0.8888888888888888,
             "#b5de2b"
            ],
            [
             1,
             "#fde725"
            ]
           ],
           "sequentialminus": [
            [
             0,
             "#440154"
            ],
            [
             0.1111111111111111,
             "#482878"
            ],
            [
             0.2222222222222222,
             "#3e4989"
            ],
            [
             0.3333333333333333,
             "#31688e"
            ],
            [
             0.4444444444444444,
             "#26828e"
            ],
            [
             0.5555555555555556,
             "#1f9e89"
            ],
            [
             0.6666666666666666,
             "#35b779"
            ],
            [
             0.7777777777777778,
             "#6ece58"
            ],
            [
             0.8888888888888888,
             "#b5de2b"
            ],
            [
             1,
             "#fde725"
            ]
           ]
          },
          "colorway": [
           "#1F77B4",
           "#FF7F0E",
           "#2CA02C",
           "#D62728",
           "#9467BD",
           "#8C564B",
           "#E377C2",
           "#7F7F7F",
           "#BCBD22",
           "#17BECF"
          ],
          "font": {
           "color": "rgb(36,36,36)"
          },
          "geo": {
           "bgcolor": "white",
           "lakecolor": "white",
           "landcolor": "white",
           "showlakes": true,
           "showland": true,
           "subunitcolor": "white"
          },
          "hoverlabel": {
           "align": "left"
          },
          "hovermode": "closest",
          "mapbox": {
           "style": "light"
          },
          "paper_bgcolor": "white",
          "plot_bgcolor": "white",
          "polar": {
           "angularaxis": {
            "gridcolor": "rgb(232,232,232)",
            "linecolor": "rgb(36,36,36)",
            "showgrid": false,
            "showline": true,
            "ticks": "outside"
           },
           "bgcolor": "white",
           "radialaxis": {
            "gridcolor": "rgb(232,232,232)",
            "linecolor": "rgb(36,36,36)",
            "showgrid": false,
            "showline": true,
            "ticks": "outside"
           }
          },
          "scene": {
           "xaxis": {
            "backgroundcolor": "white",
            "gridcolor": "rgb(232,232,232)",
            "gridwidth": 2,
            "linecolor": "rgb(36,36,36)",
            "showbackground": true,
            "showgrid": false,
            "showline": true,
            "ticks": "outside",
            "zeroline": false,
            "zerolinecolor": "rgb(36,36,36)"
           },
           "yaxis": {
            "backgroundcolor": "white",
            "gridcolor": "rgb(232,232,232)",
            "gridwidth": 2,
            "linecolor": "rgb(36,36,36)",
            "showbackground": true,
            "showgrid": false,
            "showline": true,
            "ticks": "outside",
            "zeroline": false,
            "zerolinecolor": "rgb(36,36,36)"
           },
           "zaxis": {
            "backgroundcolor": "white",
            "gridcolor": "rgb(232,232,232)",
            "gridwidth": 2,
            "linecolor": "rgb(36,36,36)",
            "showbackground": true,
            "showgrid": false,
            "showline": true,
            "ticks": "outside",
            "zeroline": false,
            "zerolinecolor": "rgb(36,36,36)"
           }
          },
          "shapedefaults": {
           "fillcolor": "black",
           "line": {
            "width": 0
           },
           "opacity": 0.3
          },
          "ternary": {
           "aaxis": {
            "gridcolor": "rgb(232,232,232)",
            "linecolor": "rgb(36,36,36)",
            "showgrid": false,
            "showline": true,
            "ticks": "outside"
           },
           "baxis": {
            "gridcolor": "rgb(232,232,232)",
            "linecolor": "rgb(36,36,36)",
            "showgrid": false,
            "showline": true,
            "ticks": "outside"
           },
           "bgcolor": "white",
           "caxis": {
            "gridcolor": "rgb(232,232,232)",
            "linecolor": "rgb(36,36,36)",
            "showgrid": false,
            "showline": true,
            "ticks": "outside"
           }
          },
          "title": {
           "x": 0.05
          },
          "xaxis": {
           "automargin": true,
           "gridcolor": "rgb(232,232,232)",
           "linecolor": "rgb(36,36,36)",
           "showgrid": false,
           "showline": true,
           "ticks": "outside",
           "title": {
            "standoff": 15
           },
           "zeroline": false,
           "zerolinecolor": "rgb(36,36,36)"
          },
          "yaxis": {
           "automargin": true,
           "gridcolor": "rgb(232,232,232)",
           "linecolor": "rgb(36,36,36)",
           "showgrid": false,
           "showline": true,
           "ticks": "outside",
           "title": {
            "standoff": 15
           },
           "zeroline": false,
           "zerolinecolor": "rgb(36,36,36)"
          }
         }
        },
        "width": 400,
        "xaxis": {
         "anchor": "y",
         "domain": [
          0,
          1
         ],
         "title": {
          "text": "value"
         }
        },
        "yaxis": {
         "anchor": "x",
         "domain": [
          0,
          1
         ],
         "title": {
          "text": "count"
         }
        }
       }
      }
     },
     "metadata": {},
     "output_type": "display_data"
    }
   ],
   "source": [
    "fig01 = px.histogram(normal_dist, color_discrete_sequence=['lightseagreen'])\n",
    "fig01.add_vline(x=np.mean(normal_dist), line_width=3,  line_color=\"red\")\n",
    "fig01.add_vline(x=np.median(normal_dist), line_width=3, line_dash=\"dash\", line_color=\"red\")\n",
    "fig01.update_layout(width=400, height=400, template = 'simple_white',\n",
    "                    paper_bgcolor=\"#f7f8fa\", margin=dict(l=20, r=20, t=20, b=20),\n",
    "                    showlegend=False)"
   ]
  },
  {
   "cell_type": "markdown",
   "metadata": {},
   "source": [
    "Testes de Normalidade"
   ]
  },
  {
   "cell_type": "code",
   "execution_count": 50,
   "metadata": {},
   "outputs": [
    {
     "name": "stdout",
     "output_type": "stream",
     "text": [
      "NormaltestResult(statistic=0.02321352432077541, pvalue=0.9884603364534212)\n"
     ]
    }
   ],
   "source": [
    "#pvalue > 0.05 são normais\n",
    "teste_normalidade = stats.normaltest(normal_dist)\n",
    "print(teste_normalidade)"
   ]
  },
  {
   "cell_type": "code",
   "execution_count": 51,
   "metadata": {},
   "outputs": [
    {
     "name": "stdout",
     "output_type": "stream",
     "text": [
      "NormaltestResult(statistic=8.291082582994285, pvalue=0.015834862354771932)\n"
     ]
    }
   ],
   "source": [
    "normal_dist2 = normal_dist.copy()\n",
    "normal_dist2 = normal_dist2.tolist()\n",
    "normal_dist2.extend(normal_dist2)\n",
    "normal_dist2.extend(normal_dist2)\n",
    "normal_dist2.extend(normal_dist2)\n",
    "normal_dist2.extend(normal_dist2)\n",
    "normal_dist2.extend(normal_dist2)\n",
    "normal_dist2.extend(normal_dist2)\n",
    "normal_dist2.extend(normal_dist2)\n",
    "teste_normalidade2 = stats.normaltest(normal_dist2)\n",
    "print(teste_normalidade2)"
   ]
  },
  {
   "cell_type": "code",
   "execution_count": 64,
   "metadata": {},
   "outputs": [
    {
     "data": {
      "image/png": "[encoded data removed]",
      "text/plain": [
       "<Figure size 640x480 with 1 Axes>"
      ]
     },
     "metadata": {},
     "output_type": "display_data"
    }
   ],
   "source": [
    "stats.probplot(normal_dist, dist=\"norm\", plot=plt)\n",
    "plt.show()"
   ]
  },
  {
   "cell_type": "code",
   "execution_count": 65,
   "metadata": {},
   "outputs": [
    {
     "data": {
      "application/vnd.plotly.v1+json": {
       "config": {
        "plotlyServerURL": "https://plot.ly"
       },
       "data": [
        {
         "boxmean": "sd",
         "boxpoints": "all",
         "marker": {
          "color": "blue"
         },
         "name": "<b>Normal distribution",
         "type": "box",
         "y": [
          -2.5083219708082978,
          -0.08723680822656855,
          0.004458517858068498,
          0.36133295378424507,
          0.669259573331442,
          0.4968483932002313,
          0.7600238687718127,
          -1.8125229742918283,
          0.10620447551657912,
          -1.0880239917931074,
          -1.2928991061278927,
          -0.7964150998074064,
          1.5921055149470402,
          2.236219633343022,
          0.4688587766676599,
          0.04810165057831923,
          -0.90779482310915,
          -0.2897943243118286,
          -2.826669095366381,
          0.22059418211056236,
          0.8147218149165925,
          -0.5446431293608076,
          0.6298983081335015,
          -0.8438182423607002,
          0.13959623735793353,
          -0.6457289478283474,
          -0.7198384886856589,
          1.5999622767843809,
          -0.06640828807975001,
          -0.28393179502510185,
          -2.1185198394357543,
          0.3667224956486401,
          -1.4032172578792776,
          1.0735498243941983,
          0.25159988329723526,
          0.40800300955318647,
          0.29730929868396677,
          -0.17140449194608912,
          -0.23055723148890783,
          0.7769529679371907,
          -0.33156704225896977,
          0.4836859224276183,
          -1.8101357017138242,
          -0.15531951801918728,
          0.39419140116488705,
          0.6591794390954763,
          -0.7969052874961834,
          0.7121623220245105,
          -1.589373220029206,
          -0.5376541189033059,
          -0.24376978961581858,
          1.8708871897975707,
          0.4248172975281785,
          -1.749924657451072,
          -1.2895827296010922,
          0.6954326666613008,
          -0.3576565142210143,
          1.847290688372644,
          -1.8265648766735751,
          -0.5055577226170875,
          -0.7219556476048931,
          -0.11712049549473778,
          0.04524001043027668,
          0.07608990187193115,
          0.046477059090523375,
          0.10601043112947212,
          0.9202768093395371,
          1.375057847122623,
          0.7682632295414831,
          0.3839111290277516,
          -0.7530725789323932,
          1.0990032180159557,
          1.7566922493058674,
          0.518623112097707,
          0.6095499161454874,
          -0.22327332115823736,
          -1.725563328366829,
          0.454950973667642,
          -0.5528504515450662,
          1.6754157920765778,
          -0.9741873898247635,
          -1.1836753556829336,
          1.5980011289926954,
          0.5427432372916826,
          -0.9571439950648697,
          0.6024008531890068,
          -1.7315235289736641,
          -2.3005100050948104,
          0.49883228256618595,
          -0.03615857039895399,
          1.5707731260157902,
          1.9916576615458108,
          1.0377197445746615,
          -1.0457346813598467,
          -0.18517627847602386,
          -1.0176100070950052,
          0.12518631221487883,
          0.3235239247357048,
          1.5270670720586603,
          0.44218656343166496,
          0.060470009074223736,
          0.1244525872093823,
          0.8048913424295489,
          0.7851901958772737,
          1.569916718513505,
          -0.6268163291233905,
          -1.14367103589265,
          -0.6073693122543882,
          1.9923035976397743,
          -0.23446653118989155,
          -0.4118313234084522,
          0.163852780049838,
          0.6381776621579456,
          -0.1953699131713382,
          -0.7150140518857444,
          0.9513147499201672,
          0.9878732384167005,
          -0.876121452481363,
          -1.3216425331489108,
          -1.0935775732092086,
          -0.3439510609300928,
          0.5656369328417621,
          -0.06775224658974664,
          -0.885830976324992,
          0.8671755441086122,
          2.0910644135717207,
          0.6611194513551022,
          0.2668133697817401,
          0.6728581841346318,
          -2.413818633878509,
          0.9659384049489016,
          -0.03943589001826487,
          -2.4314325460626653,
          -0.7253848043205838,
          -1.6129884641032708,
          -0.02000968735581574,
          0.7697227658260865,
          -0.9160394653551461,
          -0.6761001363110632,
          0.25542967504989106,
          0.7479942969204754,
          0.48639558894280255,
          -0.3066980935695002,
          1.3321446457891455,
          0.1958799900910959,
          1.0952597880155248,
          0.812303545506523,
          1.2458958426320117,
          -0.5163323247376254,
          -0.6998583982791746,
          1.423693551369913,
          0.9137726210723403,
          0.5154544857895563,
          1.4914390931551724,
          0.8917718668396354,
          -1.1872949719172408,
          -0.44378731126859233,
          0.2838804214863956,
          -0.6190548235487906,
          -1.1235691894211781,
          -0.30199001501124456,
          -1.0426975895079136,
          2.365873353171707,
          -0.2476101224376056,
          0.7236777285493609,
          0.8290151409404182,
          1.1960367844320408,
          -1.83198478264679,
          -1.075515417877022,
          -2.262847646982964,
          1.7782964086414053,
          -0.18284983354745685,
          1.3090259800717265,
          3.361481097951016,
          -0.7467255773157673,
          0.6456792165988989,
          1.57648658119911,
          0.7855821721393177,
          0.1306293162753836,
          -0.03259824703541312,
          -1.4625528399083143,
          -0.37481833757116584,
          1.9942402759342441,
          0.35844041216636,
          -1.2769371205557445,
          0.02084528500787963,
          -1.8852854526974747,
          -1.3840435860199194,
          -0.31355343676719527,
          0.31207050643348877,
          1.3930984499563763,
          1.324572363406594,
          -0.07623352779483498,
          0.18723088893566295,
          1.116508431256752,
          -1.1036018003928785,
          1.264508236762102,
          -0.9633641814604317,
          0.6808022148214353,
          1.8347617906866303,
          -0.9155306370814005,
          0.0012813062269642346,
          0.43090201158528574,
          1.478933508724006,
          -0.4447747743321612,
          0.5084621443962528,
          -2.1472814302974896,
          0.909342360545892,
          -0.6087818166028209,
          -1.1379493033971069,
          0.0029627718475001,
          0.1760516629482144,
          0.9566704633057842,
          2.152954031170008,
          0.12428565831958217,
          -0.7806656467141689,
          -0.008749764495046589,
          -0.7286147246722785,
          0.033628170109842564,
          0.21483675393332227,
          0.3965286960166257,
          0.9490798162077617,
          0.19999814793664517,
          0.0012335278181196871,
          -0.5655054508324843,
          0.986753519994347,
          2.0775444219742853,
          -0.8062574653757555,
          -1.2814849817405407,
          0.9799307618006926,
          1.2905875252883974,
          -1.7540429634285064,
          -1.011307437184969,
          -0.4946891584828837,
          0.6042437266815661,
          0.38921089657403823,
          0.09905174623555811,
          -0.38196694365352163,
          1.0438288520207333,
          -1.6432986861447298,
          0.9196367894766996,
          1.4651049999783832,
          1.1689175571035382,
          1.509325596095303,
          -1.7884470575906224,
          0.16525597708688455,
          -1.386882671236717,
          -0.6641352074104924,
          1.5046604745136358,
          -1.3301995042211554,
          0.9841503452410746,
          -0.3450255764179303,
          0.01078407664856889,
          0.6182564097266485,
          0.23513060373714653,
          -1.473260307545054,
          -0.08413037888750584,
          1.1303018403861145,
          -0.7376734326047512,
          -0.8404557231216125,
          1.2337870978709322,
          -0.9706422715681057,
          0.04925433097458891,
          0.4341068825100833,
          0.41621453688614146,
          0.1372871990587359,
          1.1273549798114637,
          0.05577173395925371,
          -0.5082485550217969,
          0.4946442761727127,
          0.3976990826090646,
          0.30215372221370396,
          1.393577414627188,
          -0.11236270461224121,
          1.0591017872994464,
          0.7758336137998342,
          -0.4650053465236893,
          -0.030434229614217354,
          0.035006445292195605,
          -0.35746925660952983,
          0.18428214842450513,
          0.24655882478521662,
          0.833325030159745,
          -0.18772399860763336,
          -2.248455737645253,
          1.247621310725337,
          -0.23943480539516449,
          0.36651717243708354,
          0.19046467400144598,
          -1.1477078491696524,
          -1.4489479790282762,
          1.161360229038425,
          -0.020535720776754,
          0.21630299563993766,
          0.8169811903270662,
          1.759845413864588,
          1.9887344733821264,
          0.4196564138871701,
          1.1691530319860512,
          1.8186151723604853,
          0.2556273483471641,
          2.9986814590823103,
          -0.42265107280535275,
          -1.327041085628776,
          -0.14991508248550373,
          0.5969125634662401,
          -0.4495494265516882,
          0.08815722600829427,
          0.006890322341941597,
          -1.4402206665653896,
          0.22526661563156503,
          -1.2532973417879691,
          0.36225123704852646,
          1.379206665663153,
          -0.12304136167598805,
          -1.0982102990202722,
          -0.8353119855217765,
          1.0147087375642003,
          -0.09784790457146154,
          1.5263117442422707,
          -0.16190262940305183,
          -1.5466516938347719,
          -1.0490682105890803,
          0.5058731227696319,
          -1.322898815402295,
          0.8654538585395242,
          1.5550263653033327,
          -0.7980202348766996,
          1.332348308328008,
          0.24498649831456665,
          -0.5384763921914203,
          1.1316659695607456,
          -1.1667043862233457,
          1.1143624960079093,
          0.22762868806362854,
          0.45925850926840217,
          0.9758945526203185,
          0.4971660224974575,
          -1.29102139391181,
          -0.3228985362332539,
          -0.05259397547970374,
          1.5694297353679776,
          1.1893251670640106,
          0.5516158996452459,
          -0.5566988028634815,
          0.3018181192452542,
          1.1474686453338716,
          -0.9226758521675361,
          -1.08968529877296,
          1.534967485983526,
          0.2754243415015045,
          0.07099714881281319,
          -0.4275040588037671,
          -1.4882048275182445,
          -0.04857463749829096,
          1.6133722328322766,
          -0.4168066545386572,
          0.3122376933761119,
          -0.4576931343227598,
          -0.6733314146362582,
          -0.10745955457843737,
          -1.017544997586425,
          -0.5413776188313076,
          -0.6886590515270946,
          -0.02024009892863111,
          -0.7040189060640234,
          0.4783667972969521,
          0.36450355686351965,
          1.2583252220202374,
          -0.5179366668702312,
          -0.3762037174153387,
          -0.7585064737024408,
          0.6606558874442935,
          -0.6299739615921321,
          0.5394091062475742,
          -2.2938727503484744,
          -1.6636445018136858,
          0.8001637432162729,
          -1.4073891598009103,
          1.0437504459976648,
          0.5034397447971668,
          -1.6014271437492102,
          -0.8637864631988411,
          -0.4408902963548876,
          0.38323405941169136,
          -1.8461659783443802,
          0.7297575480026572,
          0.8662735759967044,
          1.6109521950143069,
          0.35734267264164127,
          1.430482930957488,
          -0.2823664384622403,
          -0.15544028102564492,
          -1.4724387398292116,
          0.33166503348672155,
          -0.4970934998432743,
          0.8468061311475883,
          0.13563883595314075,
          -0.14722307475788787,
          1.2144237292523135,
          1.2597136342004895,
          -0.19333506997906022,
          -0.6008908881676722,
          1.5003976309893226,
          -0.39704298112028935,
          -0.9939432899483552,
          1.2942660944963438,
          0.10039397305648215,
          0.8268603693401353,
          -1.4337079227180523,
          1.2954268672514602,
          -0.002623953976680764,
          0.46563522946262026,
          -1.5550477260900404,
          -0.371299059046918,
          1.2120060684441618,
          1.1805630442709418,
          -1.4317716113276437,
          0.03667765979662086,
          0.66724156495659,
          -0.5202017352757915,
          -0.06640056954505993,
          0.5225110778243648,
          -1.2492931641864014,
          -0.6712585954281789,
          0.42299556343546535,
          0.09421120479364507,
          1.323015006100533,
          -0.9225722285244407,
          1.0039478694466593,
          1.05646658977834,
          0.40598361243323766,
          0.9803046424110208,
          -0.5597540299485934,
          1.123330872190761,
          0.9075203668032634,
          -0.24748668849005528,
          -0.5210071860573494,
          0.7241301758534057,
          -2.2143109529471245,
          0.5750126256093795,
          -0.7765442094702545,
          -0.12967798330272925,
          1.665885787239877,
          0.6269641469834023,
          -1.0549751650169452,
          -1.2581706483871709,
          1.4291895814890863,
          0.06274659057774926,
          -0.7535884443626569,
          2.3191337716642,
          0.5031780777207419,
          0.7315944335165298,
          0.8945796471577829,
          1.179537851841287,
          -0.32150675195023537,
          1.4833523203736252,
          -1.2415497039429775,
          -0.25406311467657805,
          -0.2574379151224494,
          -0.8551315633354122,
          1.2785296572856144,
          0.19715322900584278,
          -0.07746816501899484,
          1.426713597468667,
          -0.5551833225081931,
          -0.10840438941532461,
          -1.5561043266812242,
          0.9099476098166683,
          -0.5641013184208125,
          -0.6265086826227522,
          0.17174962368166918,
          -0.3669444577432316,
          -0.1745515978262917,
          1.7464159411458517,
          1.0412794274763115,
          0.5528698075152124,
          0.8190427533826364,
          -0.461383840160448,
          0.46441764161948373,
          -0.36830403683034874,
          0.5505794873113193,
          0.42867899705023865,
          -1.7158753199958283,
          0.13552988845130604,
          0.14622848168741526,
          2.9122466481381704,
          0.6714950816219307,
          0.2451799119602381,
          0.5392214202336136,
          -0.22125074168732514,
          0.8981023336019445,
          -0.9359494391019958,
          0.5551635496344636,
          0.2846215555005603,
          0.1711107666356664,
          -2.386648730679303,
          -0.06838190463759457,
          -0.10413490243495309,
          -0.5648334659193914,
          0.6086637437316633,
          0.7357805798036454,
          1.0356202215559764,
          -1.3178650993068446,
          -0.21218213340711858,
          0.4823450600339646,
          -0.38190545141136156,
          1.0099259982380921,
          1.838017413012513,
          -1.093645352687218,
          -1.5993729428651828,
          -0.4733511906046643,
          -0.42631640115322533,
          -0.791518500842965,
          -0.9668733088302595,
          -0.28383184258159877,
          -2.0700417734654732,
          1.0370996639572323,
          -0.8796871512688981,
          0.7685010546734795,
          -0.6037203386046514,
          -0.4678338088501545,
          1.2431728568461393,
          -0.4979764012795867,
          -0.03789397442910464,
          0.6815712529831155,
          0.6023129880409352,
          -0.354138152205781,
          -0.5279873045255804,
          -0.4260576249523416,
          1.0009625501884418,
          -0.46822596044451303,
          0.6691544150863497,
          0.11239969243615697,
          -1.326608793599708,
          -0.15184641742132188,
          -0.9926924931022798,
          1.0039242706649567,
          1.5237448597602568,
          1.6034078636043707,
          -0.08100979115011937,
          0.5093697447615254,
          -0.8688646111116556,
          -1.0303826449370448,
          1.055952390433588,
          -0.9254665384007318,
          -0.008501460240108191,
          -0.30601094676951485,
          -1.3733943673209565,
          -1.8520094085570724,
          1.5438847114692884,
          -0.8482360757917267,
          1.6319222104167557,
          1.4117432415595685,
          -1.012080072689775,
          -1.2351004821765903,
          -0.06813474585965157,
          -0.3865604936228467,
          0.39209283613398477,
          1.0057650414565822,
          -0.054019230872111954,
          -0.25419588636024787,
          -0.7493883205646688,
          -0.009262178589314801,
          0.1300237545996241,
          0.7773983056636025,
          -0.5883638662131989,
          0.6237543191867314,
          1.197167050880866,
          2.508743909094273,
          0.08917938529676421,
          1.8572586615966535,
          -0.6447040955581782,
          -1.077386318570728,
          0.6492191974422764,
          1.4371416657739655,
          -0.176814782234114,
          -1.6393271005840877,
          -1.0316850428080004,
          0.25116779802903827,
          -0.9870267863658678,
          -0.7758317126960823,
          -0.9609594046882346,
          -0.40629310555257964,
          -0.2132902878483019,
          -0.4892193176817823,
          0.06631691729324607,
          0.7755557593137584,
          -0.5063865768463894,
          2.751669846526976,
          0.5378344938809491,
          1.1100815753239928,
          0.3761524443086127,
          -0.3251996772041274,
          1.5988918129184815,
          -1.808662455463144,
          -0.5253702462751749,
          1.1227338755930927,
          -0.5805197814347304,
          -0.7939900817748918,
          -0.7277460767043665,
          -1.6544314285511215,
          -0.7924583162692166,
          -0.7753985504132604,
          0.2049613462946392,
          -1.2347899636753121,
          0.7421614406359054,
          -0.2239873321775192,
          -1.4106277338912339,
          2.0360100823052636,
          -0.12298856686553267,
          -0.1862206700486207,
          -0.24467146882287408,
          1.9072251561582767,
          0.04535325602429106,
          0.08991585477565757,
          1.3955936740688895,
          -0.3614749787537142,
          0.5464432480768185,
          0.6093584181129882,
          1.1614560052242944,
          0.05095458088386406,
          -2.7971127365093658,
          -0.39716567072003384,
          0.3328809129241905,
          -0.06991350693868238,
          1.2284805640228655,
          -0.9735326496939489,
          0.9172949136362564,
          0.39129284869762965,
          1.089905539554961,
          -0.020078744185927908,
          -0.9857617763671341,
          0.21112204631154172,
          -0.09770169376189086,
          -0.8612084928859307,
          1.5076618558221653,
          -0.7355378811099346,
          -0.445963877566944,
          0.43577548724565807,
          -2.4177444665723526,
          -0.805373772677126,
          1.3177878259062936,
          0.46250098266159567,
          1.1479167671058572,
          2.677036873137459,
          0.06398822122298363,
          -1.2096207824014336,
          1.291188432084631,
          -0.5491904686930076,
          0.16848923258317836,
          -0.0298497246395653,
          2.01099227185424,
          -1.0856330129688803,
          0.5817299562163668,
          -1.249572740742192,
          -1.4938626969918845,
          0.8725748207601286,
          -0.13496583289249076,
          1.1547909943426966,
          1.0102872109270902,
          -0.871685425569695,
          0.9459990196228147,
          -1.7494864881857497,
          -1.0191294145759073,
          -0.5165002286465907,
          -0.07019310283352093,
          -0.7359743472250928,
          -0.03158863151889185,
          -0.48481436674594086,
          2.0457743309083174,
          0.9187970876403164,
          0.3409335619423984,
          0.3909845219012051,
          0.5787547951125995,
          -0.34435863295290364,
          -0.4875162580225757,
          -0.5437338340764775,
          2.021930491025522,
          0.9093248365744394,
          0.12713519546004792,
          0.07495655352014485,
          -1.3831293457539882,
          -1.6187017017034695,
          1.8812091862913234,
          -0.5089195095576649,
          -2.2890467819494353,
          -2.0241149537878336,
          -0.22306155800085567,
          -0.27552543174576144,
          0.5271532549374401,
          -0.11698921431552693,
          0.9212115608881506,
          0.8146618315072333,
          -0.4523611172055129,
          0.8548535866882817,
          0.06350307023158765,
          -0.33723143988893844,
          0.42400811772792374,
          1.778750239807107,
          -0.5549144922878178,
          -0.3676400569396659,
          -0.00539678567860745,
          -0.19759821953519344,
          0.38084326855710243,
          -2.4573834576911437,
          -0.167649723195496,
          2.8373761422510864,
          -1.7349116464808458,
          0.6744776496005201,
          0.3511627955548508,
          -1.1943398232673108,
          1.470446913661251,
          0.6099137906700943,
          -0.8128057792824076,
          -0.25924723419776147,
          -0.6786161718861652,
          0.5012930213832066,
          -0.43506181930043275,
          -0.33381978083075187,
          -0.4284951426975846,
          1.4179818837299838,
          -0.6510074707636184,
          0.5401520007844691,
          -0.24931599223335715,
          -0.507848559686729,
          2.827411544904089,
          -1.9706405830745828,
          -0.14463536759838885,
          1.47427371886154,
          -0.2821103007685885,
          -0.2715789381743829,
          -0.32434996821112244,
          1.9581069964711937,
          0.1491568890980785,
          -0.057121031823846515,
          -0.5989275070778391,
          -1.8469209941746152,
          0.10953123380489097,
          0.9774366952032848,
          -1.0594565883991096,
          -0.6113637982972454,
          -0.014203783152220659,
          0.6779013713158292,
          0.6475477003595598,
          0.2892327305661072,
          1.4710177642758426,
          0.18832847098628197,
          1.1753476351683134,
          -0.449878802846128,
          -0.057794808022122494,
          1.0694628556669064,
          0.7354605303483467,
          -0.21021740954711945,
          0.7292632234736344,
          0.8940258788840783,
          2.258640605187278,
          1.1440438891549551,
          0.9231024655717067,
          0.19368642893602558,
          -1.559940988681309,
          0.6677848825222961,
          0.3460978810072374,
          -1.5454583392156314,
          -0.992988159016529,
          -0.4188568075412993,
          -0.402074273749454,
          0.7256735425379053,
          0.19894319856241421,
          1.4094268303849653,
          -0.7254419852371448,
          0.7305669654687551,
          0.28323298428236743,
          -0.04746679705166168,
          0.14590021705041714,
          1.58050990569632,
          -0.5570307628796073,
          -1.9717599692374586,
          0.9818655230990034,
          -0.3120525288599342,
          0.9774481077568578,
          -0.12966538651014478,
          -0.581935798910853,
          -0.6860526738145911,
          0.6821280140061594,
          -0.45265293448875116,
          -0.3170235310666758,
          1.6921149591928526,
          -1.6389203366198064,
          -0.23593680073386222,
          0.9567706477149557,
          0.004828269773495938,
          1.0419324283091578,
          -0.49197377195461384,
          0.11205075931254023,
          0.5940622994912812,
          -0.45476331097665107,
          -0.14772958399639258,
          0.11642203494131272,
          0.37119678008919055,
          -1.3746170218013536,
          0.033757621244152235,
          -0.6778193437946647,
          -0.05448206316910431,
          0.2640124814981551,
          0.6026277107194745,
          0.7701261724762949,
          -0.4989333125230821,
          1.4751551029486043,
          0.16296617557201953,
          -2.1889536912401946,
          0.43414472461878734,
          -1.6464106928185605,
          0.6087328572849462,
          1.061936376101947,
          0.14736136116008808,
          0.8335248847999933,
          -0.808223524359755,
          0.7034700636338799,
          0.21899894919808832,
          0.9199816716625064,
          -0.18816889620337415,
          -0.6055702774614495,
          -1.31914162182067,
          1.4695107391248279,
          -1.1894896982371075,
          0.701451264165324,
          -0.22250987113704895,
          1.3464519424229138,
          1.100413463538885,
          0.6402535879955792,
          0.8861854336866294,
          -0.7781450958047246,
          -0.1058066308809351,
          0.7972749481333333,
          -1.4144343401029293,
          -0.4110851459526419,
          -0.1907238798934053,
          -0.47519870363676436,
          -1.1686458228596257,
          -0.689350697049207,
          -0.4728005946325065,
          -0.14428327661897747,
          0.24030517989422978,
          -0.8723562761171255,
          -2.3287171930929658,
          -0.27742472105697874,
          2.6222962810015433,
          0.3690072781708218,
          -0.9017158229874064,
          2.1706886282011015,
          0.16586276425158383,
          1.7783171970166538,
          -0.5678954277142082,
          -0.8002768084386822,
          0.07072867116781296,
          0.06728560716857242,
          1.1397421104737624,
          -1.2214184365986114,
          -0.281433640515778,
          -0.5864822419158338,
          -0.5650909206821619,
          -0.8284155991768513,
          1.145240055856796,
          1.1191020846436788,
          0.0888262653891428,
          2.4185076292873844,
          -0.24703771703402286,
          -0.049523016407543086,
          0.6505595764233785,
          0.09835340068302999,
          0.507811041194426,
          0.09315025496864793,
          0.4563413545328584,
          1.8266975328098158,
          2.1830203384643427,
          -2.1705093169836975,
          -0.17073812443227465,
          0.9923493636344013,
          -0.8850634798467706,
          1.0763599044058394,
          -0.9276947353634242,
          1.2992294412635323,
          -0.506015745506444,
          -1.0937086538250684,
          -0.9587305257536646,
          -0.21052903434383702,
          0.759986543724139,
          0.47437892345464155,
          0.36126614762989173,
          -0.9737318767505145,
          -0.7685192604920694,
          0.7063689989333308,
          -0.3347382106617153,
          -0.5150683404809093,
          -1.1839508335806443,
          -1.005776503963305,
          -1.0357131595683136,
          0.3894648083543424,
          1.0921372800507807,
          -0.07342523054895994,
          0.5870176580481749,
          -1.242983208952141,
          0.49143688052525536,
          -0.02982464208009026,
          0.8012594680132006,
          1.517687699517071,
          0.3553248282395175,
          0.6272114704882554,
          -1.7411578210758465,
          -0.6568938990270972,
          -1.6931773354854724,
          -0.0964394774871899,
          -0.4139427297682131,
          1.3378866028038423,
          0.15645106326998073,
          -0.3873910924650483,
          -0.2829767717491929,
          -0.5746105322572909,
          -0.438984366161106,
          0.3913308253914386,
          1.1357107425807482,
          -0.0013516003798102825,
          -1.209228928626658,
          2.0958247413563886,
          -0.9014417331844848,
          -1.5418147420429849,
          1.4170507861099702,
          0.22180047801028951,
          0.05955630548714745,
          0.9214147261778228,
          0.1295920713306119,
          -0.6120047414231673,
          0.42549661215762635,
          0.02978944868113148,
          1.1074530941679654,
          0.44151064886503993,
          0.7688455819670055,
          -0.09923115712389048,
          -1.0580341999624605,
          1.5612512353192893,
          -2.593347587019769,
          0.5385155277287449,
          -0.14195463080799178,
          -0.38184922333645493,
          -1.7220901284052803,
          0.46799038302142787,
          -1.2025098826842822,
          -0.13760052450603544,
          -0.6319534339283387,
          -0.09299197717318165,
          -0.19330256132347623,
          1.2920255485387657,
          0.14607211508200355,
          1.763699786097042,
          -0.25515152291525256,
          1.6008511837364754,
          0.1601021460186235,
          0.5918597421129866,
          1.1986713161548004,
          0.34593289096666396,
          -0.13755490214357668,
          -0.3497305665820879,
          0.16605354957351443,
          -1.869862197245615,
          -0.6271150726121717,
          0.509341024228724,
          1.342974101557868,
          -0.38643515060591516,
          -1.1234987053623016,
          -0.177140385385127,
          0.5160241509645239,
          -0.25629716426411814,
          0.7349643388120826,
          -0.5935471314569353,
          -0.7092151563230795,
          0.36332566210137274,
          -0.5219718547653784,
          0.5595752232579148,
          0.37894161513225627,
          -1.6678333338791738,
          0.07513223207383307,
          0.18277343074428345,
          -0.6584967393820934,
          -1.0767982338474746,
          -0.3832554214124544,
          -1.0444839695755481,
          0.1672440447654971,
          0.6781753836262695,
          0.3684915250910455,
          0.002435526700526521,
          -0.7374601513545825,
          -0.8389013938877052,
          -2.27260637628184,
          -0.9118036689450782,
          0.9904551835225862,
          1.2416635446701463,
          2.7265340246001757,
          1.2428126978415024,
          0.025719082080831252
         ]
        }
       ],
       "layout": {
        "height": 400,
        "margin": {
         "b": 20,
         "l": 20,
         "r": 20,
         "t": 20
        },
        "paper_bgcolor": "#f7f8fa",
        "showlegend": false,
        "template": {
         "data": {
          "bar": [
           {
            "error_x": {
             "color": "rgb(36,36,36)"
            },
            "error_y": {
             "color": "rgb(36,36,36)"
            },
            "marker": {
             "line": {
              "color": "white",
              "width": 0.5
             },
             "pattern": {
              "fillmode": "overlay",
              "size": 10,
              "solidity": 0.2
             }
            },
            "type": "bar"
           }
          ],
          "barpolar": [
           {
            "marker": {
             "line": {
              "color": "white",
              "width": 0.5
             },
             "pattern": {
              "fillmode": "overlay",
              "size": 10,
              "solidity": 0.2
             }
            },
            "type": "barpolar"
           }
          ],
          "carpet": [
           {
            "aaxis": {
             "endlinecolor": "rgb(36,36,36)",
             "gridcolor": "white",
             "linecolor": "white",
             "minorgridcolor": "white",
             "startlinecolor": "rgb(36,36,36)"
            },
            "baxis": {
             "endlinecolor": "rgb(36,36,36)",
             "gridcolor": "white",
             "linecolor": "white",
             "minorgridcolor": "white",
             "startlinecolor": "rgb(36,36,36)"
            },
            "type": "carpet"
           }
          ],
          "choropleth": [
           {
            "colorbar": {
             "outlinewidth": 1,
             "tickcolor": "rgb(36,36,36)",
             "ticks": "outside"
            },
            "type": "choropleth"
           }
          ],
          "contour": [
           {
            "colorbar": {
             "outlinewidth": 1,
             "tickcolor": "rgb(36,36,36)",
             "ticks": "outside"
            },
            "colorscale": [
             [
              0,
              "#440154"
             ],
             [
              0.1111111111111111,
              "#482878"
             ],
             [
              0.2222222222222222,
              "#3e4989"
             ],
             [
              0.3333333333333333,
              "#31688e"
             ],
             [
              0.4444444444444444,
              "#26828e"
             ],
             [
              0.5555555555555556,
              "#1f9e89"
             ],
             [
              0.6666666666666666,
              "#35b779"
             ],
             [
              0.7777777777777778,
              "#6ece58"
             ],
             [
              0.8888888888888888,
              "#b5de2b"
             ],
             [
              1,
              "#fde725"
             ]
            ],
            "type": "contour"
           }
          ],
          "contourcarpet": [
           {
            "colorbar": {
             "outlinewidth": 1,
             "tickcolor": "rgb(36,36,36)",
             "ticks": "outside"
            },
            "type": "contourcarpet"
           }
          ],
          "heatmap": [
           {
            "colorbar": {
             "outlinewidth": 1,
             "tickcolor": "rgb(36,36,36)",
             "ticks": "outside"
            },
            "colorscale": [
             [
              0,
              "#440154"
             ],
             [
              0.1111111111111111,
              "#482878"
             ],
             [
              0.2222222222222222,
              "#3e4989"
             ],
             [
              0.3333333333333333,
              "#31688e"
             ],
             [
              0.4444444444444444,
              "#26828e"
             ],
             [
              0.5555555555555556,
              "#1f9e89"
             ],
             [
              0.6666666666666666,
              "#35b779"
             ],
             [
              0.7777777777777778,
              "#6ece58"
             ],
             [
              0.8888888888888888,
              "#b5de2b"
             ],
             [
              1,
              "#fde725"
             ]
            ],
            "type": "heatmap"
           }
          ],
          "heatmapgl": [
           {
            "colorbar": {
             "outlinewidth": 1,
             "tickcolor": "rgb(36,36,36)",
             "ticks": "outside"
            },
            "colorscale": [
             [
              0,
              "#440154"
             ],
             [
              0.1111111111111111,
              "#482878"
             ],
             [
              0.2222222222222222,
              "#3e4989"
             ],
             [
              0.3333333333333333,
              "#31688e"
             ],
             [
              0.4444444444444444,
              "#26828e"
             ],
             [
              0.5555555555555556,
              "#1f9e89"
             ],
             [
              0.6666666666666666,
              "#35b779"
             ],
             [
              0.7777777777777778,
              "#6ece58"
             ],
             [
              0.8888888888888888,
              "#b5de2b"
             ],
             [
              1,
              "#fde725"
             ]
            ],
            "type": "heatmapgl"
           }
          ],
          "histogram": [
           {
            "marker": {
             "line": {
              "color": "white",
              "width": 0.6
             }
            },
            "type": "histogram"
           }
          ],
          "histogram2d": [
           {
            "colorbar": {
             "outlinewidth": 1,
             "tickcolor": "rgb(36,36,36)",
             "ticks": "outside"
            },
            "colorscale": [
             [
              0,
              "#440154"
             ],
             [
              0.1111111111111111,
              "#482878"
             ],
             [
              0.2222222222222222,
              "#3e4989"
             ],
             [
              0.3333333333333333,
              "#31688e"
             ],
             [
              0.4444444444444444,
              "#26828e"
             ],
             [
              0.5555555555555556,
              "#1f9e89"
             ],
             [
              0.6666666666666666,
              "#35b779"
             ],
             [
              0.7777777777777778,
              "#6ece58"
             ],
             [
              0.8888888888888888,
              "#b5de2b"
             ],
             [
              1,
              "#fde725"
             ]
            ],
            "type": "histogram2d"
           }
          ],
          "histogram2dcontour": [
           {
            "colorbar": {
             "outlinewidth": 1,
             "tickcolor": "rgb(36,36,36)",
             "ticks": "outside"
            },
            "colorscale": [
             [
              0,
              "#440154"
             ],
             [
              0.1111111111111111,
              "#482878"
             ],
             [
              0.2222222222222222,
              "#3e4989"
             ],
             [
              0.3333333333333333,
              "#31688e"
             ],
             [
              0.4444444444444444,
              "#26828e"
             ],
             [
              0.5555555555555556,
              "#1f9e89"
             ],
             [
              0.6666666666666666,
              "#35b779"
             ],
             [
              0.7777777777777778,
              "#6ece58"
             ],
             [
              0.8888888888888888,
              "#b5de2b"
             ],
             [
              1,
              "#fde725"
             ]
            ],
            "type": "histogram2dcontour"
           }
          ],
          "mesh3d": [
           {
            "colorbar": {
             "outlinewidth": 1,
             "tickcolor": "rgb(36,36,36)",
             "ticks": "outside"
            },
            "type": "mesh3d"
           }
          ],
          "parcoords": [
           {
            "line": {
             "colorbar": {
              "outlinewidth": 1,
              "tickcolor": "rgb(36,36,36)",
              "ticks": "outside"
             }
            },
            "type": "parcoords"
           }
          ],
          "pie": [
           {
            "automargin": true,
            "type": "pie"
           }
          ],
          "scatter": [
           {
            "fillpattern": {
             "fillmode": "overlay",
             "size": 10,
             "solidity": 0.2
            },
            "type": "scatter"
           }
          ],
          "scatter3d": [
           {
            "line": {
             "colorbar": {
              "outlinewidth": 1,
              "tickcolor": "rgb(36,36,36)",
              "ticks": "outside"
             }
            },
            "marker": {
             "colorbar": {
              "outlinewidth": 1,
              "tickcolor": "rgb(36,36,36)",
              "ticks": "outside"
             }
            },
            "type": "scatter3d"
           }
          ],
          "scattercarpet": [
           {
            "marker": {
             "colorbar": {
              "outlinewidth": 1,
              "tickcolor": "rgb(36,36,36)",
              "ticks": "outside"
             }
            },
            "type": "scattercarpet"
           }
          ],
          "scattergeo": [
           {
            "marker": {
             "colorbar": {
              "outlinewidth": 1,
              "tickcolor": "rgb(36,36,36)",
              "ticks": "outside"
             }
            },
            "type": "scattergeo"
           }
          ],
          "scattergl": [
           {
            "marker": {
             "colorbar": {
              "outlinewidth": 1,
              "tickcolor": "rgb(36,36,36)",
              "ticks": "outside"
             }
            },
            "type": "scattergl"
           }
          ],
          "scattermapbox": [
           {
            "marker": {
             "colorbar": {
              "outlinewidth": 1,
              "tickcolor": "rgb(36,36,36)",
              "ticks": "outside"
             }
            },
            "type": "scattermapbox"
           }
          ],
          "scatterpolar": [
           {
            "marker": {
             "colorbar": {
              "outlinewidth": 1,
              "tickcolor": "rgb(36,36,36)",
              "ticks": "outside"
             }
            },
            "type": "scatterpolar"
           }
          ],
          "scatterpolargl": [
           {
            "marker": {
             "colorbar": {
              "outlinewidth": 1,
              "tickcolor": "rgb(36,36,36)",
              "ticks": "outside"
             }
            },
            "type": "scatterpolargl"
           }
          ],
          "scatterternary": [
           {
            "marker": {
             "colorbar": {
              "outlinewidth": 1,
              "tickcolor": "rgb(36,36,36)",
              "ticks": "outside"
             }
            },
            "type": "scatterternary"
           }
          ],
          "surface": [
           {
            "colorbar": {
             "outlinewidth": 1,
             "tickcolor": "rgb(36,36,36)",
             "ticks": "outside"
            },
            "colorscale": [
             [
              0,
              "#440154"
             ],
             [
              0.1111111111111111,
              "#482878"
             ],
             [
              0.2222222222222222,
              "#3e4989"
             ],
             [
              0.3333333333333333,
              "#31688e"
             ],
             [
              0.4444444444444444,
              "#26828e"
             ],
             [
              0.5555555555555556,
              "#1f9e89"
             ],
             [
              0.6666666666666666,
              "#35b779"
             ],
             [
              0.7777777777777778,
              "#6ece58"
             ],
             [
              0.8888888888888888,
              "#b5de2b"
             ],
             [
              1,
              "#fde725"
             ]
            ],
            "type": "surface"
           }
          ],
          "table": [
           {
            "cells": {
             "fill": {
              "color": "rgb(237,237,237)"
             },
             "line": {
              "color": "white"
             }
            },
            "header": {
             "fill": {
              "color": "rgb(217,217,217)"
             },
             "line": {
              "color": "white"
             }
            },
            "type": "table"
           }
          ]
         },
         "layout": {
          "annotationdefaults": {
           "arrowhead": 0,
           "arrowwidth": 1
          },
          "autotypenumbers": "strict",
          "coloraxis": {
           "colorbar": {
            "outlinewidth": 1,
            "tickcolor": "rgb(36,36,36)",
            "ticks": "outside"
           }
          },
          "colorscale": {
           "diverging": [
            [
             0,
             "rgb(103,0,31)"
            ],
            [
             0.1,
             "rgb(178,24,43)"
            ],
            [
             0.2,
             "rgb(214,96,77)"
            ],
            [
             0.3,
             "rgb(244,165,130)"
            ],
            [
             0.4,
             "rgb(253,219,199)"
            ],
            [
             0.5,
             "rgb(247,247,247)"
            ],
            [
             0.6,
             "rgb(209,229,240)"
            ],
            [
             0.7,
             "rgb(146,197,222)"
            ],
            [
             0.8,
             "rgb(67,147,195)"
            ],
            [
             0.9,
             "rgb(33,102,172)"
            ],
            [
             1,
             "rgb(5,48,97)"
            ]
           ],
           "sequential": [
            [
             0,
             "#440154"
            ],
            [
             0.1111111111111111,
             "#482878"
            ],
            [
             0.2222222222222222,
             "#3e4989"
            ],
            [
             0.3333333333333333,
             "#31688e"
            ],
            [
             0.4444444444444444,
             "#26828e"
            ],
            [
             0.5555555555555556,
             "#1f9e89"
            ],
            [
             0.6666666666666666,
             "#35b779"
            ],
            [
             0.7777777777777778,
             "#6ece58"
            ],
            [
             0.8888888888888888,
             "#b5de2b"
            ],
            [
             1,
             "#fde725"
            ]
           ],
           "sequentialminus": [
            [
             0,
             "#440154"
            ],
            [
             0.1111111111111111,
             "#482878"
            ],
            [
             0.2222222222222222,
             "#3e4989"
            ],
            [
             0.3333333333333333,
             "#31688e"
            ],
            [
             0.4444444444444444,
             "#26828e"
            ],
            [
             0.5555555555555556,
             "#1f9e89"
            ],
            [
             0.6666666666666666,
             "#35b779"
            ],
            [
             0.7777777777777778,
             "#6ece58"
            ],
            [
             0.8888888888888888,
             "#b5de2b"
            ],
            [
             1,
             "#fde725"
            ]
           ]
          },
          "colorway": [
           "#1F77B4",
           "#FF7F0E",
           "#2CA02C",
           "#D62728",
           "#9467BD",
           "#8C564B",
           "#E377C2",
           "#7F7F7F",
           "#BCBD22",
           "#17BECF"
          ],
          "font": {
           "color": "rgb(36,36,36)"
          },
          "geo": {
           "bgcolor": "white",
           "lakecolor": "white",
           "landcolor": "white",
           "showlakes": true,
           "showland": true,
           "subunitcolor": "white"
          },
          "hoverlabel": {
           "align": "left"
          },
          "hovermode": "closest",
          "mapbox": {
           "style": "light"
          },
          "paper_bgcolor": "white",
          "plot_bgcolor": "white",
          "polar": {
           "angularaxis": {
            "gridcolor": "rgb(232,232,232)",
            "linecolor": "rgb(36,36,36)",
            "showgrid": false,
            "showline": true,
            "ticks": "outside"
           },
           "bgcolor": "white",
           "radialaxis": {
            "gridcolor": "rgb(232,232,232)",
            "linecolor": "rgb(36,36,36)",
            "showgrid": false,
            "showline": true,
            "ticks": "outside"
           }
          },
          "scene": {
           "xaxis": {
            "backgroundcolor": "white",
            "gridcolor": "rgb(232,232,232)",
            "gridwidth": 2,
            "linecolor": "rgb(36,36,36)",
            "showbackground": true,
            "showgrid": false,
            "showline": true,
            "ticks": "outside",
            "zeroline": false,
            "zerolinecolor": "rgb(36,36,36)"
           },
           "yaxis": {
            "backgroundcolor": "white",
            "gridcolor": "rgb(232,232,232)",
            "gridwidth": 2,
            "linecolor": "rgb(36,36,36)",
            "showbackground": true,
            "showgrid": false,
            "showline": true,
            "ticks": "outside",
            "zeroline": false,
            "zerolinecolor": "rgb(36,36,36)"
           },
           "zaxis": {
            "backgroundcolor": "white",
            "gridcolor": "rgb(232,232,232)",
            "gridwidth": 2,
            "linecolor": "rgb(36,36,36)",
            "showbackground": true,
            "showgrid": false,
            "showline": true,
            "ticks": "outside",
            "zeroline": false,
            "zerolinecolor": "rgb(36,36,36)"
           }
          },
          "shapedefaults": {
           "fillcolor": "black",
           "line": {
            "width": 0
           },
           "opacity": 0.3
          },
          "ternary": {
           "aaxis": {
            "gridcolor": "rgb(232,232,232)",
            "linecolor": "rgb(36,36,36)",
            "showgrid": false,
            "showline": true,
            "ticks": "outside"
           },
           "baxis": {
            "gridcolor": "rgb(232,232,232)",
            "linecolor": "rgb(36,36,36)",
            "showgrid": false,
            "showline": true,
            "ticks": "outside"
           },
           "bgcolor": "white",
           "caxis": {
            "gridcolor": "rgb(232,232,232)",
            "linecolor": "rgb(36,36,36)",
            "showgrid": false,
            "showline": true,
            "ticks": "outside"
           }
          },
          "title": {
           "x": 0.05
          },
          "xaxis": {
           "automargin": true,
           "gridcolor": "rgb(232,232,232)",
           "linecolor": "rgb(36,36,36)",
           "showgrid": false,
           "showline": true,
           "ticks": "outside",
           "title": {
            "standoff": 15
           },
           "zeroline": false,
           "zerolinecolor": "rgb(36,36,36)"
          },
          "yaxis": {
           "automargin": true,
           "gridcolor": "rgb(232,232,232)",
           "linecolor": "rgb(36,36,36)",
           "showgrid": false,
           "showline": true,
           "ticks": "outside",
           "title": {
            "standoff": 15
           },
           "zeroline": false,
           "zerolinecolor": "rgb(36,36,36)"
          }
         }
        },
        "width": 400
       }
      }
     },
     "metadata": {},
     "output_type": "display_data"
    }
   ],
   "source": [
    "fig02 = go.Figure()\n",
    "fig02.add_trace(go.Box(y=normal_dist, boxpoints='all', boxmean='sd', name='<b>Normal distribution', marker_color = 'blue'))\n",
    "fig02.update_layout(width=400, height=400, template = 'simple_white',\n",
    "                    paper_bgcolor=\"#f7f8fa\", margin=dict(l=20, r=20, t=20, b=20),\n",
    "                    showlegend=False)"
   ]
  },
  {
   "cell_type": "code",
   "execution_count": 66,
   "metadata": {},
   "outputs": [
    {
     "name": "stdout",
     "output_type": "stream",
     "text": [
      "-0.5948922253621612\n",
      "-0.5948922253621612\n"
     ]
    }
   ],
   "source": [
    "print(np.quantile(normal_dist, 0.25))\n",
    "print(np.percentile(normal_dist, 25))"
   ]
  },
  {
   "cell_type": "code",
   "execution_count": 67,
   "metadata": {},
   "outputs": [
    {
     "data": {
      "text/html": [
       "<div>\n",
       "<style scoped>\n",
       "    .dataframe tbody tr th:only-of-type {\n",
       "        vertical-align: middle;\n",
       "    }\n",
       "\n",
       "    .dataframe tbody tr th {\n",
       "        vertical-align: top;\n",
       "    }\n",
       "\n",
       "    .dataframe thead th {\n",
       "        text-align: right;\n",
       "    }\n",
       "</style>\n",
       "<table border=\"1\" class=\"dataframe\">\n",
       "  <thead>\n",
       "    <tr style=\"text-align: right;\">\n",
       "      <th></th>\n",
       "      <th>0</th>\n",
       "    </tr>\n",
       "  </thead>\n",
       "  <tbody>\n",
       "    <tr>\n",
       "      <th>count</th>\n",
       "      <td>1000.000000</td>\n",
       "    </tr>\n",
       "    <tr>\n",
       "      <th>mean</th>\n",
       "      <td>0.055407</td>\n",
       "    </tr>\n",
       "    <tr>\n",
       "      <th>std</th>\n",
       "      <td>1.007717</td>\n",
       "    </tr>\n",
       "    <tr>\n",
       "      <th>min</th>\n",
       "      <td>-2.826669</td>\n",
       "    </tr>\n",
       "    <tr>\n",
       "      <th>25%</th>\n",
       "      <td>-0.594892</td>\n",
       "    </tr>\n",
       "    <tr>\n",
       "      <th>50%</th>\n",
       "      <td>0.045297</td>\n",
       "    </tr>\n",
       "    <tr>\n",
       "      <th>75%</th>\n",
       "      <td>0.735541</td>\n",
       "    </tr>\n",
       "    <tr>\n",
       "      <th>max</th>\n",
       "      <td>3.361481</td>\n",
       "    </tr>\n",
       "  </tbody>\n",
       "</table>\n",
       "</div>"
      ],
      "text/plain": [
       "                 0\n",
       "count  1000.000000\n",
       "mean      0.055407\n",
       "std       1.007717\n",
       "min      -2.826669\n",
       "25%      -0.594892\n",
       "50%       0.045297\n",
       "75%       0.735541\n",
       "max       3.361481"
      ]
     },
     "execution_count": 67,
     "metadata": {},
     "output_type": "execute_result"
    }
   ],
   "source": [
    "df_normal_distrib = pd.DataFrame(normal_dist)\n",
    "df_normal_distrib.describe()"
   ]
  },
  {
   "cell_type": "code",
   "execution_count": 68,
   "metadata": {},
   "outputs": [
    {
     "data": {
      "text/plain": [
       "0.005794145897652341"
      ]
     },
     "execution_count": 68,
     "metadata": {},
     "output_type": "execute_result"
    }
   ],
   "source": [
    "stats.skew(normal_dist)"
   ]
  },
  {
   "cell_type": "code",
   "execution_count": 69,
   "metadata": {},
   "outputs": [
    {
     "data": {
      "text/plain": [
       "6.188150193317397"
      ]
     },
     "execution_count": 69,
     "metadata": {},
     "output_type": "execute_result"
    }
   ],
   "source": [
    "# Amplitude para alvos/stops\n",
    "amplitude = normal_dist.max() - normal_dist.min()\n",
    "amplitude"
   ]
  },
  {
   "cell_type": "code",
   "execution_count": 70,
   "metadata": {},
   "outputs": [
    {
     "data": {
      "text/plain": [
       "1.0077170253944852"
      ]
     },
     "execution_count": 70,
     "metadata": {},
     "output_type": "execute_result"
    }
   ],
   "source": [
    "# Desvio padrão da amostra (população degrees of freedom = False)\n",
    "# Sharpe ratio, bandas de bollinger\n",
    "desvio_padrao = np.std(normal_dist, ddof = True)\n",
    "desvio_padrao"
   ]
  },
  {
   "cell_type": "code",
   "execution_count": 71,
   "metadata": {},
   "outputs": [
    {
     "data": {
      "text/plain": [
       "1818.7452921235017"
      ]
     },
     "execution_count": 71,
     "metadata": {},
     "output_type": "execute_result"
    }
   ],
   "source": [
    "# Coeficiente de variação\n",
    "# Interessante para comparações e avaliar a consistência (ex., pagamento de dividendos)\n",
    "normal_dist.std(ddof = True)/normal_dist.mean()*100"
   ]
  },
  {
   "cell_type": "code",
   "execution_count": 76,
   "metadata": {},
   "outputs": [
    {
     "data": {
      "text/plain": [
       "0.031866810371763116"
      ]
     },
     "execution_count": 76,
     "metadata": {},
     "output_type": "execute_result"
    }
   ],
   "source": [
    "# Erro padrão da média\n",
    "\n",
    "stats.sem(normal_dist)"
   ]
  },
  {
   "cell_type": "code",
   "execution_count": 80,
   "metadata": {},
   "outputs": [
    {
     "data": {
      "text/plain": [
       "(-0.007126298132424769, 0.11794082832075156)"
      ]
     },
     "execution_count": 80,
     "metadata": {},
     "output_type": "execute_result"
    }
   ],
   "source": [
    "# Intervalo de confiança 95%\n",
    "# Probabilidade de 95% da média real estar nesse intervalo\n",
    "\n",
    "IC_95 = stats.t.interval(0.95, df=len(normal_dist)-1, loc=np.mean(normal_dist), scale=stats.sem(normal_dist))\n",
    "IC_95"
   ]
  }
 ],
 "metadata": {
  "kernelspec": {
   "display_name": "estats_mercado",
   "language": "python",
   "name": "python3"
  },
  "language_info": {
   "codemirror_mode": {
    "name": "ipython",
    "version": 3
   },
   "file_extension": ".py",
   "mimetype": "text/x-python",
   "name": "python",
   "nbconvert_exporter": "python",
   "pygments_lexer": "ipython3",
   "version": "3.10.8"
  },
  "orig_nbformat": 4
 },
 "nbformat": 4,
 "nbformat_minor": 2
}
