{
 "cells": [
  {
   "cell_type": "markdown",
   "metadata": {},
   "source": [
    "Bibliotecas"
   ]
  },
  {
   "cell_type": "code",
   "execution_count": 1,
   "metadata": {},
   "outputs": [
    {
     "name": "stdout",
     "output_type": "stream",
     "text": [
      "Requirement already satisfied: pip in d:\\dev\\tcd\\estatistica_mercado_financeiro\\estats_mercado\\lib\\site-packages (23.2.1)\n",
      "Requirement already satisfied: yfinance in d:\\dev\\tcd\\estatistica_mercado_financeiro\\estats_mercado\\lib\\site-packages (0.2.27)\n",
      "Requirement already satisfied: pandas>=1.3.0 in d:\\dev\\tcd\\estatistica_mercado_financeiro\\estats_mercado\\lib\\site-packages (from yfinance) (2.0.3)\n",
      "Requirement already satisfied: numpy>=1.16.5 in d:\\dev\\tcd\\estatistica_mercado_financeiro\\estats_mercado\\lib\\site-packages (from yfinance) (1.23.5)\n",
      "Requirement already satisfied: requests>=2.31 in d:\\dev\\tcd\\estatistica_mercado_financeiro\\estats_mercado\\lib\\site-packages (from yfinance) (2.31.0)\n",
      "Requirement already satisfied: multitasking>=0.0.7 in d:\\dev\\tcd\\estatistica_mercado_financeiro\\estats_mercado\\lib\\site-packages (from yfinance) (0.0.11)\n",
      "Requirement already satisfied: lxml>=4.9.1 in d:\\dev\\tcd\\estatistica_mercado_financeiro\\estats_mercado\\lib\\site-packages (from yfinance) (4.9.3)\n",
      "Requirement already satisfied: appdirs>=1.4.4 in d:\\dev\\tcd\\estatistica_mercado_financeiro\\estats_mercado\\lib\\site-packages (from yfinance) (1.4.4)\n",
      "Requirement already satisfied: pytz>=2022.5 in d:\\dev\\tcd\\estatistica_mercado_financeiro\\estats_mercado\\lib\\site-packages (from yfinance) (2023.3)\n",
      "Requirement already satisfied: frozendict>=2.3.4 in d:\\dev\\tcd\\estatistica_mercado_financeiro\\estats_mercado\\lib\\site-packages (from yfinance) (2.3.8)\n",
      "Requirement already satisfied: beautifulsoup4>=4.11.1 in d:\\dev\\tcd\\estatistica_mercado_financeiro\\estats_mercado\\lib\\site-packages (from yfinance) (4.12.2)\n",
      "Requirement already satisfied: html5lib>=1.1 in d:\\dev\\tcd\\estatistica_mercado_financeiro\\estats_mercado\\lib\\site-packages (from yfinance) (1.1)\n",
      "Requirement already satisfied: soupsieve>1.2 in d:\\dev\\tcd\\estatistica_mercado_financeiro\\estats_mercado\\lib\\site-packages (from beautifulsoup4>=4.11.1->yfinance) (2.4.1)\n",
      "Requirement already satisfied: six>=1.9 in d:\\dev\\tcd\\estatistica_mercado_financeiro\\estats_mercado\\lib\\site-packages (from html5lib>=1.1->yfinance) (1.16.0)\n",
      "Requirement already satisfied: webencodings in d:\\dev\\tcd\\estatistica_mercado_financeiro\\estats_mercado\\lib\\site-packages (from html5lib>=1.1->yfinance) (0.5.1)\n",
      "Requirement already satisfied: python-dateutil>=2.8.2 in d:\\dev\\tcd\\estatistica_mercado_financeiro\\estats_mercado\\lib\\site-packages (from pandas>=1.3.0->yfinance) (2.8.2)\n",
      "Requirement already satisfied: tzdata>=2022.1 in d:\\dev\\tcd\\estatistica_mercado_financeiro\\estats_mercado\\lib\\site-packages (from pandas>=1.3.0->yfinance) (2023.3)\n",
      "Requirement already satisfied: charset-normalizer<4,>=2 in d:\\dev\\tcd\\estatistica_mercado_financeiro\\estats_mercado\\lib\\site-packages (from requests>=2.31->yfinance) (3.2.0)\n",
      "Requirement already satisfied: idna<4,>=2.5 in d:\\dev\\tcd\\estatistica_mercado_financeiro\\estats_mercado\\lib\\site-packages (from requests>=2.31->yfinance) (3.4)\n",
      "Requirement already satisfied: urllib3<3,>=1.21.1 in d:\\dev\\tcd\\estatistica_mercado_financeiro\\estats_mercado\\lib\\site-packages (from requests>=2.31->yfinance) (2.0.4)\n",
      "Requirement already satisfied: certifi>=2017.4.17 in d:\\dev\\tcd\\estatistica_mercado_financeiro\\estats_mercado\\lib\\site-packages (from requests>=2.31->yfinance) (2023.7.22)\n",
      "Note: you may need to restart the kernel to use updated packages.\n",
      "Requirement already satisfied: numpy in d:\\dev\\tcd\\estatistica_mercado_financeiro\\estats_mercado\\lib\\site-packages (1.23.5)\n",
      "Note: you may need to restart the kernel to use updated packages.\n",
      "Requirement already satisfied: pandas in d:\\dev\\tcd\\estatistica_mercado_financeiro\\estats_mercado\\lib\\site-packages (2.0.3)\n",
      "Requirement already satisfied: python-dateutil>=2.8.2 in d:\\dev\\tcd\\estatistica_mercado_financeiro\\estats_mercado\\lib\\site-packages (from pandas) (2.8.2)\n",
      "Requirement already satisfied: pytz>=2020.1 in d:\\dev\\tcd\\estatistica_mercado_financeiro\\estats_mercado\\lib\\site-packages (from pandas) (2023.3)\n",
      "Requirement already satisfied: tzdata>=2022.1 in d:\\dev\\tcd\\estatistica_mercado_financeiro\\estats_mercado\\lib\\site-packages (from pandas) (2023.3)\n",
      "Requirement already satisfied: numpy>=1.21.0 in d:\\dev\\tcd\\estatistica_mercado_financeiro\\estats_mercado\\lib\\site-packages (from pandas) (1.23.5)\n",
      "Requirement already satisfied: six>=1.5 in d:\\dev\\tcd\\estatistica_mercado_financeiro\\estats_mercado\\lib\\site-packages (from python-dateutil>=2.8.2->pandas) (1.16.0)\n",
      "Note: you may need to restart the kernel to use updated packages.\n",
      "Requirement already satisfied: scipy in d:\\dev\\tcd\\estatistica_mercado_financeiro\\estats_mercado\\lib\\site-packages (1.11.1)\n",
      "Requirement already satisfied: numpy<1.28.0,>=1.21.6 in d:\\dev\\tcd\\estatistica_mercado_financeiro\\estats_mercado\\lib\\site-packages (from scipy) (1.23.5)\n",
      "Note: you may need to restart the kernel to use updated packages.\n",
      "Requirement already satisfied: statsmodels in d:\\dev\\tcd\\estatistica_mercado_financeiro\\estats_mercado\\lib\\site-packages (0.14.0)\n",
      "Requirement already satisfied: numpy>=1.18 in d:\\dev\\tcd\\estatistica_mercado_financeiro\\estats_mercado\\lib\\site-packages (from statsmodels) (1.23.5)\n",
      "Requirement already satisfied: scipy!=1.9.2,>=1.4 in d:\\dev\\tcd\\estatistica_mercado_financeiro\\estats_mercado\\lib\\site-packages (from statsmodels) (1.11.1)\n",
      "Requirement already satisfied: pandas>=1.0 in d:\\dev\\tcd\\estatistica_mercado_financeiro\\estats_mercado\\lib\\site-packages (from statsmodels) (2.0.3)\n",
      "Requirement already satisfied: patsy>=0.5.2 in d:\\dev\\tcd\\estatistica_mercado_financeiro\\estats_mercado\\lib\\site-packages (from statsmodels) (0.5.3)\n",
      "Requirement already satisfied: packaging>=21.3 in d:\\dev\\tcd\\estatistica_mercado_financeiro\\estats_mercado\\lib\\site-packages (from statsmodels) (23.1)\n",
      "Requirement already satisfied: python-dateutil>=2.8.2 in d:\\dev\\tcd\\estatistica_mercado_financeiro\\estats_mercado\\lib\\site-packages (from pandas>=1.0->statsmodels) (2.8.2)\n",
      "Requirement already satisfied: pytz>=2020.1 in d:\\dev\\tcd\\estatistica_mercado_financeiro\\estats_mercado\\lib\\site-packages (from pandas>=1.0->statsmodels) (2023.3)\n",
      "Requirement already satisfied: tzdata>=2022.1 in d:\\dev\\tcd\\estatistica_mercado_financeiro\\estats_mercado\\lib\\site-packages (from pandas>=1.0->statsmodels) (2023.3)\n",
      "Requirement already satisfied: six in d:\\dev\\tcd\\estatistica_mercado_financeiro\\estats_mercado\\lib\\site-packages (from patsy>=0.5.2->statsmodels) (1.16.0)\n",
      "Note: you may need to restart the kernel to use updated packages.\n",
      "Requirement already satisfied: yfinance in d:\\dev\\tcd\\estatistica_mercado_financeiro\\estats_mercado\\lib\\site-packages (0.2.27)\n",
      "Requirement already satisfied: pandas>=1.3.0 in d:\\dev\\tcd\\estatistica_mercado_financeiro\\estats_mercado\\lib\\site-packages (from yfinance) (2.0.3)\n",
      "Requirement already satisfied: numpy>=1.16.5 in d:\\dev\\tcd\\estatistica_mercado_financeiro\\estats_mercado\\lib\\site-packages (from yfinance) (1.23.5)\n",
      "Requirement already satisfied: requests>=2.31 in d:\\dev\\tcd\\estatistica_mercado_financeiro\\estats_mercado\\lib\\site-packages (from yfinance) (2.31.0)\n",
      "Requirement already satisfied: multitasking>=0.0.7 in d:\\dev\\tcd\\estatistica_mercado_financeiro\\estats_mercado\\lib\\site-packages (from yfinance) (0.0.11)\n",
      "Requirement already satisfied: lxml>=4.9.1 in d:\\dev\\tcd\\estatistica_mercado_financeiro\\estats_mercado\\lib\\site-packages (from yfinance) (4.9.3)\n",
      "Requirement already satisfied: appdirs>=1.4.4 in d:\\dev\\tcd\\estatistica_mercado_financeiro\\estats_mercado\\lib\\site-packages (from yfinance) (1.4.4)\n",
      "Requirement already satisfied: pytz>=2022.5 in d:\\dev\\tcd\\estatistica_mercado_financeiro\\estats_mercado\\lib\\site-packages (from yfinance) (2023.3)\n",
      "Requirement already satisfied: frozendict>=2.3.4 in d:\\dev\\tcd\\estatistica_mercado_financeiro\\estats_mercado\\lib\\site-packages (from yfinance) (2.3.8)\n",
      "Requirement already satisfied: beautifulsoup4>=4.11.1 in d:\\dev\\tcd\\estatistica_mercado_financeiro\\estats_mercado\\lib\\site-packages (from yfinance) (4.12.2)\n",
      "Requirement already satisfied: html5lib>=1.1 in d:\\dev\\tcd\\estatistica_mercado_financeiro\\estats_mercado\\lib\\site-packages (from yfinance) (1.1)\n",
      "Requirement already satisfied: soupsieve>1.2 in d:\\dev\\tcd\\estatistica_mercado_financeiro\\estats_mercado\\lib\\site-packages (from beautifulsoup4>=4.11.1->yfinance) (2.4.1)\n",
      "Requirement already satisfied: six>=1.9 in d:\\dev\\tcd\\estatistica_mercado_financeiro\\estats_mercado\\lib\\site-packages (from html5lib>=1.1->yfinance) (1.16.0)\n",
      "Requirement already satisfied: webencodings in d:\\dev\\tcd\\estatistica_mercado_financeiro\\estats_mercado\\lib\\site-packages (from html5lib>=1.1->yfinance) (0.5.1)\n",
      "Requirement already satisfied: python-dateutil>=2.8.2 in d:\\dev\\tcd\\estatistica_mercado_financeiro\\estats_mercado\\lib\\site-packages (from pandas>=1.3.0->yfinance) (2.8.2)\n",
      "Requirement already satisfied: tzdata>=2022.1 in d:\\dev\\tcd\\estatistica_mercado_financeiro\\estats_mercado\\lib\\site-packages (from pandas>=1.3.0->yfinance) (2023.3)\n",
      "Requirement already satisfied: charset-normalizer<4,>=2 in d:\\dev\\tcd\\estatistica_mercado_financeiro\\estats_mercado\\lib\\site-packages (from requests>=2.31->yfinance) (3.2.0)\n",
      "Requirement already satisfied: idna<4,>=2.5 in d:\\dev\\tcd\\estatistica_mercado_financeiro\\estats_mercado\\lib\\site-packages (from requests>=2.31->yfinance) (3.4)\n",
      "Requirement already satisfied: urllib3<3,>=1.21.1 in d:\\dev\\tcd\\estatistica_mercado_financeiro\\estats_mercado\\lib\\site-packages (from requests>=2.31->yfinance) (2.0.4)\n",
      "Requirement already satisfied: certifi>=2017.4.17 in d:\\dev\\tcd\\estatistica_mercado_financeiro\\estats_mercado\\lib\\site-packages (from requests>=2.31->yfinance) (2023.7.22)\n",
      "Note: you may need to restart the kernel to use updated packages.\n",
      "Requirement already satisfied: seaborn in d:\\dev\\tcd\\estatistica_mercado_financeiro\\estats_mercado\\lib\\site-packages (0.12.2)\n",
      "Requirement already satisfied: numpy!=1.24.0,>=1.17 in d:\\dev\\tcd\\estatistica_mercado_financeiro\\estats_mercado\\lib\\site-packages (from seaborn) (1.23.5)\n",
      "Requirement already satisfied: pandas>=0.25 in d:\\dev\\tcd\\estatistica_mercado_financeiro\\estats_mercado\\lib\\site-packages (from seaborn) (2.0.3)\n",
      "Requirement already satisfied: matplotlib!=3.6.1,>=3.1 in d:\\dev\\tcd\\estatistica_mercado_financeiro\\estats_mercado\\lib\\site-packages (from seaborn) (3.7.2)\n",
      "Requirement already satisfied: contourpy>=1.0.1 in d:\\dev\\tcd\\estatistica_mercado_financeiro\\estats_mercado\\lib\\site-packages (from matplotlib!=3.6.1,>=3.1->seaborn) (1.1.0)\n",
      "Requirement already satisfied: cycler>=0.10 in d:\\dev\\tcd\\estatistica_mercado_financeiro\\estats_mercado\\lib\\site-packages (from matplotlib!=3.6.1,>=3.1->seaborn) (0.11.0)\n",
      "Requirement already satisfied: fonttools>=4.22.0 in d:\\dev\\tcd\\estatistica_mercado_financeiro\\estats_mercado\\lib\\site-packages (from matplotlib!=3.6.1,>=3.1->seaborn) (4.42.0)\n",
      "Requirement already satisfied: kiwisolver>=1.0.1 in d:\\dev\\tcd\\estatistica_mercado_financeiro\\estats_mercado\\lib\\site-packages (from matplotlib!=3.6.1,>=3.1->seaborn) (1.4.4)\n",
      "Requirement already satisfied: packaging>=20.0 in d:\\dev\\tcd\\estatistica_mercado_financeiro\\estats_mercado\\lib\\site-packages (from matplotlib!=3.6.1,>=3.1->seaborn) (23.1)\n",
      "Requirement already satisfied: pillow>=6.2.0 in d:\\dev\\tcd\\estatistica_mercado_financeiro\\estats_mercado\\lib\\site-packages (from matplotlib!=3.6.1,>=3.1->seaborn) (10.0.0)\n",
      "Requirement already satisfied: pyparsing<3.1,>=2.3.1 in d:\\dev\\tcd\\estatistica_mercado_financeiro\\estats_mercado\\lib\\site-packages (from matplotlib!=3.6.1,>=3.1->seaborn) (3.0.9)\n",
      "Requirement already satisfied: python-dateutil>=2.7 in d:\\dev\\tcd\\estatistica_mercado_financeiro\\estats_mercado\\lib\\site-packages (from matplotlib!=3.6.1,>=3.1->seaborn) (2.8.2)\n",
      "Requirement already satisfied: pytz>=2020.1 in d:\\dev\\tcd\\estatistica_mercado_financeiro\\estats_mercado\\lib\\site-packages (from pandas>=0.25->seaborn) (2023.3)\n",
      "Requirement already satisfied: tzdata>=2022.1 in d:\\dev\\tcd\\estatistica_mercado_financeiro\\estats_mercado\\lib\\site-packages (from pandas>=0.25->seaborn) (2023.3)\n",
      "Requirement already satisfied: six>=1.5 in d:\\dev\\tcd\\estatistica_mercado_financeiro\\estats_mercado\\lib\\site-packages (from python-dateutil>=2.7->matplotlib!=3.6.1,>=3.1->seaborn) (1.16.0)\n",
      "Note: you may need to restart the kernel to use updated packages.\n",
      "Requirement already satisfied: plotly in d:\\dev\\tcd\\estatistica_mercado_financeiro\\estats_mercado\\lib\\site-packages (5.15.0)\n",
      "Requirement already satisfied: tenacity>=6.2.0 in d:\\dev\\tcd\\estatistica_mercado_financeiro\\estats_mercado\\lib\\site-packages (from plotly) (8.2.2)\n",
      "Requirement already satisfied: packaging in d:\\dev\\tcd\\estatistica_mercado_financeiro\\estats_mercado\\lib\\site-packages (from plotly) (23.1)\n",
      "Note: you may need to restart the kernel to use updated packages.\n",
      "Requirement already satisfied: nbformat in d:\\dev\\tcd\\estatistica_mercado_financeiro\\estats_mercado\\lib\\site-packages (5.9.2)\n",
      "Requirement already satisfied: fastjsonschema in d:\\dev\\tcd\\estatistica_mercado_financeiro\\estats_mercado\\lib\\site-packages (from nbformat) (2.18.0)\n",
      "Requirement already satisfied: jsonschema>=2.6 in d:\\dev\\tcd\\estatistica_mercado_financeiro\\estats_mercado\\lib\\site-packages (from nbformat) (4.18.6)\n",
      "Requirement already satisfied: jupyter-core in d:\\dev\\tcd\\estatistica_mercado_financeiro\\estats_mercado\\lib\\site-packages (from nbformat) (5.3.1)\n",
      "Requirement already satisfied: traitlets>=5.1 in d:\\dev\\tcd\\estatistica_mercado_financeiro\\estats_mercado\\lib\\site-packages (from nbformat) (5.9.0)\n",
      "Requirement already satisfied: attrs>=22.2.0 in d:\\dev\\tcd\\estatistica_mercado_financeiro\\estats_mercado\\lib\\site-packages (from jsonschema>=2.6->nbformat) (23.1.0)\n",
      "Requirement already satisfied: jsonschema-specifications>=2023.03.6 in d:\\dev\\tcd\\estatistica_mercado_financeiro\\estats_mercado\\lib\\site-packages (from jsonschema>=2.6->nbformat) (2023.7.1)\n",
      "Requirement already satisfied: referencing>=0.28.4 in d:\\dev\\tcd\\estatistica_mercado_financeiro\\estats_mercado\\lib\\site-packages (from jsonschema>=2.6->nbformat) (0.30.2)\n",
      "Requirement already satisfied: rpds-py>=0.7.1 in d:\\dev\\tcd\\estatistica_mercado_financeiro\\estats_mercado\\lib\\site-packages (from jsonschema>=2.6->nbformat) (0.9.2)\n",
      "Requirement already satisfied: platformdirs>=2.5 in d:\\dev\\tcd\\estatistica_mercado_financeiro\\estats_mercado\\lib\\site-packages (from jupyter-core->nbformat) (3.10.0)\n",
      "Requirement already satisfied: pywin32>=300 in d:\\dev\\tcd\\estatistica_mercado_financeiro\\estats_mercado\\lib\\site-packages (from jupyter-core->nbformat) (306)\n",
      "Note: you may need to restart the kernel to use updated packages.\n"
     ]
    }
   ],
   "source": [
    "!python310.exe -m pip install --upgrade pip\n",
    "%pip install yfinance\n",
    "%pip install numpy\n",
    "%pip install pandas\n",
    "%pip install scipy\n",
    "%pip install statsmodels\n",
    "%pip install yfinance\n",
    "%pip install seaborn\n",
    "%pip install plotly\n",
    "%pip install nbformat"
   ]
  },
  {
   "cell_type": "code",
   "execution_count": 2,
   "metadata": {},
   "outputs": [],
   "source": [
    "import numpy as np\n",
    "import pandas as pd\n",
    "from scipy import stats\n",
    "from statsmodels.stats.multicomp import pairwise_tukeyhsd\n",
    "import seaborn as sns\n",
    "import plotly.graph_objects as go\n",
    "import plotly.express as px\n",
    "from plotly.subplots import make_subplots\n",
    "import matplotlib.pyplot as plt"
   ]
  },
  {
   "cell_type": "code",
   "execution_count": 3,
   "metadata": {},
   "outputs": [
    {
     "data": {
      "application/vnd.plotly.v1+json": {
       "config": {
        "plotlyServerURL": "https://plot.ly"
       },
       "data": [
        {
         "hovertemplate": "x=%{x}<br>y=%{y}<extra></extra>",
         "legendgroup": "",
         "marker": {
          "color": "#1F77B4",
          "symbol": "circle"
         },
         "mode": "markers",
         "name": "",
         "orientation": "v",
         "showlegend": false,
         "type": "scatter",
         "x": [
          18,
          48,
          10,
          16,
          38,
          34,
          25,
          44,
          35,
          26,
          2,
          46,
          37,
          13,
          10,
          9,
          11,
          2,
          32,
          19,
          21,
          19,
          11,
          22,
          11,
          1,
          18,
          24,
          28,
          11
         ],
         "xaxis": "x",
         "y": [
          40,
          12,
          22,
          34,
          39,
          35,
          5,
          24,
          21,
          49,
          24,
          49,
          45,
          7,
          7,
          6,
          15,
          22,
          38,
          19,
          48,
          10,
          24,
          45,
          22,
          36,
          30,
          19,
          5,
          0
         ],
         "yaxis": "y"
        }
       ],
       "layout": {
        "height": 400,
        "legend": {
         "tracegroupgap": 0
        },
        "margin": {
         "b": 20,
         "l": 20,
         "r": 20,
         "t": 20
        },
        "paper_bgcolor": "#f7f8fa",
        "template": {
         "data": {
          "bar": [
           {
            "error_x": {
             "color": "rgb(36,36,36)"
            },
            "error_y": {
             "color": "rgb(36,36,36)"
            },
            "marker": {
             "line": {
              "color": "white",
              "width": 0.5
             },
             "pattern": {
              "fillmode": "overlay",
              "size": 10,
              "solidity": 0.2
             }
            },
            "type": "bar"
           }
          ],
          "barpolar": [
           {
            "marker": {
             "line": {
              "color": "white",
              "width": 0.5
             },
             "pattern": {
              "fillmode": "overlay",
              "size": 10,
              "solidity": 0.2
             }
            },
            "type": "barpolar"
           }
          ],
          "carpet": [
           {
            "aaxis": {
             "endlinecolor": "rgb(36,36,36)",
             "gridcolor": "white",
             "linecolor": "white",
             "minorgridcolor": "white",
             "startlinecolor": "rgb(36,36,36)"
            },
            "baxis": {
             "endlinecolor": "rgb(36,36,36)",
             "gridcolor": "white",
             "linecolor": "white",
             "minorgridcolor": "white",
             "startlinecolor": "rgb(36,36,36)"
            },
            "type": "carpet"
           }
          ],
          "choropleth": [
           {
            "colorbar": {
             "outlinewidth": 1,
             "tickcolor": "rgb(36,36,36)",
             "ticks": "outside"
            },
            "type": "choropleth"
           }
          ],
          "contour": [
           {
            "colorbar": {
             "outlinewidth": 1,
             "tickcolor": "rgb(36,36,36)",
             "ticks": "outside"
            },
            "colorscale": [
             [
              0,
              "#440154"
             ],
             [
              0.1111111111111111,
              "#482878"
             ],
             [
              0.2222222222222222,
              "#3e4989"
             ],
             [
              0.3333333333333333,
              "#31688e"
             ],
             [
              0.4444444444444444,
              "#26828e"
             ],
             [
              0.5555555555555556,
              "#1f9e89"
             ],
             [
              0.6666666666666666,
              "#35b779"
             ],
             [
              0.7777777777777778,
              "#6ece58"
             ],
             [
              0.8888888888888888,
              "#b5de2b"
             ],
             [
              1,
              "#fde725"
             ]
            ],
            "type": "contour"
           }
          ],
          "contourcarpet": [
           {
            "colorbar": {
             "outlinewidth": 1,
             "tickcolor": "rgb(36,36,36)",
             "ticks": "outside"
            },
            "type": "contourcarpet"
           }
          ],
          "heatmap": [
           {
            "colorbar": {
             "outlinewidth": 1,
             "tickcolor": "rgb(36,36,36)",
             "ticks": "outside"
            },
            "colorscale": [
             [
              0,
              "#440154"
             ],
             [
              0.1111111111111111,
              "#482878"
             ],
             [
              0.2222222222222222,
              "#3e4989"
             ],
             [
              0.3333333333333333,
              "#31688e"
             ],
             [
              0.4444444444444444,
              "#26828e"
             ],
             [
              0.5555555555555556,
              "#1f9e89"
             ],
             [
              0.6666666666666666,
              "#35b779"
             ],
             [
              0.7777777777777778,
              "#6ece58"
             ],
             [
              0.8888888888888888,
              "#b5de2b"
             ],
             [
              1,
              "#fde725"
             ]
            ],
            "type": "heatmap"
           }
          ],
          "heatmapgl": [
           {
            "colorbar": {
             "outlinewidth": 1,
             "tickcolor": "rgb(36,36,36)",
             "ticks": "outside"
            },
            "colorscale": [
             [
              0,
              "#440154"
             ],
             [
              0.1111111111111111,
              "#482878"
             ],
             [
              0.2222222222222222,
              "#3e4989"
             ],
             [
              0.3333333333333333,
              "#31688e"
             ],
             [
              0.4444444444444444,
              "#26828e"
             ],
             [
              0.5555555555555556,
              "#1f9e89"
             ],
             [
              0.6666666666666666,
              "#35b779"
             ],
             [
              0.7777777777777778,
              "#6ece58"
             ],
             [
              0.8888888888888888,
              "#b5de2b"
             ],
             [
              1,
              "#fde725"
             ]
            ],
            "type": "heatmapgl"
           }
          ],
          "histogram": [
           {
            "marker": {
             "line": {
              "color": "white",
              "width": 0.6
             }
            },
            "type": "histogram"
           }
          ],
          "histogram2d": [
           {
            "colorbar": {
             "outlinewidth": 1,
             "tickcolor": "rgb(36,36,36)",
             "ticks": "outside"
            },
            "colorscale": [
             [
              0,
              "#440154"
             ],
             [
              0.1111111111111111,
              "#482878"
             ],
             [
              0.2222222222222222,
              "#3e4989"
             ],
             [
              0.3333333333333333,
              "#31688e"
             ],
             [
              0.4444444444444444,
              "#26828e"
             ],
             [
              0.5555555555555556,
              "#1f9e89"
             ],
             [
              0.6666666666666666,
              "#35b779"
             ],
             [
              0.7777777777777778,
              "#6ece58"
             ],
             [
              0.8888888888888888,
              "#b5de2b"
             ],
             [
              1,
              "#fde725"
             ]
            ],
            "type": "histogram2d"
           }
          ],
          "histogram2dcontour": [
           {
            "colorbar": {
             "outlinewidth": 1,
             "tickcolor": "rgb(36,36,36)",
             "ticks": "outside"
            },
            "colorscale": [
             [
              0,
              "#440154"
             ],
             [
              0.1111111111111111,
              "#482878"
             ],
             [
              0.2222222222222222,
              "#3e4989"
             ],
             [
              0.3333333333333333,
              "#31688e"
             ],
             [
              0.4444444444444444,
              "#26828e"
             ],
             [
              0.5555555555555556,
              "#1f9e89"
             ],
             [
              0.6666666666666666,
              "#35b779"
             ],
             [
              0.7777777777777778,
              "#6ece58"
             ],
             [
              0.8888888888888888,
              "#b5de2b"
             ],
             [
              1,
              "#fde725"
             ]
            ],
            "type": "histogram2dcontour"
           }
          ],
          "mesh3d": [
           {
            "colorbar": {
             "outlinewidth": 1,
             "tickcolor": "rgb(36,36,36)",
             "ticks": "outside"
            },
            "type": "mesh3d"
           }
          ],
          "parcoords": [
           {
            "line": {
             "colorbar": {
              "outlinewidth": 1,
              "tickcolor": "rgb(36,36,36)",
              "ticks": "outside"
             }
            },
            "type": "parcoords"
           }
          ],
          "pie": [
           {
            "automargin": true,
            "type": "pie"
           }
          ],
          "scatter": [
           {
            "fillpattern": {
             "fillmode": "overlay",
             "size": 10,
             "solidity": 0.2
            },
            "type": "scatter"
           }
          ],
          "scatter3d": [
           {
            "line": {
             "colorbar": {
              "outlinewidth": 1,
              "tickcolor": "rgb(36,36,36)",
              "ticks": "outside"
             }
            },
            "marker": {
             "colorbar": {
              "outlinewidth": 1,
              "tickcolor": "rgb(36,36,36)",
              "ticks": "outside"
             }
            },
            "type": "scatter3d"
           }
          ],
          "scattercarpet": [
           {
            "marker": {
             "colorbar": {
              "outlinewidth": 1,
              "tickcolor": "rgb(36,36,36)",
              "ticks": "outside"
             }
            },
            "type": "scattercarpet"
           }
          ],
          "scattergeo": [
           {
            "marker": {
             "colorbar": {
              "outlinewidth": 1,
              "tickcolor": "rgb(36,36,36)",
              "ticks": "outside"
             }
            },
            "type": "scattergeo"
           }
          ],
          "scattergl": [
           {
            "marker": {
             "colorbar": {
              "outlinewidth": 1,
              "tickcolor": "rgb(36,36,36)",
              "ticks": "outside"
             }
            },
            "type": "scattergl"
           }
          ],
          "scattermapbox": [
           {
            "marker": {
             "colorbar": {
              "outlinewidth": 1,
              "tickcolor": "rgb(36,36,36)",
              "ticks": "outside"
             }
            },
            "type": "scattermapbox"
           }
          ],
          "scatterpolar": [
           {
            "marker": {
             "colorbar": {
              "outlinewidth": 1,
              "tickcolor": "rgb(36,36,36)",
              "ticks": "outside"
             }
            },
            "type": "scatterpolar"
           }
          ],
          "scatterpolargl": [
           {
            "marker": {
             "colorbar": {
              "outlinewidth": 1,
              "tickcolor": "rgb(36,36,36)",
              "ticks": "outside"
             }
            },
            "type": "scatterpolargl"
           }
          ],
          "scatterternary": [
           {
            "marker": {
             "colorbar": {
              "outlinewidth": 1,
              "tickcolor": "rgb(36,36,36)",
              "ticks": "outside"
             }
            },
            "type": "scatterternary"
           }
          ],
          "surface": [
           {
            "colorbar": {
             "outlinewidth": 1,
             "tickcolor": "rgb(36,36,36)",
             "ticks": "outside"
            },
            "colorscale": [
             [
              0,
              "#440154"
             ],
             [
              0.1111111111111111,
              "#482878"
             ],
             [
              0.2222222222222222,
              "#3e4989"
             ],
             [
              0.3333333333333333,
              "#31688e"
             ],
             [
              0.4444444444444444,
              "#26828e"
             ],
             [
              0.5555555555555556,
              "#1f9e89"
             ],
             [
              0.6666666666666666,
              "#35b779"
             ],
             [
              0.7777777777777778,
              "#6ece58"
             ],
             [
              0.8888888888888888,
              "#b5de2b"
             ],
             [
              1,
              "#fde725"
             ]
            ],
            "type": "surface"
           }
          ],
          "table": [
           {
            "cells": {
             "fill": {
              "color": "rgb(237,237,237)"
             },
             "line": {
              "color": "white"
             }
            },
            "header": {
             "fill": {
              "color": "rgb(217,217,217)"
             },
             "line": {
              "color": "white"
             }
            },
            "type": "table"
           }
          ]
         },
         "layout": {
          "annotationdefaults": {
           "arrowhead": 0,
           "arrowwidth": 1
          },
          "autotypenumbers": "strict",
          "coloraxis": {
           "colorbar": {
            "outlinewidth": 1,
            "tickcolor": "rgb(36,36,36)",
            "ticks": "outside"
           }
          },
          "colorscale": {
           "diverging": [
            [
             0,
             "rgb(103,0,31)"
            ],
            [
             0.1,
             "rgb(178,24,43)"
            ],
            [
             0.2,
             "rgb(214,96,77)"
            ],
            [
             0.3,
             "rgb(244,165,130)"
            ],
            [
             0.4,
             "rgb(253,219,199)"
            ],
            [
             0.5,
             "rgb(247,247,247)"
            ],
            [
             0.6,
             "rgb(209,229,240)"
            ],
            [
             0.7,
             "rgb(146,197,222)"
            ],
            [
             0.8,
             "rgb(67,147,195)"
            ],
            [
             0.9,
             "rgb(33,102,172)"
            ],
            [
             1,
             "rgb(5,48,97)"
            ]
           ],
           "sequential": [
            [
             0,
             "#440154"
            ],
            [
             0.1111111111111111,
             "#482878"
            ],
            [
             0.2222222222222222,
             "#3e4989"
            ],
            [
             0.3333333333333333,
             "#31688e"
            ],
            [
             0.4444444444444444,
             "#26828e"
            ],
            [
             0.5555555555555556,
             "#1f9e89"
            ],
            [
             0.6666666666666666,
             "#35b779"
            ],
            [
             0.7777777777777778,
             "#6ece58"
            ],
            [
             0.8888888888888888,
             "#b5de2b"
            ],
            [
             1,
             "#fde725"
            ]
           ],
           "sequentialminus": [
            [
             0,
             "#440154"
            ],
            [
             0.1111111111111111,
             "#482878"
            ],
            [
             0.2222222222222222,
             "#3e4989"
            ],
            [
             0.3333333333333333,
             "#31688e"
            ],
            [
             0.4444444444444444,
             "#26828e"
            ],
            [
             0.5555555555555556,
             "#1f9e89"
            ],
            [
             0.6666666666666666,
             "#35b779"
            ],
            [
             0.7777777777777778,
             "#6ece58"
            ],
            [
             0.8888888888888888,
             "#b5de2b"
            ],
            [
             1,
             "#fde725"
            ]
           ]
          },
          "colorway": [
           "#1F77B4",
           "#FF7F0E",
           "#2CA02C",
           "#D62728",
           "#9467BD",
           "#8C564B",
           "#E377C2",
           "#7F7F7F",
           "#BCBD22",
           "#17BECF"
          ],
          "font": {
           "color": "rgb(36,36,36)"
          },
          "geo": {
           "bgcolor": "white",
           "lakecolor": "white",
           "landcolor": "white",
           "showlakes": true,
           "showland": true,
           "subunitcolor": "white"
          },
          "hoverlabel": {
           "align": "left"
          },
          "hovermode": "closest",
          "mapbox": {
           "style": "light"
          },
          "paper_bgcolor": "white",
          "plot_bgcolor": "white",
          "polar": {
           "angularaxis": {
            "gridcolor": "rgb(232,232,232)",
            "linecolor": "rgb(36,36,36)",
            "showgrid": false,
            "showline": true,
            "ticks": "outside"
           },
           "bgcolor": "white",
           "radialaxis": {
            "gridcolor": "rgb(232,232,232)",
            "linecolor": "rgb(36,36,36)",
            "showgrid": false,
            "showline": true,
            "ticks": "outside"
           }
          },
          "scene": {
           "xaxis": {
            "backgroundcolor": "white",
            "gridcolor": "rgb(232,232,232)",
            "gridwidth": 2,
            "linecolor": "rgb(36,36,36)",
            "showbackground": true,
            "showgrid": false,
            "showline": true,
            "ticks": "outside",
            "zeroline": false,
            "zerolinecolor": "rgb(36,36,36)"
           },
           "yaxis": {
            "backgroundcolor": "white",
            "gridcolor": "rgb(232,232,232)",
            "gridwidth": 2,
            "linecolor": "rgb(36,36,36)",
            "showbackground": true,
            "showgrid": false,
            "showline": true,
            "ticks": "outside",
            "zeroline": false,
            "zerolinecolor": "rgb(36,36,36)"
           },
           "zaxis": {
            "backgroundcolor": "white",
            "gridcolor": "rgb(232,232,232)",
            "gridwidth": 2,
            "linecolor": "rgb(36,36,36)",
            "showbackground": true,
            "showgrid": false,
            "showline": true,
            "ticks": "outside",
            "zeroline": false,
            "zerolinecolor": "rgb(36,36,36)"
           }
          },
          "shapedefaults": {
           "fillcolor": "black",
           "line": {
            "width": 0
           },
           "opacity": 0.3
          },
          "ternary": {
           "aaxis": {
            "gridcolor": "rgb(232,232,232)",
            "linecolor": "rgb(36,36,36)",
            "showgrid": false,
            "showline": true,
            "ticks": "outside"
           },
           "baxis": {
            "gridcolor": "rgb(232,232,232)",
            "linecolor": "rgb(36,36,36)",
            "showgrid": false,
            "showline": true,
            "ticks": "outside"
           },
           "bgcolor": "white",
           "caxis": {
            "gridcolor": "rgb(232,232,232)",
            "linecolor": "rgb(36,36,36)",
            "showgrid": false,
            "showline": true,
            "ticks": "outside"
           }
          },
          "title": {
           "x": 0.05
          },
          "xaxis": {
           "automargin": true,
           "gridcolor": "rgb(232,232,232)",
           "linecolor": "rgb(36,36,36)",
           "showgrid": false,
           "showline": true,
           "ticks": "outside",
           "title": {
            "standoff": 15
           },
           "zeroline": false,
           "zerolinecolor": "rgb(36,36,36)"
          },
          "yaxis": {
           "automargin": true,
           "gridcolor": "rgb(232,232,232)",
           "linecolor": "rgb(36,36,36)",
           "showgrid": false,
           "showline": true,
           "ticks": "outside",
           "title": {
            "standoff": 15
           },
           "zeroline": false,
           "zerolinecolor": "rgb(36,36,36)"
          }
         }
        },
        "width": 400,
        "xaxis": {
         "anchor": "y",
         "domain": [
          0,
          1
         ],
         "title": {
          "text": "x"
         }
        },
        "yaxis": {
         "anchor": "x",
         "domain": [
          0,
          1
         ],
         "title": {
          "text": "y"
         }
        }
       }
      }
     },
     "metadata": {},
     "output_type": "display_data"
    }
   ],
   "source": [
    "np.random.seed(13)\n",
    "a = np.random.randint(50, size = 30)\n",
    "b = np.random.randint(50, size = 30)\n",
    "ab = zip(a,b)\n",
    "fig = px.scatter(ab, x=a, y=b, template='simple_white', width=400, height=400)\n",
    "fig.update_layout(paper_bgcolor=\"#f7f8fa\", margin=dict(l=20, r=20, t=20, b=20))"
   ]
  },
  {
   "cell_type": "code",
   "execution_count": 4,
   "metadata": {},
   "outputs": [
    {
     "data": {
      "image/png": "[encoded data removed]",
      "text/plain": [
       "<Figure size 640x480 with 1 Axes>"
      ]
     },
     "metadata": {},
     "output_type": "display_data"
    }
   ],
   "source": [
    "normal_dist = np.random.normal(0, 1, 1000)\n",
    "normal_fig01 = sns.histplot(normal_dist, kde=True)"
   ]
  },
  {
   "cell_type": "markdown",
   "metadata": {},
   "source": [
    "Medidas de Posição"
   ]
  },
  {
   "cell_type": "code",
   "execution_count": 5,
   "metadata": {},
   "outputs": [
    {
     "name": "stdout",
     "output_type": "stream",
     "text": [
      "0.0017066272520296834\n",
      "0.0239444097099838\n",
      "ModeResult(mode=-2.8662660210883883, count=1)\n"
     ]
    }
   ],
   "source": [
    "print(np.mean(normal_dist))\n",
    "print(np.median(normal_dist))\n",
    "print(stats.mode(normal_dist))"
   ]
  },
  {
   "cell_type": "code",
   "execution_count": 6,
   "metadata": {},
   "outputs": [
    {
     "name": "stdout",
     "output_type": "stream",
     "text": [
      "0.0\n",
      "0.02\n"
     ]
    }
   ],
   "source": [
    "print(round(np.mean(normal_dist), 2))\n",
    "print(round(np.median(normal_dist), 2))"
   ]
  },
  {
   "cell_type": "code",
   "execution_count": 7,
   "metadata": {},
   "outputs": [
    {
     "data": {
      "application/vnd.plotly.v1+json": {
       "config": {
        "plotlyServerURL": "https://plot.ly"
       },
       "data": [
        {
         "alignmentgroup": "True",
         "bingroup": "x",
         "hovertemplate": "variable=0<br>value=%{x}<br>count=%{y}<extra></extra>",
         "legendgroup": "0",
         "marker": {
          "color": "lightseagreen",
          "pattern": {
           "shape": ""
          }
         },
         "name": "0",
         "offsetgroup": "0",
         "orientation": "v",
         "showlegend": true,
         "type": "histogram",
         "x": [
          -1.1358305618865185,
          1.0607627223228102,
          -0.7474332918867581,
          0.22530011383406387,
          -0.7441699502499368,
          0.06461288918391365,
          -0.5834558910359313,
          -0.33046573838333326,
          2.1776328219118892,
          0.7498035589010191,
          1.8402420668406734,
          -0.02659946689866344,
          -0.8850620992868307,
          0.07272674611277782,
          -0.82751910119974,
          -0.591550921883219,
          -2.186215625579764,
          -1.4304503608169532,
          0.0011826166332745463,
          -0.15241870550020373,
          1.4418010391482912,
          -0.18492174250837645,
          -0.2298977614525365,
          -0.2633773007599446,
          -0.08286224131163808,
          -0.38505688002448574,
          -0.10105117176246801,
          0.33115422310589987,
          0.04329942581647413,
          -0.44997653600849435,
          0.3471981374467132,
          1.4591000886192282,
          0.3483897088114233,
          -0.03670271298595124,
          1.0122837292327693,
          0.06789108084640182,
          -0.8418695858997429,
          0.2858648571462273,
          -1.4415215941772148,
          -0.32524355577739633,
          1.870179622896955,
          -1.1207169779316464,
          -0.21688903272967341,
          -0.05506393630538636,
          0.08228719875932666,
          -0.4181428004079261,
          1.2010427917144373,
          0.30216691953884606,
          0.4030580617104312,
          0.23326856384416456,
          -0.4818862230590971,
          1.3285700752230898,
          -0.7234232339046373,
          -1.8858570174090399,
          0.35592168399245944,
          -0.20608068534039048,
          -0.6596602000262177,
          -1.0216923926024302,
          0.20832548927679678,
          -1.4443736201307587,
          0.7754918643476363,
          -0.27568055143859577,
          -0.5686448059493728,
          0.15605188199713882,
          -1.3104457760282537,
          -0.14344886693323078,
          1.1840846224539967,
          -0.3301765311709577,
          0.19330962336835625,
          -1.5370383922614097,
          -0.03251264522834058,
          -1.5892108664662696,
          -1.310736453854791,
          0.5731411265196769,
          0.06987590816074955,
          -0.16156045174678924,
          1.1501699906527638,
          -1.783243337280545,
          0.6404972717932911,
          0.39539855138436025,
          -0.4209712536177495,
          0.8481783314812743,
          -1.3101884373893327,
          -2.0601398338584467,
          0.42377082251458625,
          -2.44833375425963,
          -0.475548726566356,
          0.23630161841975564,
          0.38359331099865623,
          0.8156223218681327,
          -0.7294599271622249,
          1.6450447137884228,
          0.1204005186720982,
          -0.0726368089322054,
          -1.3701850199703,
          0.8881100627526559,
          0.12522991037592407,
          0.327256152229644,
          -0.9889375257109755,
          1.4069143498939365,
          0.4897416599069842,
          0.4141827814190346,
          0.33031119897579103,
          0.18070479621812313,
          -0.42671277699796967,
          -0.8323725326056085,
          0.6036508268535052,
          0.8390771417712755,
          0.1335967794659333,
          -0.2667366183557609,
          0.6107186067536943,
          -0.9443978125936021,
          -0.40388972603722023,
          -0.21331577006099944,
          0.7817256561336334,
          -0.174499325455989,
          1.942906714751626,
          -0.47498619691314137,
          0.800427624431823,
          -1.140601686783434,
          1.895292042694202,
          0.5258158865607299,
          -0.46012845340853636,
          -0.4314836628837158,
          -1.8098823331245508,
          0.08378280272307034,
          -2.255141228895264,
          0.07156546021548003,
          -0.21326680371577103,
          0.6401029637524104,
          -1.3636665679332525,
          0.3043881672252444,
          0.125126468026127,
          1.1035010644428072,
          -0.6829185799852986,
          -1.7584322203634088,
          -0.40333229737108756,
          0.7065126255377181,
          -0.6260967326337437,
          -0.06070948912067316,
          0.9394220200028504,
          -0.6158602342924383,
          1.3583162866006648,
          0.600471247426538,
          -2.67741622347223,
          -0.7306915519058795,
          -0.4376124348126599,
          0.758400402016112,
          -0.38453032408332233,
          0.4252679631099044,
          -1.2545308266892121,
          1.3515817926766749,
          0.41008482250327793,
          0.7694396200505854,
          -1.5673207781411012,
          0.9796330691924073,
          0.18409919248739912,
          1.7101375172188729,
          -0.812531245831713,
          0.04812554030335322,
          0.6041719551572379,
          -0.03399297505307103,
          -0.498480028163644,
          0.04213817173558435,
          0.3985018007054012,
          -0.7610020797466124,
          1.508317360779733,
          0.24917273984076235,
          0.4013344267178666,
          -0.5559302190908432,
          0.25776878555176275,
          -0.8622895715926636,
          0.12929334418743457,
          -0.7744743750255864,
          0.06756499205820435,
          -0.6593331167692085,
          -0.4143488314082352,
          -0.9779978962468031,
          0.7686264871004794,
          1.6555943404359088,
          -1.1611095973011578,
          -0.6154339088932931,
          -0.22061056343949267,
          0.9936921028053219,
          2.6577838051873686,
          1.0606747604449933,
          -0.48519641786449574,
          -1.529316161028394,
          -0.7000982195218644,
          -0.3505930073402435,
          -0.04724331477577774,
          -0.5822792454992061,
          -0.6801402147157789,
          0.5686581138312272,
          0.6297368796420573,
          0.5362715492431877,
          -0.5584457296243047,
          0.14425640520114835,
          0.3912817548495591,
          1.1649720472823548,
          -0.02294746149741171,
          1.3277255469634996,
          -0.7194590716617646,
          -0.06453174275301757,
          1.2725719119365198,
          -0.9324413474643688,
          0.48353344977596474,
          -1.1817603655633853,
          -0.8927179612551609,
          0.864828292813141,
          0.8494114875511238,
          0.42331157847150996,
          -1.0462318421175105,
          -1.0979159055887702,
          1.9597451088253688,
          1.8043244301687462,
          -0.19909175824210437,
          0.5949435941855865,
          -1.571723551767344,
          0.8625890811068805,
          0.5461248693331988,
          -2.274155142689594,
          1.191936447465324,
          -0.7835848307386025,
          0.950815257237565,
          -1.1947231708353638,
          0.548481607819857,
          -1.6458582702052322,
          1.1019569006682606,
          0.1380766733175602,
          0.5022536299020512,
          -0.599747731161627,
          -0.7354531395872772,
          0.3802291163802405,
          -0.4131998994118788,
          -0.41774345793038037,
          0.6062542435703466,
          -0.1044588230518353,
          -0.2654064828125313,
          0.07062881797378774,
          -1.166650199799851,
          -1.1185440000107338,
          1.4404631284895524,
          -0.16664311878262827,
          -0.34749979178280543,
          -0.5508383005958614,
          -0.5248595180693141,
          0.06669160250137181,
          2.8140657814433814,
          0.903404851948607,
          -0.25281199164778545,
          1.9019288472701112,
          -0.45106879830512875,
          -0.5507385087696699,
          1.8641164469362006,
          0.8669980195330876,
          0.6458560210673633,
          -0.054085080656629425,
          1.5060963327590795,
          -0.3019110694283382,
          2.406152017803846,
          -0.9686344272540427,
          1.1009239540444649,
          0.019329585400847265,
          0.06685491380131137,
          0.41193967834073947,
          1.132498145508505,
          -1.4921931873770746,
          1.1302479717537623,
          -0.03787864237100557,
          0.7416573751091532,
          -0.39856168501659367,
          -1.103817163128011,
          -1.571042046933569,
          -1.3219587525004972,
          -1.1882146640866051,
          1.2079290061062962,
          -1.5268555236667398,
          -1.1091517321192332,
          1.220995937306593,
          0.6278150545335287,
          0.6504876359084709,
          0.0358480477500258,
          0.5229631656683548,
          0.9329074722876335,
          -0.0847249018104746,
          -0.08708638131420436,
          1.290566233198934,
          -1.8400230969159765,
          -1.5236482160535454,
          0.9480592070916747,
          -0.19283357669603496,
          -0.690215669869994,
          0.8633699019892892,
          0.7982403117071308,
          0.009319507678485073,
          -1.0120626533790265,
          -0.7899093528113824,
          -1.0362972382148115,
          1.2700775125511954,
          0.12094145009797048,
          -0.34681178090358605,
          0.15146792365953157,
          -0.46595808199204086,
          0.944984108213528,
          -0.02965476427507559,
          -0.1959827459062585,
          0.38101094469248475,
          -0.25453017550841706,
          0.21036399336167214,
          1.3198207874223955,
          -0.9924956156735807,
          0.8626736065783498,
          -0.5792833163864205,
          0.6272927338403391,
          0.17421093401401097,
          2.0452848315519163,
          0.6114081683677725,
          0.39989251419517546,
          -0.24730934457821846,
          -1.0145718714813432,
          0.756799176079734,
          -0.16700016993875422,
          -0.2591994742709877,
          -0.6665569718915997,
          1.317075463267569,
          0.23020840426307612,
          -2.045025559271176,
          0.9492807501958185,
          -0.6030867463922732,
          -1.1591313903204898,
          -0.7677809001740618,
          0.9658676785356876,
          -0.9752005590103255,
          0.828484765893802,
          1.8473102472453182,
          -2.5236338964731857,
          -0.4931446124741391,
          -0.6211529677277093,
          -0.5510864242123816,
          0.18829253695821938,
          1.2183415954720456,
          -0.15520943047806324,
          -0.7340869951928455,
          -1.2262064681119307,
          -0.9197918102604837,
          -0.0002710914336007225,
          0.9604795744090026,
          0.3946063918470244,
          -1.2719198478374547,
          1.2102774259522955,
          0.12300732654933001,
          1.7514138538355455,
          -0.09664265176264963,
          -0.848529519183308,
          0.29497913817208904,
          1.0670087871804232,
          -1.3659092811433697,
          0.02631168454698151,
          0.22597222593874838,
          0.6889593981768927,
          0.63324079120015,
          1.4686310220144754,
          -1.046785188546139,
          0.9366074560857586,
          -1.9945534953906834,
          -0.770096628647285,
          -0.20608861024238959,
          -0.4925907278741742,
          0.7406870696823697,
          -1.1915146439640203,
          0.9292707452628507,
          -0.6613702508859466,
          0.022604314287995954,
          0.3134690887984868,
          -0.3185530062287237,
          0.5284711935549179,
          1.120789945716334,
          -0.3465868029290484,
          0.23896825599299393,
          -2.26038233288238,
          0.5380590952984071,
          -1.9688932498897513,
          -0.7613762107752172,
          -0.11823013554809739,
          -0.028177356841723497,
          -1.0513616486720352,
          -1.6507256524546867,
          2.1529280602900207,
          -0.41794211066658044,
          0.9338858806218744,
          1.3344920766554635,
          -0.6365860405919882,
          -0.7676109370275626,
          0.6429431937564651,
          0.42668764185163727,
          -0.3907759787575083,
          1.3576086637570792,
          -0.8508541196075898,
          1.0311738580162024,
          -0.6942117620518734,
          0.5765511528842391,
          1.1518492909594327,
          -1.2225034797754055,
          1.1408633750298565,
          0.05683257756680082,
          0.03982035633295785,
          -0.5310702098003335,
          0.3050826944036197,
          -1.4315941374296302,
          0.0620204924741769,
          0.3712213222930268,
          -2.2706102062665376,
          -0.0732126734185369,
          0.06391821723014192,
          0.15851562012482912,
          -1.4239901896319407,
          -0.20252346423983303,
          1.1704864011336438,
          -1.504827925764627,
          -0.8439161190045732,
          0.19990899999922412,
          -1.9792940385856577,
          0.686541932563128,
          -0.19676049988536934,
          1.8544631502714788,
          0.10988465186955139,
          -1.9775064391788466,
          -0.07193047491956857,
          0.5425271644866959,
          0.08854538359246984,
          -0.5860319873890579,
          1.559926197264333,
          -0.08894047693415623,
          0.7574185728732918,
          0.405785846411819,
          0.13132326740221922,
          1.5741930847799328,
          1.8206450541720889,
          0.12480632885036354,
          1.641980266947941,
          0.784167732169403,
          1.2483951504260762,
          1.9960270909097149,
          0.6180724631596881,
          1.5595634985281068,
          0.08848900659443634,
          0.42732629037255976,
          -1.65015730453314,
          -0.5054898777798056,
          0.27019979882867395,
          -1.414359890319184,
          -0.268212420015485,
          0.296991091271173,
          -1.0380106016223936,
          1.0227499803487552,
          0.12521195440679433,
          0.6656313458437689,
          1.2962777133938317,
          -0.04153251286355584,
          -1.035619040183794,
          2.233371389540196,
          -1.382232890022994,
          1.6456349901784324,
          0.23310652480667074,
          -1.0576989859588333,
          -0.9516914012235363,
          -0.45472898255728067,
          0.5641003216064727,
          -1.4957285242455567,
          -0.1857405123961524,
          -1.0112280416808883,
          0.9418304225561965,
          0.8753145954868246,
          0.7662947542334625,
          -0.15126549132988606,
          0.35807628139619624,
          2.879035111794772,
          0.6301360798300513,
          0.736662811091115,
          1.637815470226655,
          -0.8617388617669988,
          0.40826870516593633,
          -1.5496702263748656,
          -1.395443065240861,
          0.5006035264972422,
          -0.164402370661744,
          1.8500382403971134,
          -1.732377639865123,
          0.011992888733563188,
          0.025284505131971648,
          -0.06916961006018374,
          1.9316435215861019,
          0.11250726320808191,
          0.8299085610491244,
          -0.08091714304761588,
          -0.14571641189392925,
          -1.3685750025371421,
          -1.1410037191965714,
          -0.3726800522663338,
          0.00818566937940085,
          -1.6632545641367775,
          0.4146852966715251,
          0.10907315063190251,
          0.3237317197280424,
          1.909164089134299,
          1.7545482793730103,
          0.09208335693136056,
          -0.4244251544827099,
          0.0705915612971666,
          -0.5743551327004293,
          -0.49529589133600754,
          -0.4011529260671844,
          0.9713471679145996,
          -0.7221476790493174,
          -0.4871193443165659,
          0.22827650480394596,
          -0.285806556443247,
          0.14054697728846755,
          0.33296042658114017,
          1.3896563264104718,
          -0.2959293874396464,
          0.9755605077131854,
          1.2108780416763136,
          -1.1712248597997275,
          -1.111544109217835,
          -0.732906825569072,
          0.47860983826437453,
          0.9187858073195981,
          -0.3118767808846769,
          -0.7761864424078787,
          0.6810457187907312,
          0.008617424158930154,
          0.3931629933654756,
          0.26106915207838527,
          -0.9700127650600683,
          0.9242698255279449,
          -2.6218140730796224,
          -0.7399605050439078,
          0.058572294636162155,
          0.23451239323595366,
          -1.9347290702023212,
          0.12933757093396867,
          0.17006184994440599,
          -0.029280273351875722,
          0.14100938712011543,
          0.8824965461097396,
          0.04459523155068754,
          0.5946642159437756,
          2.497688889292239,
          0.8455864564963476,
          0.5972511151891418,
          0.5074729619580628,
          -1.07693385777018,
          -0.7847937120936253,
          -1.1898853860855425,
          0.0072220968449304155,
          0.8948297530831826,
          -1.106736911252297,
          -2.4235592360410627,
          -1.6832596398866324,
          0.31624016972766156,
          0.7090155114239453,
          1.0852157425291724,
          0.2824869966712752,
          -0.7893787329671476,
          -0.71132535576324,
          -2.2048641452853315,
          -1.587945253878492,
          -1.5336977388000053,
          -1.7182766062954344,
          -0.46216783213023993,
          1.467493500812283,
          0.7559934786425971,
          -1.21014481689687,
          0.23470897046213987,
          -1.0692662913386162,
          0.018518195622495882,
          -0.7420079151456216,
          0.19948344953822503,
          0.03562259413612069,
          0.767904099884081,
          0.052381927317229196,
          0.7535411766718011,
          -0.06670719749511331,
          1.7070382431145747,
          -0.12515193060238808,
          -0.17553963951317136,
          -0.006531582363464818,
          -1.1441825563261,
          0.8834629388597385,
          -0.7782089761443965,
          -0.9499341707370738,
          0.8980112138746312,
          0.1111995963261618,
          -1.6670288576906467,
          0.3558806181122436,
          0.7566645534487688,
          -0.34772320927133243,
          -1.6601429398086416,
          1.6253935053055701,
          -0.08052349360398386,
          -0.46949579572257466,
          -0.15806210581764993,
          -0.0050895819312139195,
          0.8531674307604755,
          0.0712514179426521,
          -0.8530469213451934,
          -0.7155977557942577,
          0.07476585039228728,
          -0.74130262292749,
          -0.486022779068049,
          -1.0738758447359165,
          -0.41630049111055606,
          -1.1630733784315825,
          -1.156968289313573,
          1.3269776562127338,
          0.9328674070301691,
          -1.0208186729307103,
          0.6551269067944722,
          -0.10959134847494288,
          -1.012447206077242,
          -0.07481630848827414,
          1.666431267301316,
          1.633794121036425,
          0.4228236384514028,
          0.6361554477787966,
          0.6597976850038161,
          -1.7191381474349365,
          0.6461531839887603,
          0.22413991462482713,
          0.22056972258634586,
          0.677840806638375,
          -1.1161453882753911,
          0.8748178321509096,
          -0.16553467828244997,
          -0.5007407133795373,
          0.2050265802348525,
          2.7464245173306088,
          -1.2916377177548362,
          0.3906502201974788,
          1.2021578145332683,
          0.5696715029978459,
          -1.667564332639509,
          0.01432154620174484,
          0.333930987324813,
          0.45126692326673007,
          0.06025057443916206,
          -0.5698294307194733,
          -0.7098537101864368,
          -0.0366842705873878,
          -0.4408984233353352,
          -1.0489598008863419,
          0.9427693247169875,
          -1.1304809886288019,
          -1.6438103653577514,
          -0.904668435717221,
          -0.4197068760954221,
          0.44590259708685054,
          1.0339627069096347,
          -1.5469664845121727,
          -0.5624275830582909,
          1.4740940014753965,
          0.035166149103236684,
          -0.0978923615157879,
          -0.7254633889776851,
          -0.7132997828695242,
          -0.4210374544502332,
          -1.434373731985373,
          1.6690556497474316,
          0.5042941502571949,
          0.42251917060128247,
          1.6562085950031706,
          0.838511605945154,
          -0.8937871534763152,
          1.0616927660136761,
          1.13254075095451,
          -1.0584573841919362,
          -0.018762856767400166,
          -0.1397216134660481,
          0.5206729581520104,
          1.3227962592360225,
          0.0437102240535316,
          -0.7598116385505455,
          -1.048776096303051,
          -1.422202893584057,
          1.1904015439585725,
          0.13589309690080953,
          -0.6486820828841316,
          -1.6161457097750713,
          0.2696757843644767,
          0.31279464875313145,
          0.19021948227373958,
          -1.1744241320274396,
          0.6281712723304824,
          -0.3381543271464574,
          0.8830208930180341,
          -0.527329484096239,
          1.5371713719963311,
          0.7273661391277986,
          1.478750009608324,
          -1.1154215423295506,
          -0.3447958025352367,
          0.6750663213832512,
          0.9496669775555917,
          1.4162866256177944,
          -1.2533070390557302,
          0.15102677691980665,
          0.6249479057771767,
          0.6701593499673759,
          0.2521640211268947,
          -0.05492518076480904,
          -0.0557854347290749,
          0.466754144650728,
          0.9173645306213941,
          -0.9063968491824108,
          0.49784482840933425,
          0.9600755452084673,
          0.45709325609518353,
          0.6245038913763141,
          -0.6535962620368857,
          -1.0487841104950126,
          -0.0732910897663019,
          -1.8383302152049152,
          -0.24452972800228265,
          0.542323642470176,
          0.6265307050563835,
          -0.6037917420552124,
          -2.180458303318452,
          -0.6497340309325138,
          -1.867346913402424,
          1.800790129465235,
          -1.6974145361748647,
          -0.17921076387135904,
          -0.6952382428671252,
          -0.6344574068695112,
          1.1959195123049686,
          -0.8027052605470043,
          0.7861101810421293,
          1.2746079427866763,
          1.7854030069253892,
          -1.1508995194681049,
          -1.4536384284479107,
          -0.05653325600860755,
          -0.12573729684925786,
          -1.3942219689926734,
          1.0899923550185124,
          1.1503034679111168,
          -0.9952703799034478,
          0.4877411606894675,
          0.576070141687175,
          1.50921438399904,
          -0.6789299229106756,
          0.8661076271971565,
          -1.459610400932694,
          0.8707861589788382,
          -1.2246400275430398,
          0.5058114060800267,
          1.6251918416928097,
          -0.6680699691609057,
          0.10957144693627799,
          -1.4147064826493738,
          -1.6488174551645451,
          0.5214405173369498,
          -0.3622474201817429,
          0.4025836958821691,
          0.172645903818816,
          1.490450950007265,
          -0.19366287440522978,
          -0.49953159789918883,
          -0.2902050402151016,
          0.37027715382319437,
          -1.3664252369176797,
          0.5976689687432948,
          0.13993102528644233,
          -0.980769883337616,
          0.3069208878723273,
          0.9320191926409817,
          0.9949832665373484,
          -0.5832086672236567,
          -1.0553203300471634,
          0.5438164847037884,
          0.192699007953055,
          -1.714883148313319,
          0.9538566188405512,
          -0.4687048912367821,
          0.636483706517951,
          -2.8662660210883883,
          1.5331738608260255,
          1.3078767830285767,
          -1.3398011120840339,
          1.5349643691937707,
          0.2553290124235573,
          0.5710991419417558,
          -0.39543450319425894,
          0.677798891755473,
          1.949068529839892,
          0.10178923873357894,
          1.6356425227728242,
          0.13188064183487647,
          1.1341292014605329,
          -0.9130422934123464,
          -0.8571139862033657,
          0.2127736004984821,
          -1.408758879100992,
          -0.7541871232819296,
          0.5880314302487061,
          -1.6371809522408904,
          1.4716679269971715,
          -0.6236234819852065,
          -0.16700106628909203,
          -0.14780221555216394,
          -0.9969503031095673,
          -0.9527452549561494,
          0.8150972549385694,
          -0.7176533392923515,
          0.8476699965605121,
          -1.258107445290778,
          0.3968486303875349,
          0.30924117173096616,
          -1.0830713525422322,
          -0.7831797997124049,
          0.643786915331954,
          -2.053813984004038,
          0.07121857220730012,
          0.7201437531619138,
          0.42539489752417076,
          -0.9455036531820856,
          0.7960878703761514,
          -1.5355922754663336,
          1.1720012825989605,
          -1.720399301489047,
          -0.10895062804473715,
          -0.031721805115566104,
          -0.9558419412297977,
          0.3722677456786316,
          1.7019861112033494,
          -0.6736789721644989,
          0.6477603839866841,
          -0.7655754075607518,
          -0.5918787058432595,
          1.1375123833760254,
          0.4290412312301796,
          -0.9531812931576921,
          -1.2249271151553804,
          1.1843558710017066,
          0.7421674402759645,
          1.5419528754765526,
          -0.41634094214088124,
          0.808020078910639,
          -0.6256218623568168,
          2.0627113296089994,
          0.09208203353403928,
          -1.7886997112945144,
          -0.7979365680045004,
          -0.11349931899799101,
          0.3567972634728025,
          1.45253660124368,
          1.9342821897145135,
          -2.7827306826420877,
          0.03692080708577905,
          0.8306165482540582,
          0.5394694855120353,
          -0.79185548719711,
          -0.9700927554765023,
          -1.132906613358009,
          0.5692201148500242,
          1.2208279705378111,
          -1.135541540507058,
          0.7729588900551396,
          0.1600441026306168,
          -0.3682311049128426,
          0.574666153222219,
          -1.5686746098394362,
          0.44369359748966547,
          -0.3618586820675162,
          -0.9805199757407531,
          -0.22914250591252108,
          1.9266760450983853,
          -0.8118945651304206,
          0.05300453536997407,
          -0.6200566498868683,
          -0.036208947004210165,
          0.5758390663413008,
          -0.5212072065233485,
          1.4137567386995185,
          1.4588605203272529,
          0.07424227211165652,
          -0.500078083901944,
          0.7329254895310879,
          -0.7646832573809696,
          -0.11945386924805665,
          -1.2274491048067402,
          -0.9931056841089321,
          2.7763763044226946,
          -0.07733956982190121,
          -0.3567262231654356,
          0.7114870126973367,
          -0.3647471098108354,
          0.16277043502199684,
          0.3939647764420132,
          0.4523263426560763,
          1.9142423230235235,
          -0.7307569539004565,
          0.6681212619784586,
          0.20788811261539664,
          0.6406655220453581,
          1.1489196890764675,
          2.660703454056949,
          0.8399096509714623,
          0.0349816769698269,
          -0.6565855843076389,
          -0.8172966018306568,
          -0.9339819846380005,
          -1.608848148760029,
          -0.6582878561684131,
          0.17249272438751476,
          -0.20662153653730606,
          -1.3227213239988362,
          -0.4575917539267618,
          -1.8900697823327273,
          -0.5881920232790612,
          0.9985450234650872,
          -0.5061424589019082,
          -1.4369921606132072,
          -0.7959418157039342,
          1.1008752449489332,
          -0.2221839490868402,
          -1.5118477780147512,
          -0.8035736126939826,
          1.619066154392602,
          0.09736922116911931,
          -0.05751690434390276,
          0.8681743779930362,
          0.6410790352799859,
          -0.48048807194037013,
          -0.4370890469708078,
          -0.9089612362540146,
          1.0984917792886655,
          0.7820607172823518,
          -0.30945693032710736,
          -0.1646154626156369,
          -0.23596646091360365,
          -0.7184924442272316,
          -0.12349973345885942,
          -0.05056952413875981,
          0.5168263065406168,
          -0.4423606512250991,
          2.0427657370590895,
          0.9058958798250862,
          -0.29776115321624286,
          0.055654352342132854,
          0.9167518314208202,
          0.14220040774554155,
          2.3200211618894078,
          0.8111393557708658,
          1.9197112974948318,
          -0.9600070324526909,
          0.24592327983516024,
          0.7222587819948768,
          0.6504573677915886,
          -1.086356967291552,
          1.1650910724919548,
          -0.6866438762222539,
          -0.02875294843010374,
          -0.3346803649726281,
          -0.03863207257760322,
          0.2399542238878296,
          -0.18176946574260106,
          -0.8540455207707794,
          1.7939170436350653,
          -0.2376469834648391,
          -0.11973279113562688,
          -0.17305995422763062,
          -0.006830610801691482,
          0.4411731510302346,
          0.45114914515818716,
          -0.02993892018636632,
          -0.26509584248756785,
          1.315022237220151,
          0.5626584912772483,
          -0.5476861854544631,
          1.8226895610891924,
          -0.04028761417611719,
          0.46383139609304463,
          -1.0859527369696464,
          -1.5246272431080865,
          -0.7455979298315621,
          0.7419849394842449,
          0.2820930176493331,
          0.876377719960987,
          -0.2604549939379442,
          -0.9172814106676739,
          1.6178209309967901,
          1.0457199882369264,
          0.5806816047279152,
          -1.2989710430485994,
          0.2935299737574618,
          0.3909173693137666,
          -1.0209430504971295
         ],
         "xaxis": "x",
         "yaxis": "y"
        }
       ],
       "layout": {
        "barmode": "relative",
        "height": 400,
        "legend": {
         "title": {
          "text": "variable"
         },
         "tracegroupgap": 0
        },
        "margin": {
         "b": 20,
         "l": 20,
         "r": 20,
         "t": 20
        },
        "paper_bgcolor": "#f7f8fa",
        "shapes": [
         {
          "line": {
           "color": "red",
           "width": 3
          },
          "type": "line",
          "x0": 0.0017066272520296834,
          "x1": 0.0017066272520296834,
          "xref": "x",
          "y0": 0,
          "y1": 1,
          "yref": "y domain"
         },
         {
          "line": {
           "color": "red",
           "dash": "dash",
           "width": 3
          },
          "type": "line",
          "x0": 0.0239444097099838,
          "x1": 0.0239444097099838,
          "xref": "x",
          "y0": 0,
          "y1": 1,
          "yref": "y domain"
         }
        ],
        "showlegend": false,
        "template": {
         "data": {
          "bar": [
           {
            "error_x": {
             "color": "rgb(36,36,36)"
            },
            "error_y": {
             "color": "rgb(36,36,36)"
            },
            "marker": {
             "line": {
              "color": "white",
              "width": 0.5
             },
             "pattern": {
              "fillmode": "overlay",
              "size": 10,
              "solidity": 0.2
             }
            },
            "type": "bar"
           }
          ],
          "barpolar": [
           {
            "marker": {
             "line": {
              "color": "white",
              "width": 0.5
             },
             "pattern": {
              "fillmode": "overlay",
              "size": 10,
              "solidity": 0.2
             }
            },
            "type": "barpolar"
           }
          ],
          "carpet": [
           {
            "aaxis": {
             "endlinecolor": "rgb(36,36,36)",
             "gridcolor": "white",
             "linecolor": "white",
             "minorgridcolor": "white",
             "startlinecolor": "rgb(36,36,36)"
            },
            "baxis": {
             "endlinecolor": "rgb(36,36,36)",
             "gridcolor": "white",
             "linecolor": "white",
             "minorgridcolor": "white",
             "startlinecolor": "rgb(36,36,36)"
            },
            "type": "carpet"
           }
          ],
          "choropleth": [
           {
            "colorbar": {
             "outlinewidth": 1,
             "tickcolor": "rgb(36,36,36)",
             "ticks": "outside"
            },
            "type": "choropleth"
           }
          ],
          "contour": [
           {
            "colorbar": {
             "outlinewidth": 1,
             "tickcolor": "rgb(36,36,36)",
             "ticks": "outside"
            },
            "colorscale": [
             [
              0,
              "#440154"
             ],
             [
              0.1111111111111111,
              "#482878"
             ],
             [
              0.2222222222222222,
              "#3e4989"
             ],
             [
              0.3333333333333333,
              "#31688e"
             ],
             [
              0.4444444444444444,
              "#26828e"
             ],
             [
              0.5555555555555556,
              "#1f9e89"
             ],
             [
              0.6666666666666666,
              "#35b779"
             ],
             [
              0.7777777777777778,
              "#6ece58"
             ],
             [
              0.8888888888888888,
              "#b5de2b"
             ],
             [
              1,
              "#fde725"
             ]
            ],
            "type": "contour"
           }
          ],
          "contourcarpet": [
           {
            "colorbar": {
             "outlinewidth": 1,
             "tickcolor": "rgb(36,36,36)",
             "ticks": "outside"
            },
            "type": "contourcarpet"
           }
          ],
          "heatmap": [
           {
            "colorbar": {
             "outlinewidth": 1,
             "tickcolor": "rgb(36,36,36)",
             "ticks": "outside"
            },
            "colorscale": [
             [
              0,
              "#440154"
             ],
             [
              0.1111111111111111,
              "#482878"
             ],
             [
              0.2222222222222222,
              "#3e4989"
             ],
             [
              0.3333333333333333,
              "#31688e"
             ],
             [
              0.4444444444444444,
              "#26828e"
             ],
             [
              0.5555555555555556,
              "#1f9e89"
             ],
             [
              0.6666666666666666,
              "#35b779"
             ],
             [
              0.7777777777777778,
              "#6ece58"
             ],
             [
              0.8888888888888888,
              "#b5de2b"
             ],
             [
              1,
              "#fde725"
             ]
            ],
            "type": "heatmap"
           }
          ],
          "heatmapgl": [
           {
            "colorbar": {
             "outlinewidth": 1,
             "tickcolor": "rgb(36,36,36)",
             "ticks": "outside"
            },
            "colorscale": [
             [
              0,
              "#440154"
             ],
             [
              0.1111111111111111,
              "#482878"
             ],
             [
              0.2222222222222222,
              "#3e4989"
             ],
             [
              0.3333333333333333,
              "#31688e"
             ],
             [
              0.4444444444444444,
              "#26828e"
             ],
             [
              0.5555555555555556,
              "#1f9e89"
             ],
             [
              0.6666666666666666,
              "#35b779"
             ],
             [
              0.7777777777777778,
              "#6ece58"
             ],
             [
              0.8888888888888888,
              "#b5de2b"
             ],
             [
              1,
              "#fde725"
             ]
            ],
            "type": "heatmapgl"
           }
          ],
          "histogram": [
           {
            "marker": {
             "line": {
              "color": "white",
              "width": 0.6
             }
            },
            "type": "histogram"
           }
          ],
          "histogram2d": [
           {
            "colorbar": {
             "outlinewidth": 1,
             "tickcolor": "rgb(36,36,36)",
             "ticks": "outside"
            },
            "colorscale": [
             [
              0,
              "#440154"
             ],
             [
              0.1111111111111111,
              "#482878"
             ],
             [
              0.2222222222222222,
              "#3e4989"
             ],
             [
              0.3333333333333333,
              "#31688e"
             ],
             [
              0.4444444444444444,
              "#26828e"
             ],
             [
              0.5555555555555556,
              "#1f9e89"
             ],
             [
              0.6666666666666666,
              "#35b779"
             ],
             [
              0.7777777777777778,
              "#6ece58"
             ],
             [
              0.8888888888888888,
              "#b5de2b"
             ],
             [
              1,
              "#fde725"
             ]
            ],
            "type": "histogram2d"
           }
          ],
          "histogram2dcontour": [
           {
            "colorbar": {
             "outlinewidth": 1,
             "tickcolor": "rgb(36,36,36)",
             "ticks": "outside"
            },
            "colorscale": [
             [
              0,
              "#440154"
             ],
             [
              0.1111111111111111,
              "#482878"
             ],
             [
              0.2222222222222222,
              "#3e4989"
             ],
             [
              0.3333333333333333,
              "#31688e"
             ],
             [
              0.4444444444444444,
              "#26828e"
             ],
             [
              0.5555555555555556,
              "#1f9e89"
             ],
             [
              0.6666666666666666,
              "#35b779"
             ],
             [
              0.7777777777777778,
              "#6ece58"
             ],
             [
              0.8888888888888888,
              "#b5de2b"
             ],
             [
              1,
              "#fde725"
             ]
            ],
            "type": "histogram2dcontour"
           }
          ],
          "mesh3d": [
           {
            "colorbar": {
             "outlinewidth": 1,
             "tickcolor": "rgb(36,36,36)",
             "ticks": "outside"
            },
            "type": "mesh3d"
           }
          ],
          "parcoords": [
           {
            "line": {
             "colorbar": {
              "outlinewidth": 1,
              "tickcolor": "rgb(36,36,36)",
              "ticks": "outside"
             }
            },
            "type": "parcoords"
           }
          ],
          "pie": [
           {
            "automargin": true,
            "type": "pie"
           }
          ],
          "scatter": [
           {
            "fillpattern": {
             "fillmode": "overlay",
             "size": 10,
             "solidity": 0.2
            },
            "type": "scatter"
           }
          ],
          "scatter3d": [
           {
            "line": {
             "colorbar": {
              "outlinewidth": 1,
              "tickcolor": "rgb(36,36,36)",
              "ticks": "outside"
             }
            },
            "marker": {
             "colorbar": {
              "outlinewidth": 1,
              "tickcolor": "rgb(36,36,36)",
              "ticks": "outside"
             }
            },
            "type": "scatter3d"
           }
          ],
          "scattercarpet": [
           {
            "marker": {
             "colorbar": {
              "outlinewidth": 1,
              "tickcolor": "rgb(36,36,36)",
              "ticks": "outside"
             }
            },
            "type": "scattercarpet"
           }
          ],
          "scattergeo": [
           {
            "marker": {
             "colorbar": {
              "outlinewidth": 1,
              "tickcolor": "rgb(36,36,36)",
              "ticks": "outside"
             }
            },
            "type": "scattergeo"
           }
          ],
          "scattergl": [
           {
            "marker": {
             "colorbar": {
              "outlinewidth": 1,
              "tickcolor": "rgb(36,36,36)",
              "ticks": "outside"
             }
            },
            "type": "scattergl"
           }
          ],
          "scattermapbox": [
           {
            "marker": {
             "colorbar": {
              "outlinewidth": 1,
              "tickcolor": "rgb(36,36,36)",
              "ticks": "outside"
             }
            },
            "type": "scattermapbox"
           }
          ],
          "scatterpolar": [
           {
            "marker": {
             "colorbar": {
              "outlinewidth": 1,
              "tickcolor": "rgb(36,36,36)",
              "ticks": "outside"
             }
            },
            "type": "scatterpolar"
           }
          ],
          "scatterpolargl": [
           {
            "marker": {
             "colorbar": {
              "outlinewidth": 1,
              "tickcolor": "rgb(36,36,36)",
              "ticks": "outside"
             }
            },
            "type": "scatterpolargl"
           }
          ],
          "scatterternary": [
           {
            "marker": {
             "colorbar": {
              "outlinewidth": 1,
              "tickcolor": "rgb(36,36,36)",
              "ticks": "outside"
             }
            },
            "type": "scatterternary"
           }
          ],
          "surface": [
           {
            "colorbar": {
             "outlinewidth": 1,
             "tickcolor": "rgb(36,36,36)",
             "ticks": "outside"
            },
            "colorscale": [
             [
              0,
              "#440154"
             ],
             [
              0.1111111111111111,
              "#482878"
             ],
             [
              0.2222222222222222,
              "#3e4989"
             ],
             [
              0.3333333333333333,
              "#31688e"
             ],
             [
              0.4444444444444444,
              "#26828e"
             ],
             [
              0.5555555555555556,
              "#1f9e89"
             ],
             [
              0.6666666666666666,
              "#35b779"
             ],
             [
              0.7777777777777778,
              "#6ece58"
             ],
             [
              0.8888888888888888,
              "#b5de2b"
             ],
             [
              1,
              "#fde725"
             ]
            ],
            "type": "surface"
           }
          ],
          "table": [
           {
            "cells": {
             "fill": {
              "color": "rgb(237,237,237)"
             },
             "line": {
              "color": "white"
             }
            },
            "header": {
             "fill": {
              "color": "rgb(217,217,217)"
             },
             "line": {
              "color": "white"
             }
            },
            "type": "table"
           }
          ]
         },
         "layout": {
          "annotationdefaults": {
           "arrowhead": 0,
           "arrowwidth": 1
          },
          "autotypenumbers": "strict",
          "coloraxis": {
           "colorbar": {
            "outlinewidth": 1,
            "tickcolor": "rgb(36,36,36)",
            "ticks": "outside"
           }
          },
          "colorscale": {
           "diverging": [
            [
             0,
             "rgb(103,0,31)"
            ],
            [
             0.1,
             "rgb(178,24,43)"
            ],
            [
             0.2,
             "rgb(214,96,77)"
            ],
            [
             0.3,
             "rgb(244,165,130)"
            ],
            [
             0.4,
             "rgb(253,219,199)"
            ],
            [
             0.5,
             "rgb(247,247,247)"
            ],
            [
             0.6,
             "rgb(209,229,240)"
            ],
            [
             0.7,
             "rgb(146,197,222)"
            ],
            [
             0.8,
             "rgb(67,147,195)"
            ],
            [
             0.9,
             "rgb(33,102,172)"
            ],
            [
             1,
             "rgb(5,48,97)"
            ]
           ],
           "sequential": [
            [
             0,
             "#440154"
            ],
            [
             0.1111111111111111,
             "#482878"
            ],
            [
             0.2222222222222222,
             "#3e4989"
            ],
            [
             0.3333333333333333,
             "#31688e"
            ],
            [
             0.4444444444444444,
             "#26828e"
            ],
            [
             0.5555555555555556,
             "#1f9e89"
            ],
            [
             0.6666666666666666,
             "#35b779"
            ],
            [
             0.7777777777777778,
             "#6ece58"
            ],
            [
             0.8888888888888888,
             "#b5de2b"
            ],
            [
             1,
             "#fde725"
            ]
           ],
           "sequentialminus": [
            [
             0,
             "#440154"
            ],
            [
             0.1111111111111111,
             "#482878"
            ],
            [
             0.2222222222222222,
             "#3e4989"
            ],
            [
             0.3333333333333333,
             "#31688e"
            ],
            [
             0.4444444444444444,
             "#26828e"
            ],
            [
             0.5555555555555556,
             "#1f9e89"
            ],
            [
             0.6666666666666666,
             "#35b779"
            ],
            [
             0.7777777777777778,
             "#6ece58"
            ],
            [
             0.8888888888888888,
             "#b5de2b"
            ],
            [
             1,
             "#fde725"
            ]
           ]
          },
          "colorway": [
           "#1F77B4",
           "#FF7F0E",
           "#2CA02C",
           "#D62728",
           "#9467BD",
           "#8C564B",
           "#E377C2",
           "#7F7F7F",
           "#BCBD22",
           "#17BECF"
          ],
          "font": {
           "color": "rgb(36,36,36)"
          },
          "geo": {
           "bgcolor": "white",
           "lakecolor": "white",
           "landcolor": "white",
           "showlakes": true,
           "showland": true,
           "subunitcolor": "white"
          },
          "hoverlabel": {
           "align": "left"
          },
          "hovermode": "closest",
          "mapbox": {
           "style": "light"
          },
          "paper_bgcolor": "white",
          "plot_bgcolor": "white",
          "polar": {
           "angularaxis": {
            "gridcolor": "rgb(232,232,232)",
            "linecolor": "rgb(36,36,36)",
            "showgrid": false,
            "showline": true,
            "ticks": "outside"
           },
           "bgcolor": "white",
           "radialaxis": {
            "gridcolor": "rgb(232,232,232)",
            "linecolor": "rgb(36,36,36)",
            "showgrid": false,
            "showline": true,
            "ticks": "outside"
           }
          },
          "scene": {
           "xaxis": {
            "backgroundcolor": "white",
            "gridcolor": "rgb(232,232,232)",
            "gridwidth": 2,
            "linecolor": "rgb(36,36,36)",
            "showbackground": true,
            "showgrid": false,
            "showline": true,
            "ticks": "outside",
            "zeroline": false,
            "zerolinecolor": "rgb(36,36,36)"
           },
           "yaxis": {
            "backgroundcolor": "white",
            "gridcolor": "rgb(232,232,232)",
            "gridwidth": 2,
            "linecolor": "rgb(36,36,36)",
            "showbackground": true,
            "showgrid": false,
            "showline": true,
            "ticks": "outside",
            "zeroline": false,
            "zerolinecolor": "rgb(36,36,36)"
           },
           "zaxis": {
            "backgroundcolor": "white",
            "gridcolor": "rgb(232,232,232)",
            "gridwidth": 2,
            "linecolor": "rgb(36,36,36)",
            "showbackground": true,
            "showgrid": false,
            "showline": true,
            "ticks": "outside",
            "zeroline": false,
            "zerolinecolor": "rgb(36,36,36)"
           }
          },
          "shapedefaults": {
           "fillcolor": "black",
           "line": {
            "width": 0
           },
           "opacity": 0.3
          },
          "ternary": {
           "aaxis": {
            "gridcolor": "rgb(232,232,232)",
            "linecolor": "rgb(36,36,36)",
            "showgrid": false,
            "showline": true,
            "ticks": "outside"
           },
           "baxis": {
            "gridcolor": "rgb(232,232,232)",
            "linecolor": "rgb(36,36,36)",
            "showgrid": false,
            "showline": true,
            "ticks": "outside"
           },
           "bgcolor": "white",
           "caxis": {
            "gridcolor": "rgb(232,232,232)",
            "linecolor": "rgb(36,36,36)",
            "showgrid": false,
            "showline": true,
            "ticks": "outside"
           }
          },
          "title": {
           "x": 0.05
          },
          "xaxis": {
           "automargin": true,
           "gridcolor": "rgb(232,232,232)",
           "linecolor": "rgb(36,36,36)",
           "showgrid": false,
           "showline": true,
           "ticks": "outside",
           "title": {
            "standoff": 15
           },
           "zeroline": false,
           "zerolinecolor": "rgb(36,36,36)"
          },
          "yaxis": {
           "automargin": true,
           "gridcolor": "rgb(232,232,232)",
           "linecolor": "rgb(36,36,36)",
           "showgrid": false,
           "showline": true,
           "ticks": "outside",
           "title": {
            "standoff": 15
           },
           "zeroline": false,
           "zerolinecolor": "rgb(36,36,36)"
          }
         }
        },
        "width": 400,
        "xaxis": {
         "anchor": "y",
         "domain": [
          0,
          1
         ],
         "title": {
          "text": "value"
         }
        },
        "yaxis": {
         "anchor": "x",
         "domain": [
          0,
          1
         ],
         "title": {
          "text": "count"
         }
        }
       }
      }
     },
     "metadata": {},
     "output_type": "display_data"
    }
   ],
   "source": [
    "fig01 = px.histogram(normal_dist, color_discrete_sequence=['lightseagreen'])\n",
    "fig01.add_vline(x=np.mean(normal_dist), line_width=3,  line_color=\"red\")\n",
    "fig01.add_vline(x=np.median(normal_dist), line_width=3, line_dash=\"dash\", line_color=\"red\")\n",
    "fig01.update_layout(width=400, height=400, template = 'simple_white',\n",
    "                    paper_bgcolor=\"#f7f8fa\", margin=dict(l=20, r=20, t=20, b=20),\n",
    "                    showlegend=False)"
   ]
  },
  {
   "cell_type": "markdown",
   "metadata": {},
   "source": [
    "Testes de Normalidade"
   ]
  },
  {
   "cell_type": "code",
   "execution_count": 8,
   "metadata": {},
   "outputs": [
    {
     "name": "stdout",
     "output_type": "stream",
     "text": [
      "NormaltestResult(statistic=1.2987341250431184, pvalue=0.5223763036889957)\n"
     ]
    }
   ],
   "source": [
    "#pvalue > 0.05 são normais\n",
    "teste_normalidade = stats.normaltest(normal_dist)\n",
    "print(teste_normalidade)"
   ]
  },
  {
   "cell_type": "code",
   "execution_count": 9,
   "metadata": {},
   "outputs": [
    {
     "name": "stdout",
     "output_type": "stream",
     "text": [
      "NormaltestResult(statistic=197.45506590644098, pvalue=1.3279362501853236e-43)\n"
     ]
    }
   ],
   "source": [
    "normal_dist2 = normal_dist.copy()\n",
    "normal_dist2 = normal_dist2.tolist()\n",
    "normal_dist2.extend(normal_dist2)\n",
    "normal_dist2.extend(normal_dist2)\n",
    "normal_dist2.extend(normal_dist2)\n",
    "normal_dist2.extend(normal_dist2)\n",
    "normal_dist2.extend(normal_dist2)\n",
    "normal_dist2.extend(normal_dist2)\n",
    "normal_dist2.extend(normal_dist2)\n",
    "teste_normalidade2 = stats.normaltest(normal_dist2)\n",
    "print(teste_normalidade2)"
   ]
  },
  {
   "cell_type": "code",
   "execution_count": 10,
   "metadata": {},
   "outputs": [
    {
     "data": {
      "image/png": "[encoded data removed]",
      "text/plain": [
       "<Figure size 640x480 with 1 Axes>"
      ]
     },
     "metadata": {},
     "output_type": "display_data"
    }
   ],
   "source": [
    "stats.probplot(normal_dist, dist=\"norm\", plot=plt)\n",
    "plt.show()"
   ]
  },
  {
   "cell_type": "code",
   "execution_count": 11,
   "metadata": {},
   "outputs": [
    {
     "data": {
      "application/vnd.plotly.v1+json": {
       "config": {
        "plotlyServerURL": "https://plot.ly"
       },
       "data": [
        {
         "boxmean": "sd",
         "boxpoints": "all",
         "marker": {
          "color": "blue"
         },
         "name": "<b>Normal distribution",
         "type": "box",
         "y": [
          -1.1358305618865185,
          1.0607627223228102,
          -0.7474332918867581,
          0.22530011383406387,
          -0.7441699502499368,
          0.06461288918391365,
          -0.5834558910359313,
          -0.33046573838333326,
          2.1776328219118892,
          0.7498035589010191,
          1.8402420668406734,
          -0.02659946689866344,
          -0.8850620992868307,
          0.07272674611277782,
          -0.82751910119974,
          -0.591550921883219,
          -2.186215625579764,
          -1.4304503608169532,
          0.0011826166332745463,
          -0.15241870550020373,
          1.4418010391482912,
          -0.18492174250837645,
          -0.2298977614525365,
          -0.2633773007599446,
          -0.08286224131163808,
          -0.38505688002448574,
          -0.10105117176246801,
          0.33115422310589987,
          0.04329942581647413,
          -0.44997653600849435,
          0.3471981374467132,
          1.4591000886192282,
          0.3483897088114233,
          -0.03670271298595124,
          1.0122837292327693,
          0.06789108084640182,
          -0.8418695858997429,
          0.2858648571462273,
          -1.4415215941772148,
          -0.32524355577739633,
          1.870179622896955,
          -1.1207169779316464,
          -0.21688903272967341,
          -0.05506393630538636,
          0.08228719875932666,
          -0.4181428004079261,
          1.2010427917144373,
          0.30216691953884606,
          0.4030580617104312,
          0.23326856384416456,
          -0.4818862230590971,
          1.3285700752230898,
          -0.7234232339046373,
          -1.8858570174090399,
          0.35592168399245944,
          -0.20608068534039048,
          -0.6596602000262177,
          -1.0216923926024302,
          0.20832548927679678,
          -1.4443736201307587,
          0.7754918643476363,
          -0.27568055143859577,
          -0.5686448059493728,
          0.15605188199713882,
          -1.3104457760282537,
          -0.14344886693323078,
          1.1840846224539967,
          -0.3301765311709577,
          0.19330962336835625,
          -1.5370383922614097,
          -0.03251264522834058,
          -1.5892108664662696,
          -1.310736453854791,
          0.5731411265196769,
          0.06987590816074955,
          -0.16156045174678924,
          1.1501699906527638,
          -1.783243337280545,
          0.6404972717932911,
          0.39539855138436025,
          -0.4209712536177495,
          0.8481783314812743,
          -1.3101884373893327,
          -2.0601398338584467,
          0.42377082251458625,
          -2.44833375425963,
          -0.475548726566356,
          0.23630161841975564,
          0.38359331099865623,
          0.8156223218681327,
          -0.7294599271622249,
          1.6450447137884228,
          0.1204005186720982,
          -0.0726368089322054,
          -1.3701850199703,
          0.8881100627526559,
          0.12522991037592407,
          0.327256152229644,
          -0.9889375257109755,
          1.4069143498939365,
          0.4897416599069842,
          0.4141827814190346,
          0.33031119897579103,
          0.18070479621812313,
          -0.42671277699796967,
          -0.8323725326056085,
          0.6036508268535052,
          0.8390771417712755,
          0.1335967794659333,
          -0.2667366183557609,
          0.6107186067536943,
          -0.9443978125936021,
          -0.40388972603722023,
          -0.21331577006099944,
          0.7817256561336334,
          -0.174499325455989,
          1.942906714751626,
          -0.47498619691314137,
          0.800427624431823,
          -1.140601686783434,
          1.895292042694202,
          0.5258158865607299,
          -0.46012845340853636,
          -0.4314836628837158,
          -1.8098823331245508,
          0.08378280272307034,
          -2.255141228895264,
          0.07156546021548003,
          -0.21326680371577103,
          0.6401029637524104,
          -1.3636665679332525,
          0.3043881672252444,
          0.125126468026127,
          1.1035010644428072,
          -0.6829185799852986,
          -1.7584322203634088,
          -0.40333229737108756,
          0.7065126255377181,
          -0.6260967326337437,
          -0.06070948912067316,
          0.9394220200028504,
          -0.6158602342924383,
          1.3583162866006648,
          0.600471247426538,
          -2.67741622347223,
          -0.7306915519058795,
          -0.4376124348126599,
          0.758400402016112,
          -0.38453032408332233,
          0.4252679631099044,
          -1.2545308266892121,
          1.3515817926766749,
          0.41008482250327793,
          0.7694396200505854,
          -1.5673207781411012,
          0.9796330691924073,
          0.18409919248739912,
          1.7101375172188729,
          -0.812531245831713,
          0.04812554030335322,
          0.6041719551572379,
          -0.03399297505307103,
          -0.498480028163644,
          0.04213817173558435,
          0.3985018007054012,
          -0.7610020797466124,
          1.508317360779733,
          0.24917273984076235,
          0.4013344267178666,
          -0.5559302190908432,
          0.25776878555176275,
          -0.8622895715926636,
          0.12929334418743457,
          -0.7744743750255864,
          0.06756499205820435,
          -0.6593331167692085,
          -0.4143488314082352,
          -0.9779978962468031,
          0.7686264871004794,
          1.6555943404359088,
          -1.1611095973011578,
          -0.6154339088932931,
          -0.22061056343949267,
          0.9936921028053219,
          2.6577838051873686,
          1.0606747604449933,
          -0.48519641786449574,
          -1.529316161028394,
          -0.7000982195218644,
          -0.3505930073402435,
          -0.04724331477577774,
          -0.5822792454992061,
          -0.6801402147157789,
          0.5686581138312272,
          0.6297368796420573,
          0.5362715492431877,
          -0.5584457296243047,
          0.14425640520114835,
          0.3912817548495591,
          1.1649720472823548,
          -0.02294746149741171,
          1.3277255469634996,
          -0.7194590716617646,
          -0.06453174275301757,
          1.2725719119365198,
          -0.9324413474643688,
          0.48353344977596474,
          -1.1817603655633853,
          -0.8927179612551609,
          0.864828292813141,
          0.8494114875511238,
          0.42331157847150996,
          -1.0462318421175105,
          -1.0979159055887702,
          1.9597451088253688,
          1.8043244301687462,
          -0.19909175824210437,
          0.5949435941855865,
          -1.571723551767344,
          0.8625890811068805,
          0.5461248693331988,
          -2.274155142689594,
          1.191936447465324,
          -0.7835848307386025,
          0.950815257237565,
          -1.1947231708353638,
          0.548481607819857,
          -1.6458582702052322,
          1.1019569006682606,
          0.1380766733175602,
          0.5022536299020512,
          -0.599747731161627,
          -0.7354531395872772,
          0.3802291163802405,
          -0.4131998994118788,
          -0.41774345793038037,
          0.6062542435703466,
          -0.1044588230518353,
          -0.2654064828125313,
          0.07062881797378774,
          -1.166650199799851,
          -1.1185440000107338,
          1.4404631284895524,
          -0.16664311878262827,
          -0.34749979178280543,
          -0.5508383005958614,
          -0.5248595180693141,
          0.06669160250137181,
          2.8140657814433814,
          0.903404851948607,
          -0.25281199164778545,
          1.9019288472701112,
          -0.45106879830512875,
          -0.5507385087696699,
          1.8641164469362006,
          0.8669980195330876,
          0.6458560210673633,
          -0.054085080656629425,
          1.5060963327590795,
          -0.3019110694283382,
          2.406152017803846,
          -0.9686344272540427,
          1.1009239540444649,
          0.019329585400847265,
          0.06685491380131137,
          0.41193967834073947,
          1.132498145508505,
          -1.4921931873770746,
          1.1302479717537623,
          -0.03787864237100557,
          0.7416573751091532,
          -0.39856168501659367,
          -1.103817163128011,
          -1.571042046933569,
          -1.3219587525004972,
          -1.1882146640866051,
          1.2079290061062962,
          -1.5268555236667398,
          -1.1091517321192332,
          1.220995937306593,
          0.6278150545335287,
          0.6504876359084709,
          0.0358480477500258,
          0.5229631656683548,
          0.9329074722876335,
          -0.0847249018104746,
          -0.08708638131420436,
          1.290566233198934,
          -1.8400230969159765,
          -1.5236482160535454,
          0.9480592070916747,
          -0.19283357669603496,
          -0.690215669869994,
          0.8633699019892892,
          0.7982403117071308,
          0.009319507678485073,
          -1.0120626533790265,
          -0.7899093528113824,
          -1.0362972382148115,
          1.2700775125511954,
          0.12094145009797048,
          -0.34681178090358605,
          0.15146792365953157,
          -0.46595808199204086,
          0.944984108213528,
          -0.02965476427507559,
          -0.1959827459062585,
          0.38101094469248475,
          -0.25453017550841706,
          0.21036399336167214,
          1.3198207874223955,
          -0.9924956156735807,
          0.8626736065783498,
          -0.5792833163864205,
          0.6272927338403391,
          0.17421093401401097,
          2.0452848315519163,
          0.6114081683677725,
          0.39989251419517546,
          -0.24730934457821846,
          -1.0145718714813432,
          0.756799176079734,
          -0.16700016993875422,
          -0.2591994742709877,
          -0.6665569718915997,
          1.317075463267569,
          0.23020840426307612,
          -2.045025559271176,
          0.9492807501958185,
          -0.6030867463922732,
          -1.1591313903204898,
          -0.7677809001740618,
          0.9658676785356876,
          -0.9752005590103255,
          0.828484765893802,
          1.8473102472453182,
          -2.5236338964731857,
          -0.4931446124741391,
          -0.6211529677277093,
          -0.5510864242123816,
          0.18829253695821938,
          1.2183415954720456,
          -0.15520943047806324,
          -0.7340869951928455,
          -1.2262064681119307,
          -0.9197918102604837,
          -0.0002710914336007225,
          0.9604795744090026,
          0.3946063918470244,
          -1.2719198478374547,
          1.2102774259522955,
          0.12300732654933001,
          1.7514138538355455,
          -0.09664265176264963,
          -0.848529519183308,
          0.29497913817208904,
          1.0670087871804232,
          -1.3659092811433697,
          0.02631168454698151,
          0.22597222593874838,
          0.6889593981768927,
          0.63324079120015,
          1.4686310220144754,
          -1.046785188546139,
          0.9366074560857586,
          -1.9945534953906834,
          -0.770096628647285,
          -0.20608861024238959,
          -0.4925907278741742,
          0.7406870696823697,
          -1.1915146439640203,
          0.9292707452628507,
          -0.6613702508859466,
          0.022604314287995954,
          0.3134690887984868,
          -0.3185530062287237,
          0.5284711935549179,
          1.120789945716334,
          -0.3465868029290484,
          0.23896825599299393,
          -2.26038233288238,
          0.5380590952984071,
          -1.9688932498897513,
          -0.7613762107752172,
          -0.11823013554809739,
          -0.028177356841723497,
          -1.0513616486720352,
          -1.6507256524546867,
          2.1529280602900207,
          -0.41794211066658044,
          0.9338858806218744,
          1.3344920766554635,
          -0.6365860405919882,
          -0.7676109370275626,
          0.6429431937564651,
          0.42668764185163727,
          -0.3907759787575083,
          1.3576086637570792,
          -0.8508541196075898,
          1.0311738580162024,
          -0.6942117620518734,
          0.5765511528842391,
          1.1518492909594327,
          -1.2225034797754055,
          1.1408633750298565,
          0.05683257756680082,
          0.03982035633295785,
          -0.5310702098003335,
          0.3050826944036197,
          -1.4315941374296302,
          0.0620204924741769,
          0.3712213222930268,
          -2.2706102062665376,
          -0.0732126734185369,
          0.06391821723014192,
          0.15851562012482912,
          -1.4239901896319407,
          -0.20252346423983303,
          1.1704864011336438,
          -1.504827925764627,
          -0.8439161190045732,
          0.19990899999922412,
          -1.9792940385856577,
          0.686541932563128,
          -0.19676049988536934,
          1.8544631502714788,
          0.10988465186955139,
          -1.9775064391788466,
          -0.07193047491956857,
          0.5425271644866959,
          0.08854538359246984,
          -0.5860319873890579,
          1.559926197264333,
          -0.08894047693415623,
          0.7574185728732918,
          0.405785846411819,
          0.13132326740221922,
          1.5741930847799328,
          1.8206450541720889,
          0.12480632885036354,
          1.641980266947941,
          0.784167732169403,
          1.2483951504260762,
          1.9960270909097149,
          0.6180724631596881,
          1.5595634985281068,
          0.08848900659443634,
          0.42732629037255976,
          -1.65015730453314,
          -0.5054898777798056,
          0.27019979882867395,
          -1.414359890319184,
          -0.268212420015485,
          0.296991091271173,
          -1.0380106016223936,
          1.0227499803487552,
          0.12521195440679433,
          0.6656313458437689,
          1.2962777133938317,
          -0.04153251286355584,
          -1.035619040183794,
          2.233371389540196,
          -1.382232890022994,
          1.6456349901784324,
          0.23310652480667074,
          -1.0576989859588333,
          -0.9516914012235363,
          -0.45472898255728067,
          0.5641003216064727,
          -1.4957285242455567,
          -0.1857405123961524,
          -1.0112280416808883,
          0.9418304225561965,
          0.8753145954868246,
          0.7662947542334625,
          -0.15126549132988606,
          0.35807628139619624,
          2.879035111794772,
          0.6301360798300513,
          0.736662811091115,
          1.637815470226655,
          -0.8617388617669988,
          0.40826870516593633,
          -1.5496702263748656,
          -1.395443065240861,
          0.5006035264972422,
          -0.164402370661744,
          1.8500382403971134,
          -1.732377639865123,
          0.011992888733563188,
          0.025284505131971648,
          -0.06916961006018374,
          1.9316435215861019,
          0.11250726320808191,
          0.8299085610491244,
          -0.08091714304761588,
          -0.14571641189392925,
          -1.3685750025371421,
          -1.1410037191965714,
          -0.3726800522663338,
          0.00818566937940085,
          -1.6632545641367775,
          0.4146852966715251,
          0.10907315063190251,
          0.3237317197280424,
          1.909164089134299,
          1.7545482793730103,
          0.09208335693136056,
          -0.4244251544827099,
          0.0705915612971666,
          -0.5743551327004293,
          -0.49529589133600754,
          -0.4011529260671844,
          0.9713471679145996,
          -0.7221476790493174,
          -0.4871193443165659,
          0.22827650480394596,
          -0.285806556443247,
          0.14054697728846755,
          0.33296042658114017,
          1.3896563264104718,
          -0.2959293874396464,
          0.9755605077131854,
          1.2108780416763136,
          -1.1712248597997275,
          -1.111544109217835,
          -0.732906825569072,
          0.47860983826437453,
          0.9187858073195981,
          -0.3118767808846769,
          -0.7761864424078787,
          0.6810457187907312,
          0.008617424158930154,
          0.3931629933654756,
          0.26106915207838527,
          -0.9700127650600683,
          0.9242698255279449,
          -2.6218140730796224,
          -0.7399605050439078,
          0.058572294636162155,
          0.23451239323595366,
          -1.9347290702023212,
          0.12933757093396867,
          0.17006184994440599,
          -0.029280273351875722,
          0.14100938712011543,
          0.8824965461097396,
          0.04459523155068754,
          0.5946642159437756,
          2.497688889292239,
          0.8455864564963476,
          0.5972511151891418,
          0.5074729619580628,
          -1.07693385777018,
          -0.7847937120936253,
          -1.1898853860855425,
          0.0072220968449304155,
          0.8948297530831826,
          -1.106736911252297,
          -2.4235592360410627,
          -1.6832596398866324,
          0.31624016972766156,
          0.7090155114239453,
          1.0852157425291724,
          0.2824869966712752,
          -0.7893787329671476,
          -0.71132535576324,
          -2.2048641452853315,
          -1.587945253878492,
          -1.5336977388000053,
          -1.7182766062954344,
          -0.46216783213023993,
          1.467493500812283,
          0.7559934786425971,
          -1.21014481689687,
          0.23470897046213987,
          -1.0692662913386162,
          0.018518195622495882,
          -0.7420079151456216,
          0.19948344953822503,
          0.03562259413612069,
          0.767904099884081,
          0.052381927317229196,
          0.7535411766718011,
          -0.06670719749511331,
          1.7070382431145747,
          -0.12515193060238808,
          -0.17553963951317136,
          -0.006531582363464818,
          -1.1441825563261,
          0.8834629388597385,
          -0.7782089761443965,
          -0.9499341707370738,
          0.8980112138746312,
          0.1111995963261618,
          -1.6670288576906467,
          0.3558806181122436,
          0.7566645534487688,
          -0.34772320927133243,
          -1.6601429398086416,
          1.6253935053055701,
          -0.08052349360398386,
          -0.46949579572257466,
          -0.15806210581764993,
          -0.0050895819312139195,
          0.8531674307604755,
          0.0712514179426521,
          -0.8530469213451934,
          -0.7155977557942577,
          0.07476585039228728,
          -0.74130262292749,
          -0.486022779068049,
          -1.0738758447359165,
          -0.41630049111055606,
          -1.1630733784315825,
          -1.156968289313573,
          1.3269776562127338,
          0.9328674070301691,
          -1.0208186729307103,
          0.6551269067944722,
          -0.10959134847494288,
          -1.012447206077242,
          -0.07481630848827414,
          1.666431267301316,
          1.633794121036425,
          0.4228236384514028,
          0.6361554477787966,
          0.6597976850038161,
          -1.7191381474349365,
          0.6461531839887603,
          0.22413991462482713,
          0.22056972258634586,
          0.677840806638375,
          -1.1161453882753911,
          0.8748178321509096,
          -0.16553467828244997,
          -0.5007407133795373,
          0.2050265802348525,
          2.7464245173306088,
          -1.2916377177548362,
          0.3906502201974788,
          1.2021578145332683,
          0.5696715029978459,
          -1.667564332639509,
          0.01432154620174484,
          0.333930987324813,
          0.45126692326673007,
          0.06025057443916206,
          -0.5698294307194733,
          -0.7098537101864368,
          -0.0366842705873878,
          -0.4408984233353352,
          -1.0489598008863419,
          0.9427693247169875,
          -1.1304809886288019,
          -1.6438103653577514,
          -0.904668435717221,
          -0.4197068760954221,
          0.44590259708685054,
          1.0339627069096347,
          -1.5469664845121727,
          -0.5624275830582909,
          1.4740940014753965,
          0.035166149103236684,
          -0.0978923615157879,
          -0.7254633889776851,
          -0.7132997828695242,
          -0.4210374544502332,
          -1.434373731985373,
          1.6690556497474316,
          0.5042941502571949,
          0.42251917060128247,
          1.6562085950031706,
          0.838511605945154,
          -0.8937871534763152,
          1.0616927660136761,
          1.13254075095451,
          -1.0584573841919362,
          -0.018762856767400166,
          -0.1397216134660481,
          0.5206729581520104,
          1.3227962592360225,
          0.0437102240535316,
          -0.7598116385505455,
          -1.048776096303051,
          -1.422202893584057,
          1.1904015439585725,
          0.13589309690080953,
          -0.6486820828841316,
          -1.6161457097750713,
          0.2696757843644767,
          0.31279464875313145,
          0.19021948227373958,
          -1.1744241320274396,
          0.6281712723304824,
          -0.3381543271464574,
          0.8830208930180341,
          -0.527329484096239,
          1.5371713719963311,
          0.7273661391277986,
          1.478750009608324,
          -1.1154215423295506,
          -0.3447958025352367,
          0.6750663213832512,
          0.9496669775555917,
          1.4162866256177944,
          -1.2533070390557302,
          0.15102677691980665,
          0.6249479057771767,
          0.6701593499673759,
          0.2521640211268947,
          -0.05492518076480904,
          -0.0557854347290749,
          0.466754144650728,
          0.9173645306213941,
          -0.9063968491824108,
          0.49784482840933425,
          0.9600755452084673,
          0.45709325609518353,
          0.6245038913763141,
          -0.6535962620368857,
          -1.0487841104950126,
          -0.0732910897663019,
          -1.8383302152049152,
          -0.24452972800228265,
          0.542323642470176,
          0.6265307050563835,
          -0.6037917420552124,
          -2.180458303318452,
          -0.6497340309325138,
          -1.867346913402424,
          1.800790129465235,
          -1.6974145361748647,
          -0.17921076387135904,
          -0.6952382428671252,
          -0.6344574068695112,
          1.1959195123049686,
          -0.8027052605470043,
          0.7861101810421293,
          1.2746079427866763,
          1.7854030069253892,
          -1.1508995194681049,
          -1.4536384284479107,
          -0.05653325600860755,
          -0.12573729684925786,
          -1.3942219689926734,
          1.0899923550185124,
          1.1503034679111168,
          -0.9952703799034478,
          0.4877411606894675,
          0.576070141687175,
          1.50921438399904,
          -0.6789299229106756,
          0.8661076271971565,
          -1.459610400932694,
          0.8707861589788382,
          -1.2246400275430398,
          0.5058114060800267,
          1.6251918416928097,
          -0.6680699691609057,
          0.10957144693627799,
          -1.4147064826493738,
          -1.6488174551645451,
          0.5214405173369498,
          -0.3622474201817429,
          0.4025836958821691,
          0.172645903818816,
          1.490450950007265,
          -0.19366287440522978,
          -0.49953159789918883,
          -0.2902050402151016,
          0.37027715382319437,
          -1.3664252369176797,
          0.5976689687432948,
          0.13993102528644233,
          -0.980769883337616,
          0.3069208878723273,
          0.9320191926409817,
          0.9949832665373484,
          -0.5832086672236567,
          -1.0553203300471634,
          0.5438164847037884,
          0.192699007953055,
          -1.714883148313319,
          0.9538566188405512,
          -0.4687048912367821,
          0.636483706517951,
          -2.8662660210883883,
          1.5331738608260255,
          1.3078767830285767,
          -1.3398011120840339,
          1.5349643691937707,
          0.2553290124235573,
          0.5710991419417558,
          -0.39543450319425894,
          0.677798891755473,
          1.949068529839892,
          0.10178923873357894,
          1.6356425227728242,
          0.13188064183487647,
          1.1341292014605329,
          -0.9130422934123464,
          -0.8571139862033657,
          0.2127736004984821,
          -1.408758879100992,
          -0.7541871232819296,
          0.5880314302487061,
          -1.6371809522408904,
          1.4716679269971715,
          -0.6236234819852065,
          -0.16700106628909203,
          -0.14780221555216394,
          -0.9969503031095673,
          -0.9527452549561494,
          0.8150972549385694,
          -0.7176533392923515,
          0.8476699965605121,
          -1.258107445290778,
          0.3968486303875349,
          0.30924117173096616,
          -1.0830713525422322,
          -0.7831797997124049,
          0.643786915331954,
          -2.053813984004038,
          0.07121857220730012,
          0.7201437531619138,
          0.42539489752417076,
          -0.9455036531820856,
          0.7960878703761514,
          -1.5355922754663336,
          1.1720012825989605,
          -1.720399301489047,
          -0.10895062804473715,
          -0.031721805115566104,
          -0.9558419412297977,
          0.3722677456786316,
          1.7019861112033494,
          -0.6736789721644989,
          0.6477603839866841,
          -0.7655754075607518,
          -0.5918787058432595,
          1.1375123833760254,
          0.4290412312301796,
          -0.9531812931576921,
          -1.2249271151553804,
          1.1843558710017066,
          0.7421674402759645,
          1.5419528754765526,
          -0.41634094214088124,
          0.808020078910639,
          -0.6256218623568168,
          2.0627113296089994,
          0.09208203353403928,
          -1.7886997112945144,
          -0.7979365680045004,
          -0.11349931899799101,
          0.3567972634728025,
          1.45253660124368,
          1.9342821897145135,
          -2.7827306826420877,
          0.03692080708577905,
          0.8306165482540582,
          0.5394694855120353,
          -0.79185548719711,
          -0.9700927554765023,
          -1.132906613358009,
          0.5692201148500242,
          1.2208279705378111,
          -1.135541540507058,
          0.7729588900551396,
          0.1600441026306168,
          -0.3682311049128426,
          0.574666153222219,
          -1.5686746098394362,
          0.44369359748966547,
          -0.3618586820675162,
          -0.9805199757407531,
          -0.22914250591252108,
          1.9266760450983853,
          -0.8118945651304206,
          0.05300453536997407,
          -0.6200566498868683,
          -0.036208947004210165,
          0.5758390663413008,
          -0.5212072065233485,
          1.4137567386995185,
          1.4588605203272529,
          0.07424227211165652,
          -0.500078083901944,
          0.7329254895310879,
          -0.7646832573809696,
          -0.11945386924805665,
          -1.2274491048067402,
          -0.9931056841089321,
          2.7763763044226946,
          -0.07733956982190121,
          -0.3567262231654356,
          0.7114870126973367,
          -0.3647471098108354,
          0.16277043502199684,
          0.3939647764420132,
          0.4523263426560763,
          1.9142423230235235,
          -0.7307569539004565,
          0.6681212619784586,
          0.20788811261539664,
          0.6406655220453581,
          1.1489196890764675,
          2.660703454056949,
          0.8399096509714623,
          0.0349816769698269,
          -0.6565855843076389,
          -0.8172966018306568,
          -0.9339819846380005,
          -1.608848148760029,
          -0.6582878561684131,
          0.17249272438751476,
          -0.20662153653730606,
          -1.3227213239988362,
          -0.4575917539267618,
          -1.8900697823327273,
          -0.5881920232790612,
          0.9985450234650872,
          -0.5061424589019082,
          -1.4369921606132072,
          -0.7959418157039342,
          1.1008752449489332,
          -0.2221839490868402,
          -1.5118477780147512,
          -0.8035736126939826,
          1.619066154392602,
          0.09736922116911931,
          -0.05751690434390276,
          0.8681743779930362,
          0.6410790352799859,
          -0.48048807194037013,
          -0.4370890469708078,
          -0.9089612362540146,
          1.0984917792886655,
          0.7820607172823518,
          -0.30945693032710736,
          -0.1646154626156369,
          -0.23596646091360365,
          -0.7184924442272316,
          -0.12349973345885942,
          -0.05056952413875981,
          0.5168263065406168,
          -0.4423606512250991,
          2.0427657370590895,
          0.9058958798250862,
          -0.29776115321624286,
          0.055654352342132854,
          0.9167518314208202,
          0.14220040774554155,
          2.3200211618894078,
          0.8111393557708658,
          1.9197112974948318,
          -0.9600070324526909,
          0.24592327983516024,
          0.7222587819948768,
          0.6504573677915886,
          -1.086356967291552,
          1.1650910724919548,
          -0.6866438762222539,
          -0.02875294843010374,
          -0.3346803649726281,
          -0.03863207257760322,
          0.2399542238878296,
          -0.18176946574260106,
          -0.8540455207707794,
          1.7939170436350653,
          -0.2376469834648391,
          -0.11973279113562688,
          -0.17305995422763062,
          -0.006830610801691482,
          0.4411731510302346,
          0.45114914515818716,
          -0.02993892018636632,
          -0.26509584248756785,
          1.315022237220151,
          0.5626584912772483,
          -0.5476861854544631,
          1.8226895610891924,
          -0.04028761417611719,
          0.46383139609304463,
          -1.0859527369696464,
          -1.5246272431080865,
          -0.7455979298315621,
          0.7419849394842449,
          0.2820930176493331,
          0.876377719960987,
          -0.2604549939379442,
          -0.9172814106676739,
          1.6178209309967901,
          1.0457199882369264,
          0.5806816047279152,
          -1.2989710430485994,
          0.2935299737574618,
          0.3909173693137666,
          -1.0209430504971295
         ]
        }
       ],
       "layout": {
        "height": 400,
        "margin": {
         "b": 20,
         "l": 20,
         "r": 20,
         "t": 20
        },
        "paper_bgcolor": "#f7f8fa",
        "showlegend": false,
        "template": {
         "data": {
          "bar": [
           {
            "error_x": {
             "color": "rgb(36,36,36)"
            },
            "error_y": {
             "color": "rgb(36,36,36)"
            },
            "marker": {
             "line": {
              "color": "white",
              "width": 0.5
             },
             "pattern": {
              "fillmode": "overlay",
              "size": 10,
              "solidity": 0.2
             }
            },
            "type": "bar"
           }
          ],
          "barpolar": [
           {
            "marker": {
             "line": {
              "color": "white",
              "width": 0.5
             },
             "pattern": {
              "fillmode": "overlay",
              "size": 10,
              "solidity": 0.2
             }
            },
            "type": "barpolar"
           }
          ],
          "carpet": [
           {
            "aaxis": {
             "endlinecolor": "rgb(36,36,36)",
             "gridcolor": "white",
             "linecolor": "white",
             "minorgridcolor": "white",
             "startlinecolor": "rgb(36,36,36)"
            },
            "baxis": {
             "endlinecolor": "rgb(36,36,36)",
             "gridcolor": "white",
             "linecolor": "white",
             "minorgridcolor": "white",
             "startlinecolor": "rgb(36,36,36)"
            },
            "type": "carpet"
           }
          ],
          "choropleth": [
           {
            "colorbar": {
             "outlinewidth": 1,
             "tickcolor": "rgb(36,36,36)",
             "ticks": "outside"
            },
            "type": "choropleth"
           }
          ],
          "contour": [
           {
            "colorbar": {
             "outlinewidth": 1,
             "tickcolor": "rgb(36,36,36)",
             "ticks": "outside"
            },
            "colorscale": [
             [
              0,
              "#440154"
             ],
             [
              0.1111111111111111,
              "#482878"
             ],
             [
              0.2222222222222222,
              "#3e4989"
             ],
             [
              0.3333333333333333,
              "#31688e"
             ],
             [
              0.4444444444444444,
              "#26828e"
             ],
             [
              0.5555555555555556,
              "#1f9e89"
             ],
             [
              0.6666666666666666,
              "#35b779"
             ],
             [
              0.7777777777777778,
              "#6ece58"
             ],
             [
              0.8888888888888888,
              "#b5de2b"
             ],
             [
              1,
              "#fde725"
             ]
            ],
            "type": "contour"
           }
          ],
          "contourcarpet": [
           {
            "colorbar": {
             "outlinewidth": 1,
             "tickcolor": "rgb(36,36,36)",
             "ticks": "outside"
            },
            "type": "contourcarpet"
           }
          ],
          "heatmap": [
           {
            "colorbar": {
             "outlinewidth": 1,
             "tickcolor": "rgb(36,36,36)",
             "ticks": "outside"
            },
            "colorscale": [
             [
              0,
              "#440154"
             ],
             [
              0.1111111111111111,
              "#482878"
             ],
             [
              0.2222222222222222,
              "#3e4989"
             ],
             [
              0.3333333333333333,
              "#31688e"
             ],
             [
              0.4444444444444444,
              "#26828e"
             ],
             [
              0.5555555555555556,
              "#1f9e89"
             ],
             [
              0.6666666666666666,
              "#35b779"
             ],
             [
              0.7777777777777778,
              "#6ece58"
             ],
             [
              0.8888888888888888,
              "#b5de2b"
             ],
             [
              1,
              "#fde725"
             ]
            ],
            "type": "heatmap"
           }
          ],
          "heatmapgl": [
           {
            "colorbar": {
             "outlinewidth": 1,
             "tickcolor": "rgb(36,36,36)",
             "ticks": "outside"
            },
            "colorscale": [
             [
              0,
              "#440154"
             ],
             [
              0.1111111111111111,
              "#482878"
             ],
             [
              0.2222222222222222,
              "#3e4989"
             ],
             [
              0.3333333333333333,
              "#31688e"
             ],
             [
              0.4444444444444444,
              "#26828e"
             ],
             [
              0.5555555555555556,
              "#1f9e89"
             ],
             [
              0.6666666666666666,
              "#35b779"
             ],
             [
              0.7777777777777778,
              "#6ece58"
             ],
             [
              0.8888888888888888,
              "#b5de2b"
             ],
             [
              1,
              "#fde725"
             ]
            ],
            "type": "heatmapgl"
           }
          ],
          "histogram": [
           {
            "marker": {
             "line": {
              "color": "white",
              "width": 0.6
             }
            },
            "type": "histogram"
           }
          ],
          "histogram2d": [
           {
            "colorbar": {
             "outlinewidth": 1,
             "tickcolor": "rgb(36,36,36)",
             "ticks": "outside"
            },
            "colorscale": [
             [
              0,
              "#440154"
             ],
             [
              0.1111111111111111,
              "#482878"
             ],
             [
              0.2222222222222222,
              "#3e4989"
             ],
             [
              0.3333333333333333,
              "#31688e"
             ],
             [
              0.4444444444444444,
              "#26828e"
             ],
             [
              0.5555555555555556,
              "#1f9e89"
             ],
             [
              0.6666666666666666,
              "#35b779"
             ],
             [
              0.7777777777777778,
              "#6ece58"
             ],
             [
              0.8888888888888888,
              "#b5de2b"
             ],
             [
              1,
              "#fde725"
             ]
            ],
            "type": "histogram2d"
           }
          ],
          "histogram2dcontour": [
           {
            "colorbar": {
             "outlinewidth": 1,
             "tickcolor": "rgb(36,36,36)",
             "ticks": "outside"
            },
            "colorscale": [
             [
              0,
              "#440154"
             ],
             [
              0.1111111111111111,
              "#482878"
             ],
             [
              0.2222222222222222,
              "#3e4989"
             ],
             [
              0.3333333333333333,
              "#31688e"
             ],
             [
              0.4444444444444444,
              "#26828e"
             ],
             [
              0.5555555555555556,
              "#1f9e89"
             ],
             [
              0.6666666666666666,
              "#35b779"
             ],
             [
              0.7777777777777778,
              "#6ece58"
             ],
             [
              0.8888888888888888,
              "#b5de2b"
             ],
             [
              1,
              "#fde725"
             ]
            ],
            "type": "histogram2dcontour"
           }
          ],
          "mesh3d": [
           {
            "colorbar": {
             "outlinewidth": 1,
             "tickcolor": "rgb(36,36,36)",
             "ticks": "outside"
            },
            "type": "mesh3d"
           }
          ],
          "parcoords": [
           {
            "line": {
             "colorbar": {
              "outlinewidth": 1,
              "tickcolor": "rgb(36,36,36)",
              "ticks": "outside"
             }
            },
            "type": "parcoords"
           }
          ],
          "pie": [
           {
            "automargin": true,
            "type": "pie"
           }
          ],
          "scatter": [
           {
            "fillpattern": {
             "fillmode": "overlay",
             "size": 10,
             "solidity": 0.2
            },
            "type": "scatter"
           }
          ],
          "scatter3d": [
           {
            "line": {
             "colorbar": {
              "outlinewidth": 1,
              "tickcolor": "rgb(36,36,36)",
              "ticks": "outside"
             }
            },
            "marker": {
             "colorbar": {
              "outlinewidth": 1,
              "tickcolor": "rgb(36,36,36)",
              "ticks": "outside"
             }
            },
            "type": "scatter3d"
           }
          ],
          "scattercarpet": [
           {
            "marker": {
             "colorbar": {
              "outlinewidth": 1,
              "tickcolor": "rgb(36,36,36)",
              "ticks": "outside"
             }
            },
            "type": "scattercarpet"
           }
          ],
          "scattergeo": [
           {
            "marker": {
             "colorbar": {
              "outlinewidth": 1,
              "tickcolor": "rgb(36,36,36)",
              "ticks": "outside"
             }
            },
            "type": "scattergeo"
           }
          ],
          "scattergl": [
           {
            "marker": {
             "colorbar": {
              "outlinewidth": 1,
              "tickcolor": "rgb(36,36,36)",
              "ticks": "outside"
             }
            },
            "type": "scattergl"
           }
          ],
          "scattermapbox": [
           {
            "marker": {
             "colorbar": {
              "outlinewidth": 1,
              "tickcolor": "rgb(36,36,36)",
              "ticks": "outside"
             }
            },
            "type": "scattermapbox"
           }
          ],
          "scatterpolar": [
           {
            "marker": {
             "colorbar": {
              "outlinewidth": 1,
              "tickcolor": "rgb(36,36,36)",
              "ticks": "outside"
             }
            },
            "type": "scatterpolar"
           }
          ],
          "scatterpolargl": [
           {
            "marker": {
             "colorbar": {
              "outlinewidth": 1,
              "tickcolor": "rgb(36,36,36)",
              "ticks": "outside"
             }
            },
            "type": "scatterpolargl"
           }
          ],
          "scatterternary": [
           {
            "marker": {
             "colorbar": {
              "outlinewidth": 1,
              "tickcolor": "rgb(36,36,36)",
              "ticks": "outside"
             }
            },
            "type": "scatterternary"
           }
          ],
          "surface": [
           {
            "colorbar": {
             "outlinewidth": 1,
             "tickcolor": "rgb(36,36,36)",
             "ticks": "outside"
            },
            "colorscale": [
             [
              0,
              "#440154"
             ],
             [
              0.1111111111111111,
              "#482878"
             ],
             [
              0.2222222222222222,
              "#3e4989"
             ],
             [
              0.3333333333333333,
              "#31688e"
             ],
             [
              0.4444444444444444,
              "#26828e"
             ],
             [
              0.5555555555555556,
              "#1f9e89"
             ],
             [
              0.6666666666666666,
              "#35b779"
             ],
             [
              0.7777777777777778,
              "#6ece58"
             ],
             [
              0.8888888888888888,
              "#b5de2b"
             ],
             [
              1,
              "#fde725"
             ]
            ],
            "type": "surface"
           }
          ],
          "table": [
           {
            "cells": {
             "fill": {
              "color": "rgb(237,237,237)"
             },
             "line": {
              "color": "white"
             }
            },
            "header": {
             "fill": {
              "color": "rgb(217,217,217)"
             },
             "line": {
              "color": "white"
             }
            },
            "type": "table"
           }
          ]
         },
         "layout": {
          "annotationdefaults": {
           "arrowhead": 0,
           "arrowwidth": 1
          },
          "autotypenumbers": "strict",
          "coloraxis": {
           "colorbar": {
            "outlinewidth": 1,
            "tickcolor": "rgb(36,36,36)",
            "ticks": "outside"
           }
          },
          "colorscale": {
           "diverging": [
            [
             0,
             "rgb(103,0,31)"
            ],
            [
             0.1,
             "rgb(178,24,43)"
            ],
            [
             0.2,
             "rgb(214,96,77)"
            ],
            [
             0.3,
             "rgb(244,165,130)"
            ],
            [
             0.4,
             "rgb(253,219,199)"
            ],
            [
             0.5,
             "rgb(247,247,247)"
            ],
            [
             0.6,
             "rgb(209,229,240)"
            ],
            [
             0.7,
             "rgb(146,197,222)"
            ],
            [
             0.8,
             "rgb(67,147,195)"
            ],
            [
             0.9,
             "rgb(33,102,172)"
            ],
            [
             1,
             "rgb(5,48,97)"
            ]
           ],
           "sequential": [
            [
             0,
             "#440154"
            ],
            [
             0.1111111111111111,
             "#482878"
            ],
            [
             0.2222222222222222,
             "#3e4989"
            ],
            [
             0.3333333333333333,
             "#31688e"
            ],
            [
             0.4444444444444444,
             "#26828e"
            ],
            [
             0.5555555555555556,
             "#1f9e89"
            ],
            [
             0.6666666666666666,
             "#35b779"
            ],
            [
             0.7777777777777778,
             "#6ece58"
            ],
            [
             0.8888888888888888,
             "#b5de2b"
            ],
            [
             1,
             "#fde725"
            ]
           ],
           "sequentialminus": [
            [
             0,
             "#440154"
            ],
            [
             0.1111111111111111,
             "#482878"
            ],
            [
             0.2222222222222222,
             "#3e4989"
            ],
            [
             0.3333333333333333,
             "#31688e"
            ],
            [
             0.4444444444444444,
             "#26828e"
            ],
            [
             0.5555555555555556,
             "#1f9e89"
            ],
            [
             0.6666666666666666,
             "#35b779"
            ],
            [
             0.7777777777777778,
             "#6ece58"
            ],
            [
             0.8888888888888888,
             "#b5de2b"
            ],
            [
             1,
             "#fde725"
            ]
           ]
          },
          "colorway": [
           "#1F77B4",
           "#FF7F0E",
           "#2CA02C",
           "#D62728",
           "#9467BD",
           "#8C564B",
           "#E377C2",
           "#7F7F7F",
           "#BCBD22",
           "#17BECF"
          ],
          "font": {
           "color": "rgb(36,36,36)"
          },
          "geo": {
           "bgcolor": "white",
           "lakecolor": "white",
           "landcolor": "white",
           "showlakes": true,
           "showland": true,
           "subunitcolor": "white"
          },
          "hoverlabel": {
           "align": "left"
          },
          "hovermode": "closest",
          "mapbox": {
           "style": "light"
          },
          "paper_bgcolor": "white",
          "plot_bgcolor": "white",
          "polar": {
           "angularaxis": {
            "gridcolor": "rgb(232,232,232)",
            "linecolor": "rgb(36,36,36)",
            "showgrid": false,
            "showline": true,
            "ticks": "outside"
           },
           "bgcolor": "white",
           "radialaxis": {
            "gridcolor": "rgb(232,232,232)",
            "linecolor": "rgb(36,36,36)",
            "showgrid": false,
            "showline": true,
            "ticks": "outside"
           }
          },
          "scene": {
           "xaxis": {
            "backgroundcolor": "white",
            "gridcolor": "rgb(232,232,232)",
            "gridwidth": 2,
            "linecolor": "rgb(36,36,36)",
            "showbackground": true,
            "showgrid": false,
            "showline": true,
            "ticks": "outside",
            "zeroline": false,
            "zerolinecolor": "rgb(36,36,36)"
           },
           "yaxis": {
            "backgroundcolor": "white",
            "gridcolor": "rgb(232,232,232)",
            "gridwidth": 2,
            "linecolor": "rgb(36,36,36)",
            "showbackground": true,
            "showgrid": false,
            "showline": true,
            "ticks": "outside",
            "zeroline": false,
            "zerolinecolor": "rgb(36,36,36)"
           },
           "zaxis": {
            "backgroundcolor": "white",
            "gridcolor": "rgb(232,232,232)",
            "gridwidth": 2,
            "linecolor": "rgb(36,36,36)",
            "showbackground": true,
            "showgrid": false,
            "showline": true,
            "ticks": "outside",
            "zeroline": false,
            "zerolinecolor": "rgb(36,36,36)"
           }
          },
          "shapedefaults": {
           "fillcolor": "black",
           "line": {
            "width": 0
           },
           "opacity": 0.3
          },
          "ternary": {
           "aaxis": {
            "gridcolor": "rgb(232,232,232)",
            "linecolor": "rgb(36,36,36)",
            "showgrid": false,
            "showline": true,
            "ticks": "outside"
           },
           "baxis": {
            "gridcolor": "rgb(232,232,232)",
            "linecolor": "rgb(36,36,36)",
            "showgrid": false,
            "showline": true,
            "ticks": "outside"
           },
           "bgcolor": "white",
           "caxis": {
            "gridcolor": "rgb(232,232,232)",
            "linecolor": "rgb(36,36,36)",
            "showgrid": false,
            "showline": true,
            "ticks": "outside"
           }
          },
          "title": {
           "x": 0.05
          },
          "xaxis": {
           "automargin": true,
           "gridcolor": "rgb(232,232,232)",
           "linecolor": "rgb(36,36,36)",
           "showgrid": false,
           "showline": true,
           "ticks": "outside",
           "title": {
            "standoff": 15
           },
           "zeroline": false,
           "zerolinecolor": "rgb(36,36,36)"
          },
          "yaxis": {
           "automargin": true,
           "gridcolor": "rgb(232,232,232)",
           "linecolor": "rgb(36,36,36)",
           "showgrid": false,
           "showline": true,
           "ticks": "outside",
           "title": {
            "standoff": 15
           },
           "zeroline": false,
           "zerolinecolor": "rgb(36,36,36)"
          }
         }
        },
        "width": 400
       }
      }
     },
     "metadata": {},
     "output_type": "display_data"
    }
   ],
   "source": [
    "fig02 = go.Figure()\n",
    "fig02.add_trace(go.Box(y=normal_dist, boxpoints='all', boxmean='sd', name='<b>Normal distribution', marker_color = 'blue'))\n",
    "fig02.update_layout(width=400, height=400, template = 'simple_white',\n",
    "                    paper_bgcolor=\"#f7f8fa\", margin=dict(l=20, r=20, t=20, b=20),\n",
    "                    showlegend=False)"
   ]
  },
  {
   "cell_type": "code",
   "execution_count": 12,
   "metadata": {},
   "outputs": [
    {
     "name": "stdout",
     "output_type": "stream",
     "text": [
      "-0.7102216215806376\n",
      "-0.7102216215806376\n"
     ]
    }
   ],
   "source": [
    "print(np.quantile(normal_dist, 0.25))\n",
    "print(np.percentile(normal_dist, 25))"
   ]
  },
  {
   "cell_type": "code",
   "execution_count": 13,
   "metadata": {},
   "outputs": [
    {
     "data": {
      "text/html": [
       "<div>\n",
       "<style scoped>\n",
       "    .dataframe tbody tr th:only-of-type {\n",
       "        vertical-align: middle;\n",
       "    }\n",
       "\n",
       "    .dataframe tbody tr th {\n",
       "        vertical-align: top;\n",
       "    }\n",
       "\n",
       "    .dataframe thead th {\n",
       "        text-align: right;\n",
       "    }\n",
       "</style>\n",
       "<table border=\"1\" class=\"dataframe\">\n",
       "  <thead>\n",
       "    <tr style=\"text-align: right;\">\n",
       "      <th></th>\n",
       "      <th>0</th>\n",
       "    </tr>\n",
       "  </thead>\n",
       "  <tbody>\n",
       "    <tr>\n",
       "      <th>count</th>\n",
       "      <td>1000.000000</td>\n",
       "    </tr>\n",
       "    <tr>\n",
       "      <th>mean</th>\n",
       "      <td>0.001707</td>\n",
       "    </tr>\n",
       "    <tr>\n",
       "      <th>std</th>\n",
       "      <td>0.979604</td>\n",
       "    </tr>\n",
       "    <tr>\n",
       "      <th>min</th>\n",
       "      <td>-2.866266</td>\n",
       "    </tr>\n",
       "    <tr>\n",
       "      <th>25%</th>\n",
       "      <td>-0.710222</td>\n",
       "    </tr>\n",
       "    <tr>\n",
       "      <th>50%</th>\n",
       "      <td>0.023944</td>\n",
       "    </tr>\n",
       "    <tr>\n",
       "      <th>75%</th>\n",
       "      <td>0.651647</td>\n",
       "    </tr>\n",
       "    <tr>\n",
       "      <th>max</th>\n",
       "      <td>2.879035</td>\n",
       "    </tr>\n",
       "  </tbody>\n",
       "</table>\n",
       "</div>"
      ],
      "text/plain": [
       "                 0\n",
       "count  1000.000000\n",
       "mean      0.001707\n",
       "std       0.979604\n",
       "min      -2.866266\n",
       "25%      -0.710222\n",
       "50%       0.023944\n",
       "75%       0.651647\n",
       "max       2.879035"
      ]
     },
     "execution_count": 13,
     "metadata": {},
     "output_type": "execute_result"
    }
   ],
   "source": [
    "df_normal_distrib = pd.DataFrame(normal_dist)\n",
    "df_normal_distrib.describe()"
   ]
  },
  {
   "cell_type": "code",
   "execution_count": 14,
   "metadata": {},
   "outputs": [
    {
     "data": {
      "text/plain": [
       "0.013535659786954618"
      ]
     },
     "execution_count": 14,
     "metadata": {},
     "output_type": "execute_result"
    }
   ],
   "source": [
    "stats.skew(normal_dist)"
   ]
  },
  {
   "cell_type": "code",
   "execution_count": 15,
   "metadata": {},
   "outputs": [
    {
     "data": {
      "text/plain": [
       "5.74530113288316"
      ]
     },
     "execution_count": 15,
     "metadata": {},
     "output_type": "execute_result"
    }
   ],
   "source": [
    "# Amplitude para alvos/stops\n",
    "amplitude = normal_dist.max() - normal_dist.min()\n",
    "amplitude"
   ]
  },
  {
   "cell_type": "code",
   "execution_count": 16,
   "metadata": {},
   "outputs": [
    {
     "data": {
      "text/plain": [
       "0.9796038897827954"
      ]
     },
     "execution_count": 16,
     "metadata": {},
     "output_type": "execute_result"
    }
   ],
   "source": [
    "# Desvio padrão da amostra (população degrees of freedom = False)\n",
    "# Sharpe ratio, bandas de bollinger\n",
    "desvio_padrao = np.std(normal_dist, ddof = True)\n",
    "desvio_padrao"
   ]
  },
  {
   "cell_type": "code",
   "execution_count": 17,
   "metadata": {},
   "outputs": [
    {
     "data": {
      "text/plain": [
       "57399.99104184921"
      ]
     },
     "execution_count": 17,
     "metadata": {},
     "output_type": "execute_result"
    }
   ],
   "source": [
    "# Coeficiente de variação\n",
    "# Interessante para comparações e avaliar a consistência (ex., pagamento de dividendos)\n",
    "normal_dist.std(ddof = True)/normal_dist.mean()*100"
   ]
  },
  {
   "cell_type": "code",
   "execution_count": 18,
   "metadata": {},
   "outputs": [
    {
     "data": {
      "text/plain": [
       "0.030977794964741814"
      ]
     },
     "execution_count": 18,
     "metadata": {},
     "output_type": "execute_result"
    }
   ],
   "source": [
    "# Erro padrão da média\n",
    "\n",
    "stats.sem(normal_dist)"
   ]
  },
  {
   "cell_type": "code",
   "execution_count": 19,
   "metadata": {},
   "outputs": [
    {
     "data": {
      "text/plain": [
       "(-0.05908238418177415, 0.06249563868583352)"
      ]
     },
     "execution_count": 19,
     "metadata": {},
     "output_type": "execute_result"
    }
   ],
   "source": [
    "# Intervalo de confiança 95%\n",
    "# Probabilidade de 95% da média real estar nesse intervalo\n",
    "\n",
    "IC_95 = stats.t.interval(0.95, df=len(normal_dist)-1, loc=np.mean(normal_dist), scale=stats.sem(normal_dist))\n",
    "IC_95"
   ]
  }
 ],
 "metadata": {
  "kernelspec": {
   "display_name": "estats_mercado",
   "language": "python",
   "name": "python3"
  },
  "language_info": {
   "codemirror_mode": {
    "name": "ipython",
    "version": 3
   },
   "file_extension": ".py",
   "mimetype": "text/x-python",
   "name": "python",
   "nbconvert_exporter": "python",
   "pygments_lexer": "ipython3",
   "version": "3.10.8"
  },
  "orig_nbformat": 4
 },
 "nbformat": 4,
 "nbformat_minor": 2
}
