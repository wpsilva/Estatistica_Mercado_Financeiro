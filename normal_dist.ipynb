{
 "cells": [
  {
   "cell_type": "markdown",
   "metadata": {},
   "source": [
    "Bibliotecas"
   ]
  },
  {
   "cell_type": "code",
   "execution_count": 3,
   "metadata": {},
   "outputs": [
    {
     "name": "stdout",
     "output_type": "stream",
     "text": [
      "Requirement already satisfied: pip in d:\\dev\\tcd\\estatistica_mercado_financeiro\\estats_mercado\\lib\\site-packages (23.1.2)\n",
      "Collecting pip\n",
      "  Using cached pip-23.2.1-py3-none-any.whl (2.1 MB)\n",
      "Installing collected packages: pip\n",
      "  Attempting uninstall: pip\n",
      "    Found existing installation: pip 23.1.2\n",
      "    Uninstalling pip-23.1.2:\n",
      "      Successfully uninstalled pip-23.1.2\n",
      "Successfully installed pip-23.2.1\n",
      "Requirement already satisfied: yfinance in d:\\dev\\tcd\\estatistica_mercado_financeiro\\estats_mercado\\lib\\site-packages (0.2.27)\n",
      "Requirement already satisfied: pandas>=1.3.0 in d:\\dev\\tcd\\estatistica_mercado_financeiro\\estats_mercado\\lib\\site-packages (from yfinance) (2.0.3)\n",
      "Requirement already satisfied: numpy>=1.16.5 in d:\\dev\\tcd\\estatistica_mercado_financeiro\\estats_mercado\\lib\\site-packages (from yfinance) (1.25.2)\n",
      "Requirement already satisfied: requests>=2.31 in d:\\dev\\tcd\\estatistica_mercado_financeiro\\estats_mercado\\lib\\site-packages (from yfinance) (2.31.0)\n",
      "Requirement already satisfied: multitasking>=0.0.7 in d:\\dev\\tcd\\estatistica_mercado_financeiro\\estats_mercado\\lib\\site-packages (from yfinance) (0.0.11)\n",
      "Requirement already satisfied: lxml>=4.9.1 in d:\\dev\\tcd\\estatistica_mercado_financeiro\\estats_mercado\\lib\\site-packages (from yfinance) (4.9.3)\n",
      "Requirement already satisfied: appdirs>=1.4.4 in d:\\dev\\tcd\\estatistica_mercado_financeiro\\estats_mercado\\lib\\site-packages (from yfinance) (1.4.4)\n",
      "Requirement already satisfied: pytz>=2022.5 in d:\\dev\\tcd\\estatistica_mercado_financeiro\\estats_mercado\\lib\\site-packages (from yfinance) (2023.3)\n",
      "Requirement already satisfied: frozendict>=2.3.4 in d:\\dev\\tcd\\estatistica_mercado_financeiro\\estats_mercado\\lib\\site-packages (from yfinance) (2.3.8)\n",
      "Requirement already satisfied: beautifulsoup4>=4.11.1 in d:\\dev\\tcd\\estatistica_mercado_financeiro\\estats_mercado\\lib\\site-packages (from yfinance) (4.12.2)\n",
      "Requirement already satisfied: html5lib>=1.1 in d:\\dev\\tcd\\estatistica_mercado_financeiro\\estats_mercado\\lib\\site-packages (from yfinance) (1.1)\n",
      "Requirement already satisfied: soupsieve>1.2 in d:\\dev\\tcd\\estatistica_mercado_financeiro\\estats_mercado\\lib\\site-packages (from beautifulsoup4>=4.11.1->yfinance) (2.4.1)\n",
      "Requirement already satisfied: six>=1.9 in d:\\dev\\tcd\\estatistica_mercado_financeiro\\estats_mercado\\lib\\site-packages (from html5lib>=1.1->yfinance) (1.16.0)\n",
      "Requirement already satisfied: webencodings in d:\\dev\\tcd\\estatistica_mercado_financeiro\\estats_mercado\\lib\\site-packages (from html5lib>=1.1->yfinance) (0.5.1)\n",
      "Requirement already satisfied: python-dateutil>=2.8.2 in d:\\dev\\tcd\\estatistica_mercado_financeiro\\estats_mercado\\lib\\site-packages (from pandas>=1.3.0->yfinance) (2.8.2)\n",
      "Requirement already satisfied: tzdata>=2022.1 in d:\\dev\\tcd\\estatistica_mercado_financeiro\\estats_mercado\\lib\\site-packages (from pandas>=1.3.0->yfinance) (2023.3)\n",
      "Requirement already satisfied: charset-normalizer<4,>=2 in d:\\dev\\tcd\\estatistica_mercado_financeiro\\estats_mercado\\lib\\site-packages (from requests>=2.31->yfinance) (3.2.0)\n",
      "Requirement already satisfied: idna<4,>=2.5 in d:\\dev\\tcd\\estatistica_mercado_financeiro\\estats_mercado\\lib\\site-packages (from requests>=2.31->yfinance) (3.4)\n",
      "Requirement already satisfied: urllib3<3,>=1.21.1 in d:\\dev\\tcd\\estatistica_mercado_financeiro\\estats_mercado\\lib\\site-packages (from requests>=2.31->yfinance) (2.0.4)\n",
      "Requirement already satisfied: certifi>=2017.4.17 in d:\\dev\\tcd\\estatistica_mercado_financeiro\\estats_mercado\\lib\\site-packages (from requests>=2.31->yfinance) (2023.7.22)\n"
     ]
    },
    {
     "name": "stderr",
     "output_type": "stream",
     "text": [
      "ERROR: Ignored the following versions that require a different python version: 0.15.0 Requires-Python >=3.6, <3.9; 0.15.1 Requires-Python >=3.6, <3.9; 0.15.2 Requires-Python >=3.6, <3.9; 0.15.3 Requires-Python >=3.6, <3.9; 0.15.4 Requires-Python >=3.6, <3.9; 0.15.5 Requires-Python >=3.6, <3.9; 0.15.6 Requires-Python >=3.6, <3.9; 0.15.7 Requires-Python >=3.6, <3.9; 0.16.0 Requires-Python >=3.6, <3.9; 0.16.1 Requires-Python >=3.6, <3.9; 0.16.2 Requires-Python >=3.6, <3.9; 0.16.3 Requires-Python >=3.6, <3.9; 0.16.4 Requires-Python >=3.6, <3.9; 0.16.5 Requires-Python >=3.6, <3.9; 0.16.6 Requires-Python >=3.6, <3.9; 0.17.0 Requires-Python >=3.6, <3.9; 0.17.1 Requires-Python >=3.6, <3.9; 0.17.2 Requires-Python >=3.6, <3.9; 0.17.3 Requires-Python >=3.6, <3.9; 0.17.4 Requires-Python >=3.6, <3.9; 0.17.5 Requires-Python >=3.6, <3.9; 0.17.6 Requires-Python >=3.6, <3.10; 0.17.7 Requires-Python >=3.6, <3.10; 0.18.0 Requires-Python >=3.6, <3.10; 0.18.1 Requires-Python >=3.6, <3.10; 0.18.2 Requires-Python >=3.6, <3.10; 0.19.0 Requires-Python >=3.6, <3.10; 0.19.1 Requires-Python >=3.6, <3.10; 0.19.2 Requires-Python >=3.6, <3.10; 0.20.0 Requires-Python >=3.6, <3.10; 0.20.1 Requires-Python >=3.6, <3.10; 0.21.0 Requires-Python >=3.6, <3.10; 0.22.0 Requires-Python >=3.6, <3.10; 0.23.0 Requires-Python >=3.6, <3.10; 0.23.1 Requires-Python >=3.6, <3.10; 0.23.2 Requires-Python >=3.6, <3.10; 0.23.3 Requires-Python >=3.6, <3.10; 0.24.0 Requires-Python >=3.6, <3.11; 0.24.1 Requires-Python >=3.6, <3.11; 0.24.2 Requires-Python >=3.6, <3.11; 0.24.3 Requires-Python >=3.6, <3.11; 0.24.4 Requires-Python >=3.6, <3.11; 0.24.5 Requires-Python >=3.6, <3.11; 0.25.0 Requires-Python >=3.6, <3.11; 0.25.1 Requires-Python >=3.6, <3.11; 0.25.2 Requires-Python >=3.6, <3.11; 0.25.3 Requires-Python >=3.6, <3.11; 0.25.4 Requires-Python >=3.6, <3.11; 0.25.5 Requires-Python >=3.6, <3.11\n",
      "ERROR: Could not find a version that satisfies the requirement vectorbt (from versions: none)\n",
      "ERROR: No matching distribution found for vectorbt\n"
     ]
    },
    {
     "name": "stdout",
     "output_type": "stream",
     "text": [
      "Requirement already satisfied: sweetviz in d:\\dev\\tcd\\estatistica_mercado_financeiro\\estats_mercado\\lib\\site-packages (2.1.4)\n",
      "Requirement already satisfied: pandas!=1.0.0,!=1.0.1,!=1.0.2,>=0.25.3 in d:\\dev\\tcd\\estatistica_mercado_financeiro\\estats_mercado\\lib\\site-packages (from sweetviz) (2.0.3)\n",
      "Requirement already satisfied: numpy>=1.16.0 in d:\\dev\\tcd\\estatistica_mercado_financeiro\\estats_mercado\\lib\\site-packages (from sweetviz) (1.25.2)\n",
      "Requirement already satisfied: matplotlib>=3.1.3 in d:\\dev\\tcd\\estatistica_mercado_financeiro\\estats_mercado\\lib\\site-packages (from sweetviz) (3.7.2)\n",
      "Requirement already satisfied: tqdm>=4.43.0 in d:\\dev\\tcd\\estatistica_mercado_financeiro\\estats_mercado\\lib\\site-packages (from sweetviz) (4.65.0)\n",
      "Requirement already satisfied: scipy>=1.3.2 in d:\\dev\\tcd\\estatistica_mercado_financeiro\\estats_mercado\\lib\\site-packages (from sweetviz) (1.11.1)\n",
      "Requirement already satisfied: jinja2>=2.11.1 in d:\\dev\\tcd\\estatistica_mercado_financeiro\\estats_mercado\\lib\\site-packages (from sweetviz) (3.1.2)\n",
      "Requirement already satisfied: importlib-resources>=1.2.0 in d:\\dev\\tcd\\estatistica_mercado_financeiro\\estats_mercado\\lib\\site-packages (from sweetviz) (6.0.0)\n",
      "Requirement already satisfied: MarkupSafe>=2.0 in d:\\dev\\tcd\\estatistica_mercado_financeiro\\estats_mercado\\lib\\site-packages (from jinja2>=2.11.1->sweetviz) (2.1.3)\n",
      "Requirement already satisfied: contourpy>=1.0.1 in d:\\dev\\tcd\\estatistica_mercado_financeiro\\estats_mercado\\lib\\site-packages (from matplotlib>=3.1.3->sweetviz) (1.1.0)\n",
      "Requirement already satisfied: cycler>=0.10 in d:\\dev\\tcd\\estatistica_mercado_financeiro\\estats_mercado\\lib\\site-packages (from matplotlib>=3.1.3->sweetviz) (0.11.0)\n",
      "Requirement already satisfied: fonttools>=4.22.0 in d:\\dev\\tcd\\estatistica_mercado_financeiro\\estats_mercado\\lib\\site-packages (from matplotlib>=3.1.3->sweetviz) (4.42.0)\n",
      "Requirement already satisfied: kiwisolver>=1.0.1 in d:\\dev\\tcd\\estatistica_mercado_financeiro\\estats_mercado\\lib\\site-packages (from matplotlib>=3.1.3->sweetviz) (1.4.4)\n",
      "Requirement already satisfied: packaging>=20.0 in d:\\dev\\tcd\\estatistica_mercado_financeiro\\estats_mercado\\lib\\site-packages (from matplotlib>=3.1.3->sweetviz) (23.1)\n",
      "Requirement already satisfied: pillow>=6.2.0 in d:\\dev\\tcd\\estatistica_mercado_financeiro\\estats_mercado\\lib\\site-packages (from matplotlib>=3.1.3->sweetviz) (10.0.0)\n",
      "Requirement already satisfied: pyparsing<3.1,>=2.3.1 in d:\\dev\\tcd\\estatistica_mercado_financeiro\\estats_mercado\\lib\\site-packages (from matplotlib>=3.1.3->sweetviz) (3.0.9)\n",
      "Requirement already satisfied: python-dateutil>=2.7 in d:\\dev\\tcd\\estatistica_mercado_financeiro\\estats_mercado\\lib\\site-packages (from matplotlib>=3.1.3->sweetviz) (2.8.2)\n",
      "Requirement already satisfied: pytz>=2020.1 in d:\\dev\\tcd\\estatistica_mercado_financeiro\\estats_mercado\\lib\\site-packages (from pandas!=1.0.0,!=1.0.1,!=1.0.2,>=0.25.3->sweetviz) (2023.3)\n",
      "Requirement already satisfied: tzdata>=2022.1 in d:\\dev\\tcd\\estatistica_mercado_financeiro\\estats_mercado\\lib\\site-packages (from pandas!=1.0.0,!=1.0.1,!=1.0.2,>=0.25.3->sweetviz) (2023.3)\n",
      "Requirement already satisfied: colorama in d:\\dev\\tcd\\estatistica_mercado_financeiro\\estats_mercado\\lib\\site-packages (from tqdm>=4.43.0->sweetviz) (0.4.6)\n",
      "Requirement already satisfied: six>=1.5 in d:\\dev\\tcd\\estatistica_mercado_financeiro\\estats_mercado\\lib\\site-packages (from python-dateutil>=2.7->matplotlib>=3.1.3->sweetviz) (1.16.0)\n"
     ]
    }
   ],
   "source": [
    "!python.exe -m pip install --upgrade pip\n",
    "!pip install yfinance\n",
    "!pip install vectorbt\n",
    "!pip install sweetviz"
   ]
  },
  {
   "cell_type": "code",
   "execution_count": 4,
   "metadata": {},
   "outputs": [
    {
     "name": "stdout",
     "output_type": "stream",
     "text": [
      "Python 3.11.4\n"
     ]
    }
   ],
   "source": [
    "!python --version"
   ]
  }
 ],
 "metadata": {
  "kernelspec": {
   "display_name": "estats_mercado",
   "language": "python",
   "name": "python3"
  },
  "language_info": {
   "codemirror_mode": {
    "name": "ipython",
    "version": 3
   },
   "file_extension": ".py",
   "mimetype": "text/x-python",
   "name": "python",
   "nbconvert_exporter": "python",
   "pygments_lexer": "ipython3",
   "version": "3.11.4"
  },
  "orig_nbformat": 4
 },
 "nbformat": 4,
 "nbformat_minor": 2
}
