{
 "cells": [
  {
   "cell_type": "code",
   "execution_count": 42,
   "metadata": {},
   "outputs": [
    {
     "name": "stdout",
     "output_type": "stream",
     "text": [
      "Requirement already satisfied: yfinance in d:\\dev\\tcd\\estatistica_mercado_financeiro\\estats_mercado\\lib\\site-packages (0.2.27)\n",
      "Requirement already satisfied: pandas>=1.3.0 in d:\\dev\\tcd\\estatistica_mercado_financeiro\\estats_mercado\\lib\\site-packages (from yfinance) (1.5.3)\n",
      "Requirement already satisfied: numpy>=1.16.5 in d:\\dev\\tcd\\estatistica_mercado_financeiro\\estats_mercado\\lib\\site-packages (from yfinance) (1.23.5)\n",
      "Requirement already satisfied: requests>=2.31 in d:\\dev\\tcd\\estatistica_mercado_financeiro\\estats_mercado\\lib\\site-packages (from yfinance) (2.31.0)\n",
      "Requirement already satisfied: multitasking>=0.0.7 in d:\\dev\\tcd\\estatistica_mercado_financeiro\\estats_mercado\\lib\\site-packages (from yfinance) (0.0.11)\n",
      "Requirement already satisfied: lxml>=4.9.1 in d:\\dev\\tcd\\estatistica_mercado_financeiro\\estats_mercado\\lib\\site-packages (from yfinance) (4.9.3)\n",
      "Requirement already satisfied: appdirs>=1.4.4 in d:\\dev\\tcd\\estatistica_mercado_financeiro\\estats_mercado\\lib\\site-packages (from yfinance) (1.4.4)\n",
      "Requirement already satisfied: pytz>=2022.5 in d:\\dev\\tcd\\estatistica_mercado_financeiro\\estats_mercado\\lib\\site-packages (from yfinance) (2023.3)\n",
      "Requirement already satisfied: frozendict>=2.3.4 in d:\\dev\\tcd\\estatistica_mercado_financeiro\\estats_mercado\\lib\\site-packages (from yfinance) (2.3.8)\n",
      "Requirement already satisfied: beautifulsoup4>=4.11.1 in d:\\dev\\tcd\\estatistica_mercado_financeiro\\estats_mercado\\lib\\site-packages (from yfinance) (4.12.2)\n",
      "Requirement already satisfied: html5lib>=1.1 in d:\\dev\\tcd\\estatistica_mercado_financeiro\\estats_mercado\\lib\\site-packages (from yfinance) (1.1)\n",
      "Requirement already satisfied: soupsieve>1.2 in d:\\dev\\tcd\\estatistica_mercado_financeiro\\estats_mercado\\lib\\site-packages (from beautifulsoup4>=4.11.1->yfinance) (2.4.1)\n",
      "Requirement already satisfied: six>=1.9 in d:\\dev\\tcd\\estatistica_mercado_financeiro\\estats_mercado\\lib\\site-packages (from html5lib>=1.1->yfinance) (1.16.0)\n",
      "Requirement already satisfied: webencodings in d:\\dev\\tcd\\estatistica_mercado_financeiro\\estats_mercado\\lib\\site-packages (from html5lib>=1.1->yfinance) (0.5.1)\n",
      "Requirement already satisfied: python-dateutil>=2.8.1 in d:\\dev\\tcd\\estatistica_mercado_financeiro\\estats_mercado\\lib\\site-packages (from pandas>=1.3.0->yfinance) (2.8.2)\n",
      "Requirement already satisfied: charset-normalizer<4,>=2 in d:\\dev\\tcd\\estatistica_mercado_financeiro\\estats_mercado\\lib\\site-packages (from requests>=2.31->yfinance) (3.2.0)\n",
      "Requirement already satisfied: idna<4,>=2.5 in d:\\dev\\tcd\\estatistica_mercado_financeiro\\estats_mercado\\lib\\site-packages (from requests>=2.31->yfinance) (3.4)\n",
      "Requirement already satisfied: urllib3<3,>=1.21.1 in d:\\dev\\tcd\\estatistica_mercado_financeiro\\estats_mercado\\lib\\site-packages (from requests>=2.31->yfinance) (2.0.4)\n",
      "Requirement already satisfied: certifi>=2017.4.17 in d:\\dev\\tcd\\estatistica_mercado_financeiro\\estats_mercado\\lib\\site-packages (from requests>=2.31->yfinance) (2023.7.22)\n",
      "Note: you may need to restart the kernel to use updated packages.\n",
      "Requirement already satisfied: scipy in d:\\dev\\tcd\\estatistica_mercado_financeiro\\estats_mercado\\lib\\site-packages (1.11.1)\n",
      "Requirement already satisfied: numpy<1.28.0,>=1.21.6 in d:\\dev\\tcd\\estatistica_mercado_financeiro\\estats_mercado\\lib\\site-packages (from scipy) (1.23.5)\n",
      "Note: you may need to restart the kernel to use updated packages.\n",
      "Requirement already satisfied: plotly in d:\\dev\\tcd\\estatistica_mercado_financeiro\\estats_mercado\\lib\\site-packages (5.15.0)\n",
      "Requirement already satisfied: tenacity>=6.2.0 in d:\\dev\\tcd\\estatistica_mercado_financeiro\\estats_mercado\\lib\\site-packages (from plotly) (8.2.2)\n",
      "Requirement already satisfied: packaging in d:\\dev\\tcd\\estatistica_mercado_financeiro\\estats_mercado\\lib\\site-packages (from plotly) (23.1)\n",
      "Note: you may need to restart the kernel to use updated packages.\n",
      "Requirement already satisfied: seaborn in d:\\dev\\tcd\\estatistica_mercado_financeiro\\estats_mercado\\lib\\site-packages (0.12.2)\n",
      "Requirement already satisfied: numpy!=1.24.0,>=1.17 in d:\\dev\\tcd\\estatistica_mercado_financeiro\\estats_mercado\\lib\\site-packages (from seaborn) (1.23.5)\n",
      "Requirement already satisfied: pandas>=0.25 in d:\\dev\\tcd\\estatistica_mercado_financeiro\\estats_mercado\\lib\\site-packages (from seaborn) (1.5.3)\n",
      "Requirement already satisfied: matplotlib!=3.6.1,>=3.1 in d:\\dev\\tcd\\estatistica_mercado_financeiro\\estats_mercado\\lib\\site-packages (from seaborn) (3.7.2)\n",
      "Requirement already satisfied: contourpy>=1.0.1 in d:\\dev\\tcd\\estatistica_mercado_financeiro\\estats_mercado\\lib\\site-packages (from matplotlib!=3.6.1,>=3.1->seaborn) (1.1.0)\n",
      "Requirement already satisfied: cycler>=0.10 in d:\\dev\\tcd\\estatistica_mercado_financeiro\\estats_mercado\\lib\\site-packages (from matplotlib!=3.6.1,>=3.1->seaborn) (0.11.0)\n",
      "Requirement already satisfied: fonttools>=4.22.0 in d:\\dev\\tcd\\estatistica_mercado_financeiro\\estats_mercado\\lib\\site-packages (from matplotlib!=3.6.1,>=3.1->seaborn) (4.42.0)\n",
      "Requirement already satisfied: kiwisolver>=1.0.1 in d:\\dev\\tcd\\estatistica_mercado_financeiro\\estats_mercado\\lib\\site-packages (from matplotlib!=3.6.1,>=3.1->seaborn) (1.4.4)\n",
      "Requirement already satisfied: packaging>=20.0 in d:\\dev\\tcd\\estatistica_mercado_financeiro\\estats_mercado\\lib\\site-packages (from matplotlib!=3.6.1,>=3.1->seaborn) (23.1)\n",
      "Requirement already satisfied: pillow>=6.2.0 in d:\\dev\\tcd\\estatistica_mercado_financeiro\\estats_mercado\\lib\\site-packages (from matplotlib!=3.6.1,>=3.1->seaborn) (10.0.0)\n",
      "Requirement already satisfied: pyparsing<3.1,>=2.3.1 in d:\\dev\\tcd\\estatistica_mercado_financeiro\\estats_mercado\\lib\\site-packages (from matplotlib!=3.6.1,>=3.1->seaborn) (3.0.9)\n",
      "Requirement already satisfied: python-dateutil>=2.7 in d:\\dev\\tcd\\estatistica_mercado_financeiro\\estats_mercado\\lib\\site-packages (from matplotlib!=3.6.1,>=3.1->seaborn) (2.8.2)\n",
      "Requirement already satisfied: pytz>=2020.1 in d:\\dev\\tcd\\estatistica_mercado_financeiro\\estats_mercado\\lib\\site-packages (from pandas>=0.25->seaborn) (2023.3)\n",
      "Requirement already satisfied: six>=1.5 in d:\\dev\\tcd\\estatistica_mercado_financeiro\\estats_mercado\\lib\\site-packages (from python-dateutil>=2.7->matplotlib!=3.6.1,>=3.1->seaborn) (1.16.0)\n",
      "Note: you may need to restart the kernel to use updated packages.\n",
      "Requirement already satisfied: pandas in d:\\dev\\tcd\\estatistica_mercado_financeiro\\estats_mercado\\lib\\site-packages (1.5.3)Note: you may need to restart the kernel to use updated packages.\n",
      "\n",
      "Requirement already satisfied: python-dateutil>=2.8.1 in d:\\dev\\tcd\\estatistica_mercado_financeiro\\estats_mercado\\lib\\site-packages (from pandas) (2.8.2)\n",
      "Requirement already satisfied: pytz>=2020.1 in d:\\dev\\tcd\\estatistica_mercado_financeiro\\estats_mercado\\lib\\site-packages (from pandas) (2023.3)\n",
      "Requirement already satisfied: numpy>=1.21.0 in d:\\dev\\tcd\\estatistica_mercado_financeiro\\estats_mercado\\lib\\site-packages (from pandas) (1.23.5)\n",
      "Requirement already satisfied: six>=1.5 in d:\\dev\\tcd\\estatistica_mercado_financeiro\\estats_mercado\\lib\\site-packages (from python-dateutil>=2.8.1->pandas) (1.16.0)\n",
      "Requirement already satisfied: statsmodels in d:\\dev\\tcd\\estatistica_mercado_financeiro\\estats_mercado\\lib\\site-packages (0.14.0)\n",
      "Requirement already satisfied: numpy>=1.18 in d:\\dev\\tcd\\estatistica_mercado_financeiro\\estats_mercado\\lib\\site-packages (from statsmodels) (1.23.5)\n",
      "Requirement already satisfied: scipy!=1.9.2,>=1.4 in d:\\dev\\tcd\\estatistica_mercado_financeiro\\estats_mercado\\lib\\site-packages (from statsmodels) (1.11.1)\n",
      "Requirement already satisfied: pandas>=1.0 in d:\\dev\\tcd\\estatistica_mercado_financeiro\\estats_mercado\\lib\\site-packages (from statsmodels) (1.5.3)\n",
      "Requirement already satisfied: patsy>=0.5.2 in d:\\dev\\tcd\\estatistica_mercado_financeiro\\estats_mercado\\lib\\site-packages (from statsmodels) (0.5.3)\n",
      "Requirement already satisfied: packaging>=21.3 in d:\\dev\\tcd\\estatistica_mercado_financeiro\\estats_mercado\\lib\\site-packages (from statsmodels) (23.1)\n",
      "Requirement already satisfied: python-dateutil>=2.8.1 in d:\\dev\\tcd\\estatistica_mercado_financeiro\\estats_mercado\\lib\\site-packages (from pandas>=1.0->statsmodels) (2.8.2)\n",
      "Requirement already satisfied: pytz>=2020.1 in d:\\dev\\tcd\\estatistica_mercado_financeiro\\estats_mercado\\lib\\site-packages (from pandas>=1.0->statsmodels) (2023.3)\n",
      "Requirement already satisfied: six in d:\\dev\\tcd\\estatistica_mercado_financeiro\\estats_mercado\\lib\\site-packages (from patsy>=0.5.2->statsmodels) (1.16.0)\n",
      "Note: you may need to restart the kernel to use updated packages.\n"
     ]
    }
   ],
   "source": [
    "%pip install yfinance\n",
    "%pip install scipy\n",
    "%pip install plotly\n",
    "%pip install seaborn\n",
    "%pip install pandas\n",
    "%pip install statsmodels"
   ]
  },
  {
   "cell_type": "code",
   "execution_count": 43,
   "metadata": {},
   "outputs": [],
   "source": [
    "import pandas as pd\n",
    "from scipy import stats\n",
    "import yfinance as yf\n",
    "import plotly.graph_objects as go\n",
    "import matplotlib.pyplot as plt\n",
    "import seaborn as sns\n",
    "from statsmodels.stats.multicomp import pairwise_tukeyhsd"
   ]
  },
  {
   "cell_type": "code",
   "execution_count": 3,
   "metadata": {},
   "outputs": [
    {
     "data": {
      "text/plain": [
       "['AZUL4',\n",
       " 'CCRO3',\n",
       " 'ECOR3',\n",
       " 'EMBR3',\n",
       " 'GOLL4',\n",
       " 'RAIL3',\n",
       " 'WEGE3',\n",
       " 'ALPA4',\n",
       " 'ARZZ3',\n",
       " 'CVCB3',\n",
       " 'CYRE3',\n",
       " 'EZTC3',\n",
       " 'LREN3',\n",
       " 'MGLU3',\n",
       " 'MRVE3',\n",
       " 'PETZ3',\n",
       " 'SOMA3',\n",
       " 'VIIA3',\n",
       " 'ABEV3',\n",
       " 'ASAI3',\n",
       " 'BEEF3',\n",
       " 'BRFS3',\n",
       " 'CRFB3',\n",
       " 'JBSS3',\n",
       " 'MRFG3',\n",
       " 'NTCO3',\n",
       " 'PCAR3',\n",
       " 'RAIZ4',\n",
       " 'SLCE3',\n",
       " 'SMTO3',\n",
       " 'ALSO3',\n",
       " 'B3SA3',\n",
       " 'BBAS3',\n",
       " 'BBDC3',\n",
       " 'BBDC4',\n",
       " 'BBSE3',\n",
       " 'BPAC11',\n",
       " 'BPAN4',\n",
       " 'CIEL3',\n",
       " 'IGTI11',\n",
       " 'ITSA4',\n",
       " 'ITUB4',\n",
       " 'MULT3',\n",
       " 'SANB11',\n",
       " 'BRAP4',\n",
       " 'BRKM5',\n",
       " 'CMIN3',\n",
       " 'CSNA3',\n",
       " 'DXCO3',\n",
       " 'GGBR4',\n",
       " 'GOAU4',\n",
       " 'KLBN11',\n",
       " 'SUZB3',\n",
       " 'USIM5',\n",
       " 'VALE3',\n",
       " 'CSAN3',\n",
       " 'PETR3',\n",
       " 'PETR4',\n",
       " 'PRIO3',\n",
       " 'RRRP3',\n",
       " 'UGPA3',\n",
       " 'VBBR3',\n",
       " 'FLRY3',\n",
       " 'HAPV3',\n",
       " 'HYPE3',\n",
       " 'QUAL3',\n",
       " 'RADL3',\n",
       " 'RDOR3',\n",
       " 'CMIG4',\n",
       " 'CPFE3',\n",
       " 'CPLE6',\n",
       " 'EGIE3',\n",
       " 'ELET3',\n",
       " 'ELET6',\n",
       " 'EMBR3',\n",
       " 'ENEV3',\n",
       " 'ENGI11',\n",
       " 'EQTL3',\n",
       " 'SBSP3',\n",
       " 'TAEE11']"
      ]
     },
     "execution_count": 3,
     "metadata": {},
     "output_type": "execute_result"
    }
   ],
   "source": [
    "ativos_setor_IBOV2 = [\"AZUL4\", \"CCRO3\", \"ECOR3\", \"EMBR3\",\"GOLL4\",\"RAIL3\",\"WEGE3\" ,\"ALPA4\" , \"ARZZ3\" , \"CVCB3\" , \"CYRE3\" ,\n",
    "                     \"EZTC3\" , \"LREN3\" , \"MGLU3\" , \"MRVE3\" ,\"PETZ3\" , \"SOMA3\" , \"VIIA3\" ,\"ABEV3\", \"ASAI3\", \"BEEF3\",\"BRFS3\", \"CRFB3\", \"JBSS3\",\n",
    "                     \"MRFG3\", \"NTCO3\", \"PCAR3\",\"RAIZ4\", \"SLCE3\", \"SMTO3\",\"ALSO3\", \"B3SA3\", \"BBAS3\",\n",
    "                     \"BBDC3\", \"BBDC4\", \"BBSE3\",\n",
    "                     \"BPAC11\", \"BPAN4\", \"CIEL3\",\n",
    "                     \"IGTI11\", \"ITSA4\", \"ITUB4\",\n",
    "                     \"MULT3\", \"SANB11\",\"BRAP4\", \"BRKM5\", \"CMIN3\", \"CSNA3\", \"DXCO3\",\n",
    "                     \"GGBR4\", \"GOAU4\", \"KLBN11\", \"SUZB3\", \"USIM5\",\n",
    "                     \"VALE3\", \"CSAN3\", \"PETR3\", \"PETR4\",\n",
    "                     \"PRIO3\", \"RRRP3\", \"UGPA3\",\n",
    "                     \"VBBR3\", \"FLRY3\" , \"HAPV3\" , \"HYPE3\" , \"QUAL3\" , \"RADL3\" , \"RDOR3\" ,\n",
    "                     \"CMIG4\" , \"CPFE3\" , \"CPLE6\" , \"EGIE3\" ,\n",
    "                     \"ELET3\" , \"ELET6\" , \"EMBR3\" , \"ENEV3\" ,\n",
    "                     \"ENGI11\" , \"EQTL3\" , \"SBSP3\" , \"TAEE11\" ]\n",
    "\n",
    "ativos_setor_IBOV2"
   ]
  },
  {
   "cell_type": "code",
   "execution_count": 4,
   "metadata": {},
   "outputs": [],
   "source": [
    "lista_ativos_yf = [ativos_setor_IBOV2 + '.SA' for ativos_setor_IBOV2 in ativos_setor_IBOV2]"
   ]
  },
  {
   "cell_type": "code",
   "execution_count": 5,
   "metadata": {},
   "outputs": [
    {
     "name": "stdout",
     "output_type": "stream",
     "text": [
      "[*********************100%***********************]  79 of 79 completed\n"
     ]
    }
   ],
   "source": [
    "df_dados = yf.download(lista_ativos_yf, start='2022-01-01', end='2022-12-31', actions=True)[['Close', 'Dividends']]"
   ]
  },
  {
   "cell_type": "code",
   "execution_count": 6,
   "metadata": {},
   "outputs": [
    {
     "data": {
      "text/plain": [
       "ABEV3.SA    0.762300\n",
       "ALPA4.SA    0.163028\n",
       "ALSO3.SA    0.383932\n",
       "ARZZ3.SA    1.835629\n",
       "ASAI3.SA    0.162098\n",
       "              ...   \n",
       "USIM5.SA    0.629128\n",
       "VALE3.SA    7.583326\n",
       "VBBR3.SA    0.856178\n",
       "VIIA3.SA    0.000000\n",
       "WEGE3.SA    0.515680\n",
       "Length: 79, dtype: float64"
      ]
     },
     "execution_count": 6,
     "metadata": {},
     "output_type": "execute_result"
    }
   ],
   "source": [
    "soma_dividendos = df_dados['Dividends'].sum()\n",
    "soma_dividendos"
   ]
  },
  {
   "cell_type": "code",
   "execution_count": 7,
   "metadata": {},
   "outputs": [
    {
     "data": {
      "text/plain": [
       "ABEV3.SA    14.520000\n",
       "ALPA4.SA    15.080000\n",
       "ALSO3.SA    17.010000\n",
       "ARZZ3.SA    78.250000\n",
       "ASAI3.SA    19.469999\n",
       "              ...    \n",
       "USIM5.SA     7.160000\n",
       "VALE3.SA    88.879997\n",
       "VBBR3.SA    15.550000\n",
       "VIIA3.SA     2.400000\n",
       "WEGE3.SA    38.509998\n",
       "Name: 2022-12-29 00:00:00, Length: 79, dtype: float64"
      ]
     },
     "execution_count": 7,
     "metadata": {},
     "output_type": "execute_result"
    }
   ],
   "source": [
    "close_ativo = df_dados['Close'].iloc[-1]\n",
    "close_ativo"
   ]
  },
  {
   "cell_type": "code",
   "execution_count": 8,
   "metadata": {},
   "outputs": [
    {
     "data": {
      "text/html": [
       "<div>\n",
       "<style scoped>\n",
       "    .dataframe tbody tr th:only-of-type {\n",
       "        vertical-align: middle;\n",
       "    }\n",
       "\n",
       "    .dataframe tbody tr th {\n",
       "        vertical-align: top;\n",
       "    }\n",
       "\n",
       "    .dataframe thead th {\n",
       "        text-align: right;\n",
       "    }\n",
       "</style>\n",
       "<table border=\"1\" class=\"dataframe\">\n",
       "  <thead>\n",
       "    <tr style=\"text-align: right;\">\n",
       "      <th></th>\n",
       "      <th>DY%</th>\n",
       "    </tr>\n",
       "  </thead>\n",
       "  <tbody>\n",
       "    <tr>\n",
       "      <th>ABEV3.SA</th>\n",
       "      <td>5.250000</td>\n",
       "    </tr>\n",
       "    <tr>\n",
       "      <th>ALPA4.SA</th>\n",
       "      <td>1.081088</td>\n",
       "    </tr>\n",
       "    <tr>\n",
       "      <th>ALSO3.SA</th>\n",
       "      <td>2.257096</td>\n",
       "    </tr>\n",
       "    <tr>\n",
       "      <th>ARZZ3.SA</th>\n",
       "      <td>2.345852</td>\n",
       "    </tr>\n",
       "    <tr>\n",
       "      <th>ASAI3.SA</th>\n",
       "      <td>0.832553</td>\n",
       "    </tr>\n",
       "    <tr>\n",
       "      <th>...</th>\n",
       "      <td>...</td>\n",
       "    </tr>\n",
       "    <tr>\n",
       "      <th>USIM5.SA</th>\n",
       "      <td>8.786704</td>\n",
       "    </tr>\n",
       "    <tr>\n",
       "      <th>VALE3.SA</th>\n",
       "      <td>8.532095</td>\n",
       "    </tr>\n",
       "    <tr>\n",
       "      <th>VBBR3.SA</th>\n",
       "      <td>5.505968</td>\n",
       "    </tr>\n",
       "    <tr>\n",
       "      <th>VIIA3.SA</th>\n",
       "      <td>0.000000</td>\n",
       "    </tr>\n",
       "    <tr>\n",
       "      <th>WEGE3.SA</th>\n",
       "      <td>1.339081</td>\n",
       "    </tr>\n",
       "  </tbody>\n",
       "</table>\n",
       "<p>79 rows × 1 columns</p>\n",
       "</div>"
      ],
      "text/plain": [
       "               DY%\n",
       "ABEV3.SA  5.250000\n",
       "ALPA4.SA  1.081088\n",
       "ALSO3.SA  2.257096\n",
       "ARZZ3.SA  2.345852\n",
       "ASAI3.SA  0.832553\n",
       "...            ...\n",
       "USIM5.SA  8.786704\n",
       "VALE3.SA  8.532095\n",
       "VBBR3.SA  5.505968\n",
       "VIIA3.SA  0.000000\n",
       "WEGE3.SA  1.339081\n",
       "\n",
       "[79 rows x 1 columns]"
      ]
     },
     "execution_count": 8,
     "metadata": {},
     "output_type": "execute_result"
    }
   ],
   "source": [
    "dy_2022 = pd.DataFrame(soma_dividendos/close_ativo*100, columns=['DY%'])\n",
    "dy_2022.sort_index()\n",
    "dy_2022"
   ]
  },
  {
   "cell_type": "code",
   "execution_count": 9,
   "metadata": {},
   "outputs": [
    {
     "data": {
      "text/html": [
       "<div>\n",
       "<style scoped>\n",
       "    .dataframe tbody tr th:only-of-type {\n",
       "        vertical-align: middle;\n",
       "    }\n",
       "\n",
       "    .dataframe tbody tr th {\n",
       "        vertical-align: top;\n",
       "    }\n",
       "\n",
       "    .dataframe thead th {\n",
       "        text-align: right;\n",
       "    }\n",
       "</style>\n",
       "<table border=\"1\" class=\"dataframe\">\n",
       "  <thead>\n",
       "    <tr style=\"text-align: right;\">\n",
       "      <th></th>\n",
       "      <th>DY%</th>\n",
       "      <th>Segment</th>\n",
       "    </tr>\n",
       "  </thead>\n",
       "  <tbody>\n",
       "    <tr>\n",
       "      <th>ABEV3.SA</th>\n",
       "      <td>5.250000</td>\n",
       "      <td>Consumer Defensive</td>\n",
       "    </tr>\n",
       "    <tr>\n",
       "      <th>ALPA4.SA</th>\n",
       "      <td>1.081088</td>\n",
       "      <td>Consumer Cyclical</td>\n",
       "    </tr>\n",
       "    <tr>\n",
       "      <th>ALSO3.SA</th>\n",
       "      <td>2.257096</td>\n",
       "      <td>Real Estate</td>\n",
       "    </tr>\n",
       "    <tr>\n",
       "      <th>ARZZ3.SA</th>\n",
       "      <td>2.345852</td>\n",
       "      <td>Consumer Cyclical</td>\n",
       "    </tr>\n",
       "    <tr>\n",
       "      <th>ASAI3.SA</th>\n",
       "      <td>0.832553</td>\n",
       "      <td>Consumer Defensive</td>\n",
       "    </tr>\n",
       "    <tr>\n",
       "      <th>...</th>\n",
       "      <td>...</td>\n",
       "      <td>...</td>\n",
       "    </tr>\n",
       "    <tr>\n",
       "      <th>USIM5.SA</th>\n",
       "      <td>8.786704</td>\n",
       "      <td>Basic Materials</td>\n",
       "    </tr>\n",
       "    <tr>\n",
       "      <th>VALE3.SA</th>\n",
       "      <td>8.532095</td>\n",
       "      <td>Basic Materials</td>\n",
       "    </tr>\n",
       "    <tr>\n",
       "      <th>VBBR3.SA</th>\n",
       "      <td>5.505968</td>\n",
       "      <td>Consumer Cyclical</td>\n",
       "    </tr>\n",
       "    <tr>\n",
       "      <th>VIIA3.SA</th>\n",
       "      <td>0.000000</td>\n",
       "      <td>Consumer Cyclical</td>\n",
       "    </tr>\n",
       "    <tr>\n",
       "      <th>WEGE3.SA</th>\n",
       "      <td>1.339081</td>\n",
       "      <td>Industrials</td>\n",
       "    </tr>\n",
       "  </tbody>\n",
       "</table>\n",
       "<p>79 rows × 2 columns</p>\n",
       "</div>"
      ],
      "text/plain": [
       "               DY%             Segment\n",
       "ABEV3.SA  5.250000  Consumer Defensive\n",
       "ALPA4.SA  1.081088   Consumer Cyclical\n",
       "ALSO3.SA  2.257096         Real Estate\n",
       "ARZZ3.SA  2.345852   Consumer Cyclical\n",
       "ASAI3.SA  0.832553  Consumer Defensive\n",
       "...            ...                 ...\n",
       "USIM5.SA  8.786704     Basic Materials\n",
       "VALE3.SA  8.532095     Basic Materials\n",
       "VBBR3.SA  5.505968   Consumer Cyclical\n",
       "VIIA3.SA  0.000000   Consumer Cyclical\n",
       "WEGE3.SA  1.339081         Industrials\n",
       "\n",
       "[79 rows x 2 columns]"
      ]
     },
     "execution_count": 9,
     "metadata": {},
     "output_type": "execute_result"
    }
   ],
   "source": [
    "def get_segment(ticker):\n",
    "    info = yf.Ticker(ticker).info\n",
    "    return info.get('sector', 'N/A')\n",
    "\n",
    "segments = [get_segment(ticker) for ticker in dy_2022.index]\n",
    "dy_2022['Segment'] = segments\n",
    "dy_2022"
   ]
  },
  {
   "cell_type": "code",
   "execution_count": 13,
   "metadata": {},
   "outputs": [
    {
     "data": {
      "text/html": [
       "<div>\n",
       "<style scoped>\n",
       "    .dataframe tbody tr th:only-of-type {\n",
       "        vertical-align: middle;\n",
       "    }\n",
       "\n",
       "    .dataframe tbody tr th {\n",
       "        vertical-align: top;\n",
       "    }\n",
       "\n",
       "    .dataframe thead th {\n",
       "        text-align: right;\n",
       "    }\n",
       "</style>\n",
       "<table border=\"1\" class=\"dataframe\">\n",
       "  <thead>\n",
       "    <tr style=\"text-align: right;\">\n",
       "      <th></th>\n",
       "      <th>mean</th>\n",
       "      <th>std</th>\n",
       "    </tr>\n",
       "    <tr>\n",
       "      <th>Segment</th>\n",
       "      <th></th>\n",
       "      <th></th>\n",
       "    </tr>\n",
       "  </thead>\n",
       "  <tbody>\n",
       "    <tr>\n",
       "      <th>Basic Materials</th>\n",
       "      <td>10.765610</td>\n",
       "      <td>5.594351</td>\n",
       "    </tr>\n",
       "    <tr>\n",
       "      <th>Consumer Cyclical</th>\n",
       "      <td>2.098597</td>\n",
       "      <td>2.047069</td>\n",
       "    </tr>\n",
       "    <tr>\n",
       "      <th>Consumer Defensive</th>\n",
       "      <td>6.818725</td>\n",
       "      <td>10.044680</td>\n",
       "    </tr>\n",
       "    <tr>\n",
       "      <th>Energy</th>\n",
       "      <td>22.975711</td>\n",
       "      <td>32.056075</td>\n",
       "    </tr>\n",
       "    <tr>\n",
       "      <th>Financial Services</th>\n",
       "      <td>5.163223</td>\n",
       "      <td>3.237270</td>\n",
       "    </tr>\n",
       "    <tr>\n",
       "      <th>Healthcare</th>\n",
       "      <td>3.326234</td>\n",
       "      <td>2.293186</td>\n",
       "    </tr>\n",
       "    <tr>\n",
       "      <th>Industrials</th>\n",
       "      <td>1.585802</td>\n",
       "      <td>2.465114</td>\n",
       "    </tr>\n",
       "    <tr>\n",
       "      <th>Real Estate</th>\n",
       "      <td>3.774720</td>\n",
       "      <td>1.820858</td>\n",
       "    </tr>\n",
       "    <tr>\n",
       "      <th>Technology</th>\n",
       "      <td>4.797252</td>\n",
       "      <td>NaN</td>\n",
       "    </tr>\n",
       "    <tr>\n",
       "      <th>Utilities</th>\n",
       "      <td>6.637284</td>\n",
       "      <td>5.240386</td>\n",
       "    </tr>\n",
       "  </tbody>\n",
       "</table>\n",
       "</div>"
      ],
      "text/plain": [
       "                         mean        std\n",
       "Segment                                 \n",
       "Basic Materials     10.765610   5.594351\n",
       "Consumer Cyclical    2.098597   2.047069\n",
       "Consumer Defensive   6.818725  10.044680\n",
       "Energy              22.975711  32.056075\n",
       "Financial Services   5.163223   3.237270\n",
       "Healthcare           3.326234   2.293186\n",
       "Industrials          1.585802   2.465114\n",
       "Real Estate          3.774720   1.820858\n",
       "Technology           4.797252        NaN\n",
       "Utilities            6.637284   5.240386"
      ]
     },
     "execution_count": 13,
     "metadata": {},
     "output_type": "execute_result"
    }
   ],
   "source": [
    "tab_dinamica = pd.pivot_table(dy_2022, values=['DY%'], index=['Segment'], aggfunc=['mean','std']).droplevel(1, axis=1)\n",
    "tab_dinamica"
   ]
  },
  {
   "cell_type": "code",
   "execution_count": 14,
   "metadata": {},
   "outputs": [
    {
     "data": {
      "application/vnd.plotly.v1+json": {
       "config": {
        "plotlyServerURL": "https://plot.ly"
       },
       "data": [
        {
         "error_y": {
          "array": [
           5.594350745633256,
           2.0470691363312516,
           10.044680310527005,
           32.05607519426145,
           3.237270094218713,
           2.293186121015374,
           2.465114137834304,
           1.820858082335827,
           null,
           5.240386012738914
          ],
          "type": "data"
         },
         "marker": {
          "color": "lightblue"
         },
         "name": "Média e Desvio",
         "orientation": "v",
         "type": "bar",
         "x": [
          "Basic Materials",
          "Consumer Cyclical",
          "Consumer Defensive",
          "Energy",
          "Financial Services",
          "Healthcare",
          "Industrials",
          "Real Estate",
          "Technology",
          "Utilities"
         ],
         "y": [
          10.765609942605794,
          2.0985972558592008,
          6.818724593270961,
          22.97571084135421,
          5.1632232783450025,
          3.326234007809981,
          1.5858016993556803,
          3.7747202339733357,
          4.79725211793967,
          6.6372838280583855
         ]
        }
       ],
       "layout": {
        "font": {
         "color": "black",
         "family": "Arial",
         "size": 13
        },
        "height": 600,
        "margin": {
         "b": 75,
         "l": 75,
         "r": 20,
         "t": 75
        },
        "paper_bgcolor": "#f7f8fa",
        "template": {
         "data": {
          "scatter": [
           {
            "type": "scatter"
           }
          ]
         }
        },
        "title": {
         "text": "<b>Dividend Yield (média ± desvio padrão da média) <br> em 2022 entre os setores do IBOV"
        },
        "width": 1200,
        "xaxis": {
         "title": {
          "text": "<b>Setor IBOV"
         }
        },
        "yaxis": {
         "title": {
          "text": "<b>Dividend Yield (%)"
         }
        }
       }
      }
     },
     "metadata": {},
     "output_type": "display_data"
    }
   ],
   "source": [
    "fig = go.Figure()\n",
    "\n",
    "fig.add_trace(go.Bar(name='Média e Desvio', x=tab_dinamica.index, y=tab_dinamica['mean'],\n",
    "                     error_y=dict(type='data', array=tab_dinamica['std']),\n",
    "                     marker_color='lightblue', orientation='v'))\n",
    "\n",
    "fig.update_layout(title_text='<b>Dividend Yield (média \\xB1 desvio padrão da média) <br> em 2022 entre os setores do IBOV', xaxis_title= '<b>Setor IBOV',\n",
    "                  yaxis_title= '<b>Dividend Yield (%)', template=\"none\", margin=dict(l=75, r=20, t=75, b=75),\n",
    "                  paper_bgcolor=\"#f7f8fa\", font=dict(family=\"Arial\", size=13, color=\"black\"), width=1200, height=600)\n",
    "\n",
    "fig.show()"
   ]
  },
  {
   "cell_type": "code",
   "execution_count": 36,
   "metadata": {},
   "outputs": [
    {
     "data": {
      "text/plain": [
       "array(['Consumer Defensive', 'Consumer Cyclical', 'Real Estate',\n",
       "       'Industrials', 'Financial Services', 'Basic Materials',\n",
       "       'Technology', 'Utilities', 'Energy', 'Healthcare'], dtype=object)"
      ]
     },
     "execution_count": 36,
     "metadata": {},
     "output_type": "execute_result"
    }
   ],
   "source": [
    "dy_2022['Segment'].unique()"
   ]
  },
  {
   "cell_type": "code",
   "execution_count": 37,
   "metadata": {},
   "outputs": [],
   "source": [
    "dados_grupos = dy_2022.groupby('Segment')['DY%']\n",
    "\n",
    "dados_consumer_defensive = dados_grupos.get_group(\"Consumer Defensive\")\n",
    "dados_consumo_ciclico = dados_grupos.get_group(\"Consumer Cyclical\")\n",
    "dados_real_rstate = dados_grupos.get_group(\"Real Estate\")\n",
    "dados_financeiro_e_outros = dados_grupos.get_group(\"Financial Services\")\n",
    "dados_mats_basicos = dados_grupos.get_group(\"Basic Materials\")\n",
    "dados_technology = dados_grupos.get_group(\"Technology\")\n",
    "dados_utilities = dados_grupos.get_group(\"Utilities\")\n",
    "dados_energy = dados_grupos.get_group(\"Energy\")\n",
    "dados_healthcare = dados_grupos.get_group(\"Healthcare\")\n",
    "dados_Industrials = dados_grupos.get_group(\"Industrials\")"
   ]
  },
  {
   "cell_type": "code",
   "execution_count": 27,
   "metadata": {},
   "outputs": [],
   "source": [
    "values_per_group = [col for col_name, col in dy_2022.groupby('Segment')['DY%']]"
   ]
  },
  {
   "cell_type": "code",
   "execution_count": 28,
   "metadata": {},
   "outputs": [
    {
     "data": {
      "text/plain": [
       "[BRKM5.SA     14.279023\n",
       " CMIN3.SA     22.576471\n",
       " CSNA3.SA     17.735106\n",
       " DXCO3.SA      4.545693\n",
       " GGBR4.SA     12.359548\n",
       " GOAU4.SA      9.637625\n",
       " KLBN11.SA     8.840091\n",
       " SMTO3.SA      4.272168\n",
       " SUZB3.SA      6.857185\n",
       " USIM5.SA      8.786704\n",
       " VALE3.SA      8.532095\n",
       " Name: DY%, dtype: float64,\n",
       " ALPA4.SA    1.081088\n",
       " ARZZ3.SA    2.345852\n",
       " CVCB3.SA    0.000000\n",
       " CYRE3.SA    4.321186\n",
       " LREN3.SA    3.255869\n",
       " MGLU3.SA    0.000000\n",
       " MRVE3.SA    5.205474\n",
       " PCAR3.SA    2.145642\n",
       " PETZ3.SA    0.427316\n",
       " SOMA3.SA    0.894773\n",
       " VBBR3.SA    5.505968\n",
       " VIIA3.SA    0.000000\n",
       " Name: DY%, dtype: float64,\n",
       " ABEV3.SA     5.250000\n",
       " ASAI3.SA     0.832553\n",
       " BEEF3.SA     4.332948\n",
       " BRFS3.SA     0.000000\n",
       " CRFB3.SA     2.342679\n",
       " JBSS3.SA     9.095043\n",
       " MRFG3.SA    32.467334\n",
       " NTCO3.SA     1.134720\n",
       " SLCE3.SA     5.913245\n",
       " Name: DY%, dtype: float64,\n",
       " CSAN3.SA     5.001267\n",
       " PETR3.SA    59.795440\n",
       " PETR4.SA    68.435273\n",
       " PRIO3.SA     0.000000\n",
       " RRRP3.SA     0.000000\n",
       " UGPA3.SA     4.622284\n",
       " Name: DY%, dtype: float64,\n",
       " B3SA3.SA      3.551143\n",
       " BBAS3.SA      7.011431\n",
       " BBDC3.SA      2.944981\n",
       " BBDC4.SA      2.880251\n",
       " BBSE3.SA      5.832373\n",
       " BPAC11.SA     2.743916\n",
       " BPAN4.SA      8.730955\n",
       " BRAP4.SA     11.007948\n",
       " HAPV3.SA      0.000000\n",
       " ITUB4.SA      4.143160\n",
       " SANB11.SA     7.949298\n",
       " Name: DY%, dtype: float64,\n",
       " FLRY3.SA    6.777699\n",
       " HYPE3.SA    2.725597\n",
       " QUAL3.SA    4.351482\n",
       " RADL3.SA    1.073305\n",
       " RDOR3.SA    1.703087\n",
       " Name: DY%, dtype: float64,\n",
       " AZUL4.SA     0.000000\n",
       " CCRO3.SA     3.462579\n",
       " ECOR3.SA     0.170494\n",
       " EMBR3.SA     0.000000\n",
       " GOLL4.SA     0.000000\n",
       " IGTI11.SA    1.846916\n",
       " ITSA4.SA     7.349401\n",
       " RAIL3.SA     0.103745\n",
       " WEGE3.SA     1.339081\n",
       " Name: DY%, dtype: float64,\n",
       " ALSO3.SA    2.257096\n",
       " EZTC3.SA    5.793745\n",
       " MULT3.SA    3.273320\n",
       " Name: DY%, dtype: float64,\n",
       " CIEL3.SA    4.797252\n",
       " Name: DY%, dtype: float64,\n",
       " CMIG4.SA     17.580017\n",
       " CPFE3.SA      9.765906\n",
       " CPLE6.SA     12.551846\n",
       " EGIE3.SA      7.891864\n",
       " ELET3.SA      1.836432\n",
       " ELET6.SA      3.733761\n",
       " ENEV3.SA      0.000000\n",
       " ENGI11.SA     7.605251\n",
       " EQTL3.SA      2.365818\n",
       " RAIZ4.SA      4.556471\n",
       " SBSP3.SA      1.649230\n",
       " TAEE11.SA    10.110810\n",
       " Name: DY%, dtype: float64]"
      ]
     },
     "execution_count": 28,
     "metadata": {},
     "output_type": "execute_result"
    }
   ],
   "source": [
    "values_per_group"
   ]
  },
  {
   "cell_type": "code",
   "execution_count": 29,
   "metadata": {},
   "outputs": [
    {
     "data": {
      "text/plain": [
       "BRKM5.SA     14.279023\n",
       "CMIN3.SA     22.576471\n",
       "CSNA3.SA     17.735106\n",
       "DXCO3.SA      4.545693\n",
       "GGBR4.SA     12.359548\n",
       "GOAU4.SA      9.637625\n",
       "KLBN11.SA     8.840091\n",
       "SMTO3.SA      4.272168\n",
       "SUZB3.SA      6.857185\n",
       "USIM5.SA      8.786704\n",
       "VALE3.SA      8.532095\n",
       "Name: DY%, dtype: float64"
      ]
     },
     "execution_count": 29,
     "metadata": {},
     "output_type": "execute_result"
    }
   ],
   "source": [
    "values_per_group[0]"
   ]
  },
  {
   "cell_type": "code",
   "execution_count": 30,
   "metadata": {},
   "outputs": [
    {
     "data": {
      "text/plain": [
       "LeveneResult(statistic=2.9222266096928515, pvalue=0.005422056129606128)"
      ]
     },
     "execution_count": 30,
     "metadata": {},
     "output_type": "execute_result"
    }
   ],
   "source": [
    "stats.levene(*values_per_group)"
   ]
  },
  {
   "cell_type": "code",
   "execution_count": 32,
   "metadata": {},
   "outputs": [
    {
     "data": {
      "text/html": [
       "<div>\n",
       "<style scoped>\n",
       "    .dataframe tbody tr th:only-of-type {\n",
       "        vertical-align: middle;\n",
       "    }\n",
       "\n",
       "    .dataframe tbody tr th {\n",
       "        vertical-align: top;\n",
       "    }\n",
       "\n",
       "    .dataframe thead th {\n",
       "        text-align: right;\n",
       "    }\n",
       "</style>\n",
       "<table border=\"1\" class=\"dataframe\">\n",
       "  <thead>\n",
       "    <tr style=\"text-align: right;\">\n",
       "      <th></th>\n",
       "      <th>DY%</th>\n",
       "    </tr>\n",
       "    <tr>\n",
       "      <th>Segment</th>\n",
       "      <th></th>\n",
       "    </tr>\n",
       "  </thead>\n",
       "  <tbody>\n",
       "    <tr>\n",
       "      <th>Basic Materials</th>\n",
       "      <td>31.296760</td>\n",
       "    </tr>\n",
       "    <tr>\n",
       "      <th>Consumer Cyclical</th>\n",
       "      <td>4.190492</td>\n",
       "    </tr>\n",
       "    <tr>\n",
       "      <th>Consumer Defensive</th>\n",
       "      <td>100.895603</td>\n",
       "    </tr>\n",
       "    <tr>\n",
       "      <th>Energy</th>\n",
       "      <td>1027.591957</td>\n",
       "    </tr>\n",
       "    <tr>\n",
       "      <th>Financial Services</th>\n",
       "      <td>10.479918</td>\n",
       "    </tr>\n",
       "    <tr>\n",
       "      <th>Healthcare</th>\n",
       "      <td>5.258703</td>\n",
       "    </tr>\n",
       "    <tr>\n",
       "      <th>Industrials</th>\n",
       "      <td>6.076788</td>\n",
       "    </tr>\n",
       "    <tr>\n",
       "      <th>Real Estate</th>\n",
       "      <td>3.315524</td>\n",
       "    </tr>\n",
       "    <tr>\n",
       "      <th>Technology</th>\n",
       "      <td>NaN</td>\n",
       "    </tr>\n",
       "    <tr>\n",
       "      <th>Utilities</th>\n",
       "      <td>27.461646</td>\n",
       "    </tr>\n",
       "  </tbody>\n",
       "</table>\n",
       "</div>"
      ],
      "text/plain": [
       "                            DY%\n",
       "Segment                        \n",
       "Basic Materials       31.296760\n",
       "Consumer Cyclical      4.190492\n",
       "Consumer Defensive   100.895603\n",
       "Energy              1027.591957\n",
       "Financial Services    10.479918\n",
       "Healthcare             5.258703\n",
       "Industrials            6.076788\n",
       "Real Estate            3.315524\n",
       "Technology                  NaN\n",
       "Utilities             27.461646"
      ]
     },
     "execution_count": 32,
     "metadata": {},
     "output_type": "execute_result"
    }
   ],
   "source": [
    "dy_2022.groupby('Segment').var()"
   ]
  },
  {
   "cell_type": "code",
   "execution_count": 39,
   "metadata": {},
   "outputs": [
    {
     "data": {
      "text/plain": [
       "LeveneResult(statistic=2.9222266096928515, pvalue=0.005422056129606128)"
      ]
     },
     "execution_count": 39,
     "metadata": {},
     "output_type": "execute_result"
    }
   ],
   "source": [
    "stats.levene(dados_consumer_defensive,dados_consumo_ciclico,dados_real_rstate,dados_financeiro_e_outros,dados_mats_basicos,dados_technology,dados_utilities,dados_energy,dados_healthcare,dados_Industrials)"
   ]
  },
  {
   "cell_type": "code",
   "execution_count": 40,
   "metadata": {},
   "outputs": [
    {
     "data": {
      "text/plain": [
       "LeveneResult(statistic=1.219393798537483, pvalue=0.30228663686104407)"
      ]
     },
     "execution_count": 40,
     "metadata": {},
     "output_type": "execute_result"
    }
   ],
   "source": [
    "stats.levene(dados_consumer_defensive,dados_consumo_ciclico,dados_real_rstate,dados_financeiro_e_outros,dados_mats_basicos,dados_technology,dados_utilities,dados_healthcare,dados_Industrials)"
   ]
  },
  {
   "cell_type": "code",
   "execution_count": 41,
   "metadata": {},
   "outputs": [
    {
     "data": {
      "text/plain": [
       "F_onewayResult(statistic=3.127709989872505, pvalue=0.004787321126015681)"
      ]
     },
     "execution_count": 41,
     "metadata": {},
     "output_type": "execute_result"
    }
   ],
   "source": [
    "stats.f_oneway(dados_consumer_defensive,dados_consumo_ciclico,dados_real_rstate,dados_financeiro_e_outros,dados_mats_basicos,dados_technology,dados_utilities,dados_healthcare,dados_Industrials)"
   ]
  },
  {
   "cell_type": "code",
   "execution_count": 45,
   "metadata": {},
   "outputs": [
    {
     "name": "stdout",
     "output_type": "stream",
     "text": [
      "             Multiple Comparison of Means - Tukey HSD, FWER=0.05             \n",
      "=============================================================================\n",
      "      group1             group2       meandiff p-adj   lower    upper  reject\n",
      "-----------------------------------------------------------------------------\n",
      "   Basic Materials  Consumer Cyclical   -8.667 0.0037 -15.4698 -1.8642   True\n",
      "   Basic Materials Consumer Defensive  -3.9469 0.7262 -11.2719  3.3782  False\n",
      "   Basic Materials Financial Services  -5.6024 0.2121 -12.5515  1.3468  False\n",
      "   Basic Materials         Healthcare  -7.4394 0.1626 -16.2294  1.3507  False\n",
      "   Basic Materials        Industrials  -9.1798 0.0046 -16.5049 -1.8548   True\n",
      "   Basic Materials        Real Estate  -6.9909 0.4732 -17.6059  3.6241  False\n",
      "   Basic Materials         Technology  -5.9684 0.9681 -22.9902 11.0535  False\n",
      "   Basic Materials          Utilities  -4.1283 0.5839 -10.9312  2.6745  False\n",
      " Consumer Cyclical Consumer Defensive   4.7201 0.4769  -2.4663 11.9065  False\n",
      " Consumer Cyclical Financial Services   3.0646 0.8752  -3.7382  9.8675  False\n",
      " Consumer Cyclical         Healthcare   1.2276 0.9999  -7.4472  9.9025  False\n",
      " Consumer Cyclical        Industrials  -0.5128    1.0  -7.6992  6.6736  False\n",
      " Consumer Cyclical        Real Estate   1.6761 0.9999  -8.8437 12.1959  False\n",
      " Consumer Cyclical         Technology   2.6987 0.9999  -14.264 19.6613  False\n",
      " Consumer Cyclical          Utilities   4.5387 0.4245  -2.1146  11.192  False\n",
      "Consumer Defensive Financial Services  -1.6555 0.9982  -8.9805  5.6695  False\n",
      "Consumer Defensive         Healthcare  -3.4925 0.9458 -12.5826  5.5976  False\n",
      "Consumer Defensive        Industrials  -5.2329 0.4266 -12.9155  2.4496  False\n",
      "Consumer Defensive        Real Estate   -3.044 0.9922 -13.9088  7.8208  False\n",
      "Consumer Defensive         Technology  -2.0215    1.0 -19.2002 15.1573  False\n",
      "Consumer Defensive          Utilities  -0.1814    1.0  -7.3678  7.0049  False\n",
      "Financial Services         Healthcare   -1.837  0.999  -10.627  6.9531  False\n",
      "Financial Services        Industrials  -3.5774 0.8182 -10.9025  3.7476  False\n",
      "Financial Services        Real Estate  -1.3885    1.0 -12.0035  9.2265  False\n",
      "Financial Services         Technology   -0.366    1.0 -17.3878 16.6559  False\n",
      "Financial Services          Utilities   1.4741 0.9987  -5.3288  8.2769  False\n",
      "        Healthcare        Industrials  -1.7404 0.9995 -10.8306  7.3497  False\n",
      "        Healthcare        Real Estate   0.4485    1.0 -11.4533 12.3503  False\n",
      "        Healthcare         Technology    1.471    1.0 -16.3817 19.3237  False\n",
      "        Healthcare          Utilities    3.311 0.9478  -5.3638 11.9859  False\n",
      "       Industrials        Real Estate   2.1889 0.9992  -8.6759 13.0537  False\n",
      "       Industrials         Technology   3.2115 0.9996 -13.9673 20.3902  False\n",
      "       Industrials          Utilities   5.0515 0.3834  -2.1349 12.2379  False\n",
      "       Real Estate         Technology   1.0225    1.0 -17.7958 19.8409  False\n",
      "       Real Estate          Utilities   2.8626 0.9936  -7.6572 13.3824  False\n",
      "        Technology          Utilities     1.84    1.0 -15.1226 18.8027  False\n",
      "-----------------------------------------------------------------------------\n"
     ]
    }
   ],
   "source": [
    "dados_setor_DY_sem_Energy = dy_2022[dy_2022.Segment!='Energy']\n",
    "\n",
    "tukey = pairwise_tukeyhsd(endog=dados_setor_DY_sem_Energy['DY%'],\n",
    "                          groups=dados_setor_DY_sem_Energy['Segment'],\n",
    "                          alpha=0.05)\n",
    "\n",
    "print(tukey)"
   ]
  },
  {
   "cell_type": "code",
   "execution_count": 47,
   "metadata": {},
   "outputs": [
    {
     "data": {
      "text/plain": [
       "F_onewayResult(statistic=2.095206303832487, pvalue=0.08929517088626532)"
      ]
     },
     "execution_count": 47,
     "metadata": {},
     "output_type": "execute_result"
    }
   ],
   "source": [
    "stats.f_oneway(dados_real_rstate,dados_financeiro_e_outros,dados_technology,dados_utilities,dados_healthcare,dados_Industrials)"
   ]
  }
 ],
 "metadata": {
  "kernelspec": {
   "display_name": "estats_mercado",
   "language": "python",
   "name": "python3"
  },
  "language_info": {
   "codemirror_mode": {
    "name": "ipython",
    "version": 3
   },
   "file_extension": ".py",
   "mimetype": "text/x-python",
   "name": "python",
   "nbconvert_exporter": "python",
   "pygments_lexer": "ipython3",
   "version": "3.10.8"
  },
  "orig_nbformat": 4
 },
 "nbformat": 4,
 "nbformat_minor": 2
}
