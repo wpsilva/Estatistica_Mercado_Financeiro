{
 "cells": [
  {
   "cell_type": "code",
   "execution_count": 12,
   "metadata": {},
   "outputs": [
    {
     "name": "stdout",
     "output_type": "stream",
     "text": [
      "Requirement already satisfied: yfinance in d:\\dev\\tcd\\estatistica_mercado_financeiro\\estats_mercado\\lib\\site-packages (0.2.27)\n",
      "Requirement already satisfied: pandas>=1.3.0 in d:\\dev\\tcd\\estatistica_mercado_financeiro\\estats_mercado\\lib\\site-packages (from yfinance) (2.0.3)\n",
      "Requirement already satisfied: numpy>=1.16.5 in d:\\dev\\tcd\\estatistica_mercado_financeiro\\estats_mercado\\lib\\site-packages (from yfinance) (1.23.5)\n",
      "Requirement already satisfied: requests>=2.31 in d:\\dev\\tcd\\estatistica_mercado_financeiro\\estats_mercado\\lib\\site-packages (from yfinance) (2.31.0)\n",
      "Requirement already satisfied: multitasking>=0.0.7 in d:\\dev\\tcd\\estatistica_mercado_financeiro\\estats_mercado\\lib\\site-packages (from yfinance) (0.0.11)\n",
      "Requirement already satisfied: lxml>=4.9.1 in d:\\dev\\tcd\\estatistica_mercado_financeiro\\estats_mercado\\lib\\site-packages (from yfinance) (4.9.3)\n",
      "Requirement already satisfied: appdirs>=1.4.4 in d:\\dev\\tcd\\estatistica_mercado_financeiro\\estats_mercado\\lib\\site-packages (from yfinance) (1.4.4)\n",
      "Requirement already satisfied: pytz>=2022.5 in d:\\dev\\tcd\\estatistica_mercado_financeiro\\estats_mercado\\lib\\site-packages (from yfinance) (2023.3)\n",
      "Requirement already satisfied: frozendict>=2.3.4 in d:\\dev\\tcd\\estatistica_mercado_financeiro\\estats_mercado\\lib\\site-packages (from yfinance) (2.3.8)\n",
      "Requirement already satisfied: beautifulsoup4>=4.11.1 in d:\\dev\\tcd\\estatistica_mercado_financeiro\\estats_mercado\\lib\\site-packages (from yfinance) (4.12.2)\n",
      "Requirement already satisfied: html5lib>=1.1 in d:\\dev\\tcd\\estatistica_mercado_financeiro\\estats_mercado\\lib\\site-packages (from yfinance) (1.1)\n",
      "Requirement already satisfied: soupsieve>1.2 in d:\\dev\\tcd\\estatistica_mercado_financeiro\\estats_mercado\\lib\\site-packages (from beautifulsoup4>=4.11.1->yfinance) (2.4.1)\n",
      "Requirement already satisfied: six>=1.9 in d:\\dev\\tcd\\estatistica_mercado_financeiro\\estats_mercado\\lib\\site-packages (from html5lib>=1.1->yfinance) (1.16.0)\n",
      "Requirement already satisfied: webencodings in d:\\dev\\tcd\\estatistica_mercado_financeiro\\estats_mercado\\lib\\site-packages (from html5lib>=1.1->yfinance) (0.5.1)\n",
      "Requirement already satisfied: python-dateutil>=2.8.2 in d:\\dev\\tcd\\estatistica_mercado_financeiro\\estats_mercado\\lib\\site-packages (from pandas>=1.3.0->yfinance) (2.8.2)\n",
      "Requirement already satisfied: tzdata>=2022.1 in d:\\dev\\tcd\\estatistica_mercado_financeiro\\estats_mercado\\lib\\site-packages (from pandas>=1.3.0->yfinance) (2023.3)\n",
      "Requirement already satisfied: charset-normalizer<4,>=2 in d:\\dev\\tcd\\estatistica_mercado_financeiro\\estats_mercado\\lib\\site-packages (from requests>=2.31->yfinance) (3.2.0)\n",
      "Requirement already satisfied: idna<4,>=2.5 in d:\\dev\\tcd\\estatistica_mercado_financeiro\\estats_mercado\\lib\\site-packages (from requests>=2.31->yfinance) (3.4)\n",
      "Requirement already satisfied: urllib3<3,>=1.21.1 in d:\\dev\\tcd\\estatistica_mercado_financeiro\\estats_mercado\\lib\\site-packages (from requests>=2.31->yfinance) (2.0.4)\n",
      "Requirement already satisfied: certifi>=2017.4.17 in d:\\dev\\tcd\\estatistica_mercado_financeiro\\estats_mercado\\lib\\site-packages (from requests>=2.31->yfinance) (2023.7.22)\n",
      "Note: you may need to restart the kernel to use updated packages.\n",
      "Requirement already satisfied: plotly in d:\\dev\\tcd\\estatistica_mercado_financeiro\\estats_mercado\\lib\\site-packages (5.15.0)\n",
      "Requirement already satisfied: tenacity>=6.2.0 in d:\\dev\\tcd\\estatistica_mercado_financeiro\\estats_mercado\\lib\\site-packages (from plotly) (8.2.2)\n",
      "Requirement already satisfied: packaging in d:\\dev\\tcd\\estatistica_mercado_financeiro\\estats_mercado\\lib\\site-packages (from plotly) (23.1)\n",
      "Note: you may need to restart the kernel to use updated packages.\n",
      "Requirement already satisfied: numpy in d:\\dev\\tcd\\estatistica_mercado_financeiro\\estats_mercado\\lib\\site-packages (1.23.5)\n",
      "Note: you may need to restart the kernel to use updated packages.\n",
      "Requirement already satisfied: statsmodels in d:\\dev\\tcd\\estatistica_mercado_financeiro\\estats_mercado\\lib\\site-packages (0.14.0)\n",
      "Requirement already satisfied: numpy>=1.18 in d:\\dev\\tcd\\estatistica_mercado_financeiro\\estats_mercado\\lib\\site-packages (from statsmodels) (1.23.5)\n",
      "Requirement already satisfied: scipy!=1.9.2,>=1.4 in d:\\dev\\tcd\\estatistica_mercado_financeiro\\estats_mercado\\lib\\site-packages (from statsmodels) (1.11.1)\n",
      "Requirement already satisfied: pandas>=1.0 in d:\\dev\\tcd\\estatistica_mercado_financeiro\\estats_mercado\\lib\\site-packages (from statsmodels) (2.0.3)\n",
      "Requirement already satisfied: patsy>=0.5.2 in d:\\dev\\tcd\\estatistica_mercado_financeiro\\estats_mercado\\lib\\site-packages (from statsmodels) (0.5.3)\n",
      "Requirement already satisfied: packaging>=21.3 in d:\\dev\\tcd\\estatistica_mercado_financeiro\\estats_mercado\\lib\\site-packages (from statsmodels) (23.1)\n",
      "Requirement already satisfied: python-dateutil>=2.8.2 in d:\\dev\\tcd\\estatistica_mercado_financeiro\\estats_mercado\\lib\\site-packages (from pandas>=1.0->statsmodels) (2.8.2)\n",
      "Requirement already satisfied: pytz>=2020.1 in d:\\dev\\tcd\\estatistica_mercado_financeiro\\estats_mercado\\lib\\site-packages (from pandas>=1.0->statsmodels) (2023.3)\n",
      "Requirement already satisfied: tzdata>=2022.1 in d:\\dev\\tcd\\estatistica_mercado_financeiro\\estats_mercado\\lib\\site-packages (from pandas>=1.0->statsmodels) (2023.3)\n",
      "Requirement already satisfied: six in d:\\dev\\tcd\\estatistica_mercado_financeiro\\estats_mercado\\lib\\site-packages (from patsy>=0.5.2->statsmodels) (1.16.0)\n",
      "Note: you may need to restart the kernel to use updated packages.\n",
      "Requirement already satisfied: pandas in d:\\dev\\tcd\\estatistica_mercado_financeiro\\estats_mercado\\lib\\site-packages (2.0.3)\n",
      "Requirement already satisfied: python-dateutil>=2.8.2 in d:\\dev\\tcd\\estatistica_mercado_financeiro\\estats_mercado\\lib\\site-packages (from pandas) (2.8.2)\n",
      "Requirement already satisfied: pytz>=2020.1 in d:\\dev\\tcd\\estatistica_mercado_financeiro\\estats_mercado\\lib\\site-packages (from pandas) (2023.3)\n",
      "Requirement already satisfied: tzdata>=2022.1 in d:\\dev\\tcd\\estatistica_mercado_financeiro\\estats_mercado\\lib\\site-packages (from pandas) (2023.3)\n",
      "Requirement already satisfied: numpy>=1.21.0 in d:\\dev\\tcd\\estatistica_mercado_financeiro\\estats_mercado\\lib\\site-packages (from pandas) (1.23.5)\n",
      "Requirement already satisfied: six>=1.5 in d:\\dev\\tcd\\estatistica_mercado_financeiro\\estats_mercado\\lib\\site-packages (from python-dateutil>=2.8.2->pandas) (1.16.0)\n",
      "Note: you may need to restart the kernel to use updated packages.\n",
      "Requirement already satisfied: vectorbt in d:\\dev\\tcd\\estatistica_mercado_financeiro\\estats_mercado\\lib\\site-packages (0.25.5)\n",
      "Requirement already satisfied: numpy>=1.16.5 in d:\\dev\\tcd\\estatistica_mercado_financeiro\\estats_mercado\\lib\\site-packages (from vectorbt) (1.23.5)\n",
      "Requirement already satisfied: pandas in d:\\dev\\tcd\\estatistica_mercado_financeiro\\estats_mercado\\lib\\site-packages (from vectorbt) (2.0.3)\n",
      "Requirement already satisfied: scipy in d:\\dev\\tcd\\estatistica_mercado_financeiro\\estats_mercado\\lib\\site-packages (from vectorbt) (1.11.1)\n",
      "Requirement already satisfied: matplotlib in d:\\dev\\tcd\\estatistica_mercado_financeiro\\estats_mercado\\lib\\site-packages (from vectorbt) (3.7.2)\n",
      "Requirement already satisfied: plotly>=4.12.0 in d:\\dev\\tcd\\estatistica_mercado_financeiro\\estats_mercado\\lib\\site-packages (from vectorbt) (5.15.0)\n",
      "Requirement already satisfied: ipywidgets>=7.0.0 in d:\\dev\\tcd\\estatistica_mercado_financeiro\\estats_mercado\\lib\\site-packages (from vectorbt) (8.1.0)\n",
      "Requirement already satisfied: dill in d:\\dev\\tcd\\estatistica_mercado_financeiro\\estats_mercado\\lib\\site-packages (from vectorbt) (0.3.7)\n",
      "Requirement already satisfied: tqdm in d:\\dev\\tcd\\estatistica_mercado_financeiro\\estats_mercado\\lib\\site-packages (from vectorbt) (4.65.0)\n",
      "Requirement already satisfied: dateparser in d:\\dev\\tcd\\estatistica_mercado_financeiro\\estats_mercado\\lib\\site-packages (from vectorbt) (1.1.8)\n",
      "Requirement already satisfied: imageio in d:\\dev\\tcd\\estatistica_mercado_financeiro\\estats_mercado\\lib\\site-packages (from vectorbt) (2.31.1)\n",
      "Requirement already satisfied: scikit-learn in d:\\dev\\tcd\\estatistica_mercado_financeiro\\estats_mercado\\lib\\site-packages (from vectorbt) (1.3.0)\n",
      "Requirement already satisfied: schedule in d:\\dev\\tcd\\estatistica_mercado_financeiro\\estats_mercado\\lib\\site-packages (from vectorbt) (1.2.0)\n",
      "Requirement already satisfied: requests in d:\\dev\\tcd\\estatistica_mercado_financeiro\\estats_mercado\\lib\\site-packages (from vectorbt) (2.31.0)\n",
      "Requirement already satisfied: pytz in d:\\dev\\tcd\\estatistica_mercado_financeiro\\estats_mercado\\lib\\site-packages (from vectorbt) (2023.3)\n",
      "Requirement already satisfied: mypy-extensions in d:\\dev\\tcd\\estatistica_mercado_financeiro\\estats_mercado\\lib\\site-packages (from vectorbt) (1.0.0)\n",
      "Requirement already satisfied: numba<0.57.0,>=0.56.0 in d:\\dev\\tcd\\estatistica_mercado_financeiro\\estats_mercado\\lib\\site-packages (from vectorbt) (0.56.4)\n",
      "Requirement already satisfied: comm>=0.1.3 in d:\\dev\\tcd\\estatistica_mercado_financeiro\\estats_mercado\\lib\\site-packages (from ipywidgets>=7.0.0->vectorbt) (0.1.4)\n",
      "Requirement already satisfied: ipython>=6.1.0 in d:\\dev\\tcd\\estatistica_mercado_financeiro\\estats_mercado\\lib\\site-packages (from ipywidgets>=7.0.0->vectorbt) (8.14.0)\n",
      "Requirement already satisfied: traitlets>=4.3.1 in d:\\dev\\tcd\\estatistica_mercado_financeiro\\estats_mercado\\lib\\site-packages (from ipywidgets>=7.0.0->vectorbt) (5.9.0)\n",
      "Requirement already satisfied: widgetsnbextension~=4.0.7 in d:\\dev\\tcd\\estatistica_mercado_financeiro\\estats_mercado\\lib\\site-packages (from ipywidgets>=7.0.0->vectorbt) (4.0.8)\n",
      "Requirement already satisfied: jupyterlab-widgets~=3.0.7 in d:\\dev\\tcd\\estatistica_mercado_financeiro\\estats_mercado\\lib\\site-packages (from ipywidgets>=7.0.0->vectorbt) (3.0.8)\n",
      "Requirement already satisfied: llvmlite<0.40,>=0.39.0dev0 in d:\\dev\\tcd\\estatistica_mercado_financeiro\\estats_mercado\\lib\\site-packages (from numba<0.57.0,>=0.56.0->vectorbt) (0.39.1)\n",
      "Requirement already satisfied: setuptools in d:\\dev\\tcd\\estatistica_mercado_financeiro\\estats_mercado\\lib\\site-packages (from numba<0.57.0,>=0.56.0->vectorbt) (63.2.0)\n",
      "Requirement already satisfied: tenacity>=6.2.0 in d:\\dev\\tcd\\estatistica_mercado_financeiro\\estats_mercado\\lib\\site-packages (from plotly>=4.12.0->vectorbt) (8.2.2)\n",
      "Requirement already satisfied: packaging in d:\\dev\\tcd\\estatistica_mercado_financeiro\\estats_mercado\\lib\\site-packages (from plotly>=4.12.0->vectorbt) (23.1)\n",
      "Requirement already satisfied: python-dateutil in d:\\dev\\tcd\\estatistica_mercado_financeiro\\estats_mercado\\lib\\site-packages (from dateparser->vectorbt) (2.8.2)\n",
      "Requirement already satisfied: regex!=2019.02.19,!=2021.8.27 in d:\\dev\\tcd\\estatistica_mercado_financeiro\\estats_mercado\\lib\\site-packages (from dateparser->vectorbt) (2023.6.3)\n",
      "Requirement already satisfied: tzlocal in d:\\dev\\tcd\\estatistica_mercado_financeiro\\estats_mercado\\lib\\site-packages (from dateparser->vectorbt) (5.0.1)\n",
      "Requirement already satisfied: pillow>=8.3.2 in d:\\dev\\tcd\\estatistica_mercado_financeiro\\estats_mercado\\lib\\site-packages (from imageio->vectorbt) (10.0.0)\n",
      "Requirement already satisfied: contourpy>=1.0.1 in d:\\dev\\tcd\\estatistica_mercado_financeiro\\estats_mercado\\lib\\site-packages (from matplotlib->vectorbt) (1.1.0)\n",
      "Requirement already satisfied: cycler>=0.10 in d:\\dev\\tcd\\estatistica_mercado_financeiro\\estats_mercado\\lib\\site-packages (from matplotlib->vectorbt) (0.11.0)\n",
      "Requirement already satisfied: fonttools>=4.22.0 in d:\\dev\\tcd\\estatistica_mercado_financeiro\\estats_mercado\\lib\\site-packages (from matplotlib->vectorbt) (4.42.0)\n",
      "Requirement already satisfied: kiwisolver>=1.0.1 in d:\\dev\\tcd\\estatistica_mercado_financeiro\\estats_mercado\\lib\\site-packages (from matplotlib->vectorbt) (1.4.4)\n",
      "Requirement already satisfied: pyparsing<3.1,>=2.3.1 in d:\\dev\\tcd\\estatistica_mercado_financeiro\\estats_mercado\\lib\\site-packages (from matplotlib->vectorbt) (3.0.9)\n",
      "Requirement already satisfied: tzdata>=2022.1 in d:\\dev\\tcd\\estatistica_mercado_financeiro\\estats_mercado\\lib\\site-packages (from pandas->vectorbt) (2023.3)\n",
      "Requirement already satisfied: charset-normalizer<4,>=2 in d:\\dev\\tcd\\estatistica_mercado_financeiro\\estats_mercado\\lib\\site-packages (from requests->vectorbt) (3.2.0)\n",
      "Requirement already satisfied: idna<4,>=2.5 in d:\\dev\\tcd\\estatistica_mercado_financeiro\\estats_mercado\\lib\\site-packages (from requests->vectorbt) (3.4)\n",
      "Requirement already satisfied: urllib3<3,>=1.21.1 in d:\\dev\\tcd\\estatistica_mercado_financeiro\\estats_mercado\\lib\\site-packages (from requests->vectorbt) (2.0.4)\n",
      "Requirement already satisfied: certifi>=2017.4.17 in d:\\dev\\tcd\\estatistica_mercado_financeiro\\estats_mercado\\lib\\site-packages (from requests->vectorbt) (2023.7.22)\n",
      "Requirement already satisfied: joblib>=1.1.1 in d:\\dev\\tcd\\estatistica_mercado_financeiro\\estats_mercado\\lib\\site-packages (from scikit-learn->vectorbt) (1.3.1)\n",
      "Requirement already satisfied: threadpoolctl>=2.0.0 in d:\\dev\\tcd\\estatistica_mercado_financeiro\\estats_mercado\\lib\\site-packages (from scikit-learn->vectorbt) (3.2.0)\n",
      "Requirement already satisfied: colorama in d:\\dev\\tcd\\estatistica_mercado_financeiro\\estats_mercado\\lib\\site-packages (from tqdm->vectorbt) (0.4.6)\n",
      "Requirement already satisfied: backcall in d:\\dev\\tcd\\estatistica_mercado_financeiro\\estats_mercado\\lib\\site-packages (from ipython>=6.1.0->ipywidgets>=7.0.0->vectorbt) (0.2.0)\n",
      "Requirement already satisfied: decorator in d:\\dev\\tcd\\estatistica_mercado_financeiro\\estats_mercado\\lib\\site-packages (from ipython>=6.1.0->ipywidgets>=7.0.0->vectorbt) (5.1.1)\n",
      "Requirement already satisfied: jedi>=0.16 in d:\\dev\\tcd\\estatistica_mercado_financeiro\\estats_mercado\\lib\\site-packages (from ipython>=6.1.0->ipywidgets>=7.0.0->vectorbt) (0.19.0)\n",
      "Requirement already satisfied: matplotlib-inline in d:\\dev\\tcd\\estatistica_mercado_financeiro\\estats_mercado\\lib\\site-packages (from ipython>=6.1.0->ipywidgets>=7.0.0->vectorbt) (0.1.6)\n",
      "Requirement already satisfied: pickleshare in d:\\dev\\tcd\\estatistica_mercado_financeiro\\estats_mercado\\lib\\site-packages (from ipython>=6.1.0->ipywidgets>=7.0.0->vectorbt) (0.7.5)\n",
      "Requirement already satisfied: prompt-toolkit!=3.0.37,<3.1.0,>=3.0.30 in d:\\dev\\tcd\\estatistica_mercado_financeiro\\estats_mercado\\lib\\site-packages (from ipython>=6.1.0->ipywidgets>=7.0.0->vectorbt) (3.0.39)\n",
      "Requirement already satisfied: pygments>=2.4.0 in d:\\dev\\tcd\\estatistica_mercado_financeiro\\estats_mercado\\lib\\site-packages (from ipython>=6.1.0->ipywidgets>=7.0.0->vectorbt) (2.15.1)\n",
      "Requirement already satisfied: stack-data in d:\\dev\\tcd\\estatistica_mercado_financeiro\\estats_mercado\\lib\\site-packages (from ipython>=6.1.0->ipywidgets>=7.0.0->vectorbt) (0.6.2)\n",
      "Requirement already satisfied: six>=1.5 in d:\\dev\\tcd\\estatistica_mercado_financeiro\\estats_mercado\\lib\\site-packages (from python-dateutil->dateparser->vectorbt) (1.16.0)\n",
      "Requirement already satisfied: parso<0.9.0,>=0.8.3 in d:\\dev\\tcd\\estatistica_mercado_financeiro\\estats_mercado\\lib\\site-packages (from jedi>=0.16->ipython>=6.1.0->ipywidgets>=7.0.0->vectorbt) (0.8.3)\n",
      "Requirement already satisfied: wcwidth in d:\\dev\\tcd\\estatistica_mercado_financeiro\\estats_mercado\\lib\\site-packages (from prompt-toolkit!=3.0.37,<3.1.0,>=3.0.30->ipython>=6.1.0->ipywidgets>=7.0.0->vectorbt) (0.2.6)\n",
      "Requirement already satisfied: executing>=1.2.0 in d:\\dev\\tcd\\estatistica_mercado_financeiro\\estats_mercado\\lib\\site-packages (from stack-data->ipython>=6.1.0->ipywidgets>=7.0.0->vectorbt) (1.2.0)\n",
      "Requirement already satisfied: asttokens>=2.1.0 in d:\\dev\\tcd\\estatistica_mercado_financeiro\\estats_mercado\\lib\\site-packages (from stack-data->ipython>=6.1.0->ipywidgets>=7.0.0->vectorbt) (2.2.1)\n",
      "Requirement already satisfied: pure-eval in d:\\dev\\tcd\\estatistica_mercado_financeiro\\estats_mercado\\lib\\site-packages (from stack-data->ipython>=6.1.0->ipywidgets>=7.0.0->vectorbt) (0.2.2)\n",
      "Note: you may need to restart the kernel to use updated packages.\n"
     ]
    }
   ],
   "source": [
    "%pip install yfinance\n",
    "%pip install plotly\n",
    "%pip install numpy\n",
    "%pip install statsmodels\n",
    "%pip install pandas\n",
    "%pip install vectorbt\n",
    "%pip install seaborn"
   ]
  },
  {
   "cell_type": "code",
   "execution_count": 28,
   "metadata": {},
   "outputs": [],
   "source": [
    "import yfinance as yf\n",
    "import plotly.express as px\n",
    "from plotly.subplots import make_subplots\n",
    "import matplotlib.pyplot as plt\n",
    "import numpy as np\n",
    "from scipy import stats\n",
    "import pandas as pd\n",
    "import vectorbt as vbt\n",
    "import seaborn as sns"
   ]
  },
  {
   "cell_type": "code",
   "execution_count": 11,
   "metadata": {},
   "outputs": [
    {
     "data": {
      "text/html": [
       "<div>\n",
       "<style scoped>\n",
       "    .dataframe tbody tr th:only-of-type {\n",
       "        vertical-align: middle;\n",
       "    }\n",
       "\n",
       "    .dataframe tbody tr th {\n",
       "        vertical-align: top;\n",
       "    }\n",
       "\n",
       "    .dataframe thead th {\n",
       "        text-align: right;\n",
       "    }\n",
       "</style>\n",
       "<table border=\"1\" class=\"dataframe\">\n",
       "  <thead>\n",
       "    <tr style=\"text-align: right;\">\n",
       "      <th></th>\n",
       "      <th>Close</th>\n",
       "      <th>Dividends</th>\n",
       "    </tr>\n",
       "    <tr>\n",
       "      <th>Date</th>\n",
       "      <th></th>\n",
       "      <th></th>\n",
       "    </tr>\n",
       "  </thead>\n",
       "  <tbody>\n",
       "    <tr>\n",
       "      <th>2000-01-03 00:00:00-02:00</th>\n",
       "      <td>1.563741</td>\n",
       "      <td>0.0</td>\n",
       "    </tr>\n",
       "    <tr>\n",
       "      <th>2000-01-04 00:00:00-02:00</th>\n",
       "      <td>1.477236</td>\n",
       "      <td>0.0</td>\n",
       "    </tr>\n",
       "    <tr>\n",
       "      <th>2000-01-05 00:00:00-02:00</th>\n",
       "      <td>1.462330</td>\n",
       "      <td>0.0</td>\n",
       "    </tr>\n",
       "    <tr>\n",
       "      <th>2000-01-06 00:00:00-02:00</th>\n",
       "      <td>1.457272</td>\n",
       "      <td>0.0</td>\n",
       "    </tr>\n",
       "    <tr>\n",
       "      <th>2000-01-07 00:00:00-02:00</th>\n",
       "      <td>1.463927</td>\n",
       "      <td>0.0</td>\n",
       "    </tr>\n",
       "    <tr>\n",
       "      <th>...</th>\n",
       "      <td>...</td>\n",
       "      <td>...</td>\n",
       "    </tr>\n",
       "    <tr>\n",
       "      <th>2023-07-31 00:00:00-03:00</th>\n",
       "      <td>31.110001</td>\n",
       "      <td>0.0</td>\n",
       "    </tr>\n",
       "    <tr>\n",
       "      <th>2023-08-01 00:00:00-03:00</th>\n",
       "      <td>30.600000</td>\n",
       "      <td>0.0</td>\n",
       "    </tr>\n",
       "    <tr>\n",
       "      <th>2023-08-02 00:00:00-03:00</th>\n",
       "      <td>30.530001</td>\n",
       "      <td>0.0</td>\n",
       "    </tr>\n",
       "    <tr>\n",
       "      <th>2023-08-03 00:00:00-03:00</th>\n",
       "      <td>30.920000</td>\n",
       "      <td>0.0</td>\n",
       "    </tr>\n",
       "    <tr>\n",
       "      <th>2023-08-04 00:00:00-03:00</th>\n",
       "      <td>30.000000</td>\n",
       "      <td>0.0</td>\n",
       "    </tr>\n",
       "  </tbody>\n",
       "</table>\n",
       "<p>5927 rows × 2 columns</p>\n",
       "</div>"
      ],
      "text/plain": [
       "                               Close  Dividends\n",
       "Date                                           \n",
       "2000-01-03 00:00:00-02:00   1.563741        0.0\n",
       "2000-01-04 00:00:00-02:00   1.477236        0.0\n",
       "2000-01-05 00:00:00-02:00   1.462330        0.0\n",
       "2000-01-06 00:00:00-02:00   1.457272        0.0\n",
       "2000-01-07 00:00:00-02:00   1.463927        0.0\n",
       "...                              ...        ...\n",
       "2023-07-31 00:00:00-03:00  31.110001        0.0\n",
       "2023-08-01 00:00:00-03:00  30.600000        0.0\n",
       "2023-08-02 00:00:00-03:00  30.530001        0.0\n",
       "2023-08-03 00:00:00-03:00  30.920000        0.0\n",
       "2023-08-04 00:00:00-03:00  30.000000        0.0\n",
       "\n",
       "[5927 rows x 2 columns]"
      ]
     },
     "execution_count": 11,
     "metadata": {},
     "output_type": "execute_result"
    }
   ],
   "source": [
    "ticker = \"PETR4.SA\"\n",
    "petr4 = yf.Ticker(ticker)\n",
    "petr4_adj_close = petr4.history(period=\"max\")[\"Close\"]\n",
    "petr4_dividend = petr4.dividends\n",
    "adj_close_df = pd.DataFrame(petr4_adj_close, columns=[\"Close\"])\n",
    "dividend_df = pd.DataFrame(petr4_dividend, columns=[\"Dividends\"])\n",
    "df_final = pd.concat([adj_close_df, dividend_df], axis=1)\n",
    "df_final['Dividends'].fillna(0.0, inplace=True)\n",
    "df_final"
   ]
  },
  {
   "cell_type": "code",
   "execution_count": 16,
   "metadata": {},
   "outputs": [
    {
     "data": {
      "text/html": [
       "<div>\n",
       "<style scoped>\n",
       "    .dataframe tbody tr th:only-of-type {\n",
       "        vertical-align: middle;\n",
       "    }\n",
       "\n",
       "    .dataframe tbody tr th {\n",
       "        vertical-align: top;\n",
       "    }\n",
       "\n",
       "    .dataframe thead th {\n",
       "        text-align: right;\n",
       "    }\n",
       "</style>\n",
       "<table border=\"1\" class=\"dataframe\">\n",
       "  <thead>\n",
       "    <tr style=\"text-align: right;\">\n",
       "      <th></th>\n",
       "      <th>Close</th>\n",
       "      <th>Dividends</th>\n",
       "    </tr>\n",
       "    <tr>\n",
       "      <th>Date</th>\n",
       "      <th></th>\n",
       "      <th></th>\n",
       "    </tr>\n",
       "  </thead>\n",
       "  <tbody>\n",
       "    <tr>\n",
       "      <th>2000-01-03 02:00:00+00:00</th>\n",
       "      <td>1.563740</td>\n",
       "      <td>0.0</td>\n",
       "    </tr>\n",
       "    <tr>\n",
       "      <th>2000-01-04 02:00:00+00:00</th>\n",
       "      <td>1.477236</td>\n",
       "      <td>0.0</td>\n",
       "    </tr>\n",
       "    <tr>\n",
       "      <th>2000-01-05 02:00:00+00:00</th>\n",
       "      <td>1.462330</td>\n",
       "      <td>0.0</td>\n",
       "    </tr>\n",
       "    <tr>\n",
       "      <th>2000-01-06 02:00:00+00:00</th>\n",
       "      <td>1.457273</td>\n",
       "      <td>0.0</td>\n",
       "    </tr>\n",
       "    <tr>\n",
       "      <th>2000-01-07 02:00:00+00:00</th>\n",
       "      <td>1.463927</td>\n",
       "      <td>0.0</td>\n",
       "    </tr>\n",
       "    <tr>\n",
       "      <th>...</th>\n",
       "      <td>...</td>\n",
       "      <td>...</td>\n",
       "    </tr>\n",
       "    <tr>\n",
       "      <th>2023-07-31 03:00:00+00:00</th>\n",
       "      <td>31.110001</td>\n",
       "      <td>0.0</td>\n",
       "    </tr>\n",
       "    <tr>\n",
       "      <th>2023-08-01 03:00:00+00:00</th>\n",
       "      <td>30.600000</td>\n",
       "      <td>0.0</td>\n",
       "    </tr>\n",
       "    <tr>\n",
       "      <th>2023-08-02 03:00:00+00:00</th>\n",
       "      <td>30.530001</td>\n",
       "      <td>0.0</td>\n",
       "    </tr>\n",
       "    <tr>\n",
       "      <th>2023-08-03 03:00:00+00:00</th>\n",
       "      <td>30.920000</td>\n",
       "      <td>0.0</td>\n",
       "    </tr>\n",
       "    <tr>\n",
       "      <th>2023-08-04 03:00:00+00:00</th>\n",
       "      <td>30.000000</td>\n",
       "      <td>0.0</td>\n",
       "    </tr>\n",
       "  </tbody>\n",
       "</table>\n",
       "<p>5927 rows × 2 columns</p>\n",
       "</div>"
      ],
      "text/plain": [
       "                               Close  Dividends\n",
       "Date                                           \n",
       "2000-01-03 02:00:00+00:00   1.563740        0.0\n",
       "2000-01-04 02:00:00+00:00   1.477236        0.0\n",
       "2000-01-05 02:00:00+00:00   1.462330        0.0\n",
       "2000-01-06 02:00:00+00:00   1.457273        0.0\n",
       "2000-01-07 02:00:00+00:00   1.463927        0.0\n",
       "...                              ...        ...\n",
       "2023-07-31 03:00:00+00:00  31.110001        0.0\n",
       "2023-08-01 03:00:00+00:00  30.600000        0.0\n",
       "2023-08-02 03:00:00+00:00  30.530001        0.0\n",
       "2023-08-03 03:00:00+00:00  30.920000        0.0\n",
       "2023-08-04 03:00:00+00:00  30.000000        0.0\n",
       "\n",
       "[5927 rows x 2 columns]"
      ]
     },
     "execution_count": 16,
     "metadata": {},
     "output_type": "execute_result"
    }
   ],
   "source": [
    "dividendos_petr4 = vbt.YFData.download('PETR4.SA').get(['Close', 'Dividends'])\n",
    "dividendos_petr4"
   ]
  },
  {
   "cell_type": "code",
   "execution_count": 17,
   "metadata": {},
   "outputs": [
    {
     "data": {
      "text/html": [
       "<div>\n",
       "<style scoped>\n",
       "    .dataframe tbody tr th:only-of-type {\n",
       "        vertical-align: middle;\n",
       "    }\n",
       "\n",
       "    .dataframe tbody tr th {\n",
       "        vertical-align: top;\n",
       "    }\n",
       "\n",
       "    .dataframe thead th {\n",
       "        text-align: right;\n",
       "    }\n",
       "</style>\n",
       "<table border=\"1\" class=\"dataframe\">\n",
       "  <thead>\n",
       "    <tr style=\"text-align: right;\">\n",
       "      <th></th>\n",
       "      <th>Close</th>\n",
       "      <th>Dividends</th>\n",
       "      <th>soma_dividendos</th>\n",
       "    </tr>\n",
       "    <tr>\n",
       "      <th>Date</th>\n",
       "      <th></th>\n",
       "      <th></th>\n",
       "      <th></th>\n",
       "    </tr>\n",
       "  </thead>\n",
       "  <tbody>\n",
       "    <tr>\n",
       "      <th>2000-01-03 02:00:00+00:00</th>\n",
       "      <td>1.563740</td>\n",
       "      <td>0.0</td>\n",
       "      <td>0.000000</td>\n",
       "    </tr>\n",
       "    <tr>\n",
       "      <th>2000-01-04 02:00:00+00:00</th>\n",
       "      <td>1.477236</td>\n",
       "      <td>0.0</td>\n",
       "      <td>0.000000</td>\n",
       "    </tr>\n",
       "    <tr>\n",
       "      <th>2000-01-05 02:00:00+00:00</th>\n",
       "      <td>1.462330</td>\n",
       "      <td>0.0</td>\n",
       "      <td>0.000000</td>\n",
       "    </tr>\n",
       "    <tr>\n",
       "      <th>2000-01-06 02:00:00+00:00</th>\n",
       "      <td>1.457273</td>\n",
       "      <td>0.0</td>\n",
       "      <td>0.000000</td>\n",
       "    </tr>\n",
       "    <tr>\n",
       "      <th>2000-01-07 02:00:00+00:00</th>\n",
       "      <td>1.463927</td>\n",
       "      <td>0.0</td>\n",
       "      <td>0.000000</td>\n",
       "    </tr>\n",
       "    <tr>\n",
       "      <th>...</th>\n",
       "      <td>...</td>\n",
       "      <td>...</td>\n",
       "      <td>...</td>\n",
       "    </tr>\n",
       "    <tr>\n",
       "      <th>2023-07-31 03:00:00+00:00</th>\n",
       "      <td>31.110001</td>\n",
       "      <td>0.0</td>\n",
       "      <td>14.844972</td>\n",
       "    </tr>\n",
       "    <tr>\n",
       "      <th>2023-08-01 03:00:00+00:00</th>\n",
       "      <td>30.600000</td>\n",
       "      <td>0.0</td>\n",
       "      <td>14.844972</td>\n",
       "    </tr>\n",
       "    <tr>\n",
       "      <th>2023-08-02 03:00:00+00:00</th>\n",
       "      <td>30.530001</td>\n",
       "      <td>0.0</td>\n",
       "      <td>14.844972</td>\n",
       "    </tr>\n",
       "    <tr>\n",
       "      <th>2023-08-03 03:00:00+00:00</th>\n",
       "      <td>30.920000</td>\n",
       "      <td>0.0</td>\n",
       "      <td>14.844972</td>\n",
       "    </tr>\n",
       "    <tr>\n",
       "      <th>2023-08-04 03:00:00+00:00</th>\n",
       "      <td>30.000000</td>\n",
       "      <td>0.0</td>\n",
       "      <td>14.844972</td>\n",
       "    </tr>\n",
       "  </tbody>\n",
       "</table>\n",
       "<p>5927 rows × 3 columns</p>\n",
       "</div>"
      ],
      "text/plain": [
       "                               Close  Dividends  soma_dividendos\n",
       "Date                                                            \n",
       "2000-01-03 02:00:00+00:00   1.563740        0.0         0.000000\n",
       "2000-01-04 02:00:00+00:00   1.477236        0.0         0.000000\n",
       "2000-01-05 02:00:00+00:00   1.462330        0.0         0.000000\n",
       "2000-01-06 02:00:00+00:00   1.457273        0.0         0.000000\n",
       "2000-01-07 02:00:00+00:00   1.463927        0.0         0.000000\n",
       "...                              ...        ...              ...\n",
       "2023-07-31 03:00:00+00:00  31.110001        0.0        14.844972\n",
       "2023-08-01 03:00:00+00:00  30.600000        0.0        14.844972\n",
       "2023-08-02 03:00:00+00:00  30.530001        0.0        14.844972\n",
       "2023-08-03 03:00:00+00:00  30.920000        0.0        14.844972\n",
       "2023-08-04 03:00:00+00:00  30.000000        0.0        14.844972\n",
       "\n",
       "[5927 rows x 3 columns]"
      ]
     },
     "execution_count": 17,
     "metadata": {},
     "output_type": "execute_result"
    }
   ],
   "source": [
    "dividendos_petr4['soma_dividendos'] = dividendos_petr4.Dividends.rolling('365D').sum()\n",
    "dividendos_petr4"
   ]
  },
  {
   "cell_type": "code",
   "execution_count": 18,
   "metadata": {},
   "outputs": [
    {
     "data": {
      "text/plain": [
       "<Axes: xlabel='Date'>"
      ]
     },
     "execution_count": 18,
     "metadata": {},
     "output_type": "execute_result"
    },
    {
     "data": {
      "image/png": "[encoded data removed]",
      "text/plain": [
       "<Figure size 640x480 with 1 Axes>"
      ]
     },
     "metadata": {},
     "output_type": "display_data"
    }
   ],
   "source": [
    "dividendos_petr4.soma_dividendos.plot()"
   ]
  },
  {
   "cell_type": "code",
   "execution_count": 19,
   "metadata": {},
   "outputs": [
    {
     "data": {
      "text/html": [
       "<div>\n",
       "<style scoped>\n",
       "    .dataframe tbody tr th:only-of-type {\n",
       "        vertical-align: middle;\n",
       "    }\n",
       "\n",
       "    .dataframe tbody tr th {\n",
       "        vertical-align: top;\n",
       "    }\n",
       "\n",
       "    .dataframe thead th {\n",
       "        text-align: right;\n",
       "    }\n",
       "</style>\n",
       "<table border=\"1\" class=\"dataframe\">\n",
       "  <thead>\n",
       "    <tr style=\"text-align: right;\">\n",
       "      <th></th>\n",
       "      <th>Close</th>\n",
       "      <th>Dividends</th>\n",
       "      <th>soma_dividendos</th>\n",
       "      <th>DY</th>\n",
       "    </tr>\n",
       "    <tr>\n",
       "      <th>Date</th>\n",
       "      <th></th>\n",
       "      <th></th>\n",
       "      <th></th>\n",
       "      <th></th>\n",
       "    </tr>\n",
       "  </thead>\n",
       "  <tbody>\n",
       "    <tr>\n",
       "      <th>2000-01-03 02:00:00+00:00</th>\n",
       "      <td>1.563740</td>\n",
       "      <td>0.0</td>\n",
       "      <td>0.000000</td>\n",
       "      <td>0.000000</td>\n",
       "    </tr>\n",
       "    <tr>\n",
       "      <th>2000-01-04 02:00:00+00:00</th>\n",
       "      <td>1.477236</td>\n",
       "      <td>0.0</td>\n",
       "      <td>0.000000</td>\n",
       "      <td>0.000000</td>\n",
       "    </tr>\n",
       "    <tr>\n",
       "      <th>2000-01-05 02:00:00+00:00</th>\n",
       "      <td>1.462330</td>\n",
       "      <td>0.0</td>\n",
       "      <td>0.000000</td>\n",
       "      <td>0.000000</td>\n",
       "    </tr>\n",
       "    <tr>\n",
       "      <th>2000-01-06 02:00:00+00:00</th>\n",
       "      <td>1.457273</td>\n",
       "      <td>0.0</td>\n",
       "      <td>0.000000</td>\n",
       "      <td>0.000000</td>\n",
       "    </tr>\n",
       "    <tr>\n",
       "      <th>2000-01-07 02:00:00+00:00</th>\n",
       "      <td>1.463927</td>\n",
       "      <td>0.0</td>\n",
       "      <td>0.000000</td>\n",
       "      <td>0.000000</td>\n",
       "    </tr>\n",
       "    <tr>\n",
       "      <th>...</th>\n",
       "      <td>...</td>\n",
       "      <td>...</td>\n",
       "      <td>...</td>\n",
       "      <td>...</td>\n",
       "    </tr>\n",
       "    <tr>\n",
       "      <th>2023-07-31 03:00:00+00:00</th>\n",
       "      <td>31.110001</td>\n",
       "      <td>0.0</td>\n",
       "      <td>14.844972</td>\n",
       "      <td>47.717685</td>\n",
       "    </tr>\n",
       "    <tr>\n",
       "      <th>2023-08-01 03:00:00+00:00</th>\n",
       "      <td>30.600000</td>\n",
       "      <td>0.0</td>\n",
       "      <td>14.844972</td>\n",
       "      <td>48.512980</td>\n",
       "    </tr>\n",
       "    <tr>\n",
       "      <th>2023-08-02 03:00:00+00:00</th>\n",
       "      <td>30.530001</td>\n",
       "      <td>0.0</td>\n",
       "      <td>14.844972</td>\n",
       "      <td>48.624211</td>\n",
       "    </tr>\n",
       "    <tr>\n",
       "      <th>2023-08-03 03:00:00+00:00</th>\n",
       "      <td>30.920000</td>\n",
       "      <td>0.0</td>\n",
       "      <td>14.844972</td>\n",
       "      <td>48.010905</td>\n",
       "    </tr>\n",
       "    <tr>\n",
       "      <th>2023-08-04 03:00:00+00:00</th>\n",
       "      <td>30.000000</td>\n",
       "      <td>0.0</td>\n",
       "      <td>14.844972</td>\n",
       "      <td>49.483240</td>\n",
       "    </tr>\n",
       "  </tbody>\n",
       "</table>\n",
       "<p>5927 rows × 4 columns</p>\n",
       "</div>"
      ],
      "text/plain": [
       "                               Close  Dividends  soma_dividendos         DY\n",
       "Date                                                                       \n",
       "2000-01-03 02:00:00+00:00   1.563740        0.0         0.000000   0.000000\n",
       "2000-01-04 02:00:00+00:00   1.477236        0.0         0.000000   0.000000\n",
       "2000-01-05 02:00:00+00:00   1.462330        0.0         0.000000   0.000000\n",
       "2000-01-06 02:00:00+00:00   1.457273        0.0         0.000000   0.000000\n",
       "2000-01-07 02:00:00+00:00   1.463927        0.0         0.000000   0.000000\n",
       "...                              ...        ...              ...        ...\n",
       "2023-07-31 03:00:00+00:00  31.110001        0.0        14.844972  47.717685\n",
       "2023-08-01 03:00:00+00:00  30.600000        0.0        14.844972  48.512980\n",
       "2023-08-02 03:00:00+00:00  30.530001        0.0        14.844972  48.624211\n",
       "2023-08-03 03:00:00+00:00  30.920000        0.0        14.844972  48.010905\n",
       "2023-08-04 03:00:00+00:00  30.000000        0.0        14.844972  49.483240\n",
       "\n",
       "[5927 rows x 4 columns]"
      ]
     },
     "execution_count": 19,
     "metadata": {},
     "output_type": "execute_result"
    }
   ],
   "source": [
    "dividendos_petr4['DY'] = dividendos_petr4['soma_dividendos']/dividendos_petr4['Close'] * 100\n",
    "dividendos_petr4"
   ]
  },
  {
   "cell_type": "code",
   "execution_count": 21,
   "metadata": {},
   "outputs": [
    {
     "data": {
      "text/html": [
       "<div>\n",
       "<style scoped>\n",
       "    .dataframe tbody tr th:only-of-type {\n",
       "        vertical-align: middle;\n",
       "    }\n",
       "\n",
       "    .dataframe tbody tr th {\n",
       "        vertical-align: top;\n",
       "    }\n",
       "\n",
       "    .dataframe thead th {\n",
       "        text-align: right;\n",
       "    }\n",
       "</style>\n",
       "<table border=\"1\" class=\"dataframe\">\n",
       "  <thead>\n",
       "    <tr style=\"text-align: right;\">\n",
       "      <th></th>\n",
       "      <th>Close</th>\n",
       "      <th>Dividends</th>\n",
       "      <th>soma_dividendos</th>\n",
       "      <th>DY</th>\n",
       "    </tr>\n",
       "    <tr>\n",
       "      <th>Date</th>\n",
       "      <th></th>\n",
       "      <th></th>\n",
       "      <th></th>\n",
       "      <th></th>\n",
       "    </tr>\n",
       "  </thead>\n",
       "  <tbody>\n",
       "    <tr>\n",
       "      <th>2005-04-01 03:00:00+00:00</th>\n",
       "      <td>3.492971</td>\n",
       "      <td>0.133288</td>\n",
       "      <td>0.133288</td>\n",
       "      <td>3.815892</td>\n",
       "    </tr>\n",
       "    <tr>\n",
       "      <th>2005-07-01 03:00:00+00:00</th>\n",
       "      <td>3.706465</td>\n",
       "      <td>0.250663</td>\n",
       "      <td>0.383951</td>\n",
       "      <td>10.358955</td>\n",
       "    </tr>\n",
       "    <tr>\n",
       "      <th>2006-01-02 02:00:00+00:00</th>\n",
       "      <td>5.293367</td>\n",
       "      <td>0.259000</td>\n",
       "      <td>0.642951</td>\n",
       "      <td>12.146351</td>\n",
       "    </tr>\n",
       "    <tr>\n",
       "      <th>2006-04-04 03:00:00+00:00</th>\n",
       "      <td>6.052313</td>\n",
       "      <td>0.132700</td>\n",
       "      <td>0.642363</td>\n",
       "      <td>10.613512</td>\n",
       "    </tr>\n",
       "    <tr>\n",
       "      <th>2006-11-01 03:00:00+00:00</th>\n",
       "      <td>6.076027</td>\n",
       "      <td>0.500750</td>\n",
       "      <td>0.892450</td>\n",
       "      <td>14.688052</td>\n",
       "    </tr>\n",
       "    <tr>\n",
       "      <th>2007-01-02 02:00:00+00:00</th>\n",
       "      <td>7.268165</td>\n",
       "      <td>0.225000</td>\n",
       "      <td>0.858450</td>\n",
       "      <td>11.811097</td>\n",
       "    </tr>\n",
       "    <tr>\n",
       "      <th>2007-04-03 03:00:00+00:00</th>\n",
       "      <td>6.606323</td>\n",
       "      <td>0.175000</td>\n",
       "      <td>1.033450</td>\n",
       "      <td>15.643347</td>\n",
       "    </tr>\n",
       "    <tr>\n",
       "      <th>2007-08-20 03:00:00+00:00</th>\n",
       "      <td>6.807630</td>\n",
       "      <td>0.251700</td>\n",
       "      <td>1.152450</td>\n",
       "      <td>16.928799</td>\n",
       "    </tr>\n",
       "    <tr>\n",
       "      <th>2007-10-08 03:00:00+00:00</th>\n",
       "      <td>9.177964</td>\n",
       "      <td>0.256500</td>\n",
       "      <td>1.408950</td>\n",
       "      <td>15.351444</td>\n",
       "    </tr>\n",
       "    <tr>\n",
       "      <th>2008-01-14 02:00:00+00:00</th>\n",
       "      <td>12.080956</td>\n",
       "      <td>0.155300</td>\n",
       "      <td>0.838500</td>\n",
       "      <td>6.940676</td>\n",
       "    </tr>\n",
       "    <tr>\n",
       "      <th>2008-04-07 03:00:00+00:00</th>\n",
       "      <td>11.725547</td>\n",
       "      <td>0.102600</td>\n",
       "      <td>0.766100</td>\n",
       "      <td>6.533597</td>\n",
       "    </tr>\n",
       "    <tr>\n",
       "      <th>2008-12-29 02:00:00+00:00</th>\n",
       "      <td>6.740221</td>\n",
       "      <td>0.042600</td>\n",
       "      <td>0.300500</td>\n",
       "      <td>4.458311</td>\n",
       "    </tr>\n",
       "    <tr>\n",
       "      <th>2009-04-09 03:00:00+00:00</th>\n",
       "      <td>9.340297</td>\n",
       "      <td>0.351600</td>\n",
       "      <td>0.394200</td>\n",
       "      <td>4.220423</td>\n",
       "    </tr>\n",
       "    <tr>\n",
       "      <th>2009-07-06 03:00:00+00:00</th>\n",
       "      <td>9.186884</td>\n",
       "      <td>0.300000</td>\n",
       "      <td>0.694200</td>\n",
       "      <td>7.556425</td>\n",
       "    </tr>\n",
       "    <tr>\n",
       "      <th>2009-10-01 03:00:00+00:00</th>\n",
       "      <td>10.473076</td>\n",
       "      <td>0.200000</td>\n",
       "      <td>0.894200</td>\n",
       "      <td>8.538084</td>\n",
       "    </tr>\n",
       "    <tr>\n",
       "      <th>2009-12-21 02:00:00+00:00</th>\n",
       "      <td>10.886313</td>\n",
       "      <td>0.200000</td>\n",
       "      <td>1.094200</td>\n",
       "      <td>10.051153</td>\n",
       "    </tr>\n",
       "    <tr>\n",
       "      <th>2010-04-23 03:00:00+00:00</th>\n",
       "      <td>10.556715</td>\n",
       "      <td>0.133200</td>\n",
       "      <td>0.833200</td>\n",
       "      <td>7.892607</td>\n",
       "    </tr>\n",
       "    <tr>\n",
       "      <th>2010-05-24 03:00:00+00:00</th>\n",
       "      <td>8.482131</td>\n",
       "      <td>0.170000</td>\n",
       "      <td>1.003200</td>\n",
       "      <td>11.827217</td>\n",
       "    </tr>\n",
       "    <tr>\n",
       "      <th>2010-08-02 03:00:00+00:00</th>\n",
       "      <td>8.939722</td>\n",
       "      <td>0.170000</td>\n",
       "      <td>0.873200</td>\n",
       "      <td>9.767641</td>\n",
       "    </tr>\n",
       "    <tr>\n",
       "      <th>2010-11-03 02:00:00+00:00</th>\n",
       "      <td>8.532167</td>\n",
       "      <td>0.140000</td>\n",
       "      <td>0.813200</td>\n",
       "      <td>9.530990</td>\n",
       "    </tr>\n",
       "    <tr>\n",
       "      <th>2010-12-22 02:00:00+00:00</th>\n",
       "      <td>8.191251</td>\n",
       "      <td>0.200000</td>\n",
       "      <td>0.813200</td>\n",
       "      <td>9.927666</td>\n",
       "    </tr>\n",
       "    <tr>\n",
       "      <th>2011-03-22 03:00:00+00:00</th>\n",
       "      <td>9.014357</td>\n",
       "      <td>0.173420</td>\n",
       "      <td>0.986620</td>\n",
       "      <td>10.944985</td>\n",
       "    </tr>\n",
       "    <tr>\n",
       "      <th>2011-04-29 03:00:00+00:00</th>\n",
       "      <td>8.244590</td>\n",
       "      <td>0.126500</td>\n",
       "      <td>0.979920</td>\n",
       "      <td>11.885613</td>\n",
       "    </tr>\n",
       "    <tr>\n",
       "      <th>2011-05-12 03:00:00+00:00</th>\n",
       "      <td>7.991930</td>\n",
       "      <td>0.213600</td>\n",
       "      <td>1.193520</td>\n",
       "      <td>14.934064</td>\n",
       "    </tr>\n",
       "    <tr>\n",
       "      <th>2011-08-03 03:00:00+00:00</th>\n",
       "      <td>7.702511</td>\n",
       "      <td>0.207300</td>\n",
       "      <td>1.060820</td>\n",
       "      <td>13.772392</td>\n",
       "    </tr>\n",
       "    <tr>\n",
       "      <th>2011-11-14 02:00:00+00:00</th>\n",
       "      <td>7.250678</td>\n",
       "      <td>0.200000</td>\n",
       "      <td>1.120820</td>\n",
       "      <td>15.458141</td>\n",
       "    </tr>\n",
       "    <tr>\n",
       "      <th>2012-01-03 02:00:00+00:00</th>\n",
       "      <td>7.473738</td>\n",
       "      <td>0.177300</td>\n",
       "      <td>1.098120</td>\n",
       "      <td>14.693050</td>\n",
       "    </tr>\n",
       "    <tr>\n",
       "      <th>2012-03-20 03:00:00+00:00</th>\n",
       "      <td>8.135612</td>\n",
       "      <td>0.124400</td>\n",
       "      <td>1.222520</td>\n",
       "      <td>15.026775</td>\n",
       "    </tr>\n",
       "    <tr>\n",
       "      <th>2012-05-14 03:00:00+00:00</th>\n",
       "      <td>6.401072</td>\n",
       "      <td>0.200000</td>\n",
       "      <td>0.909000</td>\n",
       "      <td>14.200747</td>\n",
       "    </tr>\n",
       "    <tr>\n",
       "      <th>2013-04-30 03:00:00+00:00</th>\n",
       "      <td>6.935258</td>\n",
       "      <td>0.386170</td>\n",
       "      <td>0.586170</td>\n",
       "      <td>8.452028</td>\n",
       "    </tr>\n",
       "    <tr>\n",
       "      <th>2014-04-03 03:00:00+00:00</th>\n",
       "      <td>5.668579</td>\n",
       "      <td>0.967200</td>\n",
       "      <td>1.353370</td>\n",
       "      <td>23.874942</td>\n",
       "    </tr>\n",
       "    <tr>\n",
       "      <th>2018-05-22 03:00:00+00:00</th>\n",
       "      <td>9.113685</td>\n",
       "      <td>0.050000</td>\n",
       "      <td>0.050000</td>\n",
       "      <td>0.548626</td>\n",
       "    </tr>\n",
       "    <tr>\n",
       "      <th>2018-08-14 03:00:00+00:00</th>\n",
       "      <td>7.387570</td>\n",
       "      <td>0.050000</td>\n",
       "      <td>0.100000</td>\n",
       "      <td>1.353625</td>\n",
       "    </tr>\n",
       "    <tr>\n",
       "      <th>2018-11-22 02:00:00+00:00</th>\n",
       "      <td>9.336261</td>\n",
       "      <td>0.100000</td>\n",
       "      <td>0.200000</td>\n",
       "      <td>2.142185</td>\n",
       "    </tr>\n",
       "    <tr>\n",
       "      <th>2018-12-26 02:00:00+00:00</th>\n",
       "      <td>8.324931</td>\n",
       "      <td>0.716563</td>\n",
       "      <td>0.916563</td>\n",
       "      <td>11.009857</td>\n",
       "    </tr>\n",
       "    <tr>\n",
       "      <th>2019-04-26 03:00:00+00:00</th>\n",
       "      <td>10.471107</td>\n",
       "      <td>0.019494</td>\n",
       "      <td>0.936057</td>\n",
       "      <td>8.939428</td>\n",
       "    </tr>\n",
       "    <tr>\n",
       "      <th>2019-05-22 03:00:00+00:00</th>\n",
       "      <td>10.140495</td>\n",
       "      <td>0.100000</td>\n",
       "      <td>0.986057</td>\n",
       "      <td>9.723953</td>\n",
       "    </tr>\n",
       "    <tr>\n",
       "      <th>2019-08-13 03:00:00+00:00</th>\n",
       "      <td>10.025812</td>\n",
       "      <td>0.200000</td>\n",
       "      <td>1.186057</td>\n",
       "      <td>11.830034</td>\n",
       "    </tr>\n",
       "    <tr>\n",
       "      <th>2019-11-12 03:00:00+00:00</th>\n",
       "      <td>11.747733</td>\n",
       "      <td>0.200925</td>\n",
       "      <td>1.336982</td>\n",
       "      <td>11.380766</td>\n",
       "    </tr>\n",
       "    <tr>\n",
       "      <th>2019-12-27 03:00:00+00:00</th>\n",
       "      <td>12.108690</td>\n",
       "      <td>0.421942</td>\n",
       "      <td>0.942361</td>\n",
       "      <td>7.782518</td>\n",
       "    </tr>\n",
       "    <tr>\n",
       "      <th>2020-04-23 03:00:00+00:00</th>\n",
       "      <td>6.725026</td>\n",
       "      <td>0.000449</td>\n",
       "      <td>0.942810</td>\n",
       "      <td>14.019425</td>\n",
       "    </tr>\n",
       "    <tr>\n",
       "      <th>2020-04-28 03:00:00+00:00</th>\n",
       "      <td>6.844239</td>\n",
       "      <td>0.000449</td>\n",
       "      <td>0.923765</td>\n",
       "      <td>13.496972</td>\n",
       "    </tr>\n",
       "    <tr>\n",
       "      <th>2020-07-23 03:00:00+00:00</th>\n",
       "      <td>8.955222</td>\n",
       "      <td>0.000461</td>\n",
       "      <td>0.824226</td>\n",
       "      <td>9.203859</td>\n",
       "    </tr>\n",
       "    <tr>\n",
       "      <th>2021-04-15 03:00:00+00:00</th>\n",
       "      <td>9.469886</td>\n",
       "      <td>0.792834</td>\n",
       "      <td>0.794193</td>\n",
       "      <td>8.386511</td>\n",
       "    </tr>\n",
       "    <tr>\n",
       "      <th>2021-08-17 03:00:00+00:00</th>\n",
       "      <td>11.746063</td>\n",
       "      <td>1.609911</td>\n",
       "      <td>2.402745</td>\n",
       "      <td>20.455747</td>\n",
       "    </tr>\n",
       "    <tr>\n",
       "      <th>2021-12-02 03:00:00+00:00</th>\n",
       "      <td>13.844319</td>\n",
       "      <td>3.250487</td>\n",
       "      <td>5.653232</td>\n",
       "      <td>40.834308</td>\n",
       "    </tr>\n",
       "    <tr>\n",
       "      <th>2022-04-14 03:00:00+00:00</th>\n",
       "      <td>16.699713</td>\n",
       "      <td>2.970249</td>\n",
       "      <td>8.623481</td>\n",
       "      <td>51.638499</td>\n",
       "    </tr>\n",
       "    <tr>\n",
       "      <th>2022-05-24 03:00:00+00:00</th>\n",
       "      <td>18.806173</td>\n",
       "      <td>3.715490</td>\n",
       "      <td>11.546137</td>\n",
       "      <td>61.395462</td>\n",
       "    </tr>\n",
       "    <tr>\n",
       "      <th>2022-08-12 03:00:00+00:00</th>\n",
       "      <td>23.175583</td>\n",
       "      <td>6.732003</td>\n",
       "      <td>18.278140</td>\n",
       "      <td>78.868092</td>\n",
       "    </tr>\n",
       "    <tr>\n",
       "      <th>2022-11-22 03:00:00+00:00</th>\n",
       "      <td>19.487993</td>\n",
       "      <td>3.348900</td>\n",
       "      <td>20.017129</td>\n",
       "      <td>102.715189</td>\n",
       "    </tr>\n",
       "    <tr>\n",
       "      <th>2023-04-28 03:00:00+00:00</th>\n",
       "      <td>22.243404</td>\n",
       "      <td>2.870493</td>\n",
       "      <td>16.666886</td>\n",
       "      <td>74.929564</td>\n",
       "    </tr>\n",
       "    <tr>\n",
       "      <th>2023-06-13 03:00:00+00:00</th>\n",
       "      <td>28.860001</td>\n",
       "      <td>1.893576</td>\n",
       "      <td>14.844972</td>\n",
       "      <td>51.437878</td>\n",
       "    </tr>\n",
       "  </tbody>\n",
       "</table>\n",
       "</div>"
      ],
      "text/plain": [
       "                               Close  Dividends  soma_dividendos          DY\n",
       "Date                                                                        \n",
       "2005-04-01 03:00:00+00:00   3.492971   0.133288         0.133288    3.815892\n",
       "2005-07-01 03:00:00+00:00   3.706465   0.250663         0.383951   10.358955\n",
       "2006-01-02 02:00:00+00:00   5.293367   0.259000         0.642951   12.146351\n",
       "2006-04-04 03:00:00+00:00   6.052313   0.132700         0.642363   10.613512\n",
       "2006-11-01 03:00:00+00:00   6.076027   0.500750         0.892450   14.688052\n",
       "2007-01-02 02:00:00+00:00   7.268165   0.225000         0.858450   11.811097\n",
       "2007-04-03 03:00:00+00:00   6.606323   0.175000         1.033450   15.643347\n",
       "2007-08-20 03:00:00+00:00   6.807630   0.251700         1.152450   16.928799\n",
       "2007-10-08 03:00:00+00:00   9.177964   0.256500         1.408950   15.351444\n",
       "2008-01-14 02:00:00+00:00  12.080956   0.155300         0.838500    6.940676\n",
       "2008-04-07 03:00:00+00:00  11.725547   0.102600         0.766100    6.533597\n",
       "2008-12-29 02:00:00+00:00   6.740221   0.042600         0.300500    4.458311\n",
       "2009-04-09 03:00:00+00:00   9.340297   0.351600         0.394200    4.220423\n",
       "2009-07-06 03:00:00+00:00   9.186884   0.300000         0.694200    7.556425\n",
       "2009-10-01 03:00:00+00:00  10.473076   0.200000         0.894200    8.538084\n",
       "2009-12-21 02:00:00+00:00  10.886313   0.200000         1.094200   10.051153\n",
       "2010-04-23 03:00:00+00:00  10.556715   0.133200         0.833200    7.892607\n",
       "2010-05-24 03:00:00+00:00   8.482131   0.170000         1.003200   11.827217\n",
       "2010-08-02 03:00:00+00:00   8.939722   0.170000         0.873200    9.767641\n",
       "2010-11-03 02:00:00+00:00   8.532167   0.140000         0.813200    9.530990\n",
       "2010-12-22 02:00:00+00:00   8.191251   0.200000         0.813200    9.927666\n",
       "2011-03-22 03:00:00+00:00   9.014357   0.173420         0.986620   10.944985\n",
       "2011-04-29 03:00:00+00:00   8.244590   0.126500         0.979920   11.885613\n",
       "2011-05-12 03:00:00+00:00   7.991930   0.213600         1.193520   14.934064\n",
       "2011-08-03 03:00:00+00:00   7.702511   0.207300         1.060820   13.772392\n",
       "2011-11-14 02:00:00+00:00   7.250678   0.200000         1.120820   15.458141\n",
       "2012-01-03 02:00:00+00:00   7.473738   0.177300         1.098120   14.693050\n",
       "2012-03-20 03:00:00+00:00   8.135612   0.124400         1.222520   15.026775\n",
       "2012-05-14 03:00:00+00:00   6.401072   0.200000         0.909000   14.200747\n",
       "2013-04-30 03:00:00+00:00   6.935258   0.386170         0.586170    8.452028\n",
       "2014-04-03 03:00:00+00:00   5.668579   0.967200         1.353370   23.874942\n",
       "2018-05-22 03:00:00+00:00   9.113685   0.050000         0.050000    0.548626\n",
       "2018-08-14 03:00:00+00:00   7.387570   0.050000         0.100000    1.353625\n",
       "2018-11-22 02:00:00+00:00   9.336261   0.100000         0.200000    2.142185\n",
       "2018-12-26 02:00:00+00:00   8.324931   0.716563         0.916563   11.009857\n",
       "2019-04-26 03:00:00+00:00  10.471107   0.019494         0.936057    8.939428\n",
       "2019-05-22 03:00:00+00:00  10.140495   0.100000         0.986057    9.723953\n",
       "2019-08-13 03:00:00+00:00  10.025812   0.200000         1.186057   11.830034\n",
       "2019-11-12 03:00:00+00:00  11.747733   0.200925         1.336982   11.380766\n",
       "2019-12-27 03:00:00+00:00  12.108690   0.421942         0.942361    7.782518\n",
       "2020-04-23 03:00:00+00:00   6.725026   0.000449         0.942810   14.019425\n",
       "2020-04-28 03:00:00+00:00   6.844239   0.000449         0.923765   13.496972\n",
       "2020-07-23 03:00:00+00:00   8.955222   0.000461         0.824226    9.203859\n",
       "2021-04-15 03:00:00+00:00   9.469886   0.792834         0.794193    8.386511\n",
       "2021-08-17 03:00:00+00:00  11.746063   1.609911         2.402745   20.455747\n",
       "2021-12-02 03:00:00+00:00  13.844319   3.250487         5.653232   40.834308\n",
       "2022-04-14 03:00:00+00:00  16.699713   2.970249         8.623481   51.638499\n",
       "2022-05-24 03:00:00+00:00  18.806173   3.715490        11.546137   61.395462\n",
       "2022-08-12 03:00:00+00:00  23.175583   6.732003        18.278140   78.868092\n",
       "2022-11-22 03:00:00+00:00  19.487993   3.348900        20.017129  102.715189\n",
       "2023-04-28 03:00:00+00:00  22.243404   2.870493        16.666886   74.929564\n",
       "2023-06-13 03:00:00+00:00  28.860001   1.893576        14.844972   51.437878"
      ]
     },
     "execution_count": 21,
     "metadata": {},
     "output_type": "execute_result"
    }
   ],
   "source": [
    "dy_petr4 = dividendos_petr4[dividendos_petr4['Dividends']!=0]\n",
    "dy_petr4"
   ]
  },
  {
   "cell_type": "code",
   "execution_count": 22,
   "metadata": {},
   "outputs": [
    {
     "data": {
      "text/plain": [
       "<Axes: xlabel='Date'>"
      ]
     },
     "execution_count": 22,
     "metadata": {},
     "output_type": "execute_result"
    },
    {
     "data": {
      "image/png": "[encoded data removed]",
      "text/plain": [
       "<Figure size 640x480 with 1 Axes>"
      ]
     },
     "metadata": {},
     "output_type": "display_data"
    }
   ],
   "source": [
    "dy_petr4.soma_dividendos.plot()"
   ]
  },
  {
   "cell_type": "code",
   "execution_count": 23,
   "metadata": {},
   "outputs": [
    {
     "name": "stderr",
     "output_type": "stream",
     "text": [
      "C:\\Users\\wpsilva\\AppData\\Local\\Temp\\ipykernel_24636\\1784016575.py:1: SettingWithCopyWarning: \n",
      "A value is trying to be set on a copy of a slice from a DataFrame.\n",
      "Try using .loc[row_indexer,col_indexer] = value instead\n",
      "\n",
      "See the caveats in the documentation: https://pandas.pydata.org/pandas-docs/stable/user_guide/indexing.html#returning-a-view-versus-a-copy\n",
      "  dy_petr4['DY'] = dy_petr4['soma_dividendos']/dy_petr4['Close'] * 100\n"
     ]
    },
    {
     "data": {
      "text/html": [
       "<div>\n",
       "<style scoped>\n",
       "    .dataframe tbody tr th:only-of-type {\n",
       "        vertical-align: middle;\n",
       "    }\n",
       "\n",
       "    .dataframe tbody tr th {\n",
       "        vertical-align: top;\n",
       "    }\n",
       "\n",
       "    .dataframe thead th {\n",
       "        text-align: right;\n",
       "    }\n",
       "</style>\n",
       "<table border=\"1\" class=\"dataframe\">\n",
       "  <thead>\n",
       "    <tr style=\"text-align: right;\">\n",
       "      <th></th>\n",
       "      <th>Close</th>\n",
       "      <th>Dividends</th>\n",
       "      <th>soma_dividendos</th>\n",
       "      <th>DY</th>\n",
       "    </tr>\n",
       "    <tr>\n",
       "      <th>Date</th>\n",
       "      <th></th>\n",
       "      <th></th>\n",
       "      <th></th>\n",
       "      <th></th>\n",
       "    </tr>\n",
       "  </thead>\n",
       "  <tbody>\n",
       "    <tr>\n",
       "      <th>2005-04-01 03:00:00+00:00</th>\n",
       "      <td>3.492971</td>\n",
       "      <td>0.133288</td>\n",
       "      <td>0.133288</td>\n",
       "      <td>3.815892</td>\n",
       "    </tr>\n",
       "    <tr>\n",
       "      <th>2005-07-01 03:00:00+00:00</th>\n",
       "      <td>3.706465</td>\n",
       "      <td>0.250663</td>\n",
       "      <td>0.383951</td>\n",
       "      <td>10.358955</td>\n",
       "    </tr>\n",
       "    <tr>\n",
       "      <th>2006-01-02 02:00:00+00:00</th>\n",
       "      <td>5.293367</td>\n",
       "      <td>0.259000</td>\n",
       "      <td>0.642951</td>\n",
       "      <td>12.146351</td>\n",
       "    </tr>\n",
       "    <tr>\n",
       "      <th>2006-04-04 03:00:00+00:00</th>\n",
       "      <td>6.052313</td>\n",
       "      <td>0.132700</td>\n",
       "      <td>0.642363</td>\n",
       "      <td>10.613512</td>\n",
       "    </tr>\n",
       "    <tr>\n",
       "      <th>2006-11-01 03:00:00+00:00</th>\n",
       "      <td>6.076027</td>\n",
       "      <td>0.500750</td>\n",
       "      <td>0.892450</td>\n",
       "      <td>14.688052</td>\n",
       "    </tr>\n",
       "    <tr>\n",
       "      <th>2007-01-02 02:00:00+00:00</th>\n",
       "      <td>7.268165</td>\n",
       "      <td>0.225000</td>\n",
       "      <td>0.858450</td>\n",
       "      <td>11.811097</td>\n",
       "    </tr>\n",
       "    <tr>\n",
       "      <th>2007-04-03 03:00:00+00:00</th>\n",
       "      <td>6.606323</td>\n",
       "      <td>0.175000</td>\n",
       "      <td>1.033450</td>\n",
       "      <td>15.643347</td>\n",
       "    </tr>\n",
       "    <tr>\n",
       "      <th>2007-08-20 03:00:00+00:00</th>\n",
       "      <td>6.807630</td>\n",
       "      <td>0.251700</td>\n",
       "      <td>1.152450</td>\n",
       "      <td>16.928799</td>\n",
       "    </tr>\n",
       "    <tr>\n",
       "      <th>2007-10-08 03:00:00+00:00</th>\n",
       "      <td>9.177964</td>\n",
       "      <td>0.256500</td>\n",
       "      <td>1.408950</td>\n",
       "      <td>15.351444</td>\n",
       "    </tr>\n",
       "    <tr>\n",
       "      <th>2008-01-14 02:00:00+00:00</th>\n",
       "      <td>12.080956</td>\n",
       "      <td>0.155300</td>\n",
       "      <td>0.838500</td>\n",
       "      <td>6.940676</td>\n",
       "    </tr>\n",
       "    <tr>\n",
       "      <th>2008-04-07 03:00:00+00:00</th>\n",
       "      <td>11.725547</td>\n",
       "      <td>0.102600</td>\n",
       "      <td>0.766100</td>\n",
       "      <td>6.533597</td>\n",
       "    </tr>\n",
       "    <tr>\n",
       "      <th>2008-12-29 02:00:00+00:00</th>\n",
       "      <td>6.740221</td>\n",
       "      <td>0.042600</td>\n",
       "      <td>0.300500</td>\n",
       "      <td>4.458311</td>\n",
       "    </tr>\n",
       "    <tr>\n",
       "      <th>2009-04-09 03:00:00+00:00</th>\n",
       "      <td>9.340297</td>\n",
       "      <td>0.351600</td>\n",
       "      <td>0.394200</td>\n",
       "      <td>4.220423</td>\n",
       "    </tr>\n",
       "    <tr>\n",
       "      <th>2009-07-06 03:00:00+00:00</th>\n",
       "      <td>9.186884</td>\n",
       "      <td>0.300000</td>\n",
       "      <td>0.694200</td>\n",
       "      <td>7.556425</td>\n",
       "    </tr>\n",
       "    <tr>\n",
       "      <th>2009-10-01 03:00:00+00:00</th>\n",
       "      <td>10.473076</td>\n",
       "      <td>0.200000</td>\n",
       "      <td>0.894200</td>\n",
       "      <td>8.538084</td>\n",
       "    </tr>\n",
       "    <tr>\n",
       "      <th>2009-12-21 02:00:00+00:00</th>\n",
       "      <td>10.886313</td>\n",
       "      <td>0.200000</td>\n",
       "      <td>1.094200</td>\n",
       "      <td>10.051153</td>\n",
       "    </tr>\n",
       "    <tr>\n",
       "      <th>2010-04-23 03:00:00+00:00</th>\n",
       "      <td>10.556715</td>\n",
       "      <td>0.133200</td>\n",
       "      <td>0.833200</td>\n",
       "      <td>7.892607</td>\n",
       "    </tr>\n",
       "    <tr>\n",
       "      <th>2010-05-24 03:00:00+00:00</th>\n",
       "      <td>8.482131</td>\n",
       "      <td>0.170000</td>\n",
       "      <td>1.003200</td>\n",
       "      <td>11.827217</td>\n",
       "    </tr>\n",
       "    <tr>\n",
       "      <th>2010-08-02 03:00:00+00:00</th>\n",
       "      <td>8.939722</td>\n",
       "      <td>0.170000</td>\n",
       "      <td>0.873200</td>\n",
       "      <td>9.767641</td>\n",
       "    </tr>\n",
       "    <tr>\n",
       "      <th>2010-11-03 02:00:00+00:00</th>\n",
       "      <td>8.532167</td>\n",
       "      <td>0.140000</td>\n",
       "      <td>0.813200</td>\n",
       "      <td>9.530990</td>\n",
       "    </tr>\n",
       "    <tr>\n",
       "      <th>2010-12-22 02:00:00+00:00</th>\n",
       "      <td>8.191251</td>\n",
       "      <td>0.200000</td>\n",
       "      <td>0.813200</td>\n",
       "      <td>9.927666</td>\n",
       "    </tr>\n",
       "    <tr>\n",
       "      <th>2011-03-22 03:00:00+00:00</th>\n",
       "      <td>9.014357</td>\n",
       "      <td>0.173420</td>\n",
       "      <td>0.986620</td>\n",
       "      <td>10.944985</td>\n",
       "    </tr>\n",
       "    <tr>\n",
       "      <th>2011-04-29 03:00:00+00:00</th>\n",
       "      <td>8.244590</td>\n",
       "      <td>0.126500</td>\n",
       "      <td>0.979920</td>\n",
       "      <td>11.885613</td>\n",
       "    </tr>\n",
       "    <tr>\n",
       "      <th>2011-05-12 03:00:00+00:00</th>\n",
       "      <td>7.991930</td>\n",
       "      <td>0.213600</td>\n",
       "      <td>1.193520</td>\n",
       "      <td>14.934064</td>\n",
       "    </tr>\n",
       "    <tr>\n",
       "      <th>2011-08-03 03:00:00+00:00</th>\n",
       "      <td>7.702511</td>\n",
       "      <td>0.207300</td>\n",
       "      <td>1.060820</td>\n",
       "      <td>13.772392</td>\n",
       "    </tr>\n",
       "    <tr>\n",
       "      <th>2011-11-14 02:00:00+00:00</th>\n",
       "      <td>7.250678</td>\n",
       "      <td>0.200000</td>\n",
       "      <td>1.120820</td>\n",
       "      <td>15.458141</td>\n",
       "    </tr>\n",
       "    <tr>\n",
       "      <th>2012-01-03 02:00:00+00:00</th>\n",
       "      <td>7.473738</td>\n",
       "      <td>0.177300</td>\n",
       "      <td>1.098120</td>\n",
       "      <td>14.693050</td>\n",
       "    </tr>\n",
       "    <tr>\n",
       "      <th>2012-03-20 03:00:00+00:00</th>\n",
       "      <td>8.135612</td>\n",
       "      <td>0.124400</td>\n",
       "      <td>1.222520</td>\n",
       "      <td>15.026775</td>\n",
       "    </tr>\n",
       "    <tr>\n",
       "      <th>2012-05-14 03:00:00+00:00</th>\n",
       "      <td>6.401072</td>\n",
       "      <td>0.200000</td>\n",
       "      <td>0.909000</td>\n",
       "      <td>14.200747</td>\n",
       "    </tr>\n",
       "    <tr>\n",
       "      <th>2013-04-30 03:00:00+00:00</th>\n",
       "      <td>6.935258</td>\n",
       "      <td>0.386170</td>\n",
       "      <td>0.586170</td>\n",
       "      <td>8.452028</td>\n",
       "    </tr>\n",
       "    <tr>\n",
       "      <th>2014-04-03 03:00:00+00:00</th>\n",
       "      <td>5.668579</td>\n",
       "      <td>0.967200</td>\n",
       "      <td>1.353370</td>\n",
       "      <td>23.874942</td>\n",
       "    </tr>\n",
       "    <tr>\n",
       "      <th>2018-05-22 03:00:00+00:00</th>\n",
       "      <td>9.113685</td>\n",
       "      <td>0.050000</td>\n",
       "      <td>0.050000</td>\n",
       "      <td>0.548626</td>\n",
       "    </tr>\n",
       "    <tr>\n",
       "      <th>2018-08-14 03:00:00+00:00</th>\n",
       "      <td>7.387570</td>\n",
       "      <td>0.050000</td>\n",
       "      <td>0.100000</td>\n",
       "      <td>1.353625</td>\n",
       "    </tr>\n",
       "    <tr>\n",
       "      <th>2018-11-22 02:00:00+00:00</th>\n",
       "      <td>9.336261</td>\n",
       "      <td>0.100000</td>\n",
       "      <td>0.200000</td>\n",
       "      <td>2.142185</td>\n",
       "    </tr>\n",
       "    <tr>\n",
       "      <th>2018-12-26 02:00:00+00:00</th>\n",
       "      <td>8.324931</td>\n",
       "      <td>0.716563</td>\n",
       "      <td>0.916563</td>\n",
       "      <td>11.009857</td>\n",
       "    </tr>\n",
       "    <tr>\n",
       "      <th>2019-04-26 03:00:00+00:00</th>\n",
       "      <td>10.471107</td>\n",
       "      <td>0.019494</td>\n",
       "      <td>0.936057</td>\n",
       "      <td>8.939428</td>\n",
       "    </tr>\n",
       "    <tr>\n",
       "      <th>2019-05-22 03:00:00+00:00</th>\n",
       "      <td>10.140495</td>\n",
       "      <td>0.100000</td>\n",
       "      <td>0.986057</td>\n",
       "      <td>9.723953</td>\n",
       "    </tr>\n",
       "    <tr>\n",
       "      <th>2019-08-13 03:00:00+00:00</th>\n",
       "      <td>10.025812</td>\n",
       "      <td>0.200000</td>\n",
       "      <td>1.186057</td>\n",
       "      <td>11.830034</td>\n",
       "    </tr>\n",
       "    <tr>\n",
       "      <th>2019-11-12 03:00:00+00:00</th>\n",
       "      <td>11.747733</td>\n",
       "      <td>0.200925</td>\n",
       "      <td>1.336982</td>\n",
       "      <td>11.380766</td>\n",
       "    </tr>\n",
       "    <tr>\n",
       "      <th>2019-12-27 03:00:00+00:00</th>\n",
       "      <td>12.108690</td>\n",
       "      <td>0.421942</td>\n",
       "      <td>0.942361</td>\n",
       "      <td>7.782518</td>\n",
       "    </tr>\n",
       "    <tr>\n",
       "      <th>2020-04-23 03:00:00+00:00</th>\n",
       "      <td>6.725026</td>\n",
       "      <td>0.000449</td>\n",
       "      <td>0.942810</td>\n",
       "      <td>14.019425</td>\n",
       "    </tr>\n",
       "    <tr>\n",
       "      <th>2020-04-28 03:00:00+00:00</th>\n",
       "      <td>6.844239</td>\n",
       "      <td>0.000449</td>\n",
       "      <td>0.923765</td>\n",
       "      <td>13.496972</td>\n",
       "    </tr>\n",
       "    <tr>\n",
       "      <th>2020-07-23 03:00:00+00:00</th>\n",
       "      <td>8.955222</td>\n",
       "      <td>0.000461</td>\n",
       "      <td>0.824226</td>\n",
       "      <td>9.203859</td>\n",
       "    </tr>\n",
       "    <tr>\n",
       "      <th>2021-04-15 03:00:00+00:00</th>\n",
       "      <td>9.469886</td>\n",
       "      <td>0.792834</td>\n",
       "      <td>0.794193</td>\n",
       "      <td>8.386511</td>\n",
       "    </tr>\n",
       "    <tr>\n",
       "      <th>2021-08-17 03:00:00+00:00</th>\n",
       "      <td>11.746063</td>\n",
       "      <td>1.609911</td>\n",
       "      <td>2.402745</td>\n",
       "      <td>20.455747</td>\n",
       "    </tr>\n",
       "    <tr>\n",
       "      <th>2021-12-02 03:00:00+00:00</th>\n",
       "      <td>13.844319</td>\n",
       "      <td>3.250487</td>\n",
       "      <td>5.653232</td>\n",
       "      <td>40.834308</td>\n",
       "    </tr>\n",
       "    <tr>\n",
       "      <th>2022-04-14 03:00:00+00:00</th>\n",
       "      <td>16.699713</td>\n",
       "      <td>2.970249</td>\n",
       "      <td>8.623481</td>\n",
       "      <td>51.638499</td>\n",
       "    </tr>\n",
       "    <tr>\n",
       "      <th>2022-05-24 03:00:00+00:00</th>\n",
       "      <td>18.806173</td>\n",
       "      <td>3.715490</td>\n",
       "      <td>11.546137</td>\n",
       "      <td>61.395462</td>\n",
       "    </tr>\n",
       "    <tr>\n",
       "      <th>2022-08-12 03:00:00+00:00</th>\n",
       "      <td>23.175583</td>\n",
       "      <td>6.732003</td>\n",
       "      <td>18.278140</td>\n",
       "      <td>78.868092</td>\n",
       "    </tr>\n",
       "    <tr>\n",
       "      <th>2022-11-22 03:00:00+00:00</th>\n",
       "      <td>19.487993</td>\n",
       "      <td>3.348900</td>\n",
       "      <td>20.017129</td>\n",
       "      <td>102.715189</td>\n",
       "    </tr>\n",
       "    <tr>\n",
       "      <th>2023-04-28 03:00:00+00:00</th>\n",
       "      <td>22.243404</td>\n",
       "      <td>2.870493</td>\n",
       "      <td>16.666886</td>\n",
       "      <td>74.929564</td>\n",
       "    </tr>\n",
       "    <tr>\n",
       "      <th>2023-06-13 03:00:00+00:00</th>\n",
       "      <td>28.860001</td>\n",
       "      <td>1.893576</td>\n",
       "      <td>14.844972</td>\n",
       "      <td>51.437878</td>\n",
       "    </tr>\n",
       "  </tbody>\n",
       "</table>\n",
       "</div>"
      ],
      "text/plain": [
       "                               Close  Dividends  soma_dividendos          DY\n",
       "Date                                                                        \n",
       "2005-04-01 03:00:00+00:00   3.492971   0.133288         0.133288    3.815892\n",
       "2005-07-01 03:00:00+00:00   3.706465   0.250663         0.383951   10.358955\n",
       "2006-01-02 02:00:00+00:00   5.293367   0.259000         0.642951   12.146351\n",
       "2006-04-04 03:00:00+00:00   6.052313   0.132700         0.642363   10.613512\n",
       "2006-11-01 03:00:00+00:00   6.076027   0.500750         0.892450   14.688052\n",
       "2007-01-02 02:00:00+00:00   7.268165   0.225000         0.858450   11.811097\n",
       "2007-04-03 03:00:00+00:00   6.606323   0.175000         1.033450   15.643347\n",
       "2007-08-20 03:00:00+00:00   6.807630   0.251700         1.152450   16.928799\n",
       "2007-10-08 03:00:00+00:00   9.177964   0.256500         1.408950   15.351444\n",
       "2008-01-14 02:00:00+00:00  12.080956   0.155300         0.838500    6.940676\n",
       "2008-04-07 03:00:00+00:00  11.725547   0.102600         0.766100    6.533597\n",
       "2008-12-29 02:00:00+00:00   6.740221   0.042600         0.300500    4.458311\n",
       "2009-04-09 03:00:00+00:00   9.340297   0.351600         0.394200    4.220423\n",
       "2009-07-06 03:00:00+00:00   9.186884   0.300000         0.694200    7.556425\n",
       "2009-10-01 03:00:00+00:00  10.473076   0.200000         0.894200    8.538084\n",
       "2009-12-21 02:00:00+00:00  10.886313   0.200000         1.094200   10.051153\n",
       "2010-04-23 03:00:00+00:00  10.556715   0.133200         0.833200    7.892607\n",
       "2010-05-24 03:00:00+00:00   8.482131   0.170000         1.003200   11.827217\n",
       "2010-08-02 03:00:00+00:00   8.939722   0.170000         0.873200    9.767641\n",
       "2010-11-03 02:00:00+00:00   8.532167   0.140000         0.813200    9.530990\n",
       "2010-12-22 02:00:00+00:00   8.191251   0.200000         0.813200    9.927666\n",
       "2011-03-22 03:00:00+00:00   9.014357   0.173420         0.986620   10.944985\n",
       "2011-04-29 03:00:00+00:00   8.244590   0.126500         0.979920   11.885613\n",
       "2011-05-12 03:00:00+00:00   7.991930   0.213600         1.193520   14.934064\n",
       "2011-08-03 03:00:00+00:00   7.702511   0.207300         1.060820   13.772392\n",
       "2011-11-14 02:00:00+00:00   7.250678   0.200000         1.120820   15.458141\n",
       "2012-01-03 02:00:00+00:00   7.473738   0.177300         1.098120   14.693050\n",
       "2012-03-20 03:00:00+00:00   8.135612   0.124400         1.222520   15.026775\n",
       "2012-05-14 03:00:00+00:00   6.401072   0.200000         0.909000   14.200747\n",
       "2013-04-30 03:00:00+00:00   6.935258   0.386170         0.586170    8.452028\n",
       "2014-04-03 03:00:00+00:00   5.668579   0.967200         1.353370   23.874942\n",
       "2018-05-22 03:00:00+00:00   9.113685   0.050000         0.050000    0.548626\n",
       "2018-08-14 03:00:00+00:00   7.387570   0.050000         0.100000    1.353625\n",
       "2018-11-22 02:00:00+00:00   9.336261   0.100000         0.200000    2.142185\n",
       "2018-12-26 02:00:00+00:00   8.324931   0.716563         0.916563   11.009857\n",
       "2019-04-26 03:00:00+00:00  10.471107   0.019494         0.936057    8.939428\n",
       "2019-05-22 03:00:00+00:00  10.140495   0.100000         0.986057    9.723953\n",
       "2019-08-13 03:00:00+00:00  10.025812   0.200000         1.186057   11.830034\n",
       "2019-11-12 03:00:00+00:00  11.747733   0.200925         1.336982   11.380766\n",
       "2019-12-27 03:00:00+00:00  12.108690   0.421942         0.942361    7.782518\n",
       "2020-04-23 03:00:00+00:00   6.725026   0.000449         0.942810   14.019425\n",
       "2020-04-28 03:00:00+00:00   6.844239   0.000449         0.923765   13.496972\n",
       "2020-07-23 03:00:00+00:00   8.955222   0.000461         0.824226    9.203859\n",
       "2021-04-15 03:00:00+00:00   9.469886   0.792834         0.794193    8.386511\n",
       "2021-08-17 03:00:00+00:00  11.746063   1.609911         2.402745   20.455747\n",
       "2021-12-02 03:00:00+00:00  13.844319   3.250487         5.653232   40.834308\n",
       "2022-04-14 03:00:00+00:00  16.699713   2.970249         8.623481   51.638499\n",
       "2022-05-24 03:00:00+00:00  18.806173   3.715490        11.546137   61.395462\n",
       "2022-08-12 03:00:00+00:00  23.175583   6.732003        18.278140   78.868092\n",
       "2022-11-22 03:00:00+00:00  19.487993   3.348900        20.017129  102.715189\n",
       "2023-04-28 03:00:00+00:00  22.243404   2.870493        16.666886   74.929564\n",
       "2023-06-13 03:00:00+00:00  28.860001   1.893576        14.844972   51.437878"
      ]
     },
     "execution_count": 23,
     "metadata": {},
     "output_type": "execute_result"
    }
   ],
   "source": [
    "dy_petr4['DY'] = dy_petr4['soma_dividendos']/dy_petr4['Close'] * 100\n",
    "dy_petr4"
   ]
  },
  {
   "cell_type": "code",
   "execution_count": 24,
   "metadata": {},
   "outputs": [
    {
     "data": {
      "text/plain": [
       "<Axes: xlabel='Date'>"
      ]
     },
     "execution_count": 24,
     "metadata": {},
     "output_type": "execute_result"
    },
    {
     "data": {
      "image/png": "[encoded data removed]",
      "text/plain": [
       "<Figure size 640x480 with 1 Axes>"
      ]
     },
     "metadata": {},
     "output_type": "display_data"
    }
   ],
   "source": [
    "dy_petr4.DY.plot()"
   ]
  },
  {
   "cell_type": "code",
   "execution_count": 25,
   "metadata": {},
   "outputs": [
    {
     "data": {
      "text/plain": [
       "18.152643702595444"
      ]
     },
     "execution_count": 25,
     "metadata": {},
     "output_type": "execute_result"
    }
   ],
   "source": [
    "np.mean(dy_petr4.DY)"
   ]
  },
  {
   "cell_type": "code",
   "execution_count": 30,
   "metadata": {},
   "outputs": [
    {
     "data": {
      "text/plain": [
       "11.595931601948058"
      ]
     },
     "execution_count": 30,
     "metadata": {},
     "output_type": "execute_result"
    }
   ],
   "source": [
    "np.median(dy_petr4.DY)"
   ]
  },
  {
   "cell_type": "code",
   "execution_count": 31,
   "metadata": {},
   "outputs": [
    {
     "name": "stderr",
     "output_type": "stream",
     "text": [
      "d:\\dev\\TCD\\Estatistica_Mercado_Financeiro\\estats_mercado\\lib\\site-packages\\seaborn\\axisgrid.py:118: UserWarning: The figure layout has changed to tight\n",
      "  self._figure.tight_layout(*args, **kwargs)\n"
     ]
    },
    {
     "data": {
      "text/plain": [
       "<seaborn.axisgrid.FacetGrid at 0x2329cc87a00>"
      ]
     },
     "execution_count": 31,
     "metadata": {},
     "output_type": "execute_result"
    },
    {
     "data": {
      "image/png": "[encoded data removed]",
      "text/plain": [
       "<Figure size 500x500 with 1 Axes>"
      ]
     },
     "metadata": {},
     "output_type": "display_data"
    }
   ],
   "source": [
    "sns.displot(dy_petr4.DY, kde=True)"
   ]
  },
  {
   "cell_type": "code",
   "execution_count": 33,
   "metadata": {},
   "outputs": [
    {
     "data": {
      "image/png": "[encoded data removed]",
      "text/plain": [
       "<Figure size 640x480 with 1 Axes>"
      ]
     },
     "metadata": {},
     "output_type": "display_data"
    }
   ],
   "source": [
    "stats.probplot(dy_petr4.DY, dist='norm', plot=plt)\n",
    "plt.show()"
   ]
  },
  {
   "cell_type": "markdown",
   "metadata": {},
   "source": [
    "Existe uma relação entre preço da ação e o dividenedo? Preço maior = Dividendo Maior?"
   ]
  },
  {
   "cell_type": "code",
   "execution_count": 35,
   "metadata": {},
   "outputs": [
    {
     "data": {
      "application/vnd.plotly.v1+json": {
       "config": {
        "plotlyServerURL": "https://plot.ly"
       },
       "data": [
        {
         "hovertemplate": "x=%{x}<br>y=%{y}<extra></extra>",
         "legendgroup": "",
         "marker": {
          "color": "#636efa",
          "symbol": "circle"
         },
         "mode": "markers",
         "name": "",
         "orientation": "v",
         "showlegend": false,
         "type": "scatter",
         "x": [
          3.492971420288086,
          3.7064647674560547,
          5.293367385864258,
          6.052313327789307,
          6.076026916503906,
          7.26816463470459,
          6.606322765350342,
          6.8076300621032715,
          9.177964210510254,
          12.080955505371094,
          11.725546836853027,
          6.740220546722412,
          9.340296745300293,
          9.186883926391602,
          10.473075866699219,
          10.886313438415527,
          10.55671501159668,
          8.482131004333496,
          8.939722061157227,
          8.532167434692383,
          8.191250801086426,
          9.01435661315918,
          8.244589805603027,
          7.9919304847717285,
          7.702510833740234,
          7.250677585601807,
          7.473737716674805,
          8.135611534118652,
          6.401071548461914,
          6.935258388519287,
          5.6685791015625,
          9.11368465423584,
          7.387570381164551,
          9.336260795593262,
          8.324931144714355,
          10.47110652923584,
          10.140495300292969,
          10.025812149047852,
          11.747733116149902,
          12.10869026184082,
          6.7250261306762695,
          6.844238758087158,
          8.955222129821777,
          9.46988582611084,
          11.746063232421875,
          13.844319343566895,
          16.6997127532959,
          18.80617332458496,
          23.175582885742188,
          19.487993240356445,
          22.243404388427734,
          28.860000610351562
         ],
         "xaxis": "x",
         "y": [
          3.815891513621573,
          10.35895453185506,
          12.146351332366935,
          10.613511978148564,
          14.688052114711633,
          11.811097342250712,
          15.64334708894888,
          16.928798854912237,
          15.351443606486548,
          6.940676171079428,
          6.53359720155798,
          4.458311088145698,
          4.220422656253907,
          7.556425068196828,
          8.538083857897453,
          10.051152818536314,
          7.892606734999664,
          11.827216527161251,
          9.767641477289576,
          9.53098970718123,
          9.927665746629847,
          10.944985231222487,
          11.885612542349236,
          14.934063831938976,
          13.772392183509336,
          15.45814148770996,
          14.693049738017466,
          15.02677450703081,
          14.200747376717256,
          8.452028275836888,
          23.874942481211104,
          0.5486255219151235,
          1.3536250057929904,
          2.1421852321691826,
          11.009856827247654,
          8.939427723197001,
          9.723953029902905,
          11.830034139554863,
          11.380765861645404,
          7.782518006672818,
          14.019425079991338,
          13.496972163755661,
          9.203858799384168,
          8.386510825824441,
          20.455747193390405,
          40.83430799092997,
          51.63849898135552,
          61.39546201515621,
          78.86809186251304,
          102.71518854259352,
          74.92956432816123,
          51.43787833003501
         ],
         "yaxis": "y"
        }
       ],
       "layout": {
        "legend": {
         "tracegroupgap": 0
        },
        "margin": {
         "t": 60
        },
        "template": {
         "data": {
          "bar": [
           {
            "error_x": {
             "color": "#2a3f5f"
            },
            "error_y": {
             "color": "#2a3f5f"
            },
            "marker": {
             "line": {
              "color": "#E5ECF6",
              "width": 0.5
             },
             "pattern": {
              "fillmode": "overlay",
              "size": 10,
              "solidity": 0.2
             }
            },
            "type": "bar"
           }
          ],
          "barpolar": [
           {
            "marker": {
             "line": {
              "color": "#E5ECF6",
              "width": 0.5
             },
             "pattern": {
              "fillmode": "overlay",
              "size": 10,
              "solidity": 0.2
             }
            },
            "type": "barpolar"
           }
          ],
          "carpet": [
           {
            "aaxis": {
             "endlinecolor": "#2a3f5f",
             "gridcolor": "white",
             "linecolor": "white",
             "minorgridcolor": "white",
             "startlinecolor": "#2a3f5f"
            },
            "baxis": {
             "endlinecolor": "#2a3f5f",
             "gridcolor": "white",
             "linecolor": "white",
             "minorgridcolor": "white",
             "startlinecolor": "#2a3f5f"
            },
            "type": "carpet"
           }
          ],
          "choropleth": [
           {
            "colorbar": {
             "outlinewidth": 0,
             "ticks": ""
            },
            "type": "choropleth"
           }
          ],
          "contour": [
           {
            "colorbar": {
             "outlinewidth": 0,
             "ticks": ""
            },
            "colorscale": [
             [
              0,
              "#0d0887"
             ],
             [
              0.1111111111111111,
              "#46039f"
             ],
             [
              0.2222222222222222,
              "#7201a8"
             ],
             [
              0.3333333333333333,
              "#9c179e"
             ],
             [
              0.4444444444444444,
              "#bd3786"
             ],
             [
              0.5555555555555556,
              "#d8576b"
             ],
             [
              0.6666666666666666,
              "#ed7953"
             ],
             [
              0.7777777777777778,
              "#fb9f3a"
             ],
             [
              0.8888888888888888,
              "#fdca26"
             ],
             [
              1,
              "#f0f921"
             ]
            ],
            "type": "contour"
           }
          ],
          "contourcarpet": [
           {
            "colorbar": {
             "outlinewidth": 0,
             "ticks": ""
            },
            "type": "contourcarpet"
           }
          ],
          "heatmap": [
           {
            "colorbar": {
             "outlinewidth": 0,
             "ticks": ""
            },
            "colorscale": [
             [
              0,
              "#0d0887"
             ],
             [
              0.1111111111111111,
              "#46039f"
             ],
             [
              0.2222222222222222,
              "#7201a8"
             ],
             [
              0.3333333333333333,
              "#9c179e"
             ],
             [
              0.4444444444444444,
              "#bd3786"
             ],
             [
              0.5555555555555556,
              "#d8576b"
             ],
             [
              0.6666666666666666,
              "#ed7953"
             ],
             [
              0.7777777777777778,
              "#fb9f3a"
             ],
             [
              0.8888888888888888,
              "#fdca26"
             ],
             [
              1,
              "#f0f921"
             ]
            ],
            "type": "heatmap"
           }
          ],
          "heatmapgl": [
           {
            "colorbar": {
             "outlinewidth": 0,
             "ticks": ""
            },
            "colorscale": [
             [
              0,
              "#0d0887"
             ],
             [
              0.1111111111111111,
              "#46039f"
             ],
             [
              0.2222222222222222,
              "#7201a8"
             ],
             [
              0.3333333333333333,
              "#9c179e"
             ],
             [
              0.4444444444444444,
              "#bd3786"
             ],
             [
              0.5555555555555556,
              "#d8576b"
             ],
             [
              0.6666666666666666,
              "#ed7953"
             ],
             [
              0.7777777777777778,
              "#fb9f3a"
             ],
             [
              0.8888888888888888,
              "#fdca26"
             ],
             [
              1,
              "#f0f921"
             ]
            ],
            "type": "heatmapgl"
           }
          ],
          "histogram": [
           {
            "marker": {
             "pattern": {
              "fillmode": "overlay",
              "size": 10,
              "solidity": 0.2
             }
            },
            "type": "histogram"
           }
          ],
          "histogram2d": [
           {
            "colorbar": {
             "outlinewidth": 0,
             "ticks": ""
            },
            "colorscale": [
             [
              0,
              "#0d0887"
             ],
             [
              0.1111111111111111,
              "#46039f"
             ],
             [
              0.2222222222222222,
              "#7201a8"
             ],
             [
              0.3333333333333333,
              "#9c179e"
             ],
             [
              0.4444444444444444,
              "#bd3786"
             ],
             [
              0.5555555555555556,
              "#d8576b"
             ],
             [
              0.6666666666666666,
              "#ed7953"
             ],
             [
              0.7777777777777778,
              "#fb9f3a"
             ],
             [
              0.8888888888888888,
              "#fdca26"
             ],
             [
              1,
              "#f0f921"
             ]
            ],
            "type": "histogram2d"
           }
          ],
          "histogram2dcontour": [
           {
            "colorbar": {
             "outlinewidth": 0,
             "ticks": ""
            },
            "colorscale": [
             [
              0,
              "#0d0887"
             ],
             [
              0.1111111111111111,
              "#46039f"
             ],
             [
              0.2222222222222222,
              "#7201a8"
             ],
             [
              0.3333333333333333,
              "#9c179e"
             ],
             [
              0.4444444444444444,
              "#bd3786"
             ],
             [
              0.5555555555555556,
              "#d8576b"
             ],
             [
              0.6666666666666666,
              "#ed7953"
             ],
             [
              0.7777777777777778,
              "#fb9f3a"
             ],
             [
              0.8888888888888888,
              "#fdca26"
             ],
             [
              1,
              "#f0f921"
             ]
            ],
            "type": "histogram2dcontour"
           }
          ],
          "mesh3d": [
           {
            "colorbar": {
             "outlinewidth": 0,
             "ticks": ""
            },
            "type": "mesh3d"
           }
          ],
          "parcoords": [
           {
            "line": {
             "colorbar": {
              "outlinewidth": 0,
              "ticks": ""
             }
            },
            "type": "parcoords"
           }
          ],
          "pie": [
           {
            "automargin": true,
            "type": "pie"
           }
          ],
          "scatter": [
           {
            "fillpattern": {
             "fillmode": "overlay",
             "size": 10,
             "solidity": 0.2
            },
            "type": "scatter"
           }
          ],
          "scatter3d": [
           {
            "line": {
             "colorbar": {
              "outlinewidth": 0,
              "ticks": ""
             }
            },
            "marker": {
             "colorbar": {
              "outlinewidth": 0,
              "ticks": ""
             }
            },
            "type": "scatter3d"
           }
          ],
          "scattercarpet": [
           {
            "marker": {
             "colorbar": {
              "outlinewidth": 0,
              "ticks": ""
             }
            },
            "type": "scattercarpet"
           }
          ],
          "scattergeo": [
           {
            "marker": {
             "colorbar": {
              "outlinewidth": 0,
              "ticks": ""
             }
            },
            "type": "scattergeo"
           }
          ],
          "scattergl": [
           {
            "marker": {
             "colorbar": {
              "outlinewidth": 0,
              "ticks": ""
             }
            },
            "type": "scattergl"
           }
          ],
          "scattermapbox": [
           {
            "marker": {
             "colorbar": {
              "outlinewidth": 0,
              "ticks": ""
             }
            },
            "type": "scattermapbox"
           }
          ],
          "scatterpolar": [
           {
            "marker": {
             "colorbar": {
              "outlinewidth": 0,
              "ticks": ""
             }
            },
            "type": "scatterpolar"
           }
          ],
          "scatterpolargl": [
           {
            "marker": {
             "colorbar": {
              "outlinewidth": 0,
              "ticks": ""
             }
            },
            "type": "scatterpolargl"
           }
          ],
          "scatterternary": [
           {
            "marker": {
             "colorbar": {
              "outlinewidth": 0,
              "ticks": ""
             }
            },
            "type": "scatterternary"
           }
          ],
          "surface": [
           {
            "colorbar": {
             "outlinewidth": 0,
             "ticks": ""
            },
            "colorscale": [
             [
              0,
              "#0d0887"
             ],
             [
              0.1111111111111111,
              "#46039f"
             ],
             [
              0.2222222222222222,
              "#7201a8"
             ],
             [
              0.3333333333333333,
              "#9c179e"
             ],
             [
              0.4444444444444444,
              "#bd3786"
             ],
             [
              0.5555555555555556,
              "#d8576b"
             ],
             [
              0.6666666666666666,
              "#ed7953"
             ],
             [
              0.7777777777777778,
              "#fb9f3a"
             ],
             [
              0.8888888888888888,
              "#fdca26"
             ],
             [
              1,
              "#f0f921"
             ]
            ],
            "type": "surface"
           }
          ],
          "table": [
           {
            "cells": {
             "fill": {
              "color": "#EBF0F8"
             },
             "line": {
              "color": "white"
             }
            },
            "header": {
             "fill": {
              "color": "#C8D4E3"
             },
             "line": {
              "color": "white"
             }
            },
            "type": "table"
           }
          ]
         },
         "layout": {
          "annotationdefaults": {
           "arrowcolor": "#2a3f5f",
           "arrowhead": 0,
           "arrowwidth": 1
          },
          "autotypenumbers": "strict",
          "coloraxis": {
           "colorbar": {
            "outlinewidth": 0,
            "ticks": ""
           }
          },
          "colorscale": {
           "diverging": [
            [
             0,
             "#8e0152"
            ],
            [
             0.1,
             "#c51b7d"
            ],
            [
             0.2,
             "#de77ae"
            ],
            [
             0.3,
             "#f1b6da"
            ],
            [
             0.4,
             "#fde0ef"
            ],
            [
             0.5,
             "#f7f7f7"
            ],
            [
             0.6,
             "#e6f5d0"
            ],
            [
             0.7,
             "#b8e186"
            ],
            [
             0.8,
             "#7fbc41"
            ],
            [
             0.9,
             "#4d9221"
            ],
            [
             1,
             "#276419"
            ]
           ],
           "sequential": [
            [
             0,
             "#0d0887"
            ],
            [
             0.1111111111111111,
             "#46039f"
            ],
            [
             0.2222222222222222,
             "#7201a8"
            ],
            [
             0.3333333333333333,
             "#9c179e"
            ],
            [
             0.4444444444444444,
             "#bd3786"
            ],
            [
             0.5555555555555556,
             "#d8576b"
            ],
            [
             0.6666666666666666,
             "#ed7953"
            ],
            [
             0.7777777777777778,
             "#fb9f3a"
            ],
            [
             0.8888888888888888,
             "#fdca26"
            ],
            [
             1,
             "#f0f921"
            ]
           ],
           "sequentialminus": [
            [
             0,
             "#0d0887"
            ],
            [
             0.1111111111111111,
             "#46039f"
            ],
            [
             0.2222222222222222,
             "#7201a8"
            ],
            [
             0.3333333333333333,
             "#9c179e"
            ],
            [
             0.4444444444444444,
             "#bd3786"
            ],
            [
             0.5555555555555556,
             "#d8576b"
            ],
            [
             0.6666666666666666,
             "#ed7953"
            ],
            [
             0.7777777777777778,
             "#fb9f3a"
            ],
            [
             0.8888888888888888,
             "#fdca26"
            ],
            [
             1,
             "#f0f921"
            ]
           ]
          },
          "colorway": [
           "#636efa",
           "#EF553B",
           "#00cc96",
           "#ab63fa",
           "#FFA15A",
           "#19d3f3",
           "#FF6692",
           "#B6E880",
           "#FF97FF",
           "#FECB52"
          ],
          "font": {
           "color": "#2a3f5f"
          },
          "geo": {
           "bgcolor": "white",
           "lakecolor": "white",
           "landcolor": "#E5ECF6",
           "showlakes": true,
           "showland": true,
           "subunitcolor": "white"
          },
          "hoverlabel": {
           "align": "left"
          },
          "hovermode": "closest",
          "mapbox": {
           "style": "light"
          },
          "paper_bgcolor": "white",
          "plot_bgcolor": "#E5ECF6",
          "polar": {
           "angularaxis": {
            "gridcolor": "white",
            "linecolor": "white",
            "ticks": ""
           },
           "bgcolor": "#E5ECF6",
           "radialaxis": {
            "gridcolor": "white",
            "linecolor": "white",
            "ticks": ""
           }
          },
          "scene": {
           "xaxis": {
            "backgroundcolor": "#E5ECF6",
            "gridcolor": "white",
            "gridwidth": 2,
            "linecolor": "white",
            "showbackground": true,
            "ticks": "",
            "zerolinecolor": "white"
           },
           "yaxis": {
            "backgroundcolor": "#E5ECF6",
            "gridcolor": "white",
            "gridwidth": 2,
            "linecolor": "white",
            "showbackground": true,
            "ticks": "",
            "zerolinecolor": "white"
           },
           "zaxis": {
            "backgroundcolor": "#E5ECF6",
            "gridcolor": "white",
            "gridwidth": 2,
            "linecolor": "white",
            "showbackground": true,
            "ticks": "",
            "zerolinecolor": "white"
           }
          },
          "shapedefaults": {
           "line": {
            "color": "#2a3f5f"
           }
          },
          "ternary": {
           "aaxis": {
            "gridcolor": "white",
            "linecolor": "white",
            "ticks": ""
           },
           "baxis": {
            "gridcolor": "white",
            "linecolor": "white",
            "ticks": ""
           },
           "bgcolor": "#E5ECF6",
           "caxis": {
            "gridcolor": "white",
            "linecolor": "white",
            "ticks": ""
           }
          },
          "title": {
           "x": 0.05
          },
          "xaxis": {
           "automargin": true,
           "gridcolor": "white",
           "linecolor": "white",
           "ticks": "",
           "title": {
            "standoff": 15
           },
           "zerolinecolor": "white",
           "zerolinewidth": 2
          },
          "yaxis": {
           "automargin": true,
           "gridcolor": "white",
           "linecolor": "white",
           "ticks": "",
           "title": {
            "standoff": 15
           },
           "zerolinecolor": "white",
           "zerolinewidth": 2
          }
         }
        },
        "width": 500,
        "xaxis": {
         "anchor": "y",
         "domain": [
          0,
          1
         ],
         "title": {
          "text": "x"
         }
        },
        "yaxis": {
         "anchor": "x",
         "domain": [
          0,
          1
         ],
         "title": {
          "text": "y"
         }
        }
       }
      }
     },
     "metadata": {},
     "output_type": "display_data"
    }
   ],
   "source": [
    "fig01 = px.scatter(x=dy_petr4.Close, y=dy_petr4.DY, width=500)\n",
    "fig01.show()"
   ]
  },
  {
   "cell_type": "markdown",
   "metadata": {},
   "source": [
    "Teste de corr"
   ]
  },
  {
   "cell_type": "code",
   "execution_count": 40,
   "metadata": {},
   "outputs": [
    {
     "name": "stdout",
     "output_type": "stream",
     "text": [
      "Correlação, r=0.786 p=0.000\n"
     ]
    }
   ],
   "source": [
    "corr, p = stats.pearsonr(dy_petr4.Close, dy_petr4.DY)\n",
    "print('Correlação, r=%.3f' %corr, 'p=%.3f' %p)"
   ]
  },
  {
   "cell_type": "code",
   "execution_count": 41,
   "metadata": {},
   "outputs": [
    {
     "name": "stdout",
     "output_type": "stream",
     "text": [
      "Correlação, r=0.108 p=0.447\n"
     ]
    }
   ],
   "source": [
    "corr, p = stats.spearmanr(dy_petr4.Close, dy_petr4.DY)\n",
    "print('Correlação, r=%.3f' %corr, 'p=%.3f' %p)"
   ]
  }
 ],
 "metadata": {
  "kernelspec": {
   "display_name": "estats_mercado",
   "language": "python",
   "name": "python3"
  },
  "language_info": {
   "codemirror_mode": {
    "name": "ipython",
    "version": 3
   },
   "file_extension": ".py",
   "mimetype": "text/x-python",
   "name": "python",
   "nbconvert_exporter": "python",
   "pygments_lexer": "ipython3",
   "version": "3.10.8"
  },
  "orig_nbformat": 4
 },
 "nbformat": 4,
 "nbformat_minor": 2
}
